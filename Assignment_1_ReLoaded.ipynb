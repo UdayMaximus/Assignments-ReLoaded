{
  "nbformat": 4,
  "nbformat_minor": 0,
  "metadata": {
    "colab": {
      "provenance": []
    },
    "kernelspec": {
      "name": "python3",
      "display_name": "Python 3"
    },
    "language_info": {
      "name": "python"
    },
    "widgets": {
      "application/vnd.jupyter.widget-state+json": {
        "2ef931ea4ea6437d8be372875fc3ded2": {
          "model_module": "@jupyter-widgets/controls",
          "model_name": "VBoxModel",
          "model_module_version": "1.5.0",
          "state": {
            "_dom_classes": [],
            "_model_module": "@jupyter-widgets/controls",
            "_model_module_version": "1.5.0",
            "_model_name": "VBoxModel",
            "_view_count": null,
            "_view_module": "@jupyter-widgets/controls",
            "_view_module_version": "1.5.0",
            "_view_name": "VBoxView",
            "box_style": "",
            "children": [
              "IPY_MODEL_4bfe6c0a6df2488b8d80f55b94799d83",
              "IPY_MODEL_c7354fe41db74125922a2fd73e4545dd"
            ],
            "layout": "IPY_MODEL_d553886c513549b79dd2bd215c003da8"
          }
        },
        "4bfe6c0a6df2488b8d80f55b94799d83": {
          "model_module": "@jupyter-widgets/controls",
          "model_name": "LabelModel",
          "model_module_version": "1.5.0",
          "state": {
            "_dom_classes": [],
            "_model_module": "@jupyter-widgets/controls",
            "_model_module_version": "1.5.0",
            "_model_name": "LabelModel",
            "_view_count": null,
            "_view_module": "@jupyter-widgets/controls",
            "_view_module_version": "1.5.0",
            "_view_name": "LabelView",
            "description": "",
            "description_tooltip": null,
            "layout": "IPY_MODEL_af17f5d2d2004fa9b2824d3ba0f4dc7d",
            "placeholder": "​",
            "style": "IPY_MODEL_ffe823c072924c90999ee89112f722f2",
            "value": "0.009 MB of 0.010 MB uploaded (0.000 MB deduped)\r"
          }
        },
        "c7354fe41db74125922a2fd73e4545dd": {
          "model_module": "@jupyter-widgets/controls",
          "model_name": "FloatProgressModel",
          "model_module_version": "1.5.0",
          "state": {
            "_dom_classes": [],
            "_model_module": "@jupyter-widgets/controls",
            "_model_module_version": "1.5.0",
            "_model_name": "FloatProgressModel",
            "_view_count": null,
            "_view_module": "@jupyter-widgets/controls",
            "_view_module_version": "1.5.0",
            "_view_name": "ProgressView",
            "bar_style": "",
            "description": "",
            "description_tooltip": null,
            "layout": "IPY_MODEL_2a6aa769c78e46bda318059df2c5e34c",
            "max": 1,
            "min": 0,
            "orientation": "horizontal",
            "style": "IPY_MODEL_b85e4b3bab64468fabafda48edc019b0",
            "value": 0.9182055399437977
          }
        },
        "d553886c513549b79dd2bd215c003da8": {
          "model_module": "@jupyter-widgets/base",
          "model_name": "LayoutModel",
          "model_module_version": "1.2.0",
          "state": {
            "_model_module": "@jupyter-widgets/base",
            "_model_module_version": "1.2.0",
            "_model_name": "LayoutModel",
            "_view_count": null,
            "_view_module": "@jupyter-widgets/base",
            "_view_module_version": "1.2.0",
            "_view_name": "LayoutView",
            "align_content": null,
            "align_items": null,
            "align_self": null,
            "border": null,
            "bottom": null,
            "display": null,
            "flex": null,
            "flex_flow": null,
            "grid_area": null,
            "grid_auto_columns": null,
            "grid_auto_flow": null,
            "grid_auto_rows": null,
            "grid_column": null,
            "grid_gap": null,
            "grid_row": null,
            "grid_template_areas": null,
            "grid_template_columns": null,
            "grid_template_rows": null,
            "height": null,
            "justify_content": null,
            "justify_items": null,
            "left": null,
            "margin": null,
            "max_height": null,
            "max_width": null,
            "min_height": null,
            "min_width": null,
            "object_fit": null,
            "object_position": null,
            "order": null,
            "overflow": null,
            "overflow_x": null,
            "overflow_y": null,
            "padding": null,
            "right": null,
            "top": null,
            "visibility": null,
            "width": null
          }
        },
        "af17f5d2d2004fa9b2824d3ba0f4dc7d": {
          "model_module": "@jupyter-widgets/base",
          "model_name": "LayoutModel",
          "model_module_version": "1.2.0",
          "state": {
            "_model_module": "@jupyter-widgets/base",
            "_model_module_version": "1.2.0",
            "_model_name": "LayoutModel",
            "_view_count": null,
            "_view_module": "@jupyter-widgets/base",
            "_view_module_version": "1.2.0",
            "_view_name": "LayoutView",
            "align_content": null,
            "align_items": null,
            "align_self": null,
            "border": null,
            "bottom": null,
            "display": null,
            "flex": null,
            "flex_flow": null,
            "grid_area": null,
            "grid_auto_columns": null,
            "grid_auto_flow": null,
            "grid_auto_rows": null,
            "grid_column": null,
            "grid_gap": null,
            "grid_row": null,
            "grid_template_areas": null,
            "grid_template_columns": null,
            "grid_template_rows": null,
            "height": null,
            "justify_content": null,
            "justify_items": null,
            "left": null,
            "margin": null,
            "max_height": null,
            "max_width": null,
            "min_height": null,
            "min_width": null,
            "object_fit": null,
            "object_position": null,
            "order": null,
            "overflow": null,
            "overflow_x": null,
            "overflow_y": null,
            "padding": null,
            "right": null,
            "top": null,
            "visibility": null,
            "width": null
          }
        },
        "ffe823c072924c90999ee89112f722f2": {
          "model_module": "@jupyter-widgets/controls",
          "model_name": "DescriptionStyleModel",
          "model_module_version": "1.5.0",
          "state": {
            "_model_module": "@jupyter-widgets/controls",
            "_model_module_version": "1.5.0",
            "_model_name": "DescriptionStyleModel",
            "_view_count": null,
            "_view_module": "@jupyter-widgets/base",
            "_view_module_version": "1.2.0",
            "_view_name": "StyleView",
            "description_width": ""
          }
        },
        "2a6aa769c78e46bda318059df2c5e34c": {
          "model_module": "@jupyter-widgets/base",
          "model_name": "LayoutModel",
          "model_module_version": "1.2.0",
          "state": {
            "_model_module": "@jupyter-widgets/base",
            "_model_module_version": "1.2.0",
            "_model_name": "LayoutModel",
            "_view_count": null,
            "_view_module": "@jupyter-widgets/base",
            "_view_module_version": "1.2.0",
            "_view_name": "LayoutView",
            "align_content": null,
            "align_items": null,
            "align_self": null,
            "border": null,
            "bottom": null,
            "display": null,
            "flex": null,
            "flex_flow": null,
            "grid_area": null,
            "grid_auto_columns": null,
            "grid_auto_flow": null,
            "grid_auto_rows": null,
            "grid_column": null,
            "grid_gap": null,
            "grid_row": null,
            "grid_template_areas": null,
            "grid_template_columns": null,
            "grid_template_rows": null,
            "height": null,
            "justify_content": null,
            "justify_items": null,
            "left": null,
            "margin": null,
            "max_height": null,
            "max_width": null,
            "min_height": null,
            "min_width": null,
            "object_fit": null,
            "object_position": null,
            "order": null,
            "overflow": null,
            "overflow_x": null,
            "overflow_y": null,
            "padding": null,
            "right": null,
            "top": null,
            "visibility": null,
            "width": null
          }
        },
        "b85e4b3bab64468fabafda48edc019b0": {
          "model_module": "@jupyter-widgets/controls",
          "model_name": "ProgressStyleModel",
          "model_module_version": "1.5.0",
          "state": {
            "_model_module": "@jupyter-widgets/controls",
            "_model_module_version": "1.5.0",
            "_model_name": "ProgressStyleModel",
            "_view_count": null,
            "_view_module": "@jupyter-widgets/base",
            "_view_module_version": "1.2.0",
            "_view_name": "StyleView",
            "bar_color": null,
            "description_width": ""
          }
        },
        "6c2722f1b1024f19b3842480b0eec922": {
          "model_module": "@jupyter-widgets/controls",
          "model_name": "VBoxModel",
          "model_module_version": "1.5.0",
          "state": {
            "_dom_classes": [],
            "_model_module": "@jupyter-widgets/controls",
            "_model_module_version": "1.5.0",
            "_model_name": "VBoxModel",
            "_view_count": null,
            "_view_module": "@jupyter-widgets/controls",
            "_view_module_version": "1.5.0",
            "_view_name": "VBoxView",
            "box_style": "",
            "children": [
              "IPY_MODEL_35e4f633252d43e3b167651e25840f2e",
              "IPY_MODEL_fe49bd8007834a47adc47561dadc7b78"
            ],
            "layout": "IPY_MODEL_5c98824034a84f9ebd7d24433a0170aa"
          }
        },
        "35e4f633252d43e3b167651e25840f2e": {
          "model_module": "@jupyter-widgets/controls",
          "model_name": "LabelModel",
          "model_module_version": "1.5.0",
          "state": {
            "_dom_classes": [],
            "_model_module": "@jupyter-widgets/controls",
            "_model_module_version": "1.5.0",
            "_model_name": "LabelModel",
            "_view_count": null,
            "_view_module": "@jupyter-widgets/controls",
            "_view_module_version": "1.5.0",
            "_view_name": "LabelView",
            "description": "",
            "description_tooltip": null,
            "layout": "IPY_MODEL_1a9724d56b68400c8f60eedeb86d10a0",
            "placeholder": "​",
            "style": "IPY_MODEL_a5967126753a423baa07931fe0a081a1",
            "value": "0.001 MB of 0.010 MB uploaded (0.000 MB deduped)\r"
          }
        },
        "fe49bd8007834a47adc47561dadc7b78": {
          "model_module": "@jupyter-widgets/controls",
          "model_name": "FloatProgressModel",
          "model_module_version": "1.5.0",
          "state": {
            "_dom_classes": [],
            "_model_module": "@jupyter-widgets/controls",
            "_model_module_version": "1.5.0",
            "_model_name": "FloatProgressModel",
            "_view_count": null,
            "_view_module": "@jupyter-widgets/controls",
            "_view_module_version": "1.5.0",
            "_view_name": "ProgressView",
            "bar_style": "",
            "description": "",
            "description_tooltip": null,
            "layout": "IPY_MODEL_1d0525905e51424cb55297b176224255",
            "max": 1,
            "min": 0,
            "orientation": "horizontal",
            "style": "IPY_MODEL_e68511f08b5347cd8009d371142fb788",
            "value": 0.10264900662251655
          }
        },
        "5c98824034a84f9ebd7d24433a0170aa": {
          "model_module": "@jupyter-widgets/base",
          "model_name": "LayoutModel",
          "model_module_version": "1.2.0",
          "state": {
            "_model_module": "@jupyter-widgets/base",
            "_model_module_version": "1.2.0",
            "_model_name": "LayoutModel",
            "_view_count": null,
            "_view_module": "@jupyter-widgets/base",
            "_view_module_version": "1.2.0",
            "_view_name": "LayoutView",
            "align_content": null,
            "align_items": null,
            "align_self": null,
            "border": null,
            "bottom": null,
            "display": null,
            "flex": null,
            "flex_flow": null,
            "grid_area": null,
            "grid_auto_columns": null,
            "grid_auto_flow": null,
            "grid_auto_rows": null,
            "grid_column": null,
            "grid_gap": null,
            "grid_row": null,
            "grid_template_areas": null,
            "grid_template_columns": null,
            "grid_template_rows": null,
            "height": null,
            "justify_content": null,
            "justify_items": null,
            "left": null,
            "margin": null,
            "max_height": null,
            "max_width": null,
            "min_height": null,
            "min_width": null,
            "object_fit": null,
            "object_position": null,
            "order": null,
            "overflow": null,
            "overflow_x": null,
            "overflow_y": null,
            "padding": null,
            "right": null,
            "top": null,
            "visibility": null,
            "width": null
          }
        },
        "1a9724d56b68400c8f60eedeb86d10a0": {
          "model_module": "@jupyter-widgets/base",
          "model_name": "LayoutModel",
          "model_module_version": "1.2.0",
          "state": {
            "_model_module": "@jupyter-widgets/base",
            "_model_module_version": "1.2.0",
            "_model_name": "LayoutModel",
            "_view_count": null,
            "_view_module": "@jupyter-widgets/base",
            "_view_module_version": "1.2.0",
            "_view_name": "LayoutView",
            "align_content": null,
            "align_items": null,
            "align_self": null,
            "border": null,
            "bottom": null,
            "display": null,
            "flex": null,
            "flex_flow": null,
            "grid_area": null,
            "grid_auto_columns": null,
            "grid_auto_flow": null,
            "grid_auto_rows": null,
            "grid_column": null,
            "grid_gap": null,
            "grid_row": null,
            "grid_template_areas": null,
            "grid_template_columns": null,
            "grid_template_rows": null,
            "height": null,
            "justify_content": null,
            "justify_items": null,
            "left": null,
            "margin": null,
            "max_height": null,
            "max_width": null,
            "min_height": null,
            "min_width": null,
            "object_fit": null,
            "object_position": null,
            "order": null,
            "overflow": null,
            "overflow_x": null,
            "overflow_y": null,
            "padding": null,
            "right": null,
            "top": null,
            "visibility": null,
            "width": null
          }
        },
        "a5967126753a423baa07931fe0a081a1": {
          "model_module": "@jupyter-widgets/controls",
          "model_name": "DescriptionStyleModel",
          "model_module_version": "1.5.0",
          "state": {
            "_model_module": "@jupyter-widgets/controls",
            "_model_module_version": "1.5.0",
            "_model_name": "DescriptionStyleModel",
            "_view_count": null,
            "_view_module": "@jupyter-widgets/base",
            "_view_module_version": "1.2.0",
            "_view_name": "StyleView",
            "description_width": ""
          }
        },
        "1d0525905e51424cb55297b176224255": {
          "model_module": "@jupyter-widgets/base",
          "model_name": "LayoutModel",
          "model_module_version": "1.2.0",
          "state": {
            "_model_module": "@jupyter-widgets/base",
            "_model_module_version": "1.2.0",
            "_model_name": "LayoutModel",
            "_view_count": null,
            "_view_module": "@jupyter-widgets/base",
            "_view_module_version": "1.2.0",
            "_view_name": "LayoutView",
            "align_content": null,
            "align_items": null,
            "align_self": null,
            "border": null,
            "bottom": null,
            "display": null,
            "flex": null,
            "flex_flow": null,
            "grid_area": null,
            "grid_auto_columns": null,
            "grid_auto_flow": null,
            "grid_auto_rows": null,
            "grid_column": null,
            "grid_gap": null,
            "grid_row": null,
            "grid_template_areas": null,
            "grid_template_columns": null,
            "grid_template_rows": null,
            "height": null,
            "justify_content": null,
            "justify_items": null,
            "left": null,
            "margin": null,
            "max_height": null,
            "max_width": null,
            "min_height": null,
            "min_width": null,
            "object_fit": null,
            "object_position": null,
            "order": null,
            "overflow": null,
            "overflow_x": null,
            "overflow_y": null,
            "padding": null,
            "right": null,
            "top": null,
            "visibility": null,
            "width": null
          }
        },
        "e68511f08b5347cd8009d371142fb788": {
          "model_module": "@jupyter-widgets/controls",
          "model_name": "ProgressStyleModel",
          "model_module_version": "1.5.0",
          "state": {
            "_model_module": "@jupyter-widgets/controls",
            "_model_module_version": "1.5.0",
            "_model_name": "ProgressStyleModel",
            "_view_count": null,
            "_view_module": "@jupyter-widgets/base",
            "_view_module_version": "1.2.0",
            "_view_name": "StyleView",
            "bar_color": null,
            "description_width": ""
          }
        },
        "90ae6d0143644de393f38cd364bfff79": {
          "model_module": "@jupyter-widgets/controls",
          "model_name": "VBoxModel",
          "model_module_version": "1.5.0",
          "state": {
            "_dom_classes": [],
            "_model_module": "@jupyter-widgets/controls",
            "_model_module_version": "1.5.0",
            "_model_name": "VBoxModel",
            "_view_count": null,
            "_view_module": "@jupyter-widgets/controls",
            "_view_module_version": "1.5.0",
            "_view_name": "VBoxView",
            "box_style": "",
            "children": [
              "IPY_MODEL_90bb720ff89848e494645a0af3371966",
              "IPY_MODEL_faeb69144068447c9f81984ab372f7e0"
            ],
            "layout": "IPY_MODEL_fb3a5864a1804f6b8f18eec152231635"
          }
        },
        "90bb720ff89848e494645a0af3371966": {
          "model_module": "@jupyter-widgets/controls",
          "model_name": "LabelModel",
          "model_module_version": "1.5.0",
          "state": {
            "_dom_classes": [],
            "_model_module": "@jupyter-widgets/controls",
            "_model_module_version": "1.5.0",
            "_model_name": "LabelModel",
            "_view_count": null,
            "_view_module": "@jupyter-widgets/controls",
            "_view_module_version": "1.5.0",
            "_view_name": "LabelView",
            "description": "",
            "description_tooltip": null,
            "layout": "IPY_MODEL_8fa2ac294d8f41d69262f455e5da9882",
            "placeholder": "​",
            "style": "IPY_MODEL_707f927f4fb249839de5f44750e84168",
            "value": "Waiting for wandb.init()...\r"
          }
        },
        "faeb69144068447c9f81984ab372f7e0": {
          "model_module": "@jupyter-widgets/controls",
          "model_name": "FloatProgressModel",
          "model_module_version": "1.5.0",
          "state": {
            "_dom_classes": [],
            "_model_module": "@jupyter-widgets/controls",
            "_model_module_version": "1.5.0",
            "_model_name": "FloatProgressModel",
            "_view_count": null,
            "_view_module": "@jupyter-widgets/controls",
            "_view_module_version": "1.5.0",
            "_view_name": "ProgressView",
            "bar_style": "",
            "description": "",
            "description_tooltip": null,
            "layout": "IPY_MODEL_95c169c7374e41d5b092f2317a3ad83c",
            "max": 1,
            "min": 0,
            "orientation": "horizontal",
            "style": "IPY_MODEL_21810435123247cea0084815981cb1a7",
            "value": 1
          }
        },
        "fb3a5864a1804f6b8f18eec152231635": {
          "model_module": "@jupyter-widgets/base",
          "model_name": "LayoutModel",
          "model_module_version": "1.2.0",
          "state": {
            "_model_module": "@jupyter-widgets/base",
            "_model_module_version": "1.2.0",
            "_model_name": "LayoutModel",
            "_view_count": null,
            "_view_module": "@jupyter-widgets/base",
            "_view_module_version": "1.2.0",
            "_view_name": "LayoutView",
            "align_content": null,
            "align_items": null,
            "align_self": null,
            "border": null,
            "bottom": null,
            "display": null,
            "flex": null,
            "flex_flow": null,
            "grid_area": null,
            "grid_auto_columns": null,
            "grid_auto_flow": null,
            "grid_auto_rows": null,
            "grid_column": null,
            "grid_gap": null,
            "grid_row": null,
            "grid_template_areas": null,
            "grid_template_columns": null,
            "grid_template_rows": null,
            "height": null,
            "justify_content": null,
            "justify_items": null,
            "left": null,
            "margin": null,
            "max_height": null,
            "max_width": null,
            "min_height": null,
            "min_width": null,
            "object_fit": null,
            "object_position": null,
            "order": null,
            "overflow": null,
            "overflow_x": null,
            "overflow_y": null,
            "padding": null,
            "right": null,
            "top": null,
            "visibility": null,
            "width": null
          }
        },
        "8fa2ac294d8f41d69262f455e5da9882": {
          "model_module": "@jupyter-widgets/base",
          "model_name": "LayoutModel",
          "model_module_version": "1.2.0",
          "state": {
            "_model_module": "@jupyter-widgets/base",
            "_model_module_version": "1.2.0",
            "_model_name": "LayoutModel",
            "_view_count": null,
            "_view_module": "@jupyter-widgets/base",
            "_view_module_version": "1.2.0",
            "_view_name": "LayoutView",
            "align_content": null,
            "align_items": null,
            "align_self": null,
            "border": null,
            "bottom": null,
            "display": null,
            "flex": null,
            "flex_flow": null,
            "grid_area": null,
            "grid_auto_columns": null,
            "grid_auto_flow": null,
            "grid_auto_rows": null,
            "grid_column": null,
            "grid_gap": null,
            "grid_row": null,
            "grid_template_areas": null,
            "grid_template_columns": null,
            "grid_template_rows": null,
            "height": null,
            "justify_content": null,
            "justify_items": null,
            "left": null,
            "margin": null,
            "max_height": null,
            "max_width": null,
            "min_height": null,
            "min_width": null,
            "object_fit": null,
            "object_position": null,
            "order": null,
            "overflow": null,
            "overflow_x": null,
            "overflow_y": null,
            "padding": null,
            "right": null,
            "top": null,
            "visibility": null,
            "width": null
          }
        },
        "707f927f4fb249839de5f44750e84168": {
          "model_module": "@jupyter-widgets/controls",
          "model_name": "DescriptionStyleModel",
          "model_module_version": "1.5.0",
          "state": {
            "_model_module": "@jupyter-widgets/controls",
            "_model_module_version": "1.5.0",
            "_model_name": "DescriptionStyleModel",
            "_view_count": null,
            "_view_module": "@jupyter-widgets/base",
            "_view_module_version": "1.2.0",
            "_view_name": "StyleView",
            "description_width": ""
          }
        },
        "95c169c7374e41d5b092f2317a3ad83c": {
          "model_module": "@jupyter-widgets/base",
          "model_name": "LayoutModel",
          "model_module_version": "1.2.0",
          "state": {
            "_model_module": "@jupyter-widgets/base",
            "_model_module_version": "1.2.0",
            "_model_name": "LayoutModel",
            "_view_count": null,
            "_view_module": "@jupyter-widgets/base",
            "_view_module_version": "1.2.0",
            "_view_name": "LayoutView",
            "align_content": null,
            "align_items": null,
            "align_self": null,
            "border": null,
            "bottom": null,
            "display": null,
            "flex": null,
            "flex_flow": null,
            "grid_area": null,
            "grid_auto_columns": null,
            "grid_auto_flow": null,
            "grid_auto_rows": null,
            "grid_column": null,
            "grid_gap": null,
            "grid_row": null,
            "grid_template_areas": null,
            "grid_template_columns": null,
            "grid_template_rows": null,
            "height": null,
            "justify_content": null,
            "justify_items": null,
            "left": null,
            "margin": null,
            "max_height": null,
            "max_width": null,
            "min_height": null,
            "min_width": null,
            "object_fit": null,
            "object_position": null,
            "order": null,
            "overflow": null,
            "overflow_x": null,
            "overflow_y": null,
            "padding": null,
            "right": null,
            "top": null,
            "visibility": null,
            "width": null
          }
        },
        "21810435123247cea0084815981cb1a7": {
          "model_module": "@jupyter-widgets/controls",
          "model_name": "ProgressStyleModel",
          "model_module_version": "1.5.0",
          "state": {
            "_model_module": "@jupyter-widgets/controls",
            "_model_module_version": "1.5.0",
            "_model_name": "ProgressStyleModel",
            "_view_count": null,
            "_view_module": "@jupyter-widgets/base",
            "_view_module_version": "1.2.0",
            "_view_name": "StyleView",
            "bar_color": null,
            "description_width": ""
          }
        },
        "05a9669e71054c2d8c957d6565ffe295": {
          "model_module": "@jupyter-widgets/controls",
          "model_name": "VBoxModel",
          "model_module_version": "1.5.0",
          "state": {
            "_dom_classes": [],
            "_model_module": "@jupyter-widgets/controls",
            "_model_module_version": "1.5.0",
            "_model_name": "VBoxModel",
            "_view_count": null,
            "_view_module": "@jupyter-widgets/controls",
            "_view_module_version": "1.5.0",
            "_view_name": "VBoxView",
            "box_style": "",
            "children": [
              "IPY_MODEL_6cbfff089c5e4aa6b0b37a6f5b83f96a",
              "IPY_MODEL_5a686f2994124e64ac00fa34507ccdc0"
            ],
            "layout": "IPY_MODEL_29182c97793f43e2aad40f4323be4943"
          }
        },
        "6cbfff089c5e4aa6b0b37a6f5b83f96a": {
          "model_module": "@jupyter-widgets/controls",
          "model_name": "LabelModel",
          "model_module_version": "1.5.0",
          "state": {
            "_dom_classes": [],
            "_model_module": "@jupyter-widgets/controls",
            "_model_module_version": "1.5.0",
            "_model_name": "LabelModel",
            "_view_count": null,
            "_view_module": "@jupyter-widgets/controls",
            "_view_module_version": "1.5.0",
            "_view_name": "LabelView",
            "description": "",
            "description_tooltip": null,
            "layout": "IPY_MODEL_5b5e09f764864273a695126e62ba02a3",
            "placeholder": "​",
            "style": "IPY_MODEL_bd2a7030d7ee4a12bd2bf475c5a08c63",
            "value": "Waiting for wandb.init()...\r"
          }
        },
        "5a686f2994124e64ac00fa34507ccdc0": {
          "model_module": "@jupyter-widgets/controls",
          "model_name": "FloatProgressModel",
          "model_module_version": "1.5.0",
          "state": {
            "_dom_classes": [],
            "_model_module": "@jupyter-widgets/controls",
            "_model_module_version": "1.5.0",
            "_model_name": "FloatProgressModel",
            "_view_count": null,
            "_view_module": "@jupyter-widgets/controls",
            "_view_module_version": "1.5.0",
            "_view_name": "ProgressView",
            "bar_style": "",
            "description": "",
            "description_tooltip": null,
            "layout": "IPY_MODEL_12fe26cb1cea48a8be8f787ec94bb262",
            "max": 1,
            "min": 0,
            "orientation": "horizontal",
            "style": "IPY_MODEL_441f18c229dd4e098140ee703fca04e8",
            "value": 1
          }
        },
        "29182c97793f43e2aad40f4323be4943": {
          "model_module": "@jupyter-widgets/base",
          "model_name": "LayoutModel",
          "model_module_version": "1.2.0",
          "state": {
            "_model_module": "@jupyter-widgets/base",
            "_model_module_version": "1.2.0",
            "_model_name": "LayoutModel",
            "_view_count": null,
            "_view_module": "@jupyter-widgets/base",
            "_view_module_version": "1.2.0",
            "_view_name": "LayoutView",
            "align_content": null,
            "align_items": null,
            "align_self": null,
            "border": null,
            "bottom": null,
            "display": null,
            "flex": null,
            "flex_flow": null,
            "grid_area": null,
            "grid_auto_columns": null,
            "grid_auto_flow": null,
            "grid_auto_rows": null,
            "grid_column": null,
            "grid_gap": null,
            "grid_row": null,
            "grid_template_areas": null,
            "grid_template_columns": null,
            "grid_template_rows": null,
            "height": null,
            "justify_content": null,
            "justify_items": null,
            "left": null,
            "margin": null,
            "max_height": null,
            "max_width": null,
            "min_height": null,
            "min_width": null,
            "object_fit": null,
            "object_position": null,
            "order": null,
            "overflow": null,
            "overflow_x": null,
            "overflow_y": null,
            "padding": null,
            "right": null,
            "top": null,
            "visibility": null,
            "width": null
          }
        },
        "5b5e09f764864273a695126e62ba02a3": {
          "model_module": "@jupyter-widgets/base",
          "model_name": "LayoutModel",
          "model_module_version": "1.2.0",
          "state": {
            "_model_module": "@jupyter-widgets/base",
            "_model_module_version": "1.2.0",
            "_model_name": "LayoutModel",
            "_view_count": null,
            "_view_module": "@jupyter-widgets/base",
            "_view_module_version": "1.2.0",
            "_view_name": "LayoutView",
            "align_content": null,
            "align_items": null,
            "align_self": null,
            "border": null,
            "bottom": null,
            "display": null,
            "flex": null,
            "flex_flow": null,
            "grid_area": null,
            "grid_auto_columns": null,
            "grid_auto_flow": null,
            "grid_auto_rows": null,
            "grid_column": null,
            "grid_gap": null,
            "grid_row": null,
            "grid_template_areas": null,
            "grid_template_columns": null,
            "grid_template_rows": null,
            "height": null,
            "justify_content": null,
            "justify_items": null,
            "left": null,
            "margin": null,
            "max_height": null,
            "max_width": null,
            "min_height": null,
            "min_width": null,
            "object_fit": null,
            "object_position": null,
            "order": null,
            "overflow": null,
            "overflow_x": null,
            "overflow_y": null,
            "padding": null,
            "right": null,
            "top": null,
            "visibility": null,
            "width": null
          }
        },
        "bd2a7030d7ee4a12bd2bf475c5a08c63": {
          "model_module": "@jupyter-widgets/controls",
          "model_name": "DescriptionStyleModel",
          "model_module_version": "1.5.0",
          "state": {
            "_model_module": "@jupyter-widgets/controls",
            "_model_module_version": "1.5.0",
            "_model_name": "DescriptionStyleModel",
            "_view_count": null,
            "_view_module": "@jupyter-widgets/base",
            "_view_module_version": "1.2.0",
            "_view_name": "StyleView",
            "description_width": ""
          }
        },
        "12fe26cb1cea48a8be8f787ec94bb262": {
          "model_module": "@jupyter-widgets/base",
          "model_name": "LayoutModel",
          "model_module_version": "1.2.0",
          "state": {
            "_model_module": "@jupyter-widgets/base",
            "_model_module_version": "1.2.0",
            "_model_name": "LayoutModel",
            "_view_count": null,
            "_view_module": "@jupyter-widgets/base",
            "_view_module_version": "1.2.0",
            "_view_name": "LayoutView",
            "align_content": null,
            "align_items": null,
            "align_self": null,
            "border": null,
            "bottom": null,
            "display": null,
            "flex": null,
            "flex_flow": null,
            "grid_area": null,
            "grid_auto_columns": null,
            "grid_auto_flow": null,
            "grid_auto_rows": null,
            "grid_column": null,
            "grid_gap": null,
            "grid_row": null,
            "grid_template_areas": null,
            "grid_template_columns": null,
            "grid_template_rows": null,
            "height": null,
            "justify_content": null,
            "justify_items": null,
            "left": null,
            "margin": null,
            "max_height": null,
            "max_width": null,
            "min_height": null,
            "min_width": null,
            "object_fit": null,
            "object_position": null,
            "order": null,
            "overflow": null,
            "overflow_x": null,
            "overflow_y": null,
            "padding": null,
            "right": null,
            "top": null,
            "visibility": null,
            "width": null
          }
        },
        "441f18c229dd4e098140ee703fca04e8": {
          "model_module": "@jupyter-widgets/controls",
          "model_name": "ProgressStyleModel",
          "model_module_version": "1.5.0",
          "state": {
            "_model_module": "@jupyter-widgets/controls",
            "_model_module_version": "1.5.0",
            "_model_name": "ProgressStyleModel",
            "_view_count": null,
            "_view_module": "@jupyter-widgets/base",
            "_view_module_version": "1.2.0",
            "_view_name": "StyleView",
            "bar_color": null,
            "description_width": ""
          }
        },
        "e4c7875e8c88426e82b5363300a4237c": {
          "model_module": "@jupyter-widgets/controls",
          "model_name": "VBoxModel",
          "model_module_version": "1.5.0",
          "state": {
            "_dom_classes": [],
            "_model_module": "@jupyter-widgets/controls",
            "_model_module_version": "1.5.0",
            "_model_name": "VBoxModel",
            "_view_count": null,
            "_view_module": "@jupyter-widgets/controls",
            "_view_module_version": "1.5.0",
            "_view_name": "VBoxView",
            "box_style": "",
            "children": [
              "IPY_MODEL_192a4ac25bd041779a5867f447b4e71d",
              "IPY_MODEL_b07d1fda7ae54ba4a7fccbf92bf01409"
            ],
            "layout": "IPY_MODEL_9d047463c7b144388ab2d4778825aa46"
          }
        },
        "192a4ac25bd041779a5867f447b4e71d": {
          "model_module": "@jupyter-widgets/controls",
          "model_name": "LabelModel",
          "model_module_version": "1.5.0",
          "state": {
            "_dom_classes": [],
            "_model_module": "@jupyter-widgets/controls",
            "_model_module_version": "1.5.0",
            "_model_name": "LabelModel",
            "_view_count": null,
            "_view_module": "@jupyter-widgets/controls",
            "_view_module_version": "1.5.0",
            "_view_name": "LabelView",
            "description": "",
            "description_tooltip": null,
            "layout": "IPY_MODEL_56b6b835c8004aaab23d88786908042d",
            "placeholder": "​",
            "style": "IPY_MODEL_06b99d5fa546484fb4b6191559435d17",
            "value": "0.001 MB of 0.009 MB uploaded (0.000 MB deduped)\r"
          }
        },
        "b07d1fda7ae54ba4a7fccbf92bf01409": {
          "model_module": "@jupyter-widgets/controls",
          "model_name": "FloatProgressModel",
          "model_module_version": "1.5.0",
          "state": {
            "_dom_classes": [],
            "_model_module": "@jupyter-widgets/controls",
            "_model_module_version": "1.5.0",
            "_model_name": "FloatProgressModel",
            "_view_count": null,
            "_view_module": "@jupyter-widgets/controls",
            "_view_module_version": "1.5.0",
            "_view_name": "ProgressView",
            "bar_style": "",
            "description": "",
            "description_tooltip": null,
            "layout": "IPY_MODEL_8793538787b04d5bba5256365782087e",
            "max": 1,
            "min": 0,
            "orientation": "horizontal",
            "style": "IPY_MODEL_6ea186f3653e41fe8edd365e3aa5933a",
            "value": 0.10577520182156903
          }
        },
        "9d047463c7b144388ab2d4778825aa46": {
          "model_module": "@jupyter-widgets/base",
          "model_name": "LayoutModel",
          "model_module_version": "1.2.0",
          "state": {
            "_model_module": "@jupyter-widgets/base",
            "_model_module_version": "1.2.0",
            "_model_name": "LayoutModel",
            "_view_count": null,
            "_view_module": "@jupyter-widgets/base",
            "_view_module_version": "1.2.0",
            "_view_name": "LayoutView",
            "align_content": null,
            "align_items": null,
            "align_self": null,
            "border": null,
            "bottom": null,
            "display": null,
            "flex": null,
            "flex_flow": null,
            "grid_area": null,
            "grid_auto_columns": null,
            "grid_auto_flow": null,
            "grid_auto_rows": null,
            "grid_column": null,
            "grid_gap": null,
            "grid_row": null,
            "grid_template_areas": null,
            "grid_template_columns": null,
            "grid_template_rows": null,
            "height": null,
            "justify_content": null,
            "justify_items": null,
            "left": null,
            "margin": null,
            "max_height": null,
            "max_width": null,
            "min_height": null,
            "min_width": null,
            "object_fit": null,
            "object_position": null,
            "order": null,
            "overflow": null,
            "overflow_x": null,
            "overflow_y": null,
            "padding": null,
            "right": null,
            "top": null,
            "visibility": null,
            "width": null
          }
        },
        "56b6b835c8004aaab23d88786908042d": {
          "model_module": "@jupyter-widgets/base",
          "model_name": "LayoutModel",
          "model_module_version": "1.2.0",
          "state": {
            "_model_module": "@jupyter-widgets/base",
            "_model_module_version": "1.2.0",
            "_model_name": "LayoutModel",
            "_view_count": null,
            "_view_module": "@jupyter-widgets/base",
            "_view_module_version": "1.2.0",
            "_view_name": "LayoutView",
            "align_content": null,
            "align_items": null,
            "align_self": null,
            "border": null,
            "bottom": null,
            "display": null,
            "flex": null,
            "flex_flow": null,
            "grid_area": null,
            "grid_auto_columns": null,
            "grid_auto_flow": null,
            "grid_auto_rows": null,
            "grid_column": null,
            "grid_gap": null,
            "grid_row": null,
            "grid_template_areas": null,
            "grid_template_columns": null,
            "grid_template_rows": null,
            "height": null,
            "justify_content": null,
            "justify_items": null,
            "left": null,
            "margin": null,
            "max_height": null,
            "max_width": null,
            "min_height": null,
            "min_width": null,
            "object_fit": null,
            "object_position": null,
            "order": null,
            "overflow": null,
            "overflow_x": null,
            "overflow_y": null,
            "padding": null,
            "right": null,
            "top": null,
            "visibility": null,
            "width": null
          }
        },
        "06b99d5fa546484fb4b6191559435d17": {
          "model_module": "@jupyter-widgets/controls",
          "model_name": "DescriptionStyleModel",
          "model_module_version": "1.5.0",
          "state": {
            "_model_module": "@jupyter-widgets/controls",
            "_model_module_version": "1.5.0",
            "_model_name": "DescriptionStyleModel",
            "_view_count": null,
            "_view_module": "@jupyter-widgets/base",
            "_view_module_version": "1.2.0",
            "_view_name": "StyleView",
            "description_width": ""
          }
        },
        "8793538787b04d5bba5256365782087e": {
          "model_module": "@jupyter-widgets/base",
          "model_name": "LayoutModel",
          "model_module_version": "1.2.0",
          "state": {
            "_model_module": "@jupyter-widgets/base",
            "_model_module_version": "1.2.0",
            "_model_name": "LayoutModel",
            "_view_count": null,
            "_view_module": "@jupyter-widgets/base",
            "_view_module_version": "1.2.0",
            "_view_name": "LayoutView",
            "align_content": null,
            "align_items": null,
            "align_self": null,
            "border": null,
            "bottom": null,
            "display": null,
            "flex": null,
            "flex_flow": null,
            "grid_area": null,
            "grid_auto_columns": null,
            "grid_auto_flow": null,
            "grid_auto_rows": null,
            "grid_column": null,
            "grid_gap": null,
            "grid_row": null,
            "grid_template_areas": null,
            "grid_template_columns": null,
            "grid_template_rows": null,
            "height": null,
            "justify_content": null,
            "justify_items": null,
            "left": null,
            "margin": null,
            "max_height": null,
            "max_width": null,
            "min_height": null,
            "min_width": null,
            "object_fit": null,
            "object_position": null,
            "order": null,
            "overflow": null,
            "overflow_x": null,
            "overflow_y": null,
            "padding": null,
            "right": null,
            "top": null,
            "visibility": null,
            "width": null
          }
        },
        "6ea186f3653e41fe8edd365e3aa5933a": {
          "model_module": "@jupyter-widgets/controls",
          "model_name": "ProgressStyleModel",
          "model_module_version": "1.5.0",
          "state": {
            "_model_module": "@jupyter-widgets/controls",
            "_model_module_version": "1.5.0",
            "_model_name": "ProgressStyleModel",
            "_view_count": null,
            "_view_module": "@jupyter-widgets/base",
            "_view_module_version": "1.2.0",
            "_view_name": "StyleView",
            "bar_color": null,
            "description_width": ""
          }
        },
        "65873b852a2e442ca7a29258b69c55f6": {
          "model_module": "@jupyter-widgets/controls",
          "model_name": "VBoxModel",
          "model_module_version": "1.5.0",
          "state": {
            "_dom_classes": [],
            "_model_module": "@jupyter-widgets/controls",
            "_model_module_version": "1.5.0",
            "_model_name": "VBoxModel",
            "_view_count": null,
            "_view_module": "@jupyter-widgets/controls",
            "_view_module_version": "1.5.0",
            "_view_name": "VBoxView",
            "box_style": "",
            "children": [
              "IPY_MODEL_98d7a93072944f828ef5bd0de965693b",
              "IPY_MODEL_47d5c575cdeb4c2aabdecfd71c2e53ac"
            ],
            "layout": "IPY_MODEL_28df4fa6201a4d658bde623357e9edc4"
          }
        },
        "98d7a93072944f828ef5bd0de965693b": {
          "model_module": "@jupyter-widgets/controls",
          "model_name": "LabelModel",
          "model_module_version": "1.5.0",
          "state": {
            "_dom_classes": [],
            "_model_module": "@jupyter-widgets/controls",
            "_model_module_version": "1.5.0",
            "_model_name": "LabelModel",
            "_view_count": null,
            "_view_module": "@jupyter-widgets/controls",
            "_view_module_version": "1.5.0",
            "_view_name": "LabelView",
            "description": "",
            "description_tooltip": null,
            "layout": "IPY_MODEL_1b694430ecec4f42b3872345f6dbea51",
            "placeholder": "​",
            "style": "IPY_MODEL_e9947165132744b6ba1096071011af39",
            "value": "0.001 MB of 0.010 MB uploaded (0.000 MB deduped)\r"
          }
        },
        "47d5c575cdeb4c2aabdecfd71c2e53ac": {
          "model_module": "@jupyter-widgets/controls",
          "model_name": "FloatProgressModel",
          "model_module_version": "1.5.0",
          "state": {
            "_dom_classes": [],
            "_model_module": "@jupyter-widgets/controls",
            "_model_module_version": "1.5.0",
            "_model_name": "FloatProgressModel",
            "_view_count": null,
            "_view_module": "@jupyter-widgets/controls",
            "_view_module_version": "1.5.0",
            "_view_name": "ProgressView",
            "bar_style": "",
            "description": "",
            "description_tooltip": null,
            "layout": "IPY_MODEL_f2a24dce283c4d9488f46913ad9e2078",
            "max": 1,
            "min": 0,
            "orientation": "horizontal",
            "style": "IPY_MODEL_b984169d406742f1bb671a2cfd842374",
            "value": 0.1026902228468179
          }
        },
        "28df4fa6201a4d658bde623357e9edc4": {
          "model_module": "@jupyter-widgets/base",
          "model_name": "LayoutModel",
          "model_module_version": "1.2.0",
          "state": {
            "_model_module": "@jupyter-widgets/base",
            "_model_module_version": "1.2.0",
            "_model_name": "LayoutModel",
            "_view_count": null,
            "_view_module": "@jupyter-widgets/base",
            "_view_module_version": "1.2.0",
            "_view_name": "LayoutView",
            "align_content": null,
            "align_items": null,
            "align_self": null,
            "border": null,
            "bottom": null,
            "display": null,
            "flex": null,
            "flex_flow": null,
            "grid_area": null,
            "grid_auto_columns": null,
            "grid_auto_flow": null,
            "grid_auto_rows": null,
            "grid_column": null,
            "grid_gap": null,
            "grid_row": null,
            "grid_template_areas": null,
            "grid_template_columns": null,
            "grid_template_rows": null,
            "height": null,
            "justify_content": null,
            "justify_items": null,
            "left": null,
            "margin": null,
            "max_height": null,
            "max_width": null,
            "min_height": null,
            "min_width": null,
            "object_fit": null,
            "object_position": null,
            "order": null,
            "overflow": null,
            "overflow_x": null,
            "overflow_y": null,
            "padding": null,
            "right": null,
            "top": null,
            "visibility": null,
            "width": null
          }
        },
        "1b694430ecec4f42b3872345f6dbea51": {
          "model_module": "@jupyter-widgets/base",
          "model_name": "LayoutModel",
          "model_module_version": "1.2.0",
          "state": {
            "_model_module": "@jupyter-widgets/base",
            "_model_module_version": "1.2.0",
            "_model_name": "LayoutModel",
            "_view_count": null,
            "_view_module": "@jupyter-widgets/base",
            "_view_module_version": "1.2.0",
            "_view_name": "LayoutView",
            "align_content": null,
            "align_items": null,
            "align_self": null,
            "border": null,
            "bottom": null,
            "display": null,
            "flex": null,
            "flex_flow": null,
            "grid_area": null,
            "grid_auto_columns": null,
            "grid_auto_flow": null,
            "grid_auto_rows": null,
            "grid_column": null,
            "grid_gap": null,
            "grid_row": null,
            "grid_template_areas": null,
            "grid_template_columns": null,
            "grid_template_rows": null,
            "height": null,
            "justify_content": null,
            "justify_items": null,
            "left": null,
            "margin": null,
            "max_height": null,
            "max_width": null,
            "min_height": null,
            "min_width": null,
            "object_fit": null,
            "object_position": null,
            "order": null,
            "overflow": null,
            "overflow_x": null,
            "overflow_y": null,
            "padding": null,
            "right": null,
            "top": null,
            "visibility": null,
            "width": null
          }
        },
        "e9947165132744b6ba1096071011af39": {
          "model_module": "@jupyter-widgets/controls",
          "model_name": "DescriptionStyleModel",
          "model_module_version": "1.5.0",
          "state": {
            "_model_module": "@jupyter-widgets/controls",
            "_model_module_version": "1.5.0",
            "_model_name": "DescriptionStyleModel",
            "_view_count": null,
            "_view_module": "@jupyter-widgets/base",
            "_view_module_version": "1.2.0",
            "_view_name": "StyleView",
            "description_width": ""
          }
        },
        "f2a24dce283c4d9488f46913ad9e2078": {
          "model_module": "@jupyter-widgets/base",
          "model_name": "LayoutModel",
          "model_module_version": "1.2.0",
          "state": {
            "_model_module": "@jupyter-widgets/base",
            "_model_module_version": "1.2.0",
            "_model_name": "LayoutModel",
            "_view_count": null,
            "_view_module": "@jupyter-widgets/base",
            "_view_module_version": "1.2.0",
            "_view_name": "LayoutView",
            "align_content": null,
            "align_items": null,
            "align_self": null,
            "border": null,
            "bottom": null,
            "display": null,
            "flex": null,
            "flex_flow": null,
            "grid_area": null,
            "grid_auto_columns": null,
            "grid_auto_flow": null,
            "grid_auto_rows": null,
            "grid_column": null,
            "grid_gap": null,
            "grid_row": null,
            "grid_template_areas": null,
            "grid_template_columns": null,
            "grid_template_rows": null,
            "height": null,
            "justify_content": null,
            "justify_items": null,
            "left": null,
            "margin": null,
            "max_height": null,
            "max_width": null,
            "min_height": null,
            "min_width": null,
            "object_fit": null,
            "object_position": null,
            "order": null,
            "overflow": null,
            "overflow_x": null,
            "overflow_y": null,
            "padding": null,
            "right": null,
            "top": null,
            "visibility": null,
            "width": null
          }
        },
        "b984169d406742f1bb671a2cfd842374": {
          "model_module": "@jupyter-widgets/controls",
          "model_name": "ProgressStyleModel",
          "model_module_version": "1.5.0",
          "state": {
            "_model_module": "@jupyter-widgets/controls",
            "_model_module_version": "1.5.0",
            "_model_name": "ProgressStyleModel",
            "_view_count": null,
            "_view_module": "@jupyter-widgets/base",
            "_view_module_version": "1.2.0",
            "_view_name": "StyleView",
            "bar_color": null,
            "description_width": ""
          }
        },
        "61cb5d2f539d4257a336576bac83cc4e": {
          "model_module": "@jupyter-widgets/controls",
          "model_name": "VBoxModel",
          "model_module_version": "1.5.0",
          "state": {
            "_dom_classes": [],
            "_model_module": "@jupyter-widgets/controls",
            "_model_module_version": "1.5.0",
            "_model_name": "VBoxModel",
            "_view_count": null,
            "_view_module": "@jupyter-widgets/controls",
            "_view_module_version": "1.5.0",
            "_view_name": "VBoxView",
            "box_style": "",
            "children": [
              "IPY_MODEL_54867dffefba43cfb361a39ac81cd496",
              "IPY_MODEL_ca4331a2615143d5b0207bf353ad3ca2"
            ],
            "layout": "IPY_MODEL_d94704e1bf844bbc82452dec456a2c97"
          }
        },
        "54867dffefba43cfb361a39ac81cd496": {
          "model_module": "@jupyter-widgets/controls",
          "model_name": "LabelModel",
          "model_module_version": "1.5.0",
          "state": {
            "_dom_classes": [],
            "_model_module": "@jupyter-widgets/controls",
            "_model_module_version": "1.5.0",
            "_model_name": "LabelModel",
            "_view_count": null,
            "_view_module": "@jupyter-widgets/controls",
            "_view_module_version": "1.5.0",
            "_view_name": "LabelView",
            "description": "",
            "description_tooltip": null,
            "layout": "IPY_MODEL_2629913a3f5049a196fe5fb908a85ddd",
            "placeholder": "​",
            "style": "IPY_MODEL_d041ab7c0d554182a67394ab70cc13f8",
            "value": "0.001 MB of 0.009 MB uploaded (0.000 MB deduped)\r"
          }
        },
        "ca4331a2615143d5b0207bf353ad3ca2": {
          "model_module": "@jupyter-widgets/controls",
          "model_name": "FloatProgressModel",
          "model_module_version": "1.5.0",
          "state": {
            "_dom_classes": [],
            "_model_module": "@jupyter-widgets/controls",
            "_model_module_version": "1.5.0",
            "_model_name": "FloatProgressModel",
            "_view_count": null,
            "_view_module": "@jupyter-widgets/controls",
            "_view_module_version": "1.5.0",
            "_view_name": "ProgressView",
            "bar_style": "",
            "description": "",
            "description_tooltip": null,
            "layout": "IPY_MODEL_71433e87a6c14f2e8ed49838ef28e946",
            "max": 1,
            "min": 0,
            "orientation": "horizontal",
            "style": "IPY_MODEL_8ecbf3c9809e426ea223a38988bbfadf",
            "value": 0.10271084337349398
          }
        },
        "d94704e1bf844bbc82452dec456a2c97": {
          "model_module": "@jupyter-widgets/base",
          "model_name": "LayoutModel",
          "model_module_version": "1.2.0",
          "state": {
            "_model_module": "@jupyter-widgets/base",
            "_model_module_version": "1.2.0",
            "_model_name": "LayoutModel",
            "_view_count": null,
            "_view_module": "@jupyter-widgets/base",
            "_view_module_version": "1.2.0",
            "_view_name": "LayoutView",
            "align_content": null,
            "align_items": null,
            "align_self": null,
            "border": null,
            "bottom": null,
            "display": null,
            "flex": null,
            "flex_flow": null,
            "grid_area": null,
            "grid_auto_columns": null,
            "grid_auto_flow": null,
            "grid_auto_rows": null,
            "grid_column": null,
            "grid_gap": null,
            "grid_row": null,
            "grid_template_areas": null,
            "grid_template_columns": null,
            "grid_template_rows": null,
            "height": null,
            "justify_content": null,
            "justify_items": null,
            "left": null,
            "margin": null,
            "max_height": null,
            "max_width": null,
            "min_height": null,
            "min_width": null,
            "object_fit": null,
            "object_position": null,
            "order": null,
            "overflow": null,
            "overflow_x": null,
            "overflow_y": null,
            "padding": null,
            "right": null,
            "top": null,
            "visibility": null,
            "width": null
          }
        },
        "2629913a3f5049a196fe5fb908a85ddd": {
          "model_module": "@jupyter-widgets/base",
          "model_name": "LayoutModel",
          "model_module_version": "1.2.0",
          "state": {
            "_model_module": "@jupyter-widgets/base",
            "_model_module_version": "1.2.0",
            "_model_name": "LayoutModel",
            "_view_count": null,
            "_view_module": "@jupyter-widgets/base",
            "_view_module_version": "1.2.0",
            "_view_name": "LayoutView",
            "align_content": null,
            "align_items": null,
            "align_self": null,
            "border": null,
            "bottom": null,
            "display": null,
            "flex": null,
            "flex_flow": null,
            "grid_area": null,
            "grid_auto_columns": null,
            "grid_auto_flow": null,
            "grid_auto_rows": null,
            "grid_column": null,
            "grid_gap": null,
            "grid_row": null,
            "grid_template_areas": null,
            "grid_template_columns": null,
            "grid_template_rows": null,
            "height": null,
            "justify_content": null,
            "justify_items": null,
            "left": null,
            "margin": null,
            "max_height": null,
            "max_width": null,
            "min_height": null,
            "min_width": null,
            "object_fit": null,
            "object_position": null,
            "order": null,
            "overflow": null,
            "overflow_x": null,
            "overflow_y": null,
            "padding": null,
            "right": null,
            "top": null,
            "visibility": null,
            "width": null
          }
        },
        "d041ab7c0d554182a67394ab70cc13f8": {
          "model_module": "@jupyter-widgets/controls",
          "model_name": "DescriptionStyleModel",
          "model_module_version": "1.5.0",
          "state": {
            "_model_module": "@jupyter-widgets/controls",
            "_model_module_version": "1.5.0",
            "_model_name": "DescriptionStyleModel",
            "_view_count": null,
            "_view_module": "@jupyter-widgets/base",
            "_view_module_version": "1.2.0",
            "_view_name": "StyleView",
            "description_width": ""
          }
        },
        "71433e87a6c14f2e8ed49838ef28e946": {
          "model_module": "@jupyter-widgets/base",
          "model_name": "LayoutModel",
          "model_module_version": "1.2.0",
          "state": {
            "_model_module": "@jupyter-widgets/base",
            "_model_module_version": "1.2.0",
            "_model_name": "LayoutModel",
            "_view_count": null,
            "_view_module": "@jupyter-widgets/base",
            "_view_module_version": "1.2.0",
            "_view_name": "LayoutView",
            "align_content": null,
            "align_items": null,
            "align_self": null,
            "border": null,
            "bottom": null,
            "display": null,
            "flex": null,
            "flex_flow": null,
            "grid_area": null,
            "grid_auto_columns": null,
            "grid_auto_flow": null,
            "grid_auto_rows": null,
            "grid_column": null,
            "grid_gap": null,
            "grid_row": null,
            "grid_template_areas": null,
            "grid_template_columns": null,
            "grid_template_rows": null,
            "height": null,
            "justify_content": null,
            "justify_items": null,
            "left": null,
            "margin": null,
            "max_height": null,
            "max_width": null,
            "min_height": null,
            "min_width": null,
            "object_fit": null,
            "object_position": null,
            "order": null,
            "overflow": null,
            "overflow_x": null,
            "overflow_y": null,
            "padding": null,
            "right": null,
            "top": null,
            "visibility": null,
            "width": null
          }
        },
        "8ecbf3c9809e426ea223a38988bbfadf": {
          "model_module": "@jupyter-widgets/controls",
          "model_name": "ProgressStyleModel",
          "model_module_version": "1.5.0",
          "state": {
            "_model_module": "@jupyter-widgets/controls",
            "_model_module_version": "1.5.0",
            "_model_name": "ProgressStyleModel",
            "_view_count": null,
            "_view_module": "@jupyter-widgets/base",
            "_view_module_version": "1.2.0",
            "_view_name": "StyleView",
            "bar_color": null,
            "description_width": ""
          }
        },
        "f7114c413743479a9a13776d3be47004": {
          "model_module": "@jupyter-widgets/controls",
          "model_name": "VBoxModel",
          "model_module_version": "1.5.0",
          "state": {
            "_dom_classes": [],
            "_model_module": "@jupyter-widgets/controls",
            "_model_module_version": "1.5.0",
            "_model_name": "VBoxModel",
            "_view_count": null,
            "_view_module": "@jupyter-widgets/controls",
            "_view_module_version": "1.5.0",
            "_view_name": "VBoxView",
            "box_style": "",
            "children": [
              "IPY_MODEL_ac683726799e4dd496637e731b84785c",
              "IPY_MODEL_65e4ab7976ad421b857ce5809a9f8709"
            ],
            "layout": "IPY_MODEL_3e89fcbb2a4f49f7963871789dec840b"
          }
        },
        "ac683726799e4dd496637e731b84785c": {
          "model_module": "@jupyter-widgets/controls",
          "model_name": "LabelModel",
          "model_module_version": "1.5.0",
          "state": {
            "_dom_classes": [],
            "_model_module": "@jupyter-widgets/controls",
            "_model_module_version": "1.5.0",
            "_model_name": "LabelModel",
            "_view_count": null,
            "_view_module": "@jupyter-widgets/controls",
            "_view_module_version": "1.5.0",
            "_view_name": "LabelView",
            "description": "",
            "description_tooltip": null,
            "layout": "IPY_MODEL_1f4795b2a15e450aaa8ce16352d7b8bb",
            "placeholder": "​",
            "style": "IPY_MODEL_3fb3775b07324371b7b43ee00b28b065",
            "value": "0.001 MB of 0.001 MB uploaded (0.000 MB deduped)\r"
          }
        },
        "65e4ab7976ad421b857ce5809a9f8709": {
          "model_module": "@jupyter-widgets/controls",
          "model_name": "FloatProgressModel",
          "model_module_version": "1.5.0",
          "state": {
            "_dom_classes": [],
            "_model_module": "@jupyter-widgets/controls",
            "_model_module_version": "1.5.0",
            "_model_name": "FloatProgressModel",
            "_view_count": null,
            "_view_module": "@jupyter-widgets/controls",
            "_view_module_version": "1.5.0",
            "_view_name": "ProgressView",
            "bar_style": "",
            "description": "",
            "description_tooltip": null,
            "layout": "IPY_MODEL_ba12b75b3c18453e8fe1361e0062bfeb",
            "max": 1,
            "min": 0,
            "orientation": "horizontal",
            "style": "IPY_MODEL_c407abc64dd348088de6a3eadaf329d5",
            "value": 1
          }
        },
        "3e89fcbb2a4f49f7963871789dec840b": {
          "model_module": "@jupyter-widgets/base",
          "model_name": "LayoutModel",
          "model_module_version": "1.2.0",
          "state": {
            "_model_module": "@jupyter-widgets/base",
            "_model_module_version": "1.2.0",
            "_model_name": "LayoutModel",
            "_view_count": null,
            "_view_module": "@jupyter-widgets/base",
            "_view_module_version": "1.2.0",
            "_view_name": "LayoutView",
            "align_content": null,
            "align_items": null,
            "align_self": null,
            "border": null,
            "bottom": null,
            "display": null,
            "flex": null,
            "flex_flow": null,
            "grid_area": null,
            "grid_auto_columns": null,
            "grid_auto_flow": null,
            "grid_auto_rows": null,
            "grid_column": null,
            "grid_gap": null,
            "grid_row": null,
            "grid_template_areas": null,
            "grid_template_columns": null,
            "grid_template_rows": null,
            "height": null,
            "justify_content": null,
            "justify_items": null,
            "left": null,
            "margin": null,
            "max_height": null,
            "max_width": null,
            "min_height": null,
            "min_width": null,
            "object_fit": null,
            "object_position": null,
            "order": null,
            "overflow": null,
            "overflow_x": null,
            "overflow_y": null,
            "padding": null,
            "right": null,
            "top": null,
            "visibility": null,
            "width": null
          }
        },
        "1f4795b2a15e450aaa8ce16352d7b8bb": {
          "model_module": "@jupyter-widgets/base",
          "model_name": "LayoutModel",
          "model_module_version": "1.2.0",
          "state": {
            "_model_module": "@jupyter-widgets/base",
            "_model_module_version": "1.2.0",
            "_model_name": "LayoutModel",
            "_view_count": null,
            "_view_module": "@jupyter-widgets/base",
            "_view_module_version": "1.2.0",
            "_view_name": "LayoutView",
            "align_content": null,
            "align_items": null,
            "align_self": null,
            "border": null,
            "bottom": null,
            "display": null,
            "flex": null,
            "flex_flow": null,
            "grid_area": null,
            "grid_auto_columns": null,
            "grid_auto_flow": null,
            "grid_auto_rows": null,
            "grid_column": null,
            "grid_gap": null,
            "grid_row": null,
            "grid_template_areas": null,
            "grid_template_columns": null,
            "grid_template_rows": null,
            "height": null,
            "justify_content": null,
            "justify_items": null,
            "left": null,
            "margin": null,
            "max_height": null,
            "max_width": null,
            "min_height": null,
            "min_width": null,
            "object_fit": null,
            "object_position": null,
            "order": null,
            "overflow": null,
            "overflow_x": null,
            "overflow_y": null,
            "padding": null,
            "right": null,
            "top": null,
            "visibility": null,
            "width": null
          }
        },
        "3fb3775b07324371b7b43ee00b28b065": {
          "model_module": "@jupyter-widgets/controls",
          "model_name": "DescriptionStyleModel",
          "model_module_version": "1.5.0",
          "state": {
            "_model_module": "@jupyter-widgets/controls",
            "_model_module_version": "1.5.0",
            "_model_name": "DescriptionStyleModel",
            "_view_count": null,
            "_view_module": "@jupyter-widgets/base",
            "_view_module_version": "1.2.0",
            "_view_name": "StyleView",
            "description_width": ""
          }
        },
        "ba12b75b3c18453e8fe1361e0062bfeb": {
          "model_module": "@jupyter-widgets/base",
          "model_name": "LayoutModel",
          "model_module_version": "1.2.0",
          "state": {
            "_model_module": "@jupyter-widgets/base",
            "_model_module_version": "1.2.0",
            "_model_name": "LayoutModel",
            "_view_count": null,
            "_view_module": "@jupyter-widgets/base",
            "_view_module_version": "1.2.0",
            "_view_name": "LayoutView",
            "align_content": null,
            "align_items": null,
            "align_self": null,
            "border": null,
            "bottom": null,
            "display": null,
            "flex": null,
            "flex_flow": null,
            "grid_area": null,
            "grid_auto_columns": null,
            "grid_auto_flow": null,
            "grid_auto_rows": null,
            "grid_column": null,
            "grid_gap": null,
            "grid_row": null,
            "grid_template_areas": null,
            "grid_template_columns": null,
            "grid_template_rows": null,
            "height": null,
            "justify_content": null,
            "justify_items": null,
            "left": null,
            "margin": null,
            "max_height": null,
            "max_width": null,
            "min_height": null,
            "min_width": null,
            "object_fit": null,
            "object_position": null,
            "order": null,
            "overflow": null,
            "overflow_x": null,
            "overflow_y": null,
            "padding": null,
            "right": null,
            "top": null,
            "visibility": null,
            "width": null
          }
        },
        "c407abc64dd348088de6a3eadaf329d5": {
          "model_module": "@jupyter-widgets/controls",
          "model_name": "ProgressStyleModel",
          "model_module_version": "1.5.0",
          "state": {
            "_model_module": "@jupyter-widgets/controls",
            "_model_module_version": "1.5.0",
            "_model_name": "ProgressStyleModel",
            "_view_count": null,
            "_view_module": "@jupyter-widgets/base",
            "_view_module_version": "1.2.0",
            "_view_name": "StyleView",
            "bar_color": null,
            "description_width": ""
          }
        },
        "5f03288ce2694aae851deb3042f98dad": {
          "model_module": "@jupyter-widgets/controls",
          "model_name": "VBoxModel",
          "model_module_version": "1.5.0",
          "state": {
            "_dom_classes": [],
            "_model_module": "@jupyter-widgets/controls",
            "_model_module_version": "1.5.0",
            "_model_name": "VBoxModel",
            "_view_count": null,
            "_view_module": "@jupyter-widgets/controls",
            "_view_module_version": "1.5.0",
            "_view_name": "VBoxView",
            "box_style": "",
            "children": [
              "IPY_MODEL_e5decce1cba54ab2aa504b8ccc096ba5",
              "IPY_MODEL_97012bbef8934e09bd23e1d5ad4c6164"
            ],
            "layout": "IPY_MODEL_c1a53730572a411ca0e4072e2986131f"
          }
        },
        "e5decce1cba54ab2aa504b8ccc096ba5": {
          "model_module": "@jupyter-widgets/controls",
          "model_name": "LabelModel",
          "model_module_version": "1.5.0",
          "state": {
            "_dom_classes": [],
            "_model_module": "@jupyter-widgets/controls",
            "_model_module_version": "1.5.0",
            "_model_name": "LabelModel",
            "_view_count": null,
            "_view_module": "@jupyter-widgets/controls",
            "_view_module_version": "1.5.0",
            "_view_name": "LabelView",
            "description": "",
            "description_tooltip": null,
            "layout": "IPY_MODEL_ab748039c368490da81509d2b96be1aa",
            "placeholder": "​",
            "style": "IPY_MODEL_3dcb2a9815ad4704a2001887e87173a6",
            "value": "0.001 MB of 0.009 MB uploaded (0.000 MB deduped)\r"
          }
        },
        "97012bbef8934e09bd23e1d5ad4c6164": {
          "model_module": "@jupyter-widgets/controls",
          "model_name": "FloatProgressModel",
          "model_module_version": "1.5.0",
          "state": {
            "_dom_classes": [],
            "_model_module": "@jupyter-widgets/controls",
            "_model_module_version": "1.5.0",
            "_model_name": "FloatProgressModel",
            "_view_count": null,
            "_view_module": "@jupyter-widgets/controls",
            "_view_module_version": "1.5.0",
            "_view_name": "ProgressView",
            "bar_style": "",
            "description": "",
            "description_tooltip": null,
            "layout": "IPY_MODEL_e0cda4bfc240433086eab922446b185c",
            "max": 1,
            "min": 0,
            "orientation": "horizontal",
            "style": "IPY_MODEL_ff00aac6b4d142c4a34bbc4dea323261",
            "value": 0.10262074505472436
          }
        },
        "c1a53730572a411ca0e4072e2986131f": {
          "model_module": "@jupyter-widgets/base",
          "model_name": "LayoutModel",
          "model_module_version": "1.2.0",
          "state": {
            "_model_module": "@jupyter-widgets/base",
            "_model_module_version": "1.2.0",
            "_model_name": "LayoutModel",
            "_view_count": null,
            "_view_module": "@jupyter-widgets/base",
            "_view_module_version": "1.2.0",
            "_view_name": "LayoutView",
            "align_content": null,
            "align_items": null,
            "align_self": null,
            "border": null,
            "bottom": null,
            "display": null,
            "flex": null,
            "flex_flow": null,
            "grid_area": null,
            "grid_auto_columns": null,
            "grid_auto_flow": null,
            "grid_auto_rows": null,
            "grid_column": null,
            "grid_gap": null,
            "grid_row": null,
            "grid_template_areas": null,
            "grid_template_columns": null,
            "grid_template_rows": null,
            "height": null,
            "justify_content": null,
            "justify_items": null,
            "left": null,
            "margin": null,
            "max_height": null,
            "max_width": null,
            "min_height": null,
            "min_width": null,
            "object_fit": null,
            "object_position": null,
            "order": null,
            "overflow": null,
            "overflow_x": null,
            "overflow_y": null,
            "padding": null,
            "right": null,
            "top": null,
            "visibility": null,
            "width": null
          }
        },
        "ab748039c368490da81509d2b96be1aa": {
          "model_module": "@jupyter-widgets/base",
          "model_name": "LayoutModel",
          "model_module_version": "1.2.0",
          "state": {
            "_model_module": "@jupyter-widgets/base",
            "_model_module_version": "1.2.0",
            "_model_name": "LayoutModel",
            "_view_count": null,
            "_view_module": "@jupyter-widgets/base",
            "_view_module_version": "1.2.0",
            "_view_name": "LayoutView",
            "align_content": null,
            "align_items": null,
            "align_self": null,
            "border": null,
            "bottom": null,
            "display": null,
            "flex": null,
            "flex_flow": null,
            "grid_area": null,
            "grid_auto_columns": null,
            "grid_auto_flow": null,
            "grid_auto_rows": null,
            "grid_column": null,
            "grid_gap": null,
            "grid_row": null,
            "grid_template_areas": null,
            "grid_template_columns": null,
            "grid_template_rows": null,
            "height": null,
            "justify_content": null,
            "justify_items": null,
            "left": null,
            "margin": null,
            "max_height": null,
            "max_width": null,
            "min_height": null,
            "min_width": null,
            "object_fit": null,
            "object_position": null,
            "order": null,
            "overflow": null,
            "overflow_x": null,
            "overflow_y": null,
            "padding": null,
            "right": null,
            "top": null,
            "visibility": null,
            "width": null
          }
        },
        "3dcb2a9815ad4704a2001887e87173a6": {
          "model_module": "@jupyter-widgets/controls",
          "model_name": "DescriptionStyleModel",
          "model_module_version": "1.5.0",
          "state": {
            "_model_module": "@jupyter-widgets/controls",
            "_model_module_version": "1.5.0",
            "_model_name": "DescriptionStyleModel",
            "_view_count": null,
            "_view_module": "@jupyter-widgets/base",
            "_view_module_version": "1.2.0",
            "_view_name": "StyleView",
            "description_width": ""
          }
        },
        "e0cda4bfc240433086eab922446b185c": {
          "model_module": "@jupyter-widgets/base",
          "model_name": "LayoutModel",
          "model_module_version": "1.2.0",
          "state": {
            "_model_module": "@jupyter-widgets/base",
            "_model_module_version": "1.2.0",
            "_model_name": "LayoutModel",
            "_view_count": null,
            "_view_module": "@jupyter-widgets/base",
            "_view_module_version": "1.2.0",
            "_view_name": "LayoutView",
            "align_content": null,
            "align_items": null,
            "align_self": null,
            "border": null,
            "bottom": null,
            "display": null,
            "flex": null,
            "flex_flow": null,
            "grid_area": null,
            "grid_auto_columns": null,
            "grid_auto_flow": null,
            "grid_auto_rows": null,
            "grid_column": null,
            "grid_gap": null,
            "grid_row": null,
            "grid_template_areas": null,
            "grid_template_columns": null,
            "grid_template_rows": null,
            "height": null,
            "justify_content": null,
            "justify_items": null,
            "left": null,
            "margin": null,
            "max_height": null,
            "max_width": null,
            "min_height": null,
            "min_width": null,
            "object_fit": null,
            "object_position": null,
            "order": null,
            "overflow": null,
            "overflow_x": null,
            "overflow_y": null,
            "padding": null,
            "right": null,
            "top": null,
            "visibility": null,
            "width": null
          }
        },
        "ff00aac6b4d142c4a34bbc4dea323261": {
          "model_module": "@jupyter-widgets/controls",
          "model_name": "ProgressStyleModel",
          "model_module_version": "1.5.0",
          "state": {
            "_model_module": "@jupyter-widgets/controls",
            "_model_module_version": "1.5.0",
            "_model_name": "ProgressStyleModel",
            "_view_count": null,
            "_view_module": "@jupyter-widgets/base",
            "_view_module_version": "1.2.0",
            "_view_name": "StyleView",
            "bar_color": null,
            "description_width": ""
          }
        }
      }
    }
  },
  "cells": [
    {
      "cell_type": "code",
      "execution_count": 8,
      "metadata": {
        "id": "XrqhXLa-jn16"
      },
      "outputs": [],
      "source": [
        "import numpy as np\n",
        "from keras.datasets import fashion_mnist\n",
        "import math\n",
        "from sklearn.metrics import accuracy_score\n",
        "import matplotlib.pyplot as plt\n",
        "import wandb\n",
        "import scikitplot as skplt"
      ]
    },
    {
      "cell_type": "code",
      "source": [
        "!wandb login"
      ],
      "metadata": {
        "colab": {
          "base_uri": "https://localhost:8080/"
        },
        "id": "J5gZ6B_Enkz4",
        "outputId": "b719a1bb-c17f-4879-ce40-c33d4282fb3f"
      },
      "execution_count": 9,
      "outputs": [
        {
          "output_type": "stream",
          "name": "stdout",
          "text": [
            "\u001b[34m\u001b[1mwandb\u001b[0m: Currently logged in as: \u001b[33mcs23z036\u001b[0m. Use \u001b[1m`wandb login --relogin`\u001b[0m to force relogin\n"
          ]
        }
      ]
    },
    {
      "cell_type": "code",
      "source": [
        "# getting one sample image from each class and visualizing\n",
        "(x_train,y_train), (x_test,y_test)= fashion_mnist.load_data()\n",
        "classes = np.unique(y_train)\n",
        "index_mat = [0]*10\n",
        "for i in classes:\n",
        "  index_mat[i] = y_train.tolist().index(i)\n",
        "\n",
        "plt.figure(figsize=(10,10))\n",
        "\n",
        "for j, i in enumerate(index_mat):\n",
        "  plt.subplot(3,4,j+1)\n",
        "  plt.imshow(x_train[i], cmap=plt.get_cmap('gray'))\n",
        "\n",
        "plt.show()"
      ],
      "metadata": {
        "colab": {
          "base_uri": "https://localhost:8080/",
          "height": 852
        },
        "id": "j4BtCNpjnUL1",
        "outputId": "3edbaee0-08f9-405f-c1bf-ef88ff67b1fd"
      },
      "execution_count": 10,
      "outputs": [
        {
          "output_type": "stream",
          "name": "stdout",
          "text": [
            "Downloading data from https://storage.googleapis.com/tensorflow/tf-keras-datasets/train-labels-idx1-ubyte.gz\n",
            "29515/29515 [==============================] - 0s 0us/step\n",
            "Downloading data from https://storage.googleapis.com/tensorflow/tf-keras-datasets/train-images-idx3-ubyte.gz\n",
            "26421880/26421880 [==============================] - 0s 0us/step\n",
            "Downloading data from https://storage.googleapis.com/tensorflow/tf-keras-datasets/t10k-labels-idx1-ubyte.gz\n",
            "5148/5148 [==============================] - 0s 0us/step\n",
            "Downloading data from https://storage.googleapis.com/tensorflow/tf-keras-datasets/t10k-images-idx3-ubyte.gz\n",
            "4422102/4422102 [==============================] - 0s 0us/step\n"
          ]
        },
        {
          "output_type": "display_data",
          "data": {
            "text/plain": [
              "<Figure size 1000x1000 with 10 Axes>"
            ],
            "image/png": "[encoded data removed]"
          },
          "metadata": {}
        }
      ]
    },
    {
      "cell_type": "code",
      "source": [
        "class_names=['T-shirt/top','Trouser','Pullover','Dress','Coat','Sandal','Shirt','Sneaker','Bag','Ankle boot']\n",
        "wandb.init(project='Assignment1_ReLoaded_15thJuly')\n",
        "\n",
        "wandb.log({'sample':[wandb.Image(x_train[i],caption=class_names[y_train[i]]) for i in index_mat]})\n"
      ],
      "metadata": {
        "colab": {
          "base_uri": "https://localhost:8080/",
          "height": 209
        },
        "id": "jGkrReAvwnyO",
        "outputId": "5f22eaf6-4b51-4c6d-faf2-757510378925"
      },
      "execution_count": 12,
      "outputs": [
        {
          "output_type": "display_data",
          "data": {
            "text/plain": [
              "<IPython.core.display.HTML object>"
            ],
            "text/html": [
              "Finishing last run (ID:adb69926) before initializing another..."
            ]
          },
          "metadata": {}
        },
        {
          "output_type": "display_data",
          "data": {
            "text/plain": [
              "<IPython.core.display.HTML object>"
            ],
            "text/html": [
              "Waiting for W&B process to finish... <strong style=\"color:green\">(success).</strong>"
            ]
          },
          "metadata": {}
        },
        {
          "output_type": "display_data",
          "data": {
            "text/plain": [
              "<IPython.core.display.HTML object>"
            ],
            "text/html": [
              " View run <strong style=\"color:#cdcd00\">crimson-pond-45</strong> at: <a href='https://wandb.ai/cs23z036/Assignment1_ReLoaded_15thJuly/runs/adb69926' target=\"_blank\">https://wandb.ai/cs23z036/Assignment1_ReLoaded_15thJuly/runs/adb69926</a><br/>Synced 4 W&B file(s), 0 media file(s), 0 artifact file(s) and 0 other file(s)"
            ]
          },
          "metadata": {}
        },
        {
          "output_type": "display_data",
          "data": {
            "text/plain": [
              "<IPython.core.display.HTML object>"
            ],
            "text/html": [
              "Find logs at: <code>./wandb/run-20230718_173357-adb69926/logs</code>"
            ]
          },
          "metadata": {}
        },
        {
          "output_type": "display_data",
          "data": {
            "text/plain": [
              "<IPython.core.display.HTML object>"
            ],
            "text/html": [
              "Successfully finished last run (ID:adb69926). Initializing new run:<br/>"
            ]
          },
          "metadata": {}
        },
        {
          "output_type": "display_data",
          "data": {
            "text/plain": [
              "<IPython.core.display.HTML object>"
            ],
            "text/html": [
              "Tracking run with wandb version 0.15.5"
            ]
          },
          "metadata": {}
        },
        {
          "output_type": "display_data",
          "data": {
            "text/plain": [
              "<IPython.core.display.HTML object>"
            ],
            "text/html": [
              "Run data is saved locally in <code>/content/wandb/run-20230718_173434-6hxo3a5p</code>"
            ]
          },
          "metadata": {}
        },
        {
          "output_type": "display_data",
          "data": {
            "text/plain": [
              "<IPython.core.display.HTML object>"
            ],
            "text/html": [
              "Syncing run <strong><a href='https://wandb.ai/cs23z036/Assignment1_ReLoaded_15thJuly/runs/6hxo3a5p' target=\"_blank\">bumbling-sponge-46</a></strong> to <a href='https://wandb.ai/cs23z036/Assignment1_ReLoaded_15thJuly' target=\"_blank\">Weights & Biases</a> (<a href='https://wandb.me/run' target=\"_blank\">docs</a>)<br/>"
            ]
          },
          "metadata": {}
        },
        {
          "output_type": "display_data",
          "data": {
            "text/plain": [
              "<IPython.core.display.HTML object>"
            ],
            "text/html": [
              " View project at <a href='https://wandb.ai/cs23z036/Assignment1_ReLoaded_15thJuly' target=\"_blank\">https://wandb.ai/cs23z036/Assignment1_ReLoaded_15thJuly</a>"
            ]
          },
          "metadata": {}
        },
        {
          "output_type": "display_data",
          "data": {
            "text/plain": [
              "<IPython.core.display.HTML object>"
            ],
            "text/html": [
              " View run at <a href='https://wandb.ai/cs23z036/Assignment1_ReLoaded_15thJuly/runs/6hxo3a5p' target=\"_blank\">https://wandb.ai/cs23z036/Assignment1_ReLoaded_15thJuly/runs/6hxo3a5p</a>"
            ]
          },
          "metadata": {}
        }
      ]
    },
    {
      "cell_type": "code",
      "source": [
        "(x_train,y_train),(x_test,y_test)=fashion_mnist.load_data()\n",
        "class_names=['T-shirt/top','Trouser','Pullover','Dress','Coat','Sandal','Shirt','Sneaker','Bag','Ankle boot']"
      ],
      "metadata": {
        "id": "KC0CtiZOj2Bb"
      },
      "execution_count": null,
      "outputs": []
    },
    {
      "cell_type": "code",
      "source": [
        "x_train=x_train.reshape(60000,28*28)/255\n",
        "x_test=x_test.reshape(10000,28*28)/255\n",
        "y_test=y_test\n",
        "temp=np.zeros((60000,10))\n",
        "temp[np.arange(60000),y_train]=1\n",
        "y_train=temp"
      ],
      "metadata": {
        "id": "gkh8X-SJkv9J"
      },
      "execution_count": null,
      "outputs": []
    },
    {
      "cell_type": "code",
      "source": [
        "config_defaults = {\n",
        "        'epochs': 5,\n",
        "        'batch_size':32,\n",
        "        'hidden_layers':3,\n",
        "        'eta': 0.001,\n",
        "        'size':32,\n",
        "        'activation': 'sigmoid',      #available: sigmoid,tanh,relu\n",
        "        'optimizer': 'nesterov',       # available : sgd,momnetum,rmsprop,nesterov,adam,adagrad\n",
        "        'wt_decay':0.05,\n",
        "        'wt_init':'xavier'\n",
        "        }\n",
        "config=config_defaults"
      ],
      "metadata": {
        "id": "27T68XW6OkVI"
      },
      "execution_count": null,
      "outputs": []
    },
    {
      "cell_type": "code",
      "source": [
        "sweep_config = {\n",
        "  'name': 'Assignment1_ReLoaded',\n",
        "  'method': 'grid',\n",
        "  'parameters': {\n",
        "        'epochs': {\n",
        "            'values': [5]\n",
        "        },\n",
        "        'batch_size':{\n",
        "            'values':[32]\n",
        "        },\n",
        "        'hidden_layers':{\n",
        "            'values':[2,3]\n",
        "        },\n",
        "        'eta': {\n",
        "            'values': [0.005]\n",
        "        },\n",
        "        'size':{\n",
        "            'values':[32,64]\n",
        "        },\n",
        "        'optimizer': {\n",
        "            'values': ['nesterov','rmsprop']\n",
        "        },\n",
        "        'activation': {\n",
        "            'values': ['sigmoid','tanh']\n",
        "        },\n",
        "        'wt_decay': {\n",
        "            'values': [0.005,0.05]\n",
        "        },\n",
        "        'wt_init':{\n",
        "            'values':['xavier','random']\n",
        "        }\n",
        "    }\n",
        "}\n"
      ],
      "metadata": {
        "id": "ZOfbKzhrOkXr"
      },
      "execution_count": null,
      "outputs": []
    },
    {
      "cell_type": "code",
      "source": [
        "#Activation functions and their derivatives\n",
        "\n",
        "def sigmoid(x):\n",
        "  return 1/(1+np.exp(-x))\n",
        "\n",
        "def tanh(x):\n",
        "  return (np.exp(x)-np.exp(-x))/(np.exp(x)+np.exp(-x))\n",
        "\n",
        "def softmax(x):\n",
        "  exps=np.exp(x)\n",
        "  return exps/np.sum(exps)\n",
        "\n",
        "def grad_sigmoid(x):\n",
        "  return sigmoid(x)*(1-sigmoid(x))\n",
        "\n",
        "def grad_tanh(x):\n",
        "  return 1-(tanh(x)**2)\n",
        "\n"
      ],
      "metadata": {
        "id": "BdYMhlbwpBPK"
      },
      "execution_count": null,
      "outputs": []
    },
    {
      "cell_type": "code",
      "source": [
        "best_acc=0\n",
        "def Train():\n",
        "  X=x_train[:50000]\n",
        "  Y=y_train[:50000]\n",
        "\n",
        "  x_val=x_train[50000:]\n",
        "  y_val=y_train[50000:]\n",
        "\n",
        "  wandb.init(config=config_defaults)\n",
        "  config = wandb.config\n",
        "\n",
        "\n",
        "  eta = config['eta']\n",
        "  epochs = config['epochs']\n",
        "  batch_size=config['batch_size']\n",
        "  activation=config['activation']\n",
        "  optimization=config['optimizer']\n",
        "  num_hidden_layers = config['hidden_layers']\n",
        "  size=config['size']\n",
        "  wt_decay=config['wt_decay']\n",
        "  initialization=config['wt_init']\n",
        "\n",
        "\n",
        "  input_layer_size=28*28\n",
        "  output_layer_size=10\n",
        "  num_nodes=[input_layer_size]\n",
        "\n",
        "  for i in range(num_hidden_layers):\n",
        "    num_nodes.append(size)\n",
        "  num_nodes.append(output_layer_size)\n",
        "\n",
        "  num_weight_mat=num_hidden_layers+1\n",
        "\n",
        "  def init_random():\n",
        "    weights,bias={},{}\n",
        "    for i in range(1,num_weight_mat+1):\n",
        "      weights['w'+str(i)]=np.random.randn(num_nodes[i],num_nodes[i-1])\n",
        "      bias['b'+str(i)]=np.random.randn(num_nodes[i])\n",
        "    return weights,bias\n",
        "\n",
        "  def init_xavier():\n",
        "\n",
        "    weights,bias={},{}\n",
        "    for i in range(1,num_weight_mat+1):\n",
        "      weights['w'+str(i)]=np.random.normal(0,math.sqrt(1/num_nodes[i-1]),size=([int(num_nodes[i]),int(num_nodes[i-1])]))\n",
        "      bias['b'+str(i)]=np.zeros(int(num_nodes[i]))\n",
        "\n",
        "    return weights,bias\n",
        "\n",
        "  def init_zeros():\n",
        "    weights,bias={},{}\n",
        "    for i in range(1,num_weight_mat+1):\n",
        "      weights['w'+str(i)]=np.zeros([int(num_nodes[i]),int(num_nodes[i-1])])\n",
        "      bias['b'+str(i)]=np.zeros(int(num_nodes[i]))\n",
        "    return weights,bias\n",
        "\n",
        "  if initialization=='random':\n",
        "    wt_init=init_random()\n",
        "  if initialization=='xavier':\n",
        "    wt_init=init_xavier()\n",
        "\n",
        "  weights,bias=wt_init\n",
        "\n",
        "\n",
        "  if activation=='sigmoid':\n",
        "    activation=sigmoid\n",
        "    der_activ=grad_sigmoid\n",
        "\n",
        "  if activation=='tanh':\n",
        "    activation=tanh\n",
        "    der_activ=grad_tanh\n",
        "\n",
        "  output=softmax\n",
        "  activation=activation\n",
        "\n",
        "  def forward_prop(weights,bias,x):\n",
        "    activations={}\n",
        "    H={}\n",
        "    H['H0']=x\n",
        "    for i in range(1,num_hidden_layers+1):\n",
        "      activations['A'+str(i)]=np.matmul(weights['w'+str(i)],H[('H'+str(i-1))])+bias['b'+str(i)]\n",
        "      H['H'+str(i)]=activation(activations['A'+str(i)])\n",
        "\n",
        "    activations['A'+str(num_hidden_layers+1)]=np.matmul(weights['w'+str(num_hidden_layers+1)],H['H'+str(num_hidden_layers)])+bias['b'+str(num_hidden_layers+1)]\n",
        "    y_hat=softmax(activations['A'+str(num_hidden_layers+1)])\n",
        "\n",
        "    return y_hat,activations,H\n",
        "\n",
        "  def back_prop(w,b,x,y):\n",
        "    grad_A={}\n",
        "    grad_W={}\n",
        "    grad_b={}\n",
        "    grad_H={}\n",
        "    y_hat,A,H=forward_prop(w,b,x)\n",
        "    grad_A['A'+str(num_hidden_layers+1)]=-(y-y_hat)\n",
        "\n",
        "    for i in range(num_hidden_layers+1,1,-1):\n",
        "      grad_W['w'+str(i)]=np.matmul(grad_A['A'+str(i)].reshape(-1,1),H['H'+str(i-1)].reshape(1,-1))\n",
        "      grad_b['b'+str(i)]=grad_A['A'+str(i)]\n",
        "      grad_H['H'+str(i-1)]=np.dot(np.transpose(w['w'+str(i)]),grad_A['A'+str(i)])\n",
        "      grad_A['A'+str(i-1)]=np.multiply(grad_H['H'+str(i-1)],der_activ(A['A'+str(i-1)]))\n",
        "\n",
        "    grad_W['w1'] = np.multiply(grad_A['A1'].reshape(-1,1), H['H0'].reshape(1,-1))\n",
        "    grad_b['b1'] = grad_A['A1']\n",
        "\n",
        "    return grad_W,grad_b\n",
        "\n",
        "  def momentum_gradient_descent():\n",
        "    gamma=0.9\n",
        "    prev_dw,prev_db=init_zeros()\n",
        "    for k in range(epochs):\n",
        "      count=0\n",
        "      dw,db=init_zeros()\n",
        "      for x,y in zip(X,Y):\n",
        "        if count==0:\n",
        "          dw,db=init_zeros()\n",
        "        grad_w,grad_b=back_prop(weights,bias,x,y)\n",
        "\n",
        "        for j in range(1,num_hidden_layers+2):\n",
        "          dw['w'+str(j)]+=grad_w['w'+str(j)]\n",
        "          db['b'+str(j)]+=grad_b['b'+str(j)]\n",
        "\n",
        "        count=count+1\n",
        "        if count%batch_size==0:\n",
        "          for j in range(1,num_hidden_layers+2):\n",
        "            # weights['w%s'%j]-=(prev_dw['w%s'%j])*gamma+(dw['w%s'%j])*eta\n",
        "            # bias['b%s'%j]-=((prev_db['b%s'%j])*gamma+(db['b%s'%j])*eta)\n",
        "\n",
        "            # prev_dw['w%s'%j]=(prev_dw['w%s'%j])*gamma+(dw['w%s'%j])*eta\n",
        "            # prev_db['b%s'%j]=(prev_db['b%s'%j])*gamma+(db['b%s'%j])*eta\n",
        "            # print('.......','w%s'%j)\n",
        "            # print('.......','w'+str(j))\n",
        "\n",
        "            weights['w'+str(j)]-=(prev_dw['w'+str(j)])*gamma+ (eta*dw['w'+str(j)])\n",
        "            bias['b'+str(j)]-=(prev_db['b'+str(j)]*gamma+(eta*db['b'+str(j)]))\n",
        "            prev_dw['w'+str(j)]=gamma*prev_dw['w'+str(j)]+dw['w'+str(j)]*eta\n",
        "            prev_db['b'+str(j)]=gamma+prev_db['b'+str(j)]+db['b'+str(j)]*eta\n",
        "\n",
        "            count=0\n",
        "\n",
        "  def nesterov_accelerated_gradient():\n",
        "    gamma=0.9\n",
        "    prev_vw,prev_vb=init_zeros()\n",
        "    temp_w,temp_b=init_zeros()\n",
        "    dw,db=init_zeros()\n",
        "    v_w,v_b=init_zeros()\n",
        "\n",
        "    for k in range(epochs):\n",
        "      count=0\n",
        "      if count==0:\n",
        "        for j in range(1,num_hidden_layers+2):\n",
        "          v_w['w'+str(j)]=prev_vw['w'+str(j)]*gamma\n",
        "          v_b['w'+str(j)]=prev_vb['b'+str(j)]*gamma\n",
        "      for x,y in zip(X,Y):\n",
        "        if count==0:\n",
        "          dw,db=init_zeros()\n",
        "        for j in range(1,num_hidden_layers+2):\n",
        "          temp_w['w'+str(j)]=weights['w'+str(j)]-v_w['w'+str(j)]\n",
        "          temp_b['b'+str(j)]=bias['b'+str(j)]-v_b['b'+str(j)]\n",
        "        grad_w,grad_b=back_prop(temp_w,temp_b,x,y)\n",
        "\n",
        "        for j in range(1,num_hidden_layers+2):\n",
        "          dw['w'+str(j)]+=grad_w['w'+str(j)]\n",
        "          db['b'+str(j)]+=grad_b['b'+str(j)]\n",
        "        count=count+1\n",
        "\n",
        "        if count%batch_size==0:\n",
        "          for j in range(1,num_hidden_layers+2):\n",
        "            v_w['w'+str(j)]=gamma*prev_vw['w'+str(j)]+eta*dw['w'+str(j)]\n",
        "            v_b['b'+str(j)]=gamma*prev_vb['b'+str(j)]+eta*db['b'+str(j)]\n",
        "            weights['w'+str(j)]-=v_w['w'+str(j)]\n",
        "            bias['b'+str(j)]-=v_b['b'+str(j)]\n",
        "            prev_vw['w'+str(j)]=v_w['w'+str(j)]\n",
        "            prev_vb['b'+str(j)]=v_b['b'+str(j)]\n",
        "\n",
        "          count=0\n",
        "\n",
        "\n",
        "  def stochastic_gradient_descent():\n",
        "    for k in range(epochs):\n",
        "      for x,y in zip(x,y):\n",
        "        grad_w,grad_b=back_prop(weights,bias,x,y)\n",
        "        for j in range(1,num_hidden_layers+2):\n",
        "          weights['w'+str(j)]-=grad_w['w'+str(j)]*eta\n",
        "          bias['b'+str(j)]-=grad_b['b'+str(j)]*eta\n",
        "\n",
        "\n",
        "  def ada_grad():\n",
        "    epsilon=1e-8\n",
        "    v_w,v_b=init_zeros()\n",
        "    for k in range(epochs):\n",
        "      count=0\n",
        "      dw,db=init_zeros()\n",
        "      for x,y in zip(x,y):\n",
        "        if count==0:\n",
        "          dw,db=init_zeros()\n",
        "\n",
        "        grad_w,grad_b=back_prop(weights,bias,x,y)\n",
        "\n",
        "        for j in range(1,num_hidden_layers+2):\n",
        "          dw['w'+str(j)]+=grad_w['w'+str(j)]\n",
        "          db['b'+str(j)]+=grad_b['b'+str(j)]\n",
        "\n",
        "        count=count+1\n",
        "        if count%batch_size==0:\n",
        "          for j in range(1,num_hidden_layers+2):\n",
        "            v_w['w'+str(j)]+=np.square(dw['w'+str(j)])\n",
        "            v_b['b'+str(j)]+=np.square(db['b'+str(j)])\n",
        "\n",
        "            weights['w'+str(j)]-=dw['w'+str(j)]*eta/np.sqrt(v_w['w'+str(j)]+epsilon)\n",
        "            bias['b'+str(j)]-=db['b'+str(j)]*eta/np.sqrt(v_b['b'+str(j)]+epsilon)\n",
        "\n",
        "            count=0\n",
        "\n",
        "  def rmsprop():\n",
        "    epsilon=1e-8\n",
        "    beta=0.98\n",
        "    v_w,v_b=init_zeros()\n",
        "\n",
        "    for k in range(epochs):\n",
        "      count=0\n",
        "      dw,db=init_zeros()\n",
        "\n",
        "      for x,y in zip(X,Y):\n",
        "\n",
        "        if count==0:\n",
        "          dw,db=init_zeros()\n",
        "        grad_w,grad_b=back_prop(weights,bias,x,y)\n",
        "\n",
        "        for j in range(1,num_hidden_layers+2):\n",
        "          dw['w'+str(j)]+=grad_w['w'+str(j)]\n",
        "          db['b'+str(j)]+=grad_b['b'+str(j)]\n",
        "\n",
        "        count=count+1\n",
        "        if count%batch_size==0:\n",
        "          for j in range(1,num_hidden_layers+2):\n",
        "            v_w['w'+str(j)]=beta*v_w['w'+str(j)]+(1-beta)*np.square(dw['w'+str(j)])\n",
        "            v_b['b'+str(j)]=beta*v_b['b'+str(j)]+(1-beta)*np.square(db['b'+str(j)])\n",
        "            weights['w'+str(j)]-=dw['w'+str(j)]*(eta/np.sqrt(v_w['w'+str(j)]+epsilon))\n",
        "            bias['b'+str(j)]-=db['b'+str(j)]*(eta/np.sqrt(v_b['b'+str(j)]+epsilon))\n",
        "\n",
        "            count=0\n",
        "\n",
        "\n",
        "  def adam():\n",
        "    epsilon=1e-8\n",
        "    beta1=0.9\n",
        "    beta2=0.99\n",
        "    v_w,v_b=init_zeros()\n",
        "    v_w_hat,v_b_hat=init_zeros()\n",
        "\n",
        "    m_w,m_b=init_zeros()\n",
        "    m_w_hat,m_b_hat=init_zeros()\n",
        "\n",
        "    for k in range(epochs):\n",
        "      count=0\n",
        "      dw,db=init_zeros()\n",
        "\n",
        "      for x,y in zip(x,y):\n",
        "        if count==0:\n",
        "          dw,db=init_zeros()\n",
        "        grad_w,grad_b=back_prop(weights,bias,x,y)\n",
        "\n",
        "        for j in range(1,num_hidden_layers+2):\n",
        "          dw['w'+str(j)]+=grad_w['w'+str(j)]\n",
        "          db['b'+str(j)]+=grad_b['b'+str(j)]\n",
        "\n",
        "        count=count+1\n",
        "        if count%batch_size==0:\n",
        "          for j in range(1,num_hidden_layers+2):\n",
        "            v_w['w'+str(j)] = beta2*v_w['w'+str(j)] + (1-beta2)*np.square(dw['w'+str(j)])\n",
        "            v_b['b'+str(j)] = beta2*v_b['b'+str(j)] + (1-beta2)*np.square(db['b'+str(j)])\n",
        "\n",
        "            v_w_hat['w'+str(j)] = v_w['w'+str(j)]*1/(1-math.pow(beta2,k+1))\n",
        "            v_b_hat['b'+str(j)] = v_b['b'+str(j)]*1/(1-math.pow(beta2,k+1))\n",
        "\n",
        "            m_w['w'+str(j)] = beta1*m_w['w'+str(j)] + (1-beta1)*(dw['w'+str(j)])\n",
        "            m_b['b'+str(j)] = beta1*m_b['b'+str(j)] + (1-beta1)*(db['b'+str(j)])\n",
        "\n",
        "            m_w_hat['w'+str(j)] = m_w['w'+str(j)]*1/(1-math.pow(beta1,k+1))\n",
        "            m_b_hat['b'+str(j)] = m_b['b'+str(j)]*1/(1-math.pow(beta1,k+1))\n",
        "\n",
        "            weights['w'+str(j)] -= (m_w_hat['w'+str(j)])*(eta/np.sqrt(v_w_hat['w'+str(j)] + epsilon))\n",
        "            bias['b'+str(j)] -= ((m_b_hat['b'+str(j)])*(eta/np.sqrt(v_b_hat['b'+str(j)] + epsilon)))\n",
        "\n",
        "            count=0\n",
        "\n",
        "\n",
        "\n",
        "\n",
        "  def error(y,y_hat):\n",
        "    return -np.log(np.dot(y,y_hat))\n",
        "\n",
        "  def validation_accuracy():\n",
        "    y_pred=np.zeros(10000)\n",
        "    fx=np.zeros([10000,10])\n",
        "    val_loss=0\n",
        "    for i in range(10000):\n",
        "      fx[i]=forward_prop(weights,bias,x_val[i])[0]\n",
        "      val_loss+=error(y_val[i],fx[i])\n",
        "    val_loss/=10000\n",
        "    y_pred=np.argmax(fx,axis=1)\n",
        "    y_val_=np.argmax(y_val,axis=1)\n",
        "\n",
        "    val_accuracy=accuracy_score(y_pred,y_val_)\n",
        "\n",
        "    return val_loss,val_accuracy\n",
        "\n",
        "  if optimization == 'sgd':\n",
        "    stochastic_gradient_descent()\n",
        "  elif optimization == 'momentum_gradient_descent':\n",
        "    momentum_gradient_descent()\n",
        "  elif optimization == 'nesterov':\n",
        "    nesterov_accelerated_gradient()\n",
        "  elif optimization=='rmsprop':\n",
        "    rmsprop()\n",
        "\n",
        "\n",
        "  val_loss,val_acc = validation_accuracy()\n",
        "\n",
        "\n",
        "\n",
        "\n",
        "\n",
        "\n",
        "  params={'epochs':epochs,'learning rate':eta,'no of hidden layers':num_hidden_layers,'layer size':size,'batch size':batch_size,'optimizer':optimization,'validation loss':val_loss,'validation accuracy':val_acc}\n",
        "  wandb.log(params)\n",
        "\n",
        "\n",
        "\n",
        "\n",
        "  return weights,bias\n",
        "\n"
      ],
      "metadata": {
        "id": "s_A3naf3PF13"
      },
      "execution_count": null,
      "outputs": []
    },
    {
      "cell_type": "code",
      "source": [
        "w,b=Train()"
      ],
      "metadata": {
        "colab": {
          "base_uri": "https://localhost:8080/",
          "height": 209
        },
        "id": "bt858ENkPo-q",
        "outputId": "fe8d0632-1153-4f44-b511-16688d2ccbd3"
      },
      "execution_count": null,
      "outputs": [
        {
          "output_type": "display_data",
          "data": {
            "text/plain": [
              "<IPython.core.display.HTML object>"
            ],
            "text/html": [
              "Finishing last run (ID:aqyo9fu5) before initializing another..."
            ]
          },
          "metadata": {}
        },
        {
          "output_type": "display_data",
          "data": {
            "text/plain": [
              "<IPython.core.display.HTML object>"
            ],
            "text/html": [
              "Waiting for W&B process to finish... <strong style=\"color:green\">(success).</strong>"
            ]
          },
          "metadata": {}
        },
        {
          "output_type": "display_data",
          "data": {
            "text/plain": [
              "<IPython.core.display.HTML object>"
            ],
            "text/html": [
              " View run <strong style=\"color:#cdcd00\">silvery-silence-1</strong> at: <a href='https://wandb.ai/cs23z036/Assignment1_ReLoaded_15thJuly/runs/aqyo9fu5' target=\"_blank\">https://wandb.ai/cs23z036/Assignment1_ReLoaded_15thJuly/runs/aqyo9fu5</a><br/>Synced 4 W&B file(s), 10 media file(s), 0 artifact file(s) and 0 other file(s)"
            ]
          },
          "metadata": {}
        },
        {
          "output_type": "display_data",
          "data": {
            "text/plain": [
              "<IPython.core.display.HTML object>"
            ],
            "text/html": [
              "Find logs at: <code>./wandb/run-20230715_085649-aqyo9fu5/logs</code>"
            ]
          },
          "metadata": {}
        },
        {
          "output_type": "display_data",
          "data": {
            "text/plain": [
              "<IPython.core.display.HTML object>"
            ],
            "text/html": [
              "Successfully finished last run (ID:aqyo9fu5). Initializing new run:<br/>"
            ]
          },
          "metadata": {}
        },
        {
          "output_type": "display_data",
          "data": {
            "text/plain": [
              "<IPython.core.display.HTML object>"
            ],
            "text/html": [
              "Tracking run with wandb version 0.15.5"
            ]
          },
          "metadata": {}
        },
        {
          "output_type": "display_data",
          "data": {
            "text/plain": [
              "<IPython.core.display.HTML object>"
            ],
            "text/html": [
              "Run data is saved locally in <code>/content/wandb/run-20230715_090139-6lhoo3z7</code>"
            ]
          },
          "metadata": {}
        },
        {
          "output_type": "display_data",
          "data": {
            "text/plain": [
              "<IPython.core.display.HTML object>"
            ],
            "text/html": [
              "Syncing run <strong><a href='https://wandb.ai/cs23z036/uncategorized/runs/6lhoo3z7' target=\"_blank\">true-sound-143</a></strong> to <a href='https://wandb.ai/cs23z036/uncategorized' target=\"_blank\">Weights & Biases</a> (<a href='https://wandb.me/run' target=\"_blank\">docs</a>)<br/>"
            ]
          },
          "metadata": {}
        },
        {
          "output_type": "display_data",
          "data": {
            "text/plain": [
              "<IPython.core.display.HTML object>"
            ],
            "text/html": [
              " View project at <a href='https://wandb.ai/cs23z036/uncategorized' target=\"_blank\">https://wandb.ai/cs23z036/uncategorized</a>"
            ]
          },
          "metadata": {}
        },
        {
          "output_type": "display_data",
          "data": {
            "text/plain": [
              "<IPython.core.display.HTML object>"
            ],
            "text/html": [
              " View run at <a href='https://wandb.ai/cs23z036/uncategorized/runs/6lhoo3z7' target=\"_blank\">https://wandb.ai/cs23z036/uncategorized/runs/6lhoo3z7</a>"
            ]
          },
          "metadata": {}
        }
      ]
    },
    {
      "cell_type": "code",
      "source": [
        "def feedforward(weights, bias, x):\n",
        "  A = {}\n",
        "  H = {}\n",
        "  H['H0'] = x\n",
        "  n=len(weights)\n",
        "  if config['activation'] == 'sigmoid':\n",
        "    activation = sigmoid\n",
        "  elif config['activation'] == 'tanh':\n",
        "    activation = tanh\n",
        "\n",
        "  for i in range(1,n):\n",
        "    A[('A%s'% i)] = np.matmul(weights['w%s'% i],H[('H%s'% (i-1))])+bias['b%s'% i]\n",
        "    H['H%s'% i] = activation(A['A%s'% i])\n",
        "\n",
        "  A['A%s'%(n)]= np.matmul(weights['w%s'% (n)],H['H%s'% (n-1)])+bias['b%s'% (n)]\n",
        "  y_hat = softmax(A['A%s'% (n)])\n",
        "\n",
        "  return y_hat\n",
        "\n",
        "# function to return test error and accuracy\n",
        "def test_model():\n",
        "  f_x=np.zeros([10000,10])\n",
        "  for i in range(10000):\n",
        "    f_x[i]=feedforward(w,b,x_test[i])\n",
        "  test_pred=np.argmax(f_x,axis=1)\n",
        "  test_acc=accuracy_score(test_pred,y_test)\n",
        "  return test_acc,test_pred"
      ],
      "metadata": {
        "id": "MZaCKCPuLI4-"
      },
      "execution_count": null,
      "outputs": []
    },
    {
      "cell_type": "code",
      "source": [
        "test_model()[0]"
      ],
      "metadata": {
        "id": "jcFS3HzmNVK0",
        "colab": {
          "base_uri": "https://localhost:8080/"
        },
        "outputId": "f0bf8625-5e89-4713-de6b-a5a081bdeaae"
      },
      "execution_count": null,
      "outputs": [
        {
          "output_type": "execute_result",
          "data": {
            "text/plain": [
              "0.8457"
            ]
          },
          "metadata": {},
          "execution_count": 73
        }
      ]
    },
    {
      "cell_type": "code",
      "source": [
        "test_acc,test_pred=test_model()\n",
        "ytest_pred=[class_names[k] for k in test_pred]\n",
        "ytest=[class_names[k]  for k in y_test]\n",
        "confusion_mat=skplt.metrics.plot_confusion_matrix(ytest,ytest_pred,figsize=(10,10))"
      ],
      "metadata": {
        "id": "IrhQhYQSOwyZ",
        "colab": {
          "base_uri": "https://localhost:8080/",
          "height": 815
        },
        "outputId": "56c3764a-7206-4388-a5d4-240f44d7029f"
      },
      "execution_count": null,
      "outputs": [
        {
          "output_type": "display_data",
          "data": {
            "text/plain": [
              "<Figure size 1000x1000 with 2 Axes>"
            ],
            "image/png": "[encoded data removed]"
          },
          "metadata": {}
        }
      ]
    },
    {
      "cell_type": "code",
      "source": [
        "sweep_id = wandb.sweep(sweep_config,project='Assignment1_ReLoaded_15thJuly')       #Uncomment for wandb"
      ],
      "metadata": {
        "id": "86HdO_UaMHWA",
        "colab": {
          "base_uri": "https://localhost:8080/"
        },
        "outputId": "663af581-3455-4446-e1d2-f397413c45a6"
      },
      "execution_count": null,
      "outputs": [
        {
          "output_type": "stream",
          "name": "stdout",
          "text": [
            "Create sweep with ID: az1ucc60\n",
            "Sweep URL: https://wandb.ai/cs23z036/Assignment1_ReLoaded_15thJuly/sweeps/az1ucc60\n"
          ]
        }
      ]
    },
    {
      "cell_type": "code",
      "source": [
        "wandb.agent(sweep_id, Train)"
      ],
      "metadata": {
        "colab": {
          "base_uri": "https://localhost:8080/",
          "height": 1000,
          "referenced_widgets": [
            "2ef931ea4ea6437d8be372875fc3ded2",
            "4bfe6c0a6df2488b8d80f55b94799d83",
            "c7354fe41db74125922a2fd73e4545dd",
            "d553886c513549b79dd2bd215c003da8",
            "af17f5d2d2004fa9b2824d3ba0f4dc7d",
            "ffe823c072924c90999ee89112f722f2",
            "2a6aa769c78e46bda318059df2c5e34c",
            "b85e4b3bab64468fabafda48edc019b0",
            "6c2722f1b1024f19b3842480b0eec922",
            "35e4f633252d43e3b167651e25840f2e",
            "fe49bd8007834a47adc47561dadc7b78",
            "5c98824034a84f9ebd7d24433a0170aa",
            "1a9724d56b68400c8f60eedeb86d10a0",
            "a5967126753a423baa07931fe0a081a1",
            "1d0525905e51424cb55297b176224255",
            "e68511f08b5347cd8009d371142fb788",
            "90ae6d0143644de393f38cd364bfff79",
            "90bb720ff89848e494645a0af3371966",
            "faeb69144068447c9f81984ab372f7e0",
            "fb3a5864a1804f6b8f18eec152231635",
            "8fa2ac294d8f41d69262f455e5da9882",
            "707f927f4fb249839de5f44750e84168",
            "95c169c7374e41d5b092f2317a3ad83c",
            "21810435123247cea0084815981cb1a7",
            "05a9669e71054c2d8c957d6565ffe295",
            "6cbfff089c5e4aa6b0b37a6f5b83f96a",
            "5a686f2994124e64ac00fa34507ccdc0",
            "29182c97793f43e2aad40f4323be4943",
            "5b5e09f764864273a695126e62ba02a3",
            "bd2a7030d7ee4a12bd2bf475c5a08c63",
            "12fe26cb1cea48a8be8f787ec94bb262",
            "441f18c229dd4e098140ee703fca04e8",
            "e4c7875e8c88426e82b5363300a4237c",
            "192a4ac25bd041779a5867f447b4e71d",
            "b07d1fda7ae54ba4a7fccbf92bf01409",
            "9d047463c7b144388ab2d4778825aa46",
            "56b6b835c8004aaab23d88786908042d",
            "06b99d5fa546484fb4b6191559435d17",
            "8793538787b04d5bba5256365782087e",
            "6ea186f3653e41fe8edd365e3aa5933a",
            "65873b852a2e442ca7a29258b69c55f6",
            "98d7a93072944f828ef5bd0de965693b",
            "47d5c575cdeb4c2aabdecfd71c2e53ac",
            "28df4fa6201a4d658bde623357e9edc4",
            "1b694430ecec4f42b3872345f6dbea51",
            "e9947165132744b6ba1096071011af39",
            "f2a24dce283c4d9488f46913ad9e2078",
            "b984169d406742f1bb671a2cfd842374",
            "61cb5d2f539d4257a336576bac83cc4e",
            "54867dffefba43cfb361a39ac81cd496",
            "ca4331a2615143d5b0207bf353ad3ca2",
            "d94704e1bf844bbc82452dec456a2c97",
            "2629913a3f5049a196fe5fb908a85ddd",
            "d041ab7c0d554182a67394ab70cc13f8",
            "71433e87a6c14f2e8ed49838ef28e946",
            "8ecbf3c9809e426ea223a38988bbfadf",
            "f7114c413743479a9a13776d3be47004",
            "ac683726799e4dd496637e731b84785c",
            "65e4ab7976ad421b857ce5809a9f8709",
            "3e89fcbb2a4f49f7963871789dec840b",
            "1f4795b2a15e450aaa8ce16352d7b8bb",
            "3fb3775b07324371b7b43ee00b28b065",
            "ba12b75b3c18453e8fe1361e0062bfeb",
            "c407abc64dd348088de6a3eadaf329d5",
            "5f03288ce2694aae851deb3042f98dad",
            "e5decce1cba54ab2aa504b8ccc096ba5",
            "97012bbef8934e09bd23e1d5ad4c6164",
            "c1a53730572a411ca0e4072e2986131f",
            "ab748039c368490da81509d2b96be1aa",
            "3dcb2a9815ad4704a2001887e87173a6",
            "e0cda4bfc240433086eab922446b185c",
            "ff00aac6b4d142c4a34bbc4dea323261"
          ]
        },
        "id": "2a0omjFJzszQ",
        "outputId": "7fc21e9e-fdce-4852-abb6-0c02c0181842"
      },
      "execution_count": null,
      "outputs": [
        {
          "output_type": "stream",
          "name": "stderr",
          "text": [
            "\u001b[34m\u001b[1mwandb\u001b[0m: \u001b[33mWARNING\u001b[0m Calling wandb.login() after wandb.init() has no effect.\n",
            "\u001b[34m\u001b[1mwandb\u001b[0m: Agent Starting Run: n8pys57q with config:\n",
            "\u001b[34m\u001b[1mwandb\u001b[0m: \tactivation: sigmoid\n",
            "\u001b[34m\u001b[1mwandb\u001b[0m: \tbatch_size: 32\n",
            "\u001b[34m\u001b[1mwandb\u001b[0m: \tepochs: 5\n",
            "\u001b[34m\u001b[1mwandb\u001b[0m: \teta: 0.005\n",
            "\u001b[34m\u001b[1mwandb\u001b[0m: \thidden_layers: 2\n",
            "\u001b[34m\u001b[1mwandb\u001b[0m: \toptimizer: nesterov\n",
            "\u001b[34m\u001b[1mwandb\u001b[0m: \tsize: 32\n",
            "\u001b[34m\u001b[1mwandb\u001b[0m: \twt_decay: 0.005\n",
            "\u001b[34m\u001b[1mwandb\u001b[0m: \twt_init: xavier\n"
          ]
        },
        {
          "output_type": "display_data",
          "data": {
            "text/plain": [
              "<IPython.core.display.HTML object>"
            ],
            "text/html": [
              "Tracking run with wandb version 0.15.5"
            ]
          },
          "metadata": {}
        },
        {
          "output_type": "display_data",
          "data": {
            "text/plain": [
              "<IPython.core.display.HTML object>"
            ],
            "text/html": [
              "Run data is saved locally in <code>/content/wandb/run-20230715_090851-n8pys57q</code>"
            ]
          },
          "metadata": {}
        },
        {
          "output_type": "display_data",
          "data": {
            "text/plain": [
              "<IPython.core.display.HTML object>"
            ],
            "text/html": [
              "Syncing run <strong><a href='https://wandb.ai/cs23z036/Assignment1_ReLoaded_15thJuly/runs/n8pys57q' target=\"_blank\">light-sweep-1</a></strong> to <a href='https://wandb.ai/cs23z036/Assignment1_ReLoaded_15thJuly' target=\"_blank\">Weights & Biases</a> (<a href='https://wandb.me/run' target=\"_blank\">docs</a>)<br/>Sweep page: <a href='https://wandb.ai/cs23z036/Assignment1_ReLoaded_15thJuly/sweeps/az1ucc60' target=\"_blank\">https://wandb.ai/cs23z036/Assignment1_ReLoaded_15thJuly/sweeps/az1ucc60</a>"
            ]
          },
          "metadata": {}
        },
        {
          "output_type": "display_data",
          "data": {
            "text/plain": [
              "<IPython.core.display.HTML object>"
            ],
            "text/html": [
              " View project at <a href='https://wandb.ai/cs23z036/Assignment1_ReLoaded_15thJuly' target=\"_blank\">https://wandb.ai/cs23z036/Assignment1_ReLoaded_15thJuly</a>"
            ]
          },
          "metadata": {}
        },
        {
          "output_type": "display_data",
          "data": {
            "text/plain": [
              "<IPython.core.display.HTML object>"
            ],
            "text/html": [
              " View sweep at <a href='https://wandb.ai/cs23z036/Assignment1_ReLoaded_15thJuly/sweeps/az1ucc60' target=\"_blank\">https://wandb.ai/cs23z036/Assignment1_ReLoaded_15thJuly/sweeps/az1ucc60</a>"
            ]
          },
          "metadata": {}
        },
        {
          "output_type": "display_data",
          "data": {
            "text/plain": [
              "<IPython.core.display.HTML object>"
            ],
            "text/html": [
              " View run at <a href='https://wandb.ai/cs23z036/Assignment1_ReLoaded_15thJuly/runs/n8pys57q' target=\"_blank\">https://wandb.ai/cs23z036/Assignment1_ReLoaded_15thJuly/runs/n8pys57q</a>"
            ]
          },
          "metadata": {}
        },
        {
          "output_type": "display_data",
          "data": {
            "text/plain": [
              "<IPython.core.display.HTML object>"
            ],
            "text/html": [
              "Waiting for W&B process to finish... <strong style=\"color:green\">(success).</strong>"
            ]
          },
          "metadata": {}
        },
        {
          "output_type": "display_data",
          "data": {
            "text/plain": [
              "<IPython.core.display.HTML object>"
            ],
            "text/html": [
              "<style>\n",
              "    table.wandb td:nth-child(1) { padding: 0 10px; text-align: left ; width: auto;} td:nth-child(2) {text-align: left ; width: 100%}\n",
              "    .wandb-row { display: flex; flex-direction: row; flex-wrap: wrap; justify-content: flex-start; width: 100% }\n",
              "    .wandb-col { display: flex; flex-direction: column; flex-basis: 100%; flex: 1; padding: 10px; }\n",
              "    </style>\n",
              "<div class=\"wandb-row\"><div class=\"wandb-col\"><h3>Run history:</h3><br/><table class=\"wandb\"><tr><td>batch size</td><td>▁</td></tr><tr><td>epochs</td><td>▁</td></tr><tr><td>layer size</td><td>▁</td></tr><tr><td>learning rate</td><td>▁</td></tr><tr><td>no of hidden layers</td><td>▁</td></tr><tr><td>validation accuracy</td><td>▁</td></tr><tr><td>validation loss</td><td>▁</td></tr></table><br/></div><div class=\"wandb-col\"><h3>Run summary:</h3><br/><table class=\"wandb\"><tr><td>batch size</td><td>32</td></tr><tr><td>epochs</td><td>5</td></tr><tr><td>layer size</td><td>32</td></tr><tr><td>learning rate</td><td>0.005</td></tr><tr><td>no of hidden layers</td><td>2</td></tr><tr><td>optimizer</td><td>nesterov</td></tr><tr><td>validation accuracy</td><td>0.8487</td></tr><tr><td>validation loss</td><td>0.42195</td></tr></table><br/></div></div>"
            ]
          },
          "metadata": {}
        },
        {
          "output_type": "display_data",
          "data": {
            "text/plain": [
              "<IPython.core.display.HTML object>"
            ],
            "text/html": [
              " View run <strong style=\"color:#cdcd00\">light-sweep-1</strong> at: <a href='https://wandb.ai/cs23z036/Assignment1_ReLoaded_15thJuly/runs/n8pys57q' target=\"_blank\">https://wandb.ai/cs23z036/Assignment1_ReLoaded_15thJuly/runs/n8pys57q</a><br/>Synced 4 W&B file(s), 0 media file(s), 0 artifact file(s) and 0 other file(s)"
            ]
          },
          "metadata": {}
        },
        {
          "output_type": "display_data",
          "data": {
            "text/plain": [
              "<IPython.core.display.HTML object>"
            ],
            "text/html": [
              "Find logs at: <code>./wandb/run-20230715_090851-n8pys57q/logs</code>"
            ]
          },
          "metadata": {}
        },
        {
          "output_type": "stream",
          "name": "stderr",
          "text": [
            "\u001b[34m\u001b[1mwandb\u001b[0m: Agent Starting Run: 6kc8d0zo with config:\n",
            "\u001b[34m\u001b[1mwandb\u001b[0m: \tactivation: sigmoid\n",
            "\u001b[34m\u001b[1mwandb\u001b[0m: \tbatch_size: 32\n",
            "\u001b[34m\u001b[1mwandb\u001b[0m: \tepochs: 5\n",
            "\u001b[34m\u001b[1mwandb\u001b[0m: \teta: 0.005\n",
            "\u001b[34m\u001b[1mwandb\u001b[0m: \thidden_layers: 2\n",
            "\u001b[34m\u001b[1mwandb\u001b[0m: \toptimizer: nesterov\n",
            "\u001b[34m\u001b[1mwandb\u001b[0m: \tsize: 32\n",
            "\u001b[34m\u001b[1mwandb\u001b[0m: \twt_decay: 0.005\n",
            "\u001b[34m\u001b[1mwandb\u001b[0m: \twt_init: random\n"
          ]
        },
        {
          "output_type": "display_data",
          "data": {
            "text/plain": [
              "<IPython.core.display.HTML object>"
            ],
            "text/html": [
              "Tracking run with wandb version 0.15.5"
            ]
          },
          "metadata": {}
        },
        {
          "output_type": "display_data",
          "data": {
            "text/plain": [
              "<IPython.core.display.HTML object>"
            ],
            "text/html": [
              "Run data is saved locally in <code>/content/wandb/run-20230715_091105-6kc8d0zo</code>"
            ]
          },
          "metadata": {}
        },
        {
          "output_type": "display_data",
          "data": {
            "text/plain": [
              "<IPython.core.display.HTML object>"
            ],
            "text/html": [
              "Syncing run <strong><a href='https://wandb.ai/cs23z036/Assignment1_ReLoaded_15thJuly/runs/6kc8d0zo' target=\"_blank\">gentle-sweep-2</a></strong> to <a href='https://wandb.ai/cs23z036/Assignment1_ReLoaded_15thJuly' target=\"_blank\">Weights & Biases</a> (<a href='https://wandb.me/run' target=\"_blank\">docs</a>)<br/>Sweep page: <a href='https://wandb.ai/cs23z036/Assignment1_ReLoaded_15thJuly/sweeps/az1ucc60' target=\"_blank\">https://wandb.ai/cs23z036/Assignment1_ReLoaded_15thJuly/sweeps/az1ucc60</a>"
            ]
          },
          "metadata": {}
        },
        {
          "output_type": "display_data",
          "data": {
            "text/plain": [
              "<IPython.core.display.HTML object>"
            ],
            "text/html": [
              " View project at <a href='https://wandb.ai/cs23z036/Assignment1_ReLoaded_15thJuly' target=\"_blank\">https://wandb.ai/cs23z036/Assignment1_ReLoaded_15thJuly</a>"
            ]
          },
          "metadata": {}
        },
        {
          "output_type": "display_data",
          "data": {
            "text/plain": [
              "<IPython.core.display.HTML object>"
            ],
            "text/html": [
              " View sweep at <a href='https://wandb.ai/cs23z036/Assignment1_ReLoaded_15thJuly/sweeps/az1ucc60' target=\"_blank\">https://wandb.ai/cs23z036/Assignment1_ReLoaded_15thJuly/sweeps/az1ucc60</a>"
            ]
          },
          "metadata": {}
        },
        {
          "output_type": "display_data",
          "data": {
            "text/plain": [
              "<IPython.core.display.HTML object>"
            ],
            "text/html": [
              " View run at <a href='https://wandb.ai/cs23z036/Assignment1_ReLoaded_15thJuly/runs/6kc8d0zo' target=\"_blank\">https://wandb.ai/cs23z036/Assignment1_ReLoaded_15thJuly/runs/6kc8d0zo</a>"
            ]
          },
          "metadata": {}
        },
        {
          "output_type": "display_data",
          "data": {
            "text/plain": [
              "<IPython.core.display.HTML object>"
            ],
            "text/html": [
              "Waiting for W&B process to finish... <strong style=\"color:green\">(success).</strong>"
            ]
          },
          "metadata": {}
        },
        {
          "output_type": "display_data",
          "data": {
            "text/plain": [
              "<IPython.core.display.HTML object>"
            ],
            "text/html": [
              "<style>\n",
              "    table.wandb td:nth-child(1) { padding: 0 10px; text-align: left ; width: auto;} td:nth-child(2) {text-align: left ; width: 100%}\n",
              "    .wandb-row { display: flex; flex-direction: row; flex-wrap: wrap; justify-content: flex-start; width: 100% }\n",
              "    .wandb-col { display: flex; flex-direction: column; flex-basis: 100%; flex: 1; padding: 10px; }\n",
              "    </style>\n",
              "<div class=\"wandb-row\"><div class=\"wandb-col\"><h3>Run history:</h3><br/><table class=\"wandb\"><tr><td>batch size</td><td>▁</td></tr><tr><td>epochs</td><td>▁</td></tr><tr><td>layer size</td><td>▁</td></tr><tr><td>learning rate</td><td>▁</td></tr><tr><td>no of hidden layers</td><td>▁</td></tr><tr><td>validation accuracy</td><td>▁</td></tr><tr><td>validation loss</td><td>▁</td></tr></table><br/></div><div class=\"wandb-col\"><h3>Run summary:</h3><br/><table class=\"wandb\"><tr><td>batch size</td><td>32</td></tr><tr><td>epochs</td><td>5</td></tr><tr><td>layer size</td><td>32</td></tr><tr><td>learning rate</td><td>0.005</td></tr><tr><td>no of hidden layers</td><td>2</td></tr><tr><td>optimizer</td><td>nesterov</td></tr><tr><td>validation accuracy</td><td>0.844</td></tr><tr><td>validation loss</td><td>0.4509</td></tr></table><br/></div></div>"
            ]
          },
          "metadata": {}
        },
        {
          "output_type": "display_data",
          "data": {
            "text/plain": [
              "<IPython.core.display.HTML object>"
            ],
            "text/html": [
              " View run <strong style=\"color:#cdcd00\">gentle-sweep-2</strong> at: <a href='https://wandb.ai/cs23z036/Assignment1_ReLoaded_15thJuly/runs/6kc8d0zo' target=\"_blank\">https://wandb.ai/cs23z036/Assignment1_ReLoaded_15thJuly/runs/6kc8d0zo</a><br/>Synced 4 W&B file(s), 0 media file(s), 0 artifact file(s) and 0 other file(s)"
            ]
          },
          "metadata": {}
        },
        {
          "output_type": "display_data",
          "data": {
            "text/plain": [
              "<IPython.core.display.HTML object>"
            ],
            "text/html": [
              "Find logs at: <code>./wandb/run-20230715_091105-6kc8d0zo/logs</code>"
            ]
          },
          "metadata": {}
        },
        {
          "output_type": "stream",
          "name": "stderr",
          "text": [
            "\u001b[34m\u001b[1mwandb\u001b[0m: Agent Starting Run: ct9tk59n with config:\n",
            "\u001b[34m\u001b[1mwandb\u001b[0m: \tactivation: sigmoid\n",
            "\u001b[34m\u001b[1mwandb\u001b[0m: \tbatch_size: 32\n",
            "\u001b[34m\u001b[1mwandb\u001b[0m: \tepochs: 5\n",
            "\u001b[34m\u001b[1mwandb\u001b[0m: \teta: 0.005\n",
            "\u001b[34m\u001b[1mwandb\u001b[0m: \thidden_layers: 2\n",
            "\u001b[34m\u001b[1mwandb\u001b[0m: \toptimizer: nesterov\n",
            "\u001b[34m\u001b[1mwandb\u001b[0m: \tsize: 32\n",
            "\u001b[34m\u001b[1mwandb\u001b[0m: \twt_decay: 0.05\n",
            "\u001b[34m\u001b[1mwandb\u001b[0m: \twt_init: xavier\n"
          ]
        },
        {
          "output_type": "display_data",
          "data": {
            "text/plain": [
              "<IPython.core.display.HTML object>"
            ],
            "text/html": [
              "Tracking run with wandb version 0.15.5"
            ]
          },
          "metadata": {}
        },
        {
          "output_type": "display_data",
          "data": {
            "text/plain": [
              "<IPython.core.display.HTML object>"
            ],
            "text/html": [
              "Run data is saved locally in <code>/content/wandb/run-20230715_091318-ct9tk59n</code>"
            ]
          },
          "metadata": {}
        },
        {
          "output_type": "display_data",
          "data": {
            "text/plain": [
              "<IPython.core.display.HTML object>"
            ],
            "text/html": [
              "Syncing run <strong><a href='https://wandb.ai/cs23z036/Assignment1_ReLoaded_15thJuly/runs/ct9tk59n' target=\"_blank\">different-sweep-3</a></strong> to <a href='https://wandb.ai/cs23z036/Assignment1_ReLoaded_15thJuly' target=\"_blank\">Weights & Biases</a> (<a href='https://wandb.me/run' target=\"_blank\">docs</a>)<br/>Sweep page: <a href='https://wandb.ai/cs23z036/Assignment1_ReLoaded_15thJuly/sweeps/az1ucc60' target=\"_blank\">https://wandb.ai/cs23z036/Assignment1_ReLoaded_15thJuly/sweeps/az1ucc60</a>"
            ]
          },
          "metadata": {}
        },
        {
          "output_type": "display_data",
          "data": {
            "text/plain": [
              "<IPython.core.display.HTML object>"
            ],
            "text/html": [
              " View project at <a href='https://wandb.ai/cs23z036/Assignment1_ReLoaded_15thJuly' target=\"_blank\">https://wandb.ai/cs23z036/Assignment1_ReLoaded_15thJuly</a>"
            ]
          },
          "metadata": {}
        },
        {
          "output_type": "display_data",
          "data": {
            "text/plain": [
              "<IPython.core.display.HTML object>"
            ],
            "text/html": [
              " View sweep at <a href='https://wandb.ai/cs23z036/Assignment1_ReLoaded_15thJuly/sweeps/az1ucc60' target=\"_blank\">https://wandb.ai/cs23z036/Assignment1_ReLoaded_15thJuly/sweeps/az1ucc60</a>"
            ]
          },
          "metadata": {}
        },
        {
          "output_type": "display_data",
          "data": {
            "text/plain": [
              "<IPython.core.display.HTML object>"
            ],
            "text/html": [
              " View run at <a href='https://wandb.ai/cs23z036/Assignment1_ReLoaded_15thJuly/runs/ct9tk59n' target=\"_blank\">https://wandb.ai/cs23z036/Assignment1_ReLoaded_15thJuly/runs/ct9tk59n</a>"
            ]
          },
          "metadata": {}
        },
        {
          "output_type": "display_data",
          "data": {
            "text/plain": [
              "<IPython.core.display.HTML object>"
            ],
            "text/html": [
              "Waiting for W&B process to finish... <strong style=\"color:green\">(success).</strong>"
            ]
          },
          "metadata": {}
        },
        {
          "output_type": "display_data",
          "data": {
            "text/plain": [
              "<IPython.core.display.HTML object>"
            ],
            "text/html": [
              "<style>\n",
              "    table.wandb td:nth-child(1) { padding: 0 10px; text-align: left ; width: auto;} td:nth-child(2) {text-align: left ; width: 100%}\n",
              "    .wandb-row { display: flex; flex-direction: row; flex-wrap: wrap; justify-content: flex-start; width: 100% }\n",
              "    .wandb-col { display: flex; flex-direction: column; flex-basis: 100%; flex: 1; padding: 10px; }\n",
              "    </style>\n",
              "<div class=\"wandb-row\"><div class=\"wandb-col\"><h3>Run history:</h3><br/><table class=\"wandb\"><tr><td>batch size</td><td>▁</td></tr><tr><td>epochs</td><td>▁</td></tr><tr><td>layer size</td><td>▁</td></tr><tr><td>learning rate</td><td>▁</td></tr><tr><td>no of hidden layers</td><td>▁</td></tr><tr><td>validation accuracy</td><td>▁</td></tr><tr><td>validation loss</td><td>▁</td></tr></table><br/></div><div class=\"wandb-col\"><h3>Run summary:</h3><br/><table class=\"wandb\"><tr><td>batch size</td><td>32</td></tr><tr><td>epochs</td><td>5</td></tr><tr><td>layer size</td><td>32</td></tr><tr><td>learning rate</td><td>0.005</td></tr><tr><td>no of hidden layers</td><td>2</td></tr><tr><td>optimizer</td><td>nesterov</td></tr><tr><td>validation accuracy</td><td>0.8446</td></tr><tr><td>validation loss</td><td>0.43422</td></tr></table><br/></div></div>"
            ]
          },
          "metadata": {}
        },
        {
          "output_type": "display_data",
          "data": {
            "text/plain": [
              "<IPython.core.display.HTML object>"
            ],
            "text/html": [
              " View run <strong style=\"color:#cdcd00\">different-sweep-3</strong> at: <a href='https://wandb.ai/cs23z036/Assignment1_ReLoaded_15thJuly/runs/ct9tk59n' target=\"_blank\">https://wandb.ai/cs23z036/Assignment1_ReLoaded_15thJuly/runs/ct9tk59n</a><br/>Synced 4 W&B file(s), 0 media file(s), 0 artifact file(s) and 0 other file(s)"
            ]
          },
          "metadata": {}
        },
        {
          "output_type": "display_data",
          "data": {
            "text/plain": [
              "<IPython.core.display.HTML object>"
            ],
            "text/html": [
              "Find logs at: <code>./wandb/run-20230715_091318-ct9tk59n/logs</code>"
            ]
          },
          "metadata": {}
        },
        {
          "output_type": "stream",
          "name": "stderr",
          "text": [
            "\u001b[34m\u001b[1mwandb\u001b[0m: Agent Starting Run: i3bcxrsa with config:\n",
            "\u001b[34m\u001b[1mwandb\u001b[0m: \tactivation: sigmoid\n",
            "\u001b[34m\u001b[1mwandb\u001b[0m: \tbatch_size: 32\n",
            "\u001b[34m\u001b[1mwandb\u001b[0m: \tepochs: 5\n",
            "\u001b[34m\u001b[1mwandb\u001b[0m: \teta: 0.005\n",
            "\u001b[34m\u001b[1mwandb\u001b[0m: \thidden_layers: 2\n",
            "\u001b[34m\u001b[1mwandb\u001b[0m: \toptimizer: nesterov\n",
            "\u001b[34m\u001b[1mwandb\u001b[0m: \tsize: 32\n",
            "\u001b[34m\u001b[1mwandb\u001b[0m: \twt_decay: 0.05\n",
            "\u001b[34m\u001b[1mwandb\u001b[0m: \twt_init: random\n"
          ]
        },
        {
          "output_type": "display_data",
          "data": {
            "text/plain": [
              "<IPython.core.display.HTML object>"
            ],
            "text/html": [
              "Tracking run with wandb version 0.15.5"
            ]
          },
          "metadata": {}
        },
        {
          "output_type": "display_data",
          "data": {
            "text/plain": [
              "<IPython.core.display.HTML object>"
            ],
            "text/html": [
              "Run data is saved locally in <code>/content/wandb/run-20230715_091530-i3bcxrsa</code>"
            ]
          },
          "metadata": {}
        },
        {
          "output_type": "display_data",
          "data": {
            "text/plain": [
              "<IPython.core.display.HTML object>"
            ],
            "text/html": [
              "Syncing run <strong><a href='https://wandb.ai/cs23z036/Assignment1_ReLoaded_15thJuly/runs/i3bcxrsa' target=\"_blank\">sweet-sweep-4</a></strong> to <a href='https://wandb.ai/cs23z036/Assignment1_ReLoaded_15thJuly' target=\"_blank\">Weights & Biases</a> (<a href='https://wandb.me/run' target=\"_blank\">docs</a>)<br/>Sweep page: <a href='https://wandb.ai/cs23z036/Assignment1_ReLoaded_15thJuly/sweeps/az1ucc60' target=\"_blank\">https://wandb.ai/cs23z036/Assignment1_ReLoaded_15thJuly/sweeps/az1ucc60</a>"
            ]
          },
          "metadata": {}
        },
        {
          "output_type": "display_data",
          "data": {
            "text/plain": [
              "<IPython.core.display.HTML object>"
            ],
            "text/html": [
              " View project at <a href='https://wandb.ai/cs23z036/Assignment1_ReLoaded_15thJuly' target=\"_blank\">https://wandb.ai/cs23z036/Assignment1_ReLoaded_15thJuly</a>"
            ]
          },
          "metadata": {}
        },
        {
          "output_type": "display_data",
          "data": {
            "text/plain": [
              "<IPython.core.display.HTML object>"
            ],
            "text/html": [
              " View sweep at <a href='https://wandb.ai/cs23z036/Assignment1_ReLoaded_15thJuly/sweeps/az1ucc60' target=\"_blank\">https://wandb.ai/cs23z036/Assignment1_ReLoaded_15thJuly/sweeps/az1ucc60</a>"
            ]
          },
          "metadata": {}
        },
        {
          "output_type": "display_data",
          "data": {
            "text/plain": [
              "<IPython.core.display.HTML object>"
            ],
            "text/html": [
              " View run at <a href='https://wandb.ai/cs23z036/Assignment1_ReLoaded_15thJuly/runs/i3bcxrsa' target=\"_blank\">https://wandb.ai/cs23z036/Assignment1_ReLoaded_15thJuly/runs/i3bcxrsa</a>"
            ]
          },
          "metadata": {}
        },
        {
          "output_type": "display_data",
          "data": {
            "text/plain": [
              "<IPython.core.display.HTML object>"
            ],
            "text/html": [
              "Waiting for W&B process to finish... <strong style=\"color:green\">(success).</strong>"
            ]
          },
          "metadata": {}
        },
        {
          "output_type": "display_data",
          "data": {
            "text/plain": [
              "<IPython.core.display.HTML object>"
            ],
            "text/html": [
              "<style>\n",
              "    table.wandb td:nth-child(1) { padding: 0 10px; text-align: left ; width: auto;} td:nth-child(2) {text-align: left ; width: 100%}\n",
              "    .wandb-row { display: flex; flex-direction: row; flex-wrap: wrap; justify-content: flex-start; width: 100% }\n",
              "    .wandb-col { display: flex; flex-direction: column; flex-basis: 100%; flex: 1; padding: 10px; }\n",
              "    </style>\n",
              "<div class=\"wandb-row\"><div class=\"wandb-col\"><h3>Run history:</h3><br/><table class=\"wandb\"><tr><td>batch size</td><td>▁</td></tr><tr><td>epochs</td><td>▁</td></tr><tr><td>layer size</td><td>▁</td></tr><tr><td>learning rate</td><td>▁</td></tr><tr><td>no of hidden layers</td><td>▁</td></tr><tr><td>validation accuracy</td><td>▁</td></tr><tr><td>validation loss</td><td>▁</td></tr></table><br/></div><div class=\"wandb-col\"><h3>Run summary:</h3><br/><table class=\"wandb\"><tr><td>batch size</td><td>32</td></tr><tr><td>epochs</td><td>5</td></tr><tr><td>layer size</td><td>32</td></tr><tr><td>learning rate</td><td>0.005</td></tr><tr><td>no of hidden layers</td><td>2</td></tr><tr><td>optimizer</td><td>nesterov</td></tr><tr><td>validation accuracy</td><td>0.8369</td></tr><tr><td>validation loss</td><td>0.47401</td></tr></table><br/></div></div>"
            ]
          },
          "metadata": {}
        },
        {
          "output_type": "display_data",
          "data": {
            "text/plain": [
              "<IPython.core.display.HTML object>"
            ],
            "text/html": [
              " View run <strong style=\"color:#cdcd00\">sweet-sweep-4</strong> at: <a href='https://wandb.ai/cs23z036/Assignment1_ReLoaded_15thJuly/runs/i3bcxrsa' target=\"_blank\">https://wandb.ai/cs23z036/Assignment1_ReLoaded_15thJuly/runs/i3bcxrsa</a><br/>Synced 4 W&B file(s), 0 media file(s), 0 artifact file(s) and 0 other file(s)"
            ]
          },
          "metadata": {}
        },
        {
          "output_type": "display_data",
          "data": {
            "text/plain": [
              "<IPython.core.display.HTML object>"
            ],
            "text/html": [
              "Find logs at: <code>./wandb/run-20230715_091530-i3bcxrsa/logs</code>"
            ]
          },
          "metadata": {}
        },
        {
          "output_type": "stream",
          "name": "stderr",
          "text": [
            "\u001b[34m\u001b[1mwandb\u001b[0m: Agent Starting Run: b6nfniox with config:\n",
            "\u001b[34m\u001b[1mwandb\u001b[0m: \tactivation: sigmoid\n",
            "\u001b[34m\u001b[1mwandb\u001b[0m: \tbatch_size: 32\n",
            "\u001b[34m\u001b[1mwandb\u001b[0m: \tepochs: 5\n",
            "\u001b[34m\u001b[1mwandb\u001b[0m: \teta: 0.005\n",
            "\u001b[34m\u001b[1mwandb\u001b[0m: \thidden_layers: 2\n",
            "\u001b[34m\u001b[1mwandb\u001b[0m: \toptimizer: nesterov\n",
            "\u001b[34m\u001b[1mwandb\u001b[0m: \tsize: 64\n",
            "\u001b[34m\u001b[1mwandb\u001b[0m: \twt_decay: 0.005\n",
            "\u001b[34m\u001b[1mwandb\u001b[0m: \twt_init: xavier\n"
          ]
        },
        {
          "output_type": "display_data",
          "data": {
            "text/plain": [
              "<IPython.core.display.HTML object>"
            ],
            "text/html": [
              "Tracking run with wandb version 0.15.5"
            ]
          },
          "metadata": {}
        },
        {
          "output_type": "display_data",
          "data": {
            "text/plain": [
              "<IPython.core.display.HTML object>"
            ],
            "text/html": [
              "Run data is saved locally in <code>/content/wandb/run-20230715_091747-b6nfniox</code>"
            ]
          },
          "metadata": {}
        },
        {
          "output_type": "display_data",
          "data": {
            "text/plain": [
              "<IPython.core.display.HTML object>"
            ],
            "text/html": [
              "Syncing run <strong><a href='https://wandb.ai/cs23z036/Assignment1_ReLoaded_15thJuly/runs/b6nfniox' target=\"_blank\">solar-sweep-5</a></strong> to <a href='https://wandb.ai/cs23z036/Assignment1_ReLoaded_15thJuly' target=\"_blank\">Weights & Biases</a> (<a href='https://wandb.me/run' target=\"_blank\">docs</a>)<br/>Sweep page: <a href='https://wandb.ai/cs23z036/Assignment1_ReLoaded_15thJuly/sweeps/az1ucc60' target=\"_blank\">https://wandb.ai/cs23z036/Assignment1_ReLoaded_15thJuly/sweeps/az1ucc60</a>"
            ]
          },
          "metadata": {}
        },
        {
          "output_type": "display_data",
          "data": {
            "text/plain": [
              "<IPython.core.display.HTML object>"
            ],
            "text/html": [
              " View project at <a href='https://wandb.ai/cs23z036/Assignment1_ReLoaded_15thJuly' target=\"_blank\">https://wandb.ai/cs23z036/Assignment1_ReLoaded_15thJuly</a>"
            ]
          },
          "metadata": {}
        },
        {
          "output_type": "display_data",
          "data": {
            "text/plain": [
              "<IPython.core.display.HTML object>"
            ],
            "text/html": [
              " View sweep at <a href='https://wandb.ai/cs23z036/Assignment1_ReLoaded_15thJuly/sweeps/az1ucc60' target=\"_blank\">https://wandb.ai/cs23z036/Assignment1_ReLoaded_15thJuly/sweeps/az1ucc60</a>"
            ]
          },
          "metadata": {}
        },
        {
          "output_type": "display_data",
          "data": {
            "text/plain": [
              "<IPython.core.display.HTML object>"
            ],
            "text/html": [
              " View run at <a href='https://wandb.ai/cs23z036/Assignment1_ReLoaded_15thJuly/runs/b6nfniox' target=\"_blank\">https://wandb.ai/cs23z036/Assignment1_ReLoaded_15thJuly/runs/b6nfniox</a>"
            ]
          },
          "metadata": {}
        },
        {
          "output_type": "display_data",
          "data": {
            "text/plain": [
              "<IPython.core.display.HTML object>"
            ],
            "text/html": [
              "Waiting for W&B process to finish... <strong style=\"color:green\">(success).</strong>"
            ]
          },
          "metadata": {}
        },
        {
          "output_type": "display_data",
          "data": {
            "text/plain": [
              "<IPython.core.display.HTML object>"
            ],
            "text/html": [
              "<style>\n",
              "    table.wandb td:nth-child(1) { padding: 0 10px; text-align: left ; width: auto;} td:nth-child(2) {text-align: left ; width: 100%}\n",
              "    .wandb-row { display: flex; flex-direction: row; flex-wrap: wrap; justify-content: flex-start; width: 100% }\n",
              "    .wandb-col { display: flex; flex-direction: column; flex-basis: 100%; flex: 1; padding: 10px; }\n",
              "    </style>\n",
              "<div class=\"wandb-row\"><div class=\"wandb-col\"><h3>Run history:</h3><br/><table class=\"wandb\"><tr><td>batch size</td><td>▁</td></tr><tr><td>epochs</td><td>▁</td></tr><tr><td>layer size</td><td>▁</td></tr><tr><td>learning rate</td><td>▁</td></tr><tr><td>no of hidden layers</td><td>▁</td></tr><tr><td>validation accuracy</td><td>▁</td></tr><tr><td>validation loss</td><td>▁</td></tr></table><br/></div><div class=\"wandb-col\"><h3>Run summary:</h3><br/><table class=\"wandb\"><tr><td>batch size</td><td>32</td></tr><tr><td>epochs</td><td>5</td></tr><tr><td>layer size</td><td>64</td></tr><tr><td>learning rate</td><td>0.005</td></tr><tr><td>no of hidden layers</td><td>2</td></tr><tr><td>optimizer</td><td>nesterov</td></tr><tr><td>validation accuracy</td><td>0.8542</td></tr><tr><td>validation loss</td><td>0.42416</td></tr></table><br/></div></div>"
            ]
          },
          "metadata": {}
        },
        {
          "output_type": "display_data",
          "data": {
            "text/plain": [
              "<IPython.core.display.HTML object>"
            ],
            "text/html": [
              " View run <strong style=\"color:#cdcd00\">solar-sweep-5</strong> at: <a href='https://wandb.ai/cs23z036/Assignment1_ReLoaded_15thJuly/runs/b6nfniox' target=\"_blank\">https://wandb.ai/cs23z036/Assignment1_ReLoaded_15thJuly/runs/b6nfniox</a><br/>Synced 4 W&B file(s), 0 media file(s), 0 artifact file(s) and 0 other file(s)"
            ]
          },
          "metadata": {}
        },
        {
          "output_type": "display_data",
          "data": {
            "text/plain": [
              "<IPython.core.display.HTML object>"
            ],
            "text/html": [
              "Find logs at: <code>./wandb/run-20230715_091747-b6nfniox/logs</code>"
            ]
          },
          "metadata": {}
        },
        {
          "output_type": "stream",
          "name": "stderr",
          "text": [
            "\u001b[34m\u001b[1mwandb\u001b[0m: Agent Starting Run: tswseg7x with config:\n",
            "\u001b[34m\u001b[1mwandb\u001b[0m: \tactivation: sigmoid\n",
            "\u001b[34m\u001b[1mwandb\u001b[0m: \tbatch_size: 32\n",
            "\u001b[34m\u001b[1mwandb\u001b[0m: \tepochs: 5\n",
            "\u001b[34m\u001b[1mwandb\u001b[0m: \teta: 0.005\n",
            "\u001b[34m\u001b[1mwandb\u001b[0m: \thidden_layers: 2\n",
            "\u001b[34m\u001b[1mwandb\u001b[0m: \toptimizer: nesterov\n",
            "\u001b[34m\u001b[1mwandb\u001b[0m: \tsize: 64\n",
            "\u001b[34m\u001b[1mwandb\u001b[0m: \twt_decay: 0.005\n",
            "\u001b[34m\u001b[1mwandb\u001b[0m: \twt_init: random\n"
          ]
        },
        {
          "output_type": "display_data",
          "data": {
            "text/plain": [
              "<IPython.core.display.HTML object>"
            ],
            "text/html": [
              "Tracking run with wandb version 0.15.5"
            ]
          },
          "metadata": {}
        },
        {
          "output_type": "display_data",
          "data": {
            "text/plain": [
              "<IPython.core.display.HTML object>"
            ],
            "text/html": [
              "Run data is saved locally in <code>/content/wandb/run-20230715_092045-tswseg7x</code>"
            ]
          },
          "metadata": {}
        },
        {
          "output_type": "display_data",
          "data": {
            "text/plain": [
              "<IPython.core.display.HTML object>"
            ],
            "text/html": [
              "Syncing run <strong><a href='https://wandb.ai/cs23z036/Assignment1_ReLoaded_15thJuly/runs/tswseg7x' target=\"_blank\">ethereal-sweep-6</a></strong> to <a href='https://wandb.ai/cs23z036/Assignment1_ReLoaded_15thJuly' target=\"_blank\">Weights & Biases</a> (<a href='https://wandb.me/run' target=\"_blank\">docs</a>)<br/>Sweep page: <a href='https://wandb.ai/cs23z036/Assignment1_ReLoaded_15thJuly/sweeps/az1ucc60' target=\"_blank\">https://wandb.ai/cs23z036/Assignment1_ReLoaded_15thJuly/sweeps/az1ucc60</a>"
            ]
          },
          "metadata": {}
        },
        {
          "output_type": "display_data",
          "data": {
            "text/plain": [
              "<IPython.core.display.HTML object>"
            ],
            "text/html": [
              " View project at <a href='https://wandb.ai/cs23z036/Assignment1_ReLoaded_15thJuly' target=\"_blank\">https://wandb.ai/cs23z036/Assignment1_ReLoaded_15thJuly</a>"
            ]
          },
          "metadata": {}
        },
        {
          "output_type": "display_data",
          "data": {
            "text/plain": [
              "<IPython.core.display.HTML object>"
            ],
            "text/html": [
              " View sweep at <a href='https://wandb.ai/cs23z036/Assignment1_ReLoaded_15thJuly/sweeps/az1ucc60' target=\"_blank\">https://wandb.ai/cs23z036/Assignment1_ReLoaded_15thJuly/sweeps/az1ucc60</a>"
            ]
          },
          "metadata": {}
        },
        {
          "output_type": "display_data",
          "data": {
            "text/plain": [
              "<IPython.core.display.HTML object>"
            ],
            "text/html": [
              " View run at <a href='https://wandb.ai/cs23z036/Assignment1_ReLoaded_15thJuly/runs/tswseg7x' target=\"_blank\">https://wandb.ai/cs23z036/Assignment1_ReLoaded_15thJuly/runs/tswseg7x</a>"
            ]
          },
          "metadata": {}
        },
        {
          "output_type": "display_data",
          "data": {
            "text/plain": [
              "<IPython.core.display.HTML object>"
            ],
            "text/html": [
              "Waiting for W&B process to finish... <strong style=\"color:green\">(success).</strong>"
            ]
          },
          "metadata": {}
        },
        {
          "output_type": "display_data",
          "data": {
            "text/plain": [
              "<IPython.core.display.HTML object>"
            ],
            "text/html": [
              "<style>\n",
              "    table.wandb td:nth-child(1) { padding: 0 10px; text-align: left ; width: auto;} td:nth-child(2) {text-align: left ; width: 100%}\n",
              "    .wandb-row { display: flex; flex-direction: row; flex-wrap: wrap; justify-content: flex-start; width: 100% }\n",
              "    .wandb-col { display: flex; flex-direction: column; flex-basis: 100%; flex: 1; padding: 10px; }\n",
              "    </style>\n",
              "<div class=\"wandb-row\"><div class=\"wandb-col\"><h3>Run history:</h3><br/><table class=\"wandb\"><tr><td>batch size</td><td>▁</td></tr><tr><td>epochs</td><td>▁</td></tr><tr><td>layer size</td><td>▁</td></tr><tr><td>learning rate</td><td>▁</td></tr><tr><td>no of hidden layers</td><td>▁</td></tr><tr><td>validation accuracy</td><td>▁</td></tr><tr><td>validation loss</td><td>▁</td></tr></table><br/></div><div class=\"wandb-col\"><h3>Run summary:</h3><br/><table class=\"wandb\"><tr><td>batch size</td><td>32</td></tr><tr><td>epochs</td><td>5</td></tr><tr><td>layer size</td><td>64</td></tr><tr><td>learning rate</td><td>0.005</td></tr><tr><td>no of hidden layers</td><td>2</td></tr><tr><td>optimizer</td><td>nesterov</td></tr><tr><td>validation accuracy</td><td>0.8355</td></tr><tr><td>validation loss</td><td>0.47363</td></tr></table><br/></div></div>"
            ]
          },
          "metadata": {}
        },
        {
          "output_type": "display_data",
          "data": {
            "text/plain": [
              "<IPython.core.display.HTML object>"
            ],
            "text/html": [
              " View run <strong style=\"color:#cdcd00\">ethereal-sweep-6</strong> at: <a href='https://wandb.ai/cs23z036/Assignment1_ReLoaded_15thJuly/runs/tswseg7x' target=\"_blank\">https://wandb.ai/cs23z036/Assignment1_ReLoaded_15thJuly/runs/tswseg7x</a><br/>Synced 4 W&B file(s), 0 media file(s), 0 artifact file(s) and 0 other file(s)"
            ]
          },
          "metadata": {}
        },
        {
          "output_type": "display_data",
          "data": {
            "text/plain": [
              "<IPython.core.display.HTML object>"
            ],
            "text/html": [
              "Find logs at: <code>./wandb/run-20230715_092045-tswseg7x/logs</code>"
            ]
          },
          "metadata": {}
        },
        {
          "output_type": "stream",
          "name": "stderr",
          "text": [
            "\u001b[34m\u001b[1mwandb\u001b[0m: Agent Starting Run: fjfgog5c with config:\n",
            "\u001b[34m\u001b[1mwandb\u001b[0m: \tactivation: sigmoid\n",
            "\u001b[34m\u001b[1mwandb\u001b[0m: \tbatch_size: 32\n",
            "\u001b[34m\u001b[1mwandb\u001b[0m: \tepochs: 5\n",
            "\u001b[34m\u001b[1mwandb\u001b[0m: \teta: 0.005\n",
            "\u001b[34m\u001b[1mwandb\u001b[0m: \thidden_layers: 2\n",
            "\u001b[34m\u001b[1mwandb\u001b[0m: \toptimizer: nesterov\n",
            "\u001b[34m\u001b[1mwandb\u001b[0m: \tsize: 64\n",
            "\u001b[34m\u001b[1mwandb\u001b[0m: \twt_decay: 0.05\n",
            "\u001b[34m\u001b[1mwandb\u001b[0m: \twt_init: xavier\n"
          ]
        },
        {
          "output_type": "display_data",
          "data": {
            "text/plain": [
              "<IPython.core.display.HTML object>"
            ],
            "text/html": [
              "Tracking run with wandb version 0.15.5"
            ]
          },
          "metadata": {}
        },
        {
          "output_type": "display_data",
          "data": {
            "text/plain": [
              "<IPython.core.display.HTML object>"
            ],
            "text/html": [
              "Run data is saved locally in <code>/content/wandb/run-20230715_092343-fjfgog5c</code>"
            ]
          },
          "metadata": {}
        },
        {
          "output_type": "display_data",
          "data": {
            "text/plain": [
              "<IPython.core.display.HTML object>"
            ],
            "text/html": [
              "Syncing run <strong><a href='https://wandb.ai/cs23z036/Assignment1_ReLoaded_15thJuly/runs/fjfgog5c' target=\"_blank\">zesty-sweep-7</a></strong> to <a href='https://wandb.ai/cs23z036/Assignment1_ReLoaded_15thJuly' target=\"_blank\">Weights & Biases</a> (<a href='https://wandb.me/run' target=\"_blank\">docs</a>)<br/>Sweep page: <a href='https://wandb.ai/cs23z036/Assignment1_ReLoaded_15thJuly/sweeps/az1ucc60' target=\"_blank\">https://wandb.ai/cs23z036/Assignment1_ReLoaded_15thJuly/sweeps/az1ucc60</a>"
            ]
          },
          "metadata": {}
        },
        {
          "output_type": "display_data",
          "data": {
            "text/plain": [
              "<IPython.core.display.HTML object>"
            ],
            "text/html": [
              " View project at <a href='https://wandb.ai/cs23z036/Assignment1_ReLoaded_15thJuly' target=\"_blank\">https://wandb.ai/cs23z036/Assignment1_ReLoaded_15thJuly</a>"
            ]
          },
          "metadata": {}
        },
        {
          "output_type": "display_data",
          "data": {
            "text/plain": [
              "<IPython.core.display.HTML object>"
            ],
            "text/html": [
              " View sweep at <a href='https://wandb.ai/cs23z036/Assignment1_ReLoaded_15thJuly/sweeps/az1ucc60' target=\"_blank\">https://wandb.ai/cs23z036/Assignment1_ReLoaded_15thJuly/sweeps/az1ucc60</a>"
            ]
          },
          "metadata": {}
        },
        {
          "output_type": "display_data",
          "data": {
            "text/plain": [
              "<IPython.core.display.HTML object>"
            ],
            "text/html": [
              " View run at <a href='https://wandb.ai/cs23z036/Assignment1_ReLoaded_15thJuly/runs/fjfgog5c' target=\"_blank\">https://wandb.ai/cs23z036/Assignment1_ReLoaded_15thJuly/runs/fjfgog5c</a>"
            ]
          },
          "metadata": {}
        },
        {
          "output_type": "display_data",
          "data": {
            "text/plain": [
              "<IPython.core.display.HTML object>"
            ],
            "text/html": [
              "Waiting for W&B process to finish... <strong style=\"color:green\">(success).</strong>"
            ]
          },
          "metadata": {}
        },
        {
          "output_type": "display_data",
          "data": {
            "text/plain": [
              "<IPython.core.display.HTML object>"
            ],
            "text/html": [
              "<style>\n",
              "    table.wandb td:nth-child(1) { padding: 0 10px; text-align: left ; width: auto;} td:nth-child(2) {text-align: left ; width: 100%}\n",
              "    .wandb-row { display: flex; flex-direction: row; flex-wrap: wrap; justify-content: flex-start; width: 100% }\n",
              "    .wandb-col { display: flex; flex-direction: column; flex-basis: 100%; flex: 1; padding: 10px; }\n",
              "    </style>\n",
              "<div class=\"wandb-row\"><div class=\"wandb-col\"><h3>Run history:</h3><br/><table class=\"wandb\"><tr><td>batch size</td><td>▁</td></tr><tr><td>epochs</td><td>▁</td></tr><tr><td>layer size</td><td>▁</td></tr><tr><td>learning rate</td><td>▁</td></tr><tr><td>no of hidden layers</td><td>▁</td></tr><tr><td>validation accuracy</td><td>▁</td></tr><tr><td>validation loss</td><td>▁</td></tr></table><br/></div><div class=\"wandb-col\"><h3>Run summary:</h3><br/><table class=\"wandb\"><tr><td>batch size</td><td>32</td></tr><tr><td>epochs</td><td>5</td></tr><tr><td>layer size</td><td>64</td></tr><tr><td>learning rate</td><td>0.005</td></tr><tr><td>no of hidden layers</td><td>2</td></tr><tr><td>optimizer</td><td>nesterov</td></tr><tr><td>validation accuracy</td><td>0.8491</td></tr><tr><td>validation loss</td><td>0.41838</td></tr></table><br/></div></div>"
            ]
          },
          "metadata": {}
        },
        {
          "output_type": "display_data",
          "data": {
            "text/plain": [
              "<IPython.core.display.HTML object>"
            ],
            "text/html": [
              " View run <strong style=\"color:#cdcd00\">zesty-sweep-7</strong> at: <a href='https://wandb.ai/cs23z036/Assignment1_ReLoaded_15thJuly/runs/fjfgog5c' target=\"_blank\">https://wandb.ai/cs23z036/Assignment1_ReLoaded_15thJuly/runs/fjfgog5c</a><br/>Synced 4 W&B file(s), 0 media file(s), 0 artifact file(s) and 0 other file(s)"
            ]
          },
          "metadata": {}
        },
        {
          "output_type": "display_data",
          "data": {
            "text/plain": [
              "<IPython.core.display.HTML object>"
            ],
            "text/html": [
              "Find logs at: <code>./wandb/run-20230715_092343-fjfgog5c/logs</code>"
            ]
          },
          "metadata": {}
        },
        {
          "output_type": "stream",
          "name": "stderr",
          "text": [
            "\u001b[34m\u001b[1mwandb\u001b[0m: Agent Starting Run: sspeivna with config:\n",
            "\u001b[34m\u001b[1mwandb\u001b[0m: \tactivation: sigmoid\n",
            "\u001b[34m\u001b[1mwandb\u001b[0m: \tbatch_size: 32\n",
            "\u001b[34m\u001b[1mwandb\u001b[0m: \tepochs: 5\n",
            "\u001b[34m\u001b[1mwandb\u001b[0m: \teta: 0.005\n",
            "\u001b[34m\u001b[1mwandb\u001b[0m: \thidden_layers: 2\n",
            "\u001b[34m\u001b[1mwandb\u001b[0m: \toptimizer: nesterov\n",
            "\u001b[34m\u001b[1mwandb\u001b[0m: \tsize: 64\n",
            "\u001b[34m\u001b[1mwandb\u001b[0m: \twt_decay: 0.05\n",
            "\u001b[34m\u001b[1mwandb\u001b[0m: \twt_init: random\n"
          ]
        },
        {
          "output_type": "display_data",
          "data": {
            "text/plain": [
              "<IPython.core.display.HTML object>"
            ],
            "text/html": [
              "Tracking run with wandb version 0.15.5"
            ]
          },
          "metadata": {}
        },
        {
          "output_type": "display_data",
          "data": {
            "text/plain": [
              "<IPython.core.display.HTML object>"
            ],
            "text/html": [
              "Run data is saved locally in <code>/content/wandb/run-20230715_092641-sspeivna</code>"
            ]
          },
          "metadata": {}
        },
        {
          "output_type": "display_data",
          "data": {
            "text/plain": [
              "<IPython.core.display.HTML object>"
            ],
            "text/html": [
              "Syncing run <strong><a href='https://wandb.ai/cs23z036/Assignment1_ReLoaded_15thJuly/runs/sspeivna' target=\"_blank\">dainty-sweep-8</a></strong> to <a href='https://wandb.ai/cs23z036/Assignment1_ReLoaded_15thJuly' target=\"_blank\">Weights & Biases</a> (<a href='https://wandb.me/run' target=\"_blank\">docs</a>)<br/>Sweep page: <a href='https://wandb.ai/cs23z036/Assignment1_ReLoaded_15thJuly/sweeps/az1ucc60' target=\"_blank\">https://wandb.ai/cs23z036/Assignment1_ReLoaded_15thJuly/sweeps/az1ucc60</a>"
            ]
          },
          "metadata": {}
        },
        {
          "output_type": "display_data",
          "data": {
            "text/plain": [
              "<IPython.core.display.HTML object>"
            ],
            "text/html": [
              " View project at <a href='https://wandb.ai/cs23z036/Assignment1_ReLoaded_15thJuly' target=\"_blank\">https://wandb.ai/cs23z036/Assignment1_ReLoaded_15thJuly</a>"
            ]
          },
          "metadata": {}
        },
        {
          "output_type": "display_data",
          "data": {
            "text/plain": [
              "<IPython.core.display.HTML object>"
            ],
            "text/html": [
              " View sweep at <a href='https://wandb.ai/cs23z036/Assignment1_ReLoaded_15thJuly/sweeps/az1ucc60' target=\"_blank\">https://wandb.ai/cs23z036/Assignment1_ReLoaded_15thJuly/sweeps/az1ucc60</a>"
            ]
          },
          "metadata": {}
        },
        {
          "output_type": "display_data",
          "data": {
            "text/plain": [
              "<IPython.core.display.HTML object>"
            ],
            "text/html": [
              " View run at <a href='https://wandb.ai/cs23z036/Assignment1_ReLoaded_15thJuly/runs/sspeivna' target=\"_blank\">https://wandb.ai/cs23z036/Assignment1_ReLoaded_15thJuly/runs/sspeivna</a>"
            ]
          },
          "metadata": {}
        },
        {
          "output_type": "display_data",
          "data": {
            "text/plain": [
              "<IPython.core.display.HTML object>"
            ],
            "text/html": [
              "Waiting for W&B process to finish... <strong style=\"color:green\">(success).</strong>"
            ]
          },
          "metadata": {}
        },
        {
          "output_type": "display_data",
          "data": {
            "text/plain": [
              "VBox(children=(Label(value='0.009 MB of 0.010 MB uploaded (0.000 MB deduped)\\r'), FloatProgress(value=0.918205…"
            ],
            "application/vnd.jupyter.widget-view+json": {
              "version_major": 2,
              "version_minor": 0,
              "model_id": "2ef931ea4ea6437d8be372875fc3ded2"
            }
          },
          "metadata": {}
        },
        {
          "output_type": "display_data",
          "data": {
            "text/plain": [
              "<IPython.core.display.HTML object>"
            ],
            "text/html": [
              "<style>\n",
              "    table.wandb td:nth-child(1) { padding: 0 10px; text-align: left ; width: auto;} td:nth-child(2) {text-align: left ; width: 100%}\n",
              "    .wandb-row { display: flex; flex-direction: row; flex-wrap: wrap; justify-content: flex-start; width: 100% }\n",
              "    .wandb-col { display: flex; flex-direction: column; flex-basis: 100%; flex: 1; padding: 10px; }\n",
              "    </style>\n",
              "<div class=\"wandb-row\"><div class=\"wandb-col\"><h3>Run history:</h3><br/><table class=\"wandb\"><tr><td>batch size</td><td>▁</td></tr><tr><td>epochs</td><td>▁</td></tr><tr><td>layer size</td><td>▁</td></tr><tr><td>learning rate</td><td>▁</td></tr><tr><td>no of hidden layers</td><td>▁</td></tr><tr><td>validation accuracy</td><td>▁</td></tr><tr><td>validation loss</td><td>▁</td></tr></table><br/></div><div class=\"wandb-col\"><h3>Run summary:</h3><br/><table class=\"wandb\"><tr><td>batch size</td><td>32</td></tr><tr><td>epochs</td><td>5</td></tr><tr><td>layer size</td><td>64</td></tr><tr><td>learning rate</td><td>0.005</td></tr><tr><td>no of hidden layers</td><td>2</td></tr><tr><td>optimizer</td><td>nesterov</td></tr><tr><td>validation accuracy</td><td>0.8407</td></tr><tr><td>validation loss</td><td>0.45965</td></tr></table><br/></div></div>"
            ]
          },
          "metadata": {}
        },
        {
          "output_type": "display_data",
          "data": {
            "text/plain": [
              "<IPython.core.display.HTML object>"
            ],
            "text/html": [
              " View run <strong style=\"color:#cdcd00\">dainty-sweep-8</strong> at: <a href='https://wandb.ai/cs23z036/Assignment1_ReLoaded_15thJuly/runs/sspeivna' target=\"_blank\">https://wandb.ai/cs23z036/Assignment1_ReLoaded_15thJuly/runs/sspeivna</a><br/>Synced 4 W&B file(s), 0 media file(s), 0 artifact file(s) and 0 other file(s)"
            ]
          },
          "metadata": {}
        },
        {
          "output_type": "display_data",
          "data": {
            "text/plain": [
              "<IPython.core.display.HTML object>"
            ],
            "text/html": [
              "Find logs at: <code>./wandb/run-20230715_092641-sspeivna/logs</code>"
            ]
          },
          "metadata": {}
        },
        {
          "output_type": "stream",
          "name": "stderr",
          "text": [
            "\u001b[34m\u001b[1mwandb\u001b[0m: Agent Starting Run: b2aww76n with config:\n",
            "\u001b[34m\u001b[1mwandb\u001b[0m: \tactivation: sigmoid\n",
            "\u001b[34m\u001b[1mwandb\u001b[0m: \tbatch_size: 32\n",
            "\u001b[34m\u001b[1mwandb\u001b[0m: \tepochs: 5\n",
            "\u001b[34m\u001b[1mwandb\u001b[0m: \teta: 0.005\n",
            "\u001b[34m\u001b[1mwandb\u001b[0m: \thidden_layers: 2\n",
            "\u001b[34m\u001b[1mwandb\u001b[0m: \toptimizer: rmsprop\n",
            "\u001b[34m\u001b[1mwandb\u001b[0m: \tsize: 32\n",
            "\u001b[34m\u001b[1mwandb\u001b[0m: \twt_decay: 0.005\n",
            "\u001b[34m\u001b[1mwandb\u001b[0m: \twt_init: xavier\n"
          ]
        },
        {
          "output_type": "display_data",
          "data": {
            "text/plain": [
              "<IPython.core.display.HTML object>"
            ],
            "text/html": [
              "Tracking run with wandb version 0.15.5"
            ]
          },
          "metadata": {}
        },
        {
          "output_type": "display_data",
          "data": {
            "text/plain": [
              "<IPython.core.display.HTML object>"
            ],
            "text/html": [
              "Run data is saved locally in <code>/content/wandb/run-20230715_092938-b2aww76n</code>"
            ]
          },
          "metadata": {}
        },
        {
          "output_type": "display_data",
          "data": {
            "text/plain": [
              "<IPython.core.display.HTML object>"
            ],
            "text/html": [
              "Syncing run <strong><a href='https://wandb.ai/cs23z036/Assignment1_ReLoaded_15thJuly/runs/b2aww76n' target=\"_blank\">classic-sweep-9</a></strong> to <a href='https://wandb.ai/cs23z036/Assignment1_ReLoaded_15thJuly' target=\"_blank\">Weights & Biases</a> (<a href='https://wandb.me/run' target=\"_blank\">docs</a>)<br/>Sweep page: <a href='https://wandb.ai/cs23z036/Assignment1_ReLoaded_15thJuly/sweeps/az1ucc60' target=\"_blank\">https://wandb.ai/cs23z036/Assignment1_ReLoaded_15thJuly/sweeps/az1ucc60</a>"
            ]
          },
          "metadata": {}
        },
        {
          "output_type": "display_data",
          "data": {
            "text/plain": [
              "<IPython.core.display.HTML object>"
            ],
            "text/html": [
              " View project at <a href='https://wandb.ai/cs23z036/Assignment1_ReLoaded_15thJuly' target=\"_blank\">https://wandb.ai/cs23z036/Assignment1_ReLoaded_15thJuly</a>"
            ]
          },
          "metadata": {}
        },
        {
          "output_type": "display_data",
          "data": {
            "text/plain": [
              "<IPython.core.display.HTML object>"
            ],
            "text/html": [
              " View sweep at <a href='https://wandb.ai/cs23z036/Assignment1_ReLoaded_15thJuly/sweeps/az1ucc60' target=\"_blank\">https://wandb.ai/cs23z036/Assignment1_ReLoaded_15thJuly/sweeps/az1ucc60</a>"
            ]
          },
          "metadata": {}
        },
        {
          "output_type": "display_data",
          "data": {
            "text/plain": [
              "<IPython.core.display.HTML object>"
            ],
            "text/html": [
              " View run at <a href='https://wandb.ai/cs23z036/Assignment1_ReLoaded_15thJuly/runs/b2aww76n' target=\"_blank\">https://wandb.ai/cs23z036/Assignment1_ReLoaded_15thJuly/runs/b2aww76n</a>"
            ]
          },
          "metadata": {}
        },
        {
          "output_type": "display_data",
          "data": {
            "text/plain": [
              "<IPython.core.display.HTML object>"
            ],
            "text/html": [
              "Waiting for W&B process to finish... <strong style=\"color:green\">(success).</strong>"
            ]
          },
          "metadata": {}
        },
        {
          "output_type": "display_data",
          "data": {
            "text/plain": [
              "<IPython.core.display.HTML object>"
            ],
            "text/html": [
              "<style>\n",
              "    table.wandb td:nth-child(1) { padding: 0 10px; text-align: left ; width: auto;} td:nth-child(2) {text-align: left ; width: 100%}\n",
              "    .wandb-row { display: flex; flex-direction: row; flex-wrap: wrap; justify-content: flex-start; width: 100% }\n",
              "    .wandb-col { display: flex; flex-direction: column; flex-basis: 100%; flex: 1; padding: 10px; }\n",
              "    </style>\n",
              "<div class=\"wandb-row\"><div class=\"wandb-col\"><h3>Run history:</h3><br/><table class=\"wandb\"><tr><td>batch size</td><td>▁</td></tr><tr><td>epochs</td><td>▁</td></tr><tr><td>layer size</td><td>▁</td></tr><tr><td>learning rate</td><td>▁</td></tr><tr><td>no of hidden layers</td><td>▁</td></tr><tr><td>validation accuracy</td><td>▁</td></tr><tr><td>validation loss</td><td>▁</td></tr></table><br/></div><div class=\"wandb-col\"><h3>Run summary:</h3><br/><table class=\"wandb\"><tr><td>batch size</td><td>32</td></tr><tr><td>epochs</td><td>5</td></tr><tr><td>layer size</td><td>32</td></tr><tr><td>learning rate</td><td>0.005</td></tr><tr><td>no of hidden layers</td><td>2</td></tr><tr><td>optimizer</td><td>rmsprop</td></tr><tr><td>validation accuracy</td><td>0.8523</td></tr><tr><td>validation loss</td><td>0.40906</td></tr></table><br/></div></div>"
            ]
          },
          "metadata": {}
        },
        {
          "output_type": "display_data",
          "data": {
            "text/plain": [
              "<IPython.core.display.HTML object>"
            ],
            "text/html": [
              " View run <strong style=\"color:#cdcd00\">classic-sweep-9</strong> at: <a href='https://wandb.ai/cs23z036/Assignment1_ReLoaded_15thJuly/runs/b2aww76n' target=\"_blank\">https://wandb.ai/cs23z036/Assignment1_ReLoaded_15thJuly/runs/b2aww76n</a><br/>Synced 4 W&B file(s), 0 media file(s), 0 artifact file(s) and 0 other file(s)"
            ]
          },
          "metadata": {}
        },
        {
          "output_type": "display_data",
          "data": {
            "text/plain": [
              "<IPython.core.display.HTML object>"
            ],
            "text/html": [
              "Find logs at: <code>./wandb/run-20230715_092938-b2aww76n/logs</code>"
            ]
          },
          "metadata": {}
        },
        {
          "output_type": "stream",
          "name": "stderr",
          "text": [
            "\u001b[34m\u001b[1mwandb\u001b[0m: Agent Starting Run: 71kwupqm with config:\n",
            "\u001b[34m\u001b[1mwandb\u001b[0m: \tactivation: sigmoid\n",
            "\u001b[34m\u001b[1mwandb\u001b[0m: \tbatch_size: 32\n",
            "\u001b[34m\u001b[1mwandb\u001b[0m: \tepochs: 5\n",
            "\u001b[34m\u001b[1mwandb\u001b[0m: \teta: 0.005\n",
            "\u001b[34m\u001b[1mwandb\u001b[0m: \thidden_layers: 2\n",
            "\u001b[34m\u001b[1mwandb\u001b[0m: \toptimizer: rmsprop\n",
            "\u001b[34m\u001b[1mwandb\u001b[0m: \tsize: 32\n",
            "\u001b[34m\u001b[1mwandb\u001b[0m: \twt_decay: 0.005\n",
            "\u001b[34m\u001b[1mwandb\u001b[0m: \twt_init: random\n"
          ]
        },
        {
          "output_type": "display_data",
          "data": {
            "text/plain": [
              "<IPython.core.display.HTML object>"
            ],
            "text/html": [
              "Tracking run with wandb version 0.15.5"
            ]
          },
          "metadata": {}
        },
        {
          "output_type": "display_data",
          "data": {
            "text/plain": [
              "<IPython.core.display.HTML object>"
            ],
            "text/html": [
              "Run data is saved locally in <code>/content/wandb/run-20230715_093136-71kwupqm</code>"
            ]
          },
          "metadata": {}
        },
        {
          "output_type": "display_data",
          "data": {
            "text/plain": [
              "<IPython.core.display.HTML object>"
            ],
            "text/html": [
              "Syncing run <strong><a href='https://wandb.ai/cs23z036/Assignment1_ReLoaded_15thJuly/runs/71kwupqm' target=\"_blank\">volcanic-sweep-10</a></strong> to <a href='https://wandb.ai/cs23z036/Assignment1_ReLoaded_15thJuly' target=\"_blank\">Weights & Biases</a> (<a href='https://wandb.me/run' target=\"_blank\">docs</a>)<br/>Sweep page: <a href='https://wandb.ai/cs23z036/Assignment1_ReLoaded_15thJuly/sweeps/az1ucc60' target=\"_blank\">https://wandb.ai/cs23z036/Assignment1_ReLoaded_15thJuly/sweeps/az1ucc60</a>"
            ]
          },
          "metadata": {}
        },
        {
          "output_type": "display_data",
          "data": {
            "text/plain": [
              "<IPython.core.display.HTML object>"
            ],
            "text/html": [
              " View project at <a href='https://wandb.ai/cs23z036/Assignment1_ReLoaded_15thJuly' target=\"_blank\">https://wandb.ai/cs23z036/Assignment1_ReLoaded_15thJuly</a>"
            ]
          },
          "metadata": {}
        },
        {
          "output_type": "display_data",
          "data": {
            "text/plain": [
              "<IPython.core.display.HTML object>"
            ],
            "text/html": [
              " View sweep at <a href='https://wandb.ai/cs23z036/Assignment1_ReLoaded_15thJuly/sweeps/az1ucc60' target=\"_blank\">https://wandb.ai/cs23z036/Assignment1_ReLoaded_15thJuly/sweeps/az1ucc60</a>"
            ]
          },
          "metadata": {}
        },
        {
          "output_type": "display_data",
          "data": {
            "text/plain": [
              "<IPython.core.display.HTML object>"
            ],
            "text/html": [
              " View run at <a href='https://wandb.ai/cs23z036/Assignment1_ReLoaded_15thJuly/runs/71kwupqm' target=\"_blank\">https://wandb.ai/cs23z036/Assignment1_ReLoaded_15thJuly/runs/71kwupqm</a>"
            ]
          },
          "metadata": {}
        },
        {
          "output_type": "display_data",
          "data": {
            "text/plain": [
              "<IPython.core.display.HTML object>"
            ],
            "text/html": [
              "Waiting for W&B process to finish... <strong style=\"color:green\">(success).</strong>"
            ]
          },
          "metadata": {}
        },
        {
          "output_type": "display_data",
          "data": {
            "text/plain": [
              "<IPython.core.display.HTML object>"
            ],
            "text/html": [
              "<style>\n",
              "    table.wandb td:nth-child(1) { padding: 0 10px; text-align: left ; width: auto;} td:nth-child(2) {text-align: left ; width: 100%}\n",
              "    .wandb-row { display: flex; flex-direction: row; flex-wrap: wrap; justify-content: flex-start; width: 100% }\n",
              "    .wandb-col { display: flex; flex-direction: column; flex-basis: 100%; flex: 1; padding: 10px; }\n",
              "    </style>\n",
              "<div class=\"wandb-row\"><div class=\"wandb-col\"><h3>Run history:</h3><br/><table class=\"wandb\"><tr><td>batch size</td><td>▁</td></tr><tr><td>epochs</td><td>▁</td></tr><tr><td>layer size</td><td>▁</td></tr><tr><td>learning rate</td><td>▁</td></tr><tr><td>no of hidden layers</td><td>▁</td></tr><tr><td>validation accuracy</td><td>▁</td></tr><tr><td>validation loss</td><td>▁</td></tr></table><br/></div><div class=\"wandb-col\"><h3>Run summary:</h3><br/><table class=\"wandb\"><tr><td>batch size</td><td>32</td></tr><tr><td>epochs</td><td>5</td></tr><tr><td>layer size</td><td>32</td></tr><tr><td>learning rate</td><td>0.005</td></tr><tr><td>no of hidden layers</td><td>2</td></tr><tr><td>optimizer</td><td>rmsprop</td></tr><tr><td>validation accuracy</td><td>0.8437</td></tr><tr><td>validation loss</td><td>0.43627</td></tr></table><br/></div></div>"
            ]
          },
          "metadata": {}
        },
        {
          "output_type": "display_data",
          "data": {
            "text/plain": [
              "<IPython.core.display.HTML object>"
            ],
            "text/html": [
              " View run <strong style=\"color:#cdcd00\">volcanic-sweep-10</strong> at: <a href='https://wandb.ai/cs23z036/Assignment1_ReLoaded_15thJuly/runs/71kwupqm' target=\"_blank\">https://wandb.ai/cs23z036/Assignment1_ReLoaded_15thJuly/runs/71kwupqm</a><br/>Synced 4 W&B file(s), 0 media file(s), 0 artifact file(s) and 0 other file(s)"
            ]
          },
          "metadata": {}
        },
        {
          "output_type": "display_data",
          "data": {
            "text/plain": [
              "<IPython.core.display.HTML object>"
            ],
            "text/html": [
              "Find logs at: <code>./wandb/run-20230715_093136-71kwupqm/logs</code>"
            ]
          },
          "metadata": {}
        },
        {
          "output_type": "stream",
          "name": "stderr",
          "text": [
            "\u001b[34m\u001b[1mwandb\u001b[0m: Agent Starting Run: 1zoauc60 with config:\n",
            "\u001b[34m\u001b[1mwandb\u001b[0m: \tactivation: sigmoid\n",
            "\u001b[34m\u001b[1mwandb\u001b[0m: \tbatch_size: 32\n",
            "\u001b[34m\u001b[1mwandb\u001b[0m: \tepochs: 5\n",
            "\u001b[34m\u001b[1mwandb\u001b[0m: \teta: 0.005\n",
            "\u001b[34m\u001b[1mwandb\u001b[0m: \thidden_layers: 2\n",
            "\u001b[34m\u001b[1mwandb\u001b[0m: \toptimizer: rmsprop\n",
            "\u001b[34m\u001b[1mwandb\u001b[0m: \tsize: 32\n",
            "\u001b[34m\u001b[1mwandb\u001b[0m: \twt_decay: 0.05\n",
            "\u001b[34m\u001b[1mwandb\u001b[0m: \twt_init: xavier\n"
          ]
        },
        {
          "output_type": "display_data",
          "data": {
            "text/plain": [
              "<IPython.core.display.HTML object>"
            ],
            "text/html": [
              "Tracking run with wandb version 0.15.5"
            ]
          },
          "metadata": {}
        },
        {
          "output_type": "display_data",
          "data": {
            "text/plain": [
              "<IPython.core.display.HTML object>"
            ],
            "text/html": [
              "Run data is saved locally in <code>/content/wandb/run-20230715_093331-1zoauc60</code>"
            ]
          },
          "metadata": {}
        },
        {
          "output_type": "display_data",
          "data": {
            "text/plain": [
              "<IPython.core.display.HTML object>"
            ],
            "text/html": [
              "Syncing run <strong><a href='https://wandb.ai/cs23z036/Assignment1_ReLoaded_15thJuly/runs/1zoauc60' target=\"_blank\">robust-sweep-11</a></strong> to <a href='https://wandb.ai/cs23z036/Assignment1_ReLoaded_15thJuly' target=\"_blank\">Weights & Biases</a> (<a href='https://wandb.me/run' target=\"_blank\">docs</a>)<br/>Sweep page: <a href='https://wandb.ai/cs23z036/Assignment1_ReLoaded_15thJuly/sweeps/az1ucc60' target=\"_blank\">https://wandb.ai/cs23z036/Assignment1_ReLoaded_15thJuly/sweeps/az1ucc60</a>"
            ]
          },
          "metadata": {}
        },
        {
          "output_type": "display_data",
          "data": {
            "text/plain": [
              "<IPython.core.display.HTML object>"
            ],
            "text/html": [
              " View project at <a href='https://wandb.ai/cs23z036/Assignment1_ReLoaded_15thJuly' target=\"_blank\">https://wandb.ai/cs23z036/Assignment1_ReLoaded_15thJuly</a>"
            ]
          },
          "metadata": {}
        },
        {
          "output_type": "display_data",
          "data": {
            "text/plain": [
              "<IPython.core.display.HTML object>"
            ],
            "text/html": [
              " View sweep at <a href='https://wandb.ai/cs23z036/Assignment1_ReLoaded_15thJuly/sweeps/az1ucc60' target=\"_blank\">https://wandb.ai/cs23z036/Assignment1_ReLoaded_15thJuly/sweeps/az1ucc60</a>"
            ]
          },
          "metadata": {}
        },
        {
          "output_type": "display_data",
          "data": {
            "text/plain": [
              "<IPython.core.display.HTML object>"
            ],
            "text/html": [
              " View run at <a href='https://wandb.ai/cs23z036/Assignment1_ReLoaded_15thJuly/runs/1zoauc60' target=\"_blank\">https://wandb.ai/cs23z036/Assignment1_ReLoaded_15thJuly/runs/1zoauc60</a>"
            ]
          },
          "metadata": {}
        },
        {
          "output_type": "display_data",
          "data": {
            "text/plain": [
              "<IPython.core.display.HTML object>"
            ],
            "text/html": [
              "Waiting for W&B process to finish... <strong style=\"color:green\">(success).</strong>"
            ]
          },
          "metadata": {}
        },
        {
          "output_type": "display_data",
          "data": {
            "text/plain": [
              "<IPython.core.display.HTML object>"
            ],
            "text/html": [
              "<style>\n",
              "    table.wandb td:nth-child(1) { padding: 0 10px; text-align: left ; width: auto;} td:nth-child(2) {text-align: left ; width: 100%}\n",
              "    .wandb-row { display: flex; flex-direction: row; flex-wrap: wrap; justify-content: flex-start; width: 100% }\n",
              "    .wandb-col { display: flex; flex-direction: column; flex-basis: 100%; flex: 1; padding: 10px; }\n",
              "    </style>\n",
              "<div class=\"wandb-row\"><div class=\"wandb-col\"><h3>Run history:</h3><br/><table class=\"wandb\"><tr><td>batch size</td><td>▁</td></tr><tr><td>epochs</td><td>▁</td></tr><tr><td>layer size</td><td>▁</td></tr><tr><td>learning rate</td><td>▁</td></tr><tr><td>no of hidden layers</td><td>▁</td></tr><tr><td>validation accuracy</td><td>▁</td></tr><tr><td>validation loss</td><td>▁</td></tr></table><br/></div><div class=\"wandb-col\"><h3>Run summary:</h3><br/><table class=\"wandb\"><tr><td>batch size</td><td>32</td></tr><tr><td>epochs</td><td>5</td></tr><tr><td>layer size</td><td>32</td></tr><tr><td>learning rate</td><td>0.005</td></tr><tr><td>no of hidden layers</td><td>2</td></tr><tr><td>optimizer</td><td>rmsprop</td></tr><tr><td>validation accuracy</td><td>0.8601</td></tr><tr><td>validation loss</td><td>0.38576</td></tr></table><br/></div></div>"
            ]
          },
          "metadata": {}
        },
        {
          "output_type": "display_data",
          "data": {
            "text/plain": [
              "<IPython.core.display.HTML object>"
            ],
            "text/html": [
              " View run <strong style=\"color:#cdcd00\">robust-sweep-11</strong> at: <a href='https://wandb.ai/cs23z036/Assignment1_ReLoaded_15thJuly/runs/1zoauc60' target=\"_blank\">https://wandb.ai/cs23z036/Assignment1_ReLoaded_15thJuly/runs/1zoauc60</a><br/>Synced 4 W&B file(s), 0 media file(s), 0 artifact file(s) and 0 other file(s)"
            ]
          },
          "metadata": {}
        },
        {
          "output_type": "display_data",
          "data": {
            "text/plain": [
              "<IPython.core.display.HTML object>"
            ],
            "text/html": [
              "Find logs at: <code>./wandb/run-20230715_093331-1zoauc60/logs</code>"
            ]
          },
          "metadata": {}
        },
        {
          "output_type": "stream",
          "name": "stderr",
          "text": [
            "\u001b[34m\u001b[1mwandb\u001b[0m: Agent Starting Run: dcyqtzpv with config:\n",
            "\u001b[34m\u001b[1mwandb\u001b[0m: \tactivation: sigmoid\n",
            "\u001b[34m\u001b[1mwandb\u001b[0m: \tbatch_size: 32\n",
            "\u001b[34m\u001b[1mwandb\u001b[0m: \tepochs: 5\n",
            "\u001b[34m\u001b[1mwandb\u001b[0m: \teta: 0.005\n",
            "\u001b[34m\u001b[1mwandb\u001b[0m: \thidden_layers: 2\n",
            "\u001b[34m\u001b[1mwandb\u001b[0m: \toptimizer: rmsprop\n",
            "\u001b[34m\u001b[1mwandb\u001b[0m: \tsize: 32\n",
            "\u001b[34m\u001b[1mwandb\u001b[0m: \twt_decay: 0.05\n",
            "\u001b[34m\u001b[1mwandb\u001b[0m: \twt_init: random\n"
          ]
        },
        {
          "output_type": "display_data",
          "data": {
            "text/plain": [
              "<IPython.core.display.HTML object>"
            ],
            "text/html": [
              "Tracking run with wandb version 0.15.5"
            ]
          },
          "metadata": {}
        },
        {
          "output_type": "display_data",
          "data": {
            "text/plain": [
              "<IPython.core.display.HTML object>"
            ],
            "text/html": [
              "Run data is saved locally in <code>/content/wandb/run-20230715_093524-dcyqtzpv</code>"
            ]
          },
          "metadata": {}
        },
        {
          "output_type": "display_data",
          "data": {
            "text/plain": [
              "<IPython.core.display.HTML object>"
            ],
            "text/html": [
              "Syncing run <strong><a href='https://wandb.ai/cs23z036/Assignment1_ReLoaded_15thJuly/runs/dcyqtzpv' target=\"_blank\">jumping-sweep-12</a></strong> to <a href='https://wandb.ai/cs23z036/Assignment1_ReLoaded_15thJuly' target=\"_blank\">Weights & Biases</a> (<a href='https://wandb.me/run' target=\"_blank\">docs</a>)<br/>Sweep page: <a href='https://wandb.ai/cs23z036/Assignment1_ReLoaded_15thJuly/sweeps/az1ucc60' target=\"_blank\">https://wandb.ai/cs23z036/Assignment1_ReLoaded_15thJuly/sweeps/az1ucc60</a>"
            ]
          },
          "metadata": {}
        },
        {
          "output_type": "display_data",
          "data": {
            "text/plain": [
              "<IPython.core.display.HTML object>"
            ],
            "text/html": [
              " View project at <a href='https://wandb.ai/cs23z036/Assignment1_ReLoaded_15thJuly' target=\"_blank\">https://wandb.ai/cs23z036/Assignment1_ReLoaded_15thJuly</a>"
            ]
          },
          "metadata": {}
        },
        {
          "output_type": "display_data",
          "data": {
            "text/plain": [
              "<IPython.core.display.HTML object>"
            ],
            "text/html": [
              " View sweep at <a href='https://wandb.ai/cs23z036/Assignment1_ReLoaded_15thJuly/sweeps/az1ucc60' target=\"_blank\">https://wandb.ai/cs23z036/Assignment1_ReLoaded_15thJuly/sweeps/az1ucc60</a>"
            ]
          },
          "metadata": {}
        },
        {
          "output_type": "display_data",
          "data": {
            "text/plain": [
              "<IPython.core.display.HTML object>"
            ],
            "text/html": [
              " View run at <a href='https://wandb.ai/cs23z036/Assignment1_ReLoaded_15thJuly/runs/dcyqtzpv' target=\"_blank\">https://wandb.ai/cs23z036/Assignment1_ReLoaded_15thJuly/runs/dcyqtzpv</a>"
            ]
          },
          "metadata": {}
        },
        {
          "output_type": "display_data",
          "data": {
            "text/plain": [
              "<IPython.core.display.HTML object>"
            ],
            "text/html": [
              "Waiting for W&B process to finish... <strong style=\"color:green\">(success).</strong>"
            ]
          },
          "metadata": {}
        },
        {
          "output_type": "display_data",
          "data": {
            "text/plain": [
              "<IPython.core.display.HTML object>"
            ],
            "text/html": [
              "<style>\n",
              "    table.wandb td:nth-child(1) { padding: 0 10px; text-align: left ; width: auto;} td:nth-child(2) {text-align: left ; width: 100%}\n",
              "    .wandb-row { display: flex; flex-direction: row; flex-wrap: wrap; justify-content: flex-start; width: 100% }\n",
              "    .wandb-col { display: flex; flex-direction: column; flex-basis: 100%; flex: 1; padding: 10px; }\n",
              "    </style>\n",
              "<div class=\"wandb-row\"><div class=\"wandb-col\"><h3>Run history:</h3><br/><table class=\"wandb\"><tr><td>batch size</td><td>▁</td></tr><tr><td>epochs</td><td>▁</td></tr><tr><td>layer size</td><td>▁</td></tr><tr><td>learning rate</td><td>▁</td></tr><tr><td>no of hidden layers</td><td>▁</td></tr><tr><td>validation accuracy</td><td>▁</td></tr><tr><td>validation loss</td><td>▁</td></tr></table><br/></div><div class=\"wandb-col\"><h3>Run summary:</h3><br/><table class=\"wandb\"><tr><td>batch size</td><td>32</td></tr><tr><td>epochs</td><td>5</td></tr><tr><td>layer size</td><td>32</td></tr><tr><td>learning rate</td><td>0.005</td></tr><tr><td>no of hidden layers</td><td>2</td></tr><tr><td>optimizer</td><td>rmsprop</td></tr><tr><td>validation accuracy</td><td>0.8498</td></tr><tr><td>validation loss</td><td>0.42122</td></tr></table><br/></div></div>"
            ]
          },
          "metadata": {}
        },
        {
          "output_type": "display_data",
          "data": {
            "text/plain": [
              "<IPython.core.display.HTML object>"
            ],
            "text/html": [
              " View run <strong style=\"color:#cdcd00\">jumping-sweep-12</strong> at: <a href='https://wandb.ai/cs23z036/Assignment1_ReLoaded_15thJuly/runs/dcyqtzpv' target=\"_blank\">https://wandb.ai/cs23z036/Assignment1_ReLoaded_15thJuly/runs/dcyqtzpv</a><br/>Synced 4 W&B file(s), 0 media file(s), 0 artifact file(s) and 0 other file(s)"
            ]
          },
          "metadata": {}
        },
        {
          "output_type": "display_data",
          "data": {
            "text/plain": [
              "<IPython.core.display.HTML object>"
            ],
            "text/html": [
              "Find logs at: <code>./wandb/run-20230715_093524-dcyqtzpv/logs</code>"
            ]
          },
          "metadata": {}
        },
        {
          "output_type": "stream",
          "name": "stderr",
          "text": [
            "\u001b[34m\u001b[1mwandb\u001b[0m: Agent Starting Run: vczwrbwk with config:\n",
            "\u001b[34m\u001b[1mwandb\u001b[0m: \tactivation: sigmoid\n",
            "\u001b[34m\u001b[1mwandb\u001b[0m: \tbatch_size: 32\n",
            "\u001b[34m\u001b[1mwandb\u001b[0m: \tepochs: 5\n",
            "\u001b[34m\u001b[1mwandb\u001b[0m: \teta: 0.005\n",
            "\u001b[34m\u001b[1mwandb\u001b[0m: \thidden_layers: 2\n",
            "\u001b[34m\u001b[1mwandb\u001b[0m: \toptimizer: rmsprop\n",
            "\u001b[34m\u001b[1mwandb\u001b[0m: \tsize: 64\n",
            "\u001b[34m\u001b[1mwandb\u001b[0m: \twt_decay: 0.005\n",
            "\u001b[34m\u001b[1mwandb\u001b[0m: \twt_init: xavier\n"
          ]
        },
        {
          "output_type": "display_data",
          "data": {
            "text/plain": [
              "<IPython.core.display.HTML object>"
            ],
            "text/html": [
              "Tracking run with wandb version 0.15.5"
            ]
          },
          "metadata": {}
        },
        {
          "output_type": "display_data",
          "data": {
            "text/plain": [
              "<IPython.core.display.HTML object>"
            ],
            "text/html": [
              "Run data is saved locally in <code>/content/wandb/run-20230715_093720-vczwrbwk</code>"
            ]
          },
          "metadata": {}
        },
        {
          "output_type": "display_data",
          "data": {
            "text/plain": [
              "<IPython.core.display.HTML object>"
            ],
            "text/html": [
              "Syncing run <strong><a href='https://wandb.ai/cs23z036/Assignment1_ReLoaded_15thJuly/runs/vczwrbwk' target=\"_blank\">crisp-sweep-13</a></strong> to <a href='https://wandb.ai/cs23z036/Assignment1_ReLoaded_15thJuly' target=\"_blank\">Weights & Biases</a> (<a href='https://wandb.me/run' target=\"_blank\">docs</a>)<br/>Sweep page: <a href='https://wandb.ai/cs23z036/Assignment1_ReLoaded_15thJuly/sweeps/az1ucc60' target=\"_blank\">https://wandb.ai/cs23z036/Assignment1_ReLoaded_15thJuly/sweeps/az1ucc60</a>"
            ]
          },
          "metadata": {}
        },
        {
          "output_type": "display_data",
          "data": {
            "text/plain": [
              "<IPython.core.display.HTML object>"
            ],
            "text/html": [
              " View project at <a href='https://wandb.ai/cs23z036/Assignment1_ReLoaded_15thJuly' target=\"_blank\">https://wandb.ai/cs23z036/Assignment1_ReLoaded_15thJuly</a>"
            ]
          },
          "metadata": {}
        },
        {
          "output_type": "display_data",
          "data": {
            "text/plain": [
              "<IPython.core.display.HTML object>"
            ],
            "text/html": [
              " View sweep at <a href='https://wandb.ai/cs23z036/Assignment1_ReLoaded_15thJuly/sweeps/az1ucc60' target=\"_blank\">https://wandb.ai/cs23z036/Assignment1_ReLoaded_15thJuly/sweeps/az1ucc60</a>"
            ]
          },
          "metadata": {}
        },
        {
          "output_type": "display_data",
          "data": {
            "text/plain": [
              "<IPython.core.display.HTML object>"
            ],
            "text/html": [
              " View run at <a href='https://wandb.ai/cs23z036/Assignment1_ReLoaded_15thJuly/runs/vczwrbwk' target=\"_blank\">https://wandb.ai/cs23z036/Assignment1_ReLoaded_15thJuly/runs/vczwrbwk</a>"
            ]
          },
          "metadata": {}
        },
        {
          "output_type": "display_data",
          "data": {
            "text/plain": [
              "<IPython.core.display.HTML object>"
            ],
            "text/html": [
              "Waiting for W&B process to finish... <strong style=\"color:green\">(success).</strong>"
            ]
          },
          "metadata": {}
        },
        {
          "output_type": "display_data",
          "data": {
            "text/plain": [
              "<IPython.core.display.HTML object>"
            ],
            "text/html": [
              "<style>\n",
              "    table.wandb td:nth-child(1) { padding: 0 10px; text-align: left ; width: auto;} td:nth-child(2) {text-align: left ; width: 100%}\n",
              "    .wandb-row { display: flex; flex-direction: row; flex-wrap: wrap; justify-content: flex-start; width: 100% }\n",
              "    .wandb-col { display: flex; flex-direction: column; flex-basis: 100%; flex: 1; padding: 10px; }\n",
              "    </style>\n",
              "<div class=\"wandb-row\"><div class=\"wandb-col\"><h3>Run history:</h3><br/><table class=\"wandb\"><tr><td>batch size</td><td>▁</td></tr><tr><td>epochs</td><td>▁</td></tr><tr><td>layer size</td><td>▁</td></tr><tr><td>learning rate</td><td>▁</td></tr><tr><td>no of hidden layers</td><td>▁</td></tr><tr><td>validation accuracy</td><td>▁</td></tr><tr><td>validation loss</td><td>▁</td></tr></table><br/></div><div class=\"wandb-col\"><h3>Run summary:</h3><br/><table class=\"wandb\"><tr><td>batch size</td><td>32</td></tr><tr><td>epochs</td><td>5</td></tr><tr><td>layer size</td><td>64</td></tr><tr><td>learning rate</td><td>0.005</td></tr><tr><td>no of hidden layers</td><td>2</td></tr><tr><td>optimizer</td><td>rmsprop</td></tr><tr><td>validation accuracy</td><td>0.8611</td></tr><tr><td>validation loss</td><td>0.3827</td></tr></table><br/></div></div>"
            ]
          },
          "metadata": {}
        },
        {
          "output_type": "display_data",
          "data": {
            "text/plain": [
              "<IPython.core.display.HTML object>"
            ],
            "text/html": [
              " View run <strong style=\"color:#cdcd00\">crisp-sweep-13</strong> at: <a href='https://wandb.ai/cs23z036/Assignment1_ReLoaded_15thJuly/runs/vczwrbwk' target=\"_blank\">https://wandb.ai/cs23z036/Assignment1_ReLoaded_15thJuly/runs/vczwrbwk</a><br/>Synced 4 W&B file(s), 0 media file(s), 0 artifact file(s) and 0 other file(s)"
            ]
          },
          "metadata": {}
        },
        {
          "output_type": "display_data",
          "data": {
            "text/plain": [
              "<IPython.core.display.HTML object>"
            ],
            "text/html": [
              "Find logs at: <code>./wandb/run-20230715_093720-vczwrbwk/logs</code>"
            ]
          },
          "metadata": {}
        },
        {
          "output_type": "stream",
          "name": "stderr",
          "text": [
            "\u001b[34m\u001b[1mwandb\u001b[0m: Agent Starting Run: py4kichm with config:\n",
            "\u001b[34m\u001b[1mwandb\u001b[0m: \tactivation: sigmoid\n",
            "\u001b[34m\u001b[1mwandb\u001b[0m: \tbatch_size: 32\n",
            "\u001b[34m\u001b[1mwandb\u001b[0m: \tepochs: 5\n",
            "\u001b[34m\u001b[1mwandb\u001b[0m: \teta: 0.005\n",
            "\u001b[34m\u001b[1mwandb\u001b[0m: \thidden_layers: 2\n",
            "\u001b[34m\u001b[1mwandb\u001b[0m: \toptimizer: rmsprop\n",
            "\u001b[34m\u001b[1mwandb\u001b[0m: \tsize: 64\n",
            "\u001b[34m\u001b[1mwandb\u001b[0m: \twt_decay: 0.005\n",
            "\u001b[34m\u001b[1mwandb\u001b[0m: \twt_init: random\n"
          ]
        },
        {
          "output_type": "display_data",
          "data": {
            "text/plain": [
              "<IPython.core.display.HTML object>"
            ],
            "text/html": [
              "Tracking run with wandb version 0.15.5"
            ]
          },
          "metadata": {}
        },
        {
          "output_type": "display_data",
          "data": {
            "text/plain": [
              "<IPython.core.display.HTML object>"
            ],
            "text/html": [
              "Run data is saved locally in <code>/content/wandb/run-20230715_093954-py4kichm</code>"
            ]
          },
          "metadata": {}
        },
        {
          "output_type": "display_data",
          "data": {
            "text/plain": [
              "<IPython.core.display.HTML object>"
            ],
            "text/html": [
              "Syncing run <strong><a href='https://wandb.ai/cs23z036/Assignment1_ReLoaded_15thJuly/runs/py4kichm' target=\"_blank\">balmy-sweep-14</a></strong> to <a href='https://wandb.ai/cs23z036/Assignment1_ReLoaded_15thJuly' target=\"_blank\">Weights & Biases</a> (<a href='https://wandb.me/run' target=\"_blank\">docs</a>)<br/>Sweep page: <a href='https://wandb.ai/cs23z036/Assignment1_ReLoaded_15thJuly/sweeps/az1ucc60' target=\"_blank\">https://wandb.ai/cs23z036/Assignment1_ReLoaded_15thJuly/sweeps/az1ucc60</a>"
            ]
          },
          "metadata": {}
        },
        {
          "output_type": "display_data",
          "data": {
            "text/plain": [
              "<IPython.core.display.HTML object>"
            ],
            "text/html": [
              " View project at <a href='https://wandb.ai/cs23z036/Assignment1_ReLoaded_15thJuly' target=\"_blank\">https://wandb.ai/cs23z036/Assignment1_ReLoaded_15thJuly</a>"
            ]
          },
          "metadata": {}
        },
        {
          "output_type": "display_data",
          "data": {
            "text/plain": [
              "<IPython.core.display.HTML object>"
            ],
            "text/html": [
              " View sweep at <a href='https://wandb.ai/cs23z036/Assignment1_ReLoaded_15thJuly/sweeps/az1ucc60' target=\"_blank\">https://wandb.ai/cs23z036/Assignment1_ReLoaded_15thJuly/sweeps/az1ucc60</a>"
            ]
          },
          "metadata": {}
        },
        {
          "output_type": "display_data",
          "data": {
            "text/plain": [
              "<IPython.core.display.HTML object>"
            ],
            "text/html": [
              " View run at <a href='https://wandb.ai/cs23z036/Assignment1_ReLoaded_15thJuly/runs/py4kichm' target=\"_blank\">https://wandb.ai/cs23z036/Assignment1_ReLoaded_15thJuly/runs/py4kichm</a>"
            ]
          },
          "metadata": {}
        },
        {
          "output_type": "display_data",
          "data": {
            "text/plain": [
              "<IPython.core.display.HTML object>"
            ],
            "text/html": [
              "Waiting for W&B process to finish... <strong style=\"color:green\">(success).</strong>"
            ]
          },
          "metadata": {}
        },
        {
          "output_type": "display_data",
          "data": {
            "text/plain": [
              "<IPython.core.display.HTML object>"
            ],
            "text/html": [
              "<style>\n",
              "    table.wandb td:nth-child(1) { padding: 0 10px; text-align: left ; width: auto;} td:nth-child(2) {text-align: left ; width: 100%}\n",
              "    .wandb-row { display: flex; flex-direction: row; flex-wrap: wrap; justify-content: flex-start; width: 100% }\n",
              "    .wandb-col { display: flex; flex-direction: column; flex-basis: 100%; flex: 1; padding: 10px; }\n",
              "    </style>\n",
              "<div class=\"wandb-row\"><div class=\"wandb-col\"><h3>Run history:</h3><br/><table class=\"wandb\"><tr><td>batch size</td><td>▁</td></tr><tr><td>epochs</td><td>▁</td></tr><tr><td>layer size</td><td>▁</td></tr><tr><td>learning rate</td><td>▁</td></tr><tr><td>no of hidden layers</td><td>▁</td></tr><tr><td>validation accuracy</td><td>▁</td></tr><tr><td>validation loss</td><td>▁</td></tr></table><br/></div><div class=\"wandb-col\"><h3>Run summary:</h3><br/><table class=\"wandb\"><tr><td>batch size</td><td>32</td></tr><tr><td>epochs</td><td>5</td></tr><tr><td>layer size</td><td>64</td></tr><tr><td>learning rate</td><td>0.005</td></tr><tr><td>no of hidden layers</td><td>2</td></tr><tr><td>optimizer</td><td>rmsprop</td></tr><tr><td>validation accuracy</td><td>0.8517</td></tr><tr><td>validation loss</td><td>0.41951</td></tr></table><br/></div></div>"
            ]
          },
          "metadata": {}
        },
        {
          "output_type": "display_data",
          "data": {
            "text/plain": [
              "<IPython.core.display.HTML object>"
            ],
            "text/html": [
              " View run <strong style=\"color:#cdcd00\">balmy-sweep-14</strong> at: <a href='https://wandb.ai/cs23z036/Assignment1_ReLoaded_15thJuly/runs/py4kichm' target=\"_blank\">https://wandb.ai/cs23z036/Assignment1_ReLoaded_15thJuly/runs/py4kichm</a><br/>Synced 4 W&B file(s), 0 media file(s), 0 artifact file(s) and 0 other file(s)"
            ]
          },
          "metadata": {}
        },
        {
          "output_type": "display_data",
          "data": {
            "text/plain": [
              "<IPython.core.display.HTML object>"
            ],
            "text/html": [
              "Find logs at: <code>./wandb/run-20230715_093954-py4kichm/logs</code>"
            ]
          },
          "metadata": {}
        },
        {
          "output_type": "stream",
          "name": "stderr",
          "text": [
            "\u001b[34m\u001b[1mwandb\u001b[0m: Agent Starting Run: bu8hr5dl with config:\n",
            "\u001b[34m\u001b[1mwandb\u001b[0m: \tactivation: sigmoid\n",
            "\u001b[34m\u001b[1mwandb\u001b[0m: \tbatch_size: 32\n",
            "\u001b[34m\u001b[1mwandb\u001b[0m: \tepochs: 5\n",
            "\u001b[34m\u001b[1mwandb\u001b[0m: \teta: 0.005\n",
            "\u001b[34m\u001b[1mwandb\u001b[0m: \thidden_layers: 2\n",
            "\u001b[34m\u001b[1mwandb\u001b[0m: \toptimizer: rmsprop\n",
            "\u001b[34m\u001b[1mwandb\u001b[0m: \tsize: 64\n",
            "\u001b[34m\u001b[1mwandb\u001b[0m: \twt_decay: 0.05\n",
            "\u001b[34m\u001b[1mwandb\u001b[0m: \twt_init: xavier\n"
          ]
        },
        {
          "output_type": "display_data",
          "data": {
            "text/plain": [
              "<IPython.core.display.HTML object>"
            ],
            "text/html": [
              "Tracking run with wandb version 0.15.5"
            ]
          },
          "metadata": {}
        },
        {
          "output_type": "display_data",
          "data": {
            "text/plain": [
              "<IPython.core.display.HTML object>"
            ],
            "text/html": [
              "Run data is saved locally in <code>/content/wandb/run-20230715_094227-bu8hr5dl</code>"
            ]
          },
          "metadata": {}
        },
        {
          "output_type": "display_data",
          "data": {
            "text/plain": [
              "<IPython.core.display.HTML object>"
            ],
            "text/html": [
              "Syncing run <strong><a href='https://wandb.ai/cs23z036/Assignment1_ReLoaded_15thJuly/runs/bu8hr5dl' target=\"_blank\">sandy-sweep-15</a></strong> to <a href='https://wandb.ai/cs23z036/Assignment1_ReLoaded_15thJuly' target=\"_blank\">Weights & Biases</a> (<a href='https://wandb.me/run' target=\"_blank\">docs</a>)<br/>Sweep page: <a href='https://wandb.ai/cs23z036/Assignment1_ReLoaded_15thJuly/sweeps/az1ucc60' target=\"_blank\">https://wandb.ai/cs23z036/Assignment1_ReLoaded_15thJuly/sweeps/az1ucc60</a>"
            ]
          },
          "metadata": {}
        },
        {
          "output_type": "display_data",
          "data": {
            "text/plain": [
              "<IPython.core.display.HTML object>"
            ],
            "text/html": [
              " View project at <a href='https://wandb.ai/cs23z036/Assignment1_ReLoaded_15thJuly' target=\"_blank\">https://wandb.ai/cs23z036/Assignment1_ReLoaded_15thJuly</a>"
            ]
          },
          "metadata": {}
        },
        {
          "output_type": "display_data",
          "data": {
            "text/plain": [
              "<IPython.core.display.HTML object>"
            ],
            "text/html": [
              " View sweep at <a href='https://wandb.ai/cs23z036/Assignment1_ReLoaded_15thJuly/sweeps/az1ucc60' target=\"_blank\">https://wandb.ai/cs23z036/Assignment1_ReLoaded_15thJuly/sweeps/az1ucc60</a>"
            ]
          },
          "metadata": {}
        },
        {
          "output_type": "display_data",
          "data": {
            "text/plain": [
              "<IPython.core.display.HTML object>"
            ],
            "text/html": [
              " View run at <a href='https://wandb.ai/cs23z036/Assignment1_ReLoaded_15thJuly/runs/bu8hr5dl' target=\"_blank\">https://wandb.ai/cs23z036/Assignment1_ReLoaded_15thJuly/runs/bu8hr5dl</a>"
            ]
          },
          "metadata": {}
        },
        {
          "output_type": "display_data",
          "data": {
            "text/plain": [
              "<IPython.core.display.HTML object>"
            ],
            "text/html": [
              "Waiting for W&B process to finish... <strong style=\"color:green\">(success).</strong>"
            ]
          },
          "metadata": {}
        },
        {
          "output_type": "display_data",
          "data": {
            "text/plain": [
              "<IPython.core.display.HTML object>"
            ],
            "text/html": [
              "<style>\n",
              "    table.wandb td:nth-child(1) { padding: 0 10px; text-align: left ; width: auto;} td:nth-child(2) {text-align: left ; width: 100%}\n",
              "    .wandb-row { display: flex; flex-direction: row; flex-wrap: wrap; justify-content: flex-start; width: 100% }\n",
              "    .wandb-col { display: flex; flex-direction: column; flex-basis: 100%; flex: 1; padding: 10px; }\n",
              "    </style>\n",
              "<div class=\"wandb-row\"><div class=\"wandb-col\"><h3>Run history:</h3><br/><table class=\"wandb\"><tr><td>batch size</td><td>▁</td></tr><tr><td>epochs</td><td>▁</td></tr><tr><td>layer size</td><td>▁</td></tr><tr><td>learning rate</td><td>▁</td></tr><tr><td>no of hidden layers</td><td>▁</td></tr><tr><td>validation accuracy</td><td>▁</td></tr><tr><td>validation loss</td><td>▁</td></tr></table><br/></div><div class=\"wandb-col\"><h3>Run summary:</h3><br/><table class=\"wandb\"><tr><td>batch size</td><td>32</td></tr><tr><td>epochs</td><td>5</td></tr><tr><td>layer size</td><td>64</td></tr><tr><td>learning rate</td><td>0.005</td></tr><tr><td>no of hidden layers</td><td>2</td></tr><tr><td>optimizer</td><td>rmsprop</td></tr><tr><td>validation accuracy</td><td>0.8642</td></tr><tr><td>validation loss</td><td>0.38488</td></tr></table><br/></div></div>"
            ]
          },
          "metadata": {}
        },
        {
          "output_type": "display_data",
          "data": {
            "text/plain": [
              "<IPython.core.display.HTML object>"
            ],
            "text/html": [
              " View run <strong style=\"color:#cdcd00\">sandy-sweep-15</strong> at: <a href='https://wandb.ai/cs23z036/Assignment1_ReLoaded_15thJuly/runs/bu8hr5dl' target=\"_blank\">https://wandb.ai/cs23z036/Assignment1_ReLoaded_15thJuly/runs/bu8hr5dl</a><br/>Synced 4 W&B file(s), 0 media file(s), 0 artifact file(s) and 0 other file(s)"
            ]
          },
          "metadata": {}
        },
        {
          "output_type": "display_data",
          "data": {
            "text/plain": [
              "<IPython.core.display.HTML object>"
            ],
            "text/html": [
              "Find logs at: <code>./wandb/run-20230715_094227-bu8hr5dl/logs</code>"
            ]
          },
          "metadata": {}
        },
        {
          "output_type": "stream",
          "name": "stderr",
          "text": [
            "\u001b[34m\u001b[1mwandb\u001b[0m: Agent Starting Run: i4iudy7t with config:\n",
            "\u001b[34m\u001b[1mwandb\u001b[0m: \tactivation: sigmoid\n",
            "\u001b[34m\u001b[1mwandb\u001b[0m: \tbatch_size: 32\n",
            "\u001b[34m\u001b[1mwandb\u001b[0m: \tepochs: 5\n",
            "\u001b[34m\u001b[1mwandb\u001b[0m: \teta: 0.005\n",
            "\u001b[34m\u001b[1mwandb\u001b[0m: \thidden_layers: 2\n",
            "\u001b[34m\u001b[1mwandb\u001b[0m: \toptimizer: rmsprop\n",
            "\u001b[34m\u001b[1mwandb\u001b[0m: \tsize: 64\n",
            "\u001b[34m\u001b[1mwandb\u001b[0m: \twt_decay: 0.05\n",
            "\u001b[34m\u001b[1mwandb\u001b[0m: \twt_init: random\n"
          ]
        },
        {
          "output_type": "display_data",
          "data": {
            "text/plain": [
              "<IPython.core.display.HTML object>"
            ],
            "text/html": [
              "Tracking run with wandb version 0.15.5"
            ]
          },
          "metadata": {}
        },
        {
          "output_type": "display_data",
          "data": {
            "text/plain": [
              "<IPython.core.display.HTML object>"
            ],
            "text/html": [
              "Run data is saved locally in <code>/content/wandb/run-20230715_094501-i4iudy7t</code>"
            ]
          },
          "metadata": {}
        },
        {
          "output_type": "display_data",
          "data": {
            "text/plain": [
              "<IPython.core.display.HTML object>"
            ],
            "text/html": [
              "Syncing run <strong><a href='https://wandb.ai/cs23z036/Assignment1_ReLoaded_15thJuly/runs/i4iudy7t' target=\"_blank\">celestial-sweep-16</a></strong> to <a href='https://wandb.ai/cs23z036/Assignment1_ReLoaded_15thJuly' target=\"_blank\">Weights & Biases</a> (<a href='https://wandb.me/run' target=\"_blank\">docs</a>)<br/>Sweep page: <a href='https://wandb.ai/cs23z036/Assignment1_ReLoaded_15thJuly/sweeps/az1ucc60' target=\"_blank\">https://wandb.ai/cs23z036/Assignment1_ReLoaded_15thJuly/sweeps/az1ucc60</a>"
            ]
          },
          "metadata": {}
        },
        {
          "output_type": "display_data",
          "data": {
            "text/plain": [
              "<IPython.core.display.HTML object>"
            ],
            "text/html": [
              " View project at <a href='https://wandb.ai/cs23z036/Assignment1_ReLoaded_15thJuly' target=\"_blank\">https://wandb.ai/cs23z036/Assignment1_ReLoaded_15thJuly</a>"
            ]
          },
          "metadata": {}
        },
        {
          "output_type": "display_data",
          "data": {
            "text/plain": [
              "<IPython.core.display.HTML object>"
            ],
            "text/html": [
              " View sweep at <a href='https://wandb.ai/cs23z036/Assignment1_ReLoaded_15thJuly/sweeps/az1ucc60' target=\"_blank\">https://wandb.ai/cs23z036/Assignment1_ReLoaded_15thJuly/sweeps/az1ucc60</a>"
            ]
          },
          "metadata": {}
        },
        {
          "output_type": "display_data",
          "data": {
            "text/plain": [
              "<IPython.core.display.HTML object>"
            ],
            "text/html": [
              " View run at <a href='https://wandb.ai/cs23z036/Assignment1_ReLoaded_15thJuly/runs/i4iudy7t' target=\"_blank\">https://wandb.ai/cs23z036/Assignment1_ReLoaded_15thJuly/runs/i4iudy7t</a>"
            ]
          },
          "metadata": {}
        },
        {
          "output_type": "display_data",
          "data": {
            "text/plain": [
              "<IPython.core.display.HTML object>"
            ],
            "text/html": [
              "Waiting for W&B process to finish... <strong style=\"color:green\">(success).</strong>"
            ]
          },
          "metadata": {}
        },
        {
          "output_type": "display_data",
          "data": {
            "text/plain": [
              "<IPython.core.display.HTML object>"
            ],
            "text/html": [
              "<style>\n",
              "    table.wandb td:nth-child(1) { padding: 0 10px; text-align: left ; width: auto;} td:nth-child(2) {text-align: left ; width: 100%}\n",
              "    .wandb-row { display: flex; flex-direction: row; flex-wrap: wrap; justify-content: flex-start; width: 100% }\n",
              "    .wandb-col { display: flex; flex-direction: column; flex-basis: 100%; flex: 1; padding: 10px; }\n",
              "    </style>\n",
              "<div class=\"wandb-row\"><div class=\"wandb-col\"><h3>Run history:</h3><br/><table class=\"wandb\"><tr><td>batch size</td><td>▁</td></tr><tr><td>epochs</td><td>▁</td></tr><tr><td>layer size</td><td>▁</td></tr><tr><td>learning rate</td><td>▁</td></tr><tr><td>no of hidden layers</td><td>▁</td></tr><tr><td>validation accuracy</td><td>▁</td></tr><tr><td>validation loss</td><td>▁</td></tr></table><br/></div><div class=\"wandb-col\"><h3>Run summary:</h3><br/><table class=\"wandb\"><tr><td>batch size</td><td>32</td></tr><tr><td>epochs</td><td>5</td></tr><tr><td>layer size</td><td>64</td></tr><tr><td>learning rate</td><td>0.005</td></tr><tr><td>no of hidden layers</td><td>2</td></tr><tr><td>optimizer</td><td>rmsprop</td></tr><tr><td>validation accuracy</td><td>0.8447</td></tr><tr><td>validation loss</td><td>0.42714</td></tr></table><br/></div></div>"
            ]
          },
          "metadata": {}
        },
        {
          "output_type": "display_data",
          "data": {
            "text/plain": [
              "<IPython.core.display.HTML object>"
            ],
            "text/html": [
              " View run <strong style=\"color:#cdcd00\">celestial-sweep-16</strong> at: <a href='https://wandb.ai/cs23z036/Assignment1_ReLoaded_15thJuly/runs/i4iudy7t' target=\"_blank\">https://wandb.ai/cs23z036/Assignment1_ReLoaded_15thJuly/runs/i4iudy7t</a><br/>Synced 4 W&B file(s), 0 media file(s), 0 artifact file(s) and 0 other file(s)"
            ]
          },
          "metadata": {}
        },
        {
          "output_type": "display_data",
          "data": {
            "text/plain": [
              "<IPython.core.display.HTML object>"
            ],
            "text/html": [
              "Find logs at: <code>./wandb/run-20230715_094501-i4iudy7t/logs</code>"
            ]
          },
          "metadata": {}
        },
        {
          "output_type": "stream",
          "name": "stderr",
          "text": [
            "\u001b[34m\u001b[1mwandb\u001b[0m: Agent Starting Run: t201yue7 with config:\n",
            "\u001b[34m\u001b[1mwandb\u001b[0m: \tactivation: sigmoid\n",
            "\u001b[34m\u001b[1mwandb\u001b[0m: \tbatch_size: 32\n",
            "\u001b[34m\u001b[1mwandb\u001b[0m: \tepochs: 5\n",
            "\u001b[34m\u001b[1mwandb\u001b[0m: \teta: 0.005\n",
            "\u001b[34m\u001b[1mwandb\u001b[0m: \thidden_layers: 3\n",
            "\u001b[34m\u001b[1mwandb\u001b[0m: \toptimizer: nesterov\n",
            "\u001b[34m\u001b[1mwandb\u001b[0m: \tsize: 32\n",
            "\u001b[34m\u001b[1mwandb\u001b[0m: \twt_decay: 0.005\n",
            "\u001b[34m\u001b[1mwandb\u001b[0m: \twt_init: xavier\n"
          ]
        },
        {
          "output_type": "display_data",
          "data": {
            "text/plain": [
              "<IPython.core.display.HTML object>"
            ],
            "text/html": [
              "Tracking run with wandb version 0.15.5"
            ]
          },
          "metadata": {}
        },
        {
          "output_type": "display_data",
          "data": {
            "text/plain": [
              "<IPython.core.display.HTML object>"
            ],
            "text/html": [
              "Run data is saved locally in <code>/content/wandb/run-20230715_094737-t201yue7</code>"
            ]
          },
          "metadata": {}
        },
        {
          "output_type": "display_data",
          "data": {
            "text/plain": [
              "<IPython.core.display.HTML object>"
            ],
            "text/html": [
              "Syncing run <strong><a href='https://wandb.ai/cs23z036/Assignment1_ReLoaded_15thJuly/runs/t201yue7' target=\"_blank\">pretty-sweep-17</a></strong> to <a href='https://wandb.ai/cs23z036/Assignment1_ReLoaded_15thJuly' target=\"_blank\">Weights & Biases</a> (<a href='https://wandb.me/run' target=\"_blank\">docs</a>)<br/>Sweep page: <a href='https://wandb.ai/cs23z036/Assignment1_ReLoaded_15thJuly/sweeps/az1ucc60' target=\"_blank\">https://wandb.ai/cs23z036/Assignment1_ReLoaded_15thJuly/sweeps/az1ucc60</a>"
            ]
          },
          "metadata": {}
        },
        {
          "output_type": "display_data",
          "data": {
            "text/plain": [
              "<IPython.core.display.HTML object>"
            ],
            "text/html": [
              " View project at <a href='https://wandb.ai/cs23z036/Assignment1_ReLoaded_15thJuly' target=\"_blank\">https://wandb.ai/cs23z036/Assignment1_ReLoaded_15thJuly</a>"
            ]
          },
          "metadata": {}
        },
        {
          "output_type": "display_data",
          "data": {
            "text/plain": [
              "<IPython.core.display.HTML object>"
            ],
            "text/html": [
              " View sweep at <a href='https://wandb.ai/cs23z036/Assignment1_ReLoaded_15thJuly/sweeps/az1ucc60' target=\"_blank\">https://wandb.ai/cs23z036/Assignment1_ReLoaded_15thJuly/sweeps/az1ucc60</a>"
            ]
          },
          "metadata": {}
        },
        {
          "output_type": "display_data",
          "data": {
            "text/plain": [
              "<IPython.core.display.HTML object>"
            ],
            "text/html": [
              " View run at <a href='https://wandb.ai/cs23z036/Assignment1_ReLoaded_15thJuly/runs/t201yue7' target=\"_blank\">https://wandb.ai/cs23z036/Assignment1_ReLoaded_15thJuly/runs/t201yue7</a>"
            ]
          },
          "metadata": {}
        },
        {
          "output_type": "display_data",
          "data": {
            "text/plain": [
              "<IPython.core.display.HTML object>"
            ],
            "text/html": [
              "Waiting for W&B process to finish... <strong style=\"color:green\">(success).</strong>"
            ]
          },
          "metadata": {}
        },
        {
          "output_type": "display_data",
          "data": {
            "text/plain": [
              "VBox(children=(Label(value='0.001 MB of 0.010 MB uploaded (0.000 MB deduped)\\r'), FloatProgress(value=0.102649…"
            ],
            "application/vnd.jupyter.widget-view+json": {
              "version_major": 2,
              "version_minor": 0,
              "model_id": "6c2722f1b1024f19b3842480b0eec922"
            }
          },
          "metadata": {}
        },
        {
          "output_type": "display_data",
          "data": {
            "text/plain": [
              "<IPython.core.display.HTML object>"
            ],
            "text/html": [
              "<style>\n",
              "    table.wandb td:nth-child(1) { padding: 0 10px; text-align: left ; width: auto;} td:nth-child(2) {text-align: left ; width: 100%}\n",
              "    .wandb-row { display: flex; flex-direction: row; flex-wrap: wrap; justify-content: flex-start; width: 100% }\n",
              "    .wandb-col { display: flex; flex-direction: column; flex-basis: 100%; flex: 1; padding: 10px; }\n",
              "    </style>\n",
              "<div class=\"wandb-row\"><div class=\"wandb-col\"><h3>Run history:</h3><br/><table class=\"wandb\"><tr><td>batch size</td><td>▁</td></tr><tr><td>epochs</td><td>▁</td></tr><tr><td>layer size</td><td>▁</td></tr><tr><td>learning rate</td><td>▁</td></tr><tr><td>no of hidden layers</td><td>▁</td></tr><tr><td>validation accuracy</td><td>▁</td></tr><tr><td>validation loss</td><td>▁</td></tr></table><br/></div><div class=\"wandb-col\"><h3>Run summary:</h3><br/><table class=\"wandb\"><tr><td>batch size</td><td>32</td></tr><tr><td>epochs</td><td>5</td></tr><tr><td>layer size</td><td>32</td></tr><tr><td>learning rate</td><td>0.005</td></tr><tr><td>no of hidden layers</td><td>3</td></tr><tr><td>optimizer</td><td>nesterov</td></tr><tr><td>validation accuracy</td><td>0.8406</td></tr><tr><td>validation loss</td><td>0.4488</td></tr></table><br/></div></div>"
            ]
          },
          "metadata": {}
        },
        {
          "output_type": "display_data",
          "data": {
            "text/plain": [
              "<IPython.core.display.HTML object>"
            ],
            "text/html": [
              " View run <strong style=\"color:#cdcd00\">pretty-sweep-17</strong> at: <a href='https://wandb.ai/cs23z036/Assignment1_ReLoaded_15thJuly/runs/t201yue7' target=\"_blank\">https://wandb.ai/cs23z036/Assignment1_ReLoaded_15thJuly/runs/t201yue7</a><br/>Synced 4 W&B file(s), 0 media file(s), 0 artifact file(s) and 0 other file(s)"
            ]
          },
          "metadata": {}
        },
        {
          "output_type": "display_data",
          "data": {
            "text/plain": [
              "<IPython.core.display.HTML object>"
            ],
            "text/html": [
              "Find logs at: <code>./wandb/run-20230715_094737-t201yue7/logs</code>"
            ]
          },
          "metadata": {}
        },
        {
          "output_type": "stream",
          "name": "stderr",
          "text": [
            "\u001b[34m\u001b[1mwandb\u001b[0m: Agent Starting Run: dch2j4ha with config:\n",
            "\u001b[34m\u001b[1mwandb\u001b[0m: \tactivation: sigmoid\n",
            "\u001b[34m\u001b[1mwandb\u001b[0m: \tbatch_size: 32\n",
            "\u001b[34m\u001b[1mwandb\u001b[0m: \tepochs: 5\n",
            "\u001b[34m\u001b[1mwandb\u001b[0m: \teta: 0.005\n",
            "\u001b[34m\u001b[1mwandb\u001b[0m: \thidden_layers: 3\n",
            "\u001b[34m\u001b[1mwandb\u001b[0m: \toptimizer: nesterov\n",
            "\u001b[34m\u001b[1mwandb\u001b[0m: \tsize: 32\n",
            "\u001b[34m\u001b[1mwandb\u001b[0m: \twt_decay: 0.005\n",
            "\u001b[34m\u001b[1mwandb\u001b[0m: \twt_init: random\n"
          ]
        },
        {
          "output_type": "display_data",
          "data": {
            "text/plain": [
              "<IPython.core.display.HTML object>"
            ],
            "text/html": [
              "Tracking run with wandb version 0.15.5"
            ]
          },
          "metadata": {}
        },
        {
          "output_type": "display_data",
          "data": {
            "text/plain": [
              "<IPython.core.display.HTML object>"
            ],
            "text/html": [
              "Run data is saved locally in <code>/content/wandb/run-20230715_095020-dch2j4ha</code>"
            ]
          },
          "metadata": {}
        },
        {
          "output_type": "display_data",
          "data": {
            "text/plain": [
              "<IPython.core.display.HTML object>"
            ],
            "text/html": [
              "Syncing run <strong><a href='https://wandb.ai/cs23z036/Assignment1_ReLoaded_15thJuly/runs/dch2j4ha' target=\"_blank\">astral-sweep-18</a></strong> to <a href='https://wandb.ai/cs23z036/Assignment1_ReLoaded_15thJuly' target=\"_blank\">Weights & Biases</a> (<a href='https://wandb.me/run' target=\"_blank\">docs</a>)<br/>Sweep page: <a href='https://wandb.ai/cs23z036/Assignment1_ReLoaded_15thJuly/sweeps/az1ucc60' target=\"_blank\">https://wandb.ai/cs23z036/Assignment1_ReLoaded_15thJuly/sweeps/az1ucc60</a>"
            ]
          },
          "metadata": {}
        },
        {
          "output_type": "display_data",
          "data": {
            "text/plain": [
              "<IPython.core.display.HTML object>"
            ],
            "text/html": [
              " View project at <a href='https://wandb.ai/cs23z036/Assignment1_ReLoaded_15thJuly' target=\"_blank\">https://wandb.ai/cs23z036/Assignment1_ReLoaded_15thJuly</a>"
            ]
          },
          "metadata": {}
        },
        {
          "output_type": "display_data",
          "data": {
            "text/plain": [
              "<IPython.core.display.HTML object>"
            ],
            "text/html": [
              " View sweep at <a href='https://wandb.ai/cs23z036/Assignment1_ReLoaded_15thJuly/sweeps/az1ucc60' target=\"_blank\">https://wandb.ai/cs23z036/Assignment1_ReLoaded_15thJuly/sweeps/az1ucc60</a>"
            ]
          },
          "metadata": {}
        },
        {
          "output_type": "display_data",
          "data": {
            "text/plain": [
              "<IPython.core.display.HTML object>"
            ],
            "text/html": [
              " View run at <a href='https://wandb.ai/cs23z036/Assignment1_ReLoaded_15thJuly/runs/dch2j4ha' target=\"_blank\">https://wandb.ai/cs23z036/Assignment1_ReLoaded_15thJuly/runs/dch2j4ha</a>"
            ]
          },
          "metadata": {}
        },
        {
          "output_type": "display_data",
          "data": {
            "text/plain": [
              "<IPython.core.display.HTML object>"
            ],
            "text/html": [
              "Waiting for W&B process to finish... <strong style=\"color:green\">(success).</strong>"
            ]
          },
          "metadata": {}
        },
        {
          "output_type": "display_data",
          "data": {
            "text/plain": [
              "<IPython.core.display.HTML object>"
            ],
            "text/html": [
              "<style>\n",
              "    table.wandb td:nth-child(1) { padding: 0 10px; text-align: left ; width: auto;} td:nth-child(2) {text-align: left ; width: 100%}\n",
              "    .wandb-row { display: flex; flex-direction: row; flex-wrap: wrap; justify-content: flex-start; width: 100% }\n",
              "    .wandb-col { display: flex; flex-direction: column; flex-basis: 100%; flex: 1; padding: 10px; }\n",
              "    </style>\n",
              "<div class=\"wandb-row\"><div class=\"wandb-col\"><h3>Run history:</h3><br/><table class=\"wandb\"><tr><td>batch size</td><td>▁</td></tr><tr><td>epochs</td><td>▁</td></tr><tr><td>layer size</td><td>▁</td></tr><tr><td>learning rate</td><td>▁</td></tr><tr><td>no of hidden layers</td><td>▁</td></tr><tr><td>validation accuracy</td><td>▁</td></tr><tr><td>validation loss</td><td>▁</td></tr></table><br/></div><div class=\"wandb-col\"><h3>Run summary:</h3><br/><table class=\"wandb\"><tr><td>batch size</td><td>32</td></tr><tr><td>epochs</td><td>5</td></tr><tr><td>layer size</td><td>32</td></tr><tr><td>learning rate</td><td>0.005</td></tr><tr><td>no of hidden layers</td><td>3</td></tr><tr><td>optimizer</td><td>nesterov</td></tr><tr><td>validation accuracy</td><td>0.8229</td></tr><tr><td>validation loss</td><td>0.49743</td></tr></table><br/></div></div>"
            ]
          },
          "metadata": {}
        },
        {
          "output_type": "display_data",
          "data": {
            "text/plain": [
              "<IPython.core.display.HTML object>"
            ],
            "text/html": [
              " View run <strong style=\"color:#cdcd00\">astral-sweep-18</strong> at: <a href='https://wandb.ai/cs23z036/Assignment1_ReLoaded_15thJuly/runs/dch2j4ha' target=\"_blank\">https://wandb.ai/cs23z036/Assignment1_ReLoaded_15thJuly/runs/dch2j4ha</a><br/>Synced 4 W&B file(s), 0 media file(s), 0 artifact file(s) and 0 other file(s)"
            ]
          },
          "metadata": {}
        },
        {
          "output_type": "display_data",
          "data": {
            "text/plain": [
              "<IPython.core.display.HTML object>"
            ],
            "text/html": [
              "Find logs at: <code>./wandb/run-20230715_095020-dch2j4ha/logs</code>"
            ]
          },
          "metadata": {}
        },
        {
          "output_type": "stream",
          "name": "stderr",
          "text": [
            "\u001b[34m\u001b[1mwandb\u001b[0m: Agent Starting Run: z6xh2mrv with config:\n",
            "\u001b[34m\u001b[1mwandb\u001b[0m: \tactivation: sigmoid\n",
            "\u001b[34m\u001b[1mwandb\u001b[0m: \tbatch_size: 32\n",
            "\u001b[34m\u001b[1mwandb\u001b[0m: \tepochs: 5\n",
            "\u001b[34m\u001b[1mwandb\u001b[0m: \teta: 0.005\n",
            "\u001b[34m\u001b[1mwandb\u001b[0m: \thidden_layers: 3\n",
            "\u001b[34m\u001b[1mwandb\u001b[0m: \toptimizer: nesterov\n",
            "\u001b[34m\u001b[1mwandb\u001b[0m: \tsize: 32\n",
            "\u001b[34m\u001b[1mwandb\u001b[0m: \twt_decay: 0.05\n",
            "\u001b[34m\u001b[1mwandb\u001b[0m: \twt_init: xavier\n"
          ]
        },
        {
          "output_type": "display_data",
          "data": {
            "text/plain": [
              "<IPython.core.display.HTML object>"
            ],
            "text/html": [
              "Tracking run with wandb version 0.15.5"
            ]
          },
          "metadata": {}
        },
        {
          "output_type": "display_data",
          "data": {
            "text/plain": [
              "<IPython.core.display.HTML object>"
            ],
            "text/html": [
              "Run data is saved locally in <code>/content/wandb/run-20230715_095301-z6xh2mrv</code>"
            ]
          },
          "metadata": {}
        },
        {
          "output_type": "display_data",
          "data": {
            "text/plain": [
              "<IPython.core.display.HTML object>"
            ],
            "text/html": [
              "Syncing run <strong><a href='https://wandb.ai/cs23z036/Assignment1_ReLoaded_15thJuly/runs/z6xh2mrv' target=\"_blank\">solar-sweep-19</a></strong> to <a href='https://wandb.ai/cs23z036/Assignment1_ReLoaded_15thJuly' target=\"_blank\">Weights & Biases</a> (<a href='https://wandb.me/run' target=\"_blank\">docs</a>)<br/>Sweep page: <a href='https://wandb.ai/cs23z036/Assignment1_ReLoaded_15thJuly/sweeps/az1ucc60' target=\"_blank\">https://wandb.ai/cs23z036/Assignment1_ReLoaded_15thJuly/sweeps/az1ucc60</a>"
            ]
          },
          "metadata": {}
        },
        {
          "output_type": "display_data",
          "data": {
            "text/plain": [
              "<IPython.core.display.HTML object>"
            ],
            "text/html": [
              " View project at <a href='https://wandb.ai/cs23z036/Assignment1_ReLoaded_15thJuly' target=\"_blank\">https://wandb.ai/cs23z036/Assignment1_ReLoaded_15thJuly</a>"
            ]
          },
          "metadata": {}
        },
        {
          "output_type": "display_data",
          "data": {
            "text/plain": [
              "<IPython.core.display.HTML object>"
            ],
            "text/html": [
              " View sweep at <a href='https://wandb.ai/cs23z036/Assignment1_ReLoaded_15thJuly/sweeps/az1ucc60' target=\"_blank\">https://wandb.ai/cs23z036/Assignment1_ReLoaded_15thJuly/sweeps/az1ucc60</a>"
            ]
          },
          "metadata": {}
        },
        {
          "output_type": "display_data",
          "data": {
            "text/plain": [
              "<IPython.core.display.HTML object>"
            ],
            "text/html": [
              " View run at <a href='https://wandb.ai/cs23z036/Assignment1_ReLoaded_15thJuly/runs/z6xh2mrv' target=\"_blank\">https://wandb.ai/cs23z036/Assignment1_ReLoaded_15thJuly/runs/z6xh2mrv</a>"
            ]
          },
          "metadata": {}
        },
        {
          "output_type": "display_data",
          "data": {
            "text/plain": [
              "<IPython.core.display.HTML object>"
            ],
            "text/html": [
              "Waiting for W&B process to finish... <strong style=\"color:green\">(success).</strong>"
            ]
          },
          "metadata": {}
        },
        {
          "output_type": "display_data",
          "data": {
            "text/plain": [
              "<IPython.core.display.HTML object>"
            ],
            "text/html": [
              "<style>\n",
              "    table.wandb td:nth-child(1) { padding: 0 10px; text-align: left ; width: auto;} td:nth-child(2) {text-align: left ; width: 100%}\n",
              "    .wandb-row { display: flex; flex-direction: row; flex-wrap: wrap; justify-content: flex-start; width: 100% }\n",
              "    .wandb-col { display: flex; flex-direction: column; flex-basis: 100%; flex: 1; padding: 10px; }\n",
              "    </style>\n",
              "<div class=\"wandb-row\"><div class=\"wandb-col\"><h3>Run history:</h3><br/><table class=\"wandb\"><tr><td>batch size</td><td>▁</td></tr><tr><td>epochs</td><td>▁</td></tr><tr><td>layer size</td><td>▁</td></tr><tr><td>learning rate</td><td>▁</td></tr><tr><td>no of hidden layers</td><td>▁</td></tr><tr><td>validation accuracy</td><td>▁</td></tr><tr><td>validation loss</td><td>▁</td></tr></table><br/></div><div class=\"wandb-col\"><h3>Run summary:</h3><br/><table class=\"wandb\"><tr><td>batch size</td><td>32</td></tr><tr><td>epochs</td><td>5</td></tr><tr><td>layer size</td><td>32</td></tr><tr><td>learning rate</td><td>0.005</td></tr><tr><td>no of hidden layers</td><td>3</td></tr><tr><td>optimizer</td><td>nesterov</td></tr><tr><td>validation accuracy</td><td>0.8457</td></tr><tr><td>validation loss</td><td>0.42657</td></tr></table><br/></div></div>"
            ]
          },
          "metadata": {}
        },
        {
          "output_type": "display_data",
          "data": {
            "text/plain": [
              "<IPython.core.display.HTML object>"
            ],
            "text/html": [
              " View run <strong style=\"color:#cdcd00\">solar-sweep-19</strong> at: <a href='https://wandb.ai/cs23z036/Assignment1_ReLoaded_15thJuly/runs/z6xh2mrv' target=\"_blank\">https://wandb.ai/cs23z036/Assignment1_ReLoaded_15thJuly/runs/z6xh2mrv</a><br/>Synced 4 W&B file(s), 0 media file(s), 0 artifact file(s) and 0 other file(s)"
            ]
          },
          "metadata": {}
        },
        {
          "output_type": "display_data",
          "data": {
            "text/plain": [
              "<IPython.core.display.HTML object>"
            ],
            "text/html": [
              "Find logs at: <code>./wandb/run-20230715_095301-z6xh2mrv/logs</code>"
            ]
          },
          "metadata": {}
        },
        {
          "output_type": "stream",
          "name": "stderr",
          "text": [
            "\u001b[34m\u001b[1mwandb\u001b[0m: Agent Starting Run: filuiqe8 with config:\n",
            "\u001b[34m\u001b[1mwandb\u001b[0m: \tactivation: sigmoid\n",
            "\u001b[34m\u001b[1mwandb\u001b[0m: \tbatch_size: 32\n",
            "\u001b[34m\u001b[1mwandb\u001b[0m: \tepochs: 5\n",
            "\u001b[34m\u001b[1mwandb\u001b[0m: \teta: 0.005\n",
            "\u001b[34m\u001b[1mwandb\u001b[0m: \thidden_layers: 3\n",
            "\u001b[34m\u001b[1mwandb\u001b[0m: \toptimizer: nesterov\n",
            "\u001b[34m\u001b[1mwandb\u001b[0m: \tsize: 32\n",
            "\u001b[34m\u001b[1mwandb\u001b[0m: \twt_decay: 0.05\n",
            "\u001b[34m\u001b[1mwandb\u001b[0m: \twt_init: random\n"
          ]
        },
        {
          "output_type": "display_data",
          "data": {
            "text/plain": [
              "<IPython.core.display.HTML object>"
            ],
            "text/html": [
              "Tracking run with wandb version 0.15.5"
            ]
          },
          "metadata": {}
        },
        {
          "output_type": "display_data",
          "data": {
            "text/plain": [
              "<IPython.core.display.HTML object>"
            ],
            "text/html": [
              "Run data is saved locally in <code>/content/wandb/run-20230715_095544-filuiqe8</code>"
            ]
          },
          "metadata": {}
        },
        {
          "output_type": "display_data",
          "data": {
            "text/plain": [
              "<IPython.core.display.HTML object>"
            ],
            "text/html": [
              "Syncing run <strong><a href='https://wandb.ai/cs23z036/Assignment1_ReLoaded_15thJuly/runs/filuiqe8' target=\"_blank\">magic-sweep-20</a></strong> to <a href='https://wandb.ai/cs23z036/Assignment1_ReLoaded_15thJuly' target=\"_blank\">Weights & Biases</a> (<a href='https://wandb.me/run' target=\"_blank\">docs</a>)<br/>Sweep page: <a href='https://wandb.ai/cs23z036/Assignment1_ReLoaded_15thJuly/sweeps/az1ucc60' target=\"_blank\">https://wandb.ai/cs23z036/Assignment1_ReLoaded_15thJuly/sweeps/az1ucc60</a>"
            ]
          },
          "metadata": {}
        },
        {
          "output_type": "display_data",
          "data": {
            "text/plain": [
              "<IPython.core.display.HTML object>"
            ],
            "text/html": [
              " View project at <a href='https://wandb.ai/cs23z036/Assignment1_ReLoaded_15thJuly' target=\"_blank\">https://wandb.ai/cs23z036/Assignment1_ReLoaded_15thJuly</a>"
            ]
          },
          "metadata": {}
        },
        {
          "output_type": "display_data",
          "data": {
            "text/plain": [
              "<IPython.core.display.HTML object>"
            ],
            "text/html": [
              " View sweep at <a href='https://wandb.ai/cs23z036/Assignment1_ReLoaded_15thJuly/sweeps/az1ucc60' target=\"_blank\">https://wandb.ai/cs23z036/Assignment1_ReLoaded_15thJuly/sweeps/az1ucc60</a>"
            ]
          },
          "metadata": {}
        },
        {
          "output_type": "display_data",
          "data": {
            "text/plain": [
              "<IPython.core.display.HTML object>"
            ],
            "text/html": [
              " View run at <a href='https://wandb.ai/cs23z036/Assignment1_ReLoaded_15thJuly/runs/filuiqe8' target=\"_blank\">https://wandb.ai/cs23z036/Assignment1_ReLoaded_15thJuly/runs/filuiqe8</a>"
            ]
          },
          "metadata": {}
        },
        {
          "output_type": "display_data",
          "data": {
            "text/plain": [
              "<IPython.core.display.HTML object>"
            ],
            "text/html": [
              "Waiting for W&B process to finish... <strong style=\"color:green\">(success).</strong>"
            ]
          },
          "metadata": {}
        },
        {
          "output_type": "display_data",
          "data": {
            "text/plain": [
              "<IPython.core.display.HTML object>"
            ],
            "text/html": [
              "<style>\n",
              "    table.wandb td:nth-child(1) { padding: 0 10px; text-align: left ; width: auto;} td:nth-child(2) {text-align: left ; width: 100%}\n",
              "    .wandb-row { display: flex; flex-direction: row; flex-wrap: wrap; justify-content: flex-start; width: 100% }\n",
              "    .wandb-col { display: flex; flex-direction: column; flex-basis: 100%; flex: 1; padding: 10px; }\n",
              "    </style>\n",
              "<div class=\"wandb-row\"><div class=\"wandb-col\"><h3>Run history:</h3><br/><table class=\"wandb\"><tr><td>batch size</td><td>▁</td></tr><tr><td>epochs</td><td>▁</td></tr><tr><td>layer size</td><td>▁</td></tr><tr><td>learning rate</td><td>▁</td></tr><tr><td>no of hidden layers</td><td>▁</td></tr><tr><td>validation accuracy</td><td>▁</td></tr><tr><td>validation loss</td><td>▁</td></tr></table><br/></div><div class=\"wandb-col\"><h3>Run summary:</h3><br/><table class=\"wandb\"><tr><td>batch size</td><td>32</td></tr><tr><td>epochs</td><td>5</td></tr><tr><td>layer size</td><td>32</td></tr><tr><td>learning rate</td><td>0.005</td></tr><tr><td>no of hidden layers</td><td>3</td></tr><tr><td>optimizer</td><td>nesterov</td></tr><tr><td>validation accuracy</td><td>0.8373</td></tr><tr><td>validation loss</td><td>0.47226</td></tr></table><br/></div></div>"
            ]
          },
          "metadata": {}
        },
        {
          "output_type": "display_data",
          "data": {
            "text/plain": [
              "<IPython.core.display.HTML object>"
            ],
            "text/html": [
              " View run <strong style=\"color:#cdcd00\">magic-sweep-20</strong> at: <a href='https://wandb.ai/cs23z036/Assignment1_ReLoaded_15thJuly/runs/filuiqe8' target=\"_blank\">https://wandb.ai/cs23z036/Assignment1_ReLoaded_15thJuly/runs/filuiqe8</a><br/>Synced 4 W&B file(s), 0 media file(s), 0 artifact file(s) and 0 other file(s)"
            ]
          },
          "metadata": {}
        },
        {
          "output_type": "display_data",
          "data": {
            "text/plain": [
              "<IPython.core.display.HTML object>"
            ],
            "text/html": [
              "Find logs at: <code>./wandb/run-20230715_095544-filuiqe8/logs</code>"
            ]
          },
          "metadata": {}
        },
        {
          "output_type": "stream",
          "name": "stderr",
          "text": [
            "\u001b[34m\u001b[1mwandb\u001b[0m: Agent Starting Run: h6i993dc with config:\n",
            "\u001b[34m\u001b[1mwandb\u001b[0m: \tactivation: sigmoid\n",
            "\u001b[34m\u001b[1mwandb\u001b[0m: \tbatch_size: 32\n",
            "\u001b[34m\u001b[1mwandb\u001b[0m: \tepochs: 5\n",
            "\u001b[34m\u001b[1mwandb\u001b[0m: \teta: 0.005\n",
            "\u001b[34m\u001b[1mwandb\u001b[0m: \thidden_layers: 3\n",
            "\u001b[34m\u001b[1mwandb\u001b[0m: \toptimizer: nesterov\n",
            "\u001b[34m\u001b[1mwandb\u001b[0m: \tsize: 64\n",
            "\u001b[34m\u001b[1mwandb\u001b[0m: \twt_decay: 0.005\n",
            "\u001b[34m\u001b[1mwandb\u001b[0m: \twt_init: xavier\n"
          ]
        },
        {
          "output_type": "display_data",
          "data": {
            "text/plain": [
              "<IPython.core.display.HTML object>"
            ],
            "text/html": [
              "Tracking run with wandb version 0.15.5"
            ]
          },
          "metadata": {}
        },
        {
          "output_type": "display_data",
          "data": {
            "text/plain": [
              "<IPython.core.display.HTML object>"
            ],
            "text/html": [
              "Run data is saved locally in <code>/content/wandb/run-20230715_095824-h6i993dc</code>"
            ]
          },
          "metadata": {}
        },
        {
          "output_type": "display_data",
          "data": {
            "text/plain": [
              "<IPython.core.display.HTML object>"
            ],
            "text/html": [
              "Syncing run <strong><a href='https://wandb.ai/cs23z036/Assignment1_ReLoaded_15thJuly/runs/h6i993dc' target=\"_blank\">stilted-sweep-21</a></strong> to <a href='https://wandb.ai/cs23z036/Assignment1_ReLoaded_15thJuly' target=\"_blank\">Weights & Biases</a> (<a href='https://wandb.me/run' target=\"_blank\">docs</a>)<br/>Sweep page: <a href='https://wandb.ai/cs23z036/Assignment1_ReLoaded_15thJuly/sweeps/az1ucc60' target=\"_blank\">https://wandb.ai/cs23z036/Assignment1_ReLoaded_15thJuly/sweeps/az1ucc60</a>"
            ]
          },
          "metadata": {}
        },
        {
          "output_type": "display_data",
          "data": {
            "text/plain": [
              "<IPython.core.display.HTML object>"
            ],
            "text/html": [
              " View project at <a href='https://wandb.ai/cs23z036/Assignment1_ReLoaded_15thJuly' target=\"_blank\">https://wandb.ai/cs23z036/Assignment1_ReLoaded_15thJuly</a>"
            ]
          },
          "metadata": {}
        },
        {
          "output_type": "display_data",
          "data": {
            "text/plain": [
              "<IPython.core.display.HTML object>"
            ],
            "text/html": [
              " View sweep at <a href='https://wandb.ai/cs23z036/Assignment1_ReLoaded_15thJuly/sweeps/az1ucc60' target=\"_blank\">https://wandb.ai/cs23z036/Assignment1_ReLoaded_15thJuly/sweeps/az1ucc60</a>"
            ]
          },
          "metadata": {}
        },
        {
          "output_type": "display_data",
          "data": {
            "text/plain": [
              "<IPython.core.display.HTML object>"
            ],
            "text/html": [
              " View run at <a href='https://wandb.ai/cs23z036/Assignment1_ReLoaded_15thJuly/runs/h6i993dc' target=\"_blank\">https://wandb.ai/cs23z036/Assignment1_ReLoaded_15thJuly/runs/h6i993dc</a>"
            ]
          },
          "metadata": {}
        },
        {
          "output_type": "display_data",
          "data": {
            "text/plain": [
              "<IPython.core.display.HTML object>"
            ],
            "text/html": [
              "Waiting for W&B process to finish... <strong style=\"color:green\">(success).</strong>"
            ]
          },
          "metadata": {}
        },
        {
          "output_type": "display_data",
          "data": {
            "text/plain": [
              "<IPython.core.display.HTML object>"
            ],
            "text/html": [
              "<style>\n",
              "    table.wandb td:nth-child(1) { padding: 0 10px; text-align: left ; width: auto;} td:nth-child(2) {text-align: left ; width: 100%}\n",
              "    .wandb-row { display: flex; flex-direction: row; flex-wrap: wrap; justify-content: flex-start; width: 100% }\n",
              "    .wandb-col { display: flex; flex-direction: column; flex-basis: 100%; flex: 1; padding: 10px; }\n",
              "    </style>\n",
              "<div class=\"wandb-row\"><div class=\"wandb-col\"><h3>Run history:</h3><br/><table class=\"wandb\"><tr><td>batch size</td><td>▁</td></tr><tr><td>epochs</td><td>▁</td></tr><tr><td>layer size</td><td>▁</td></tr><tr><td>learning rate</td><td>▁</td></tr><tr><td>no of hidden layers</td><td>▁</td></tr><tr><td>validation accuracy</td><td>▁</td></tr><tr><td>validation loss</td><td>▁</td></tr></table><br/></div><div class=\"wandb-col\"><h3>Run summary:</h3><br/><table class=\"wandb\"><tr><td>batch size</td><td>32</td></tr><tr><td>epochs</td><td>5</td></tr><tr><td>layer size</td><td>64</td></tr><tr><td>learning rate</td><td>0.005</td></tr><tr><td>no of hidden layers</td><td>3</td></tr><tr><td>optimizer</td><td>nesterov</td></tr><tr><td>validation accuracy</td><td>0.8565</td></tr><tr><td>validation loss</td><td>0.40769</td></tr></table><br/></div></div>"
            ]
          },
          "metadata": {}
        },
        {
          "output_type": "display_data",
          "data": {
            "text/plain": [
              "<IPython.core.display.HTML object>"
            ],
            "text/html": [
              " View run <strong style=\"color:#cdcd00\">stilted-sweep-21</strong> at: <a href='https://wandb.ai/cs23z036/Assignment1_ReLoaded_15thJuly/runs/h6i993dc' target=\"_blank\">https://wandb.ai/cs23z036/Assignment1_ReLoaded_15thJuly/runs/h6i993dc</a><br/>Synced 4 W&B file(s), 0 media file(s), 0 artifact file(s) and 0 other file(s)"
            ]
          },
          "metadata": {}
        },
        {
          "output_type": "display_data",
          "data": {
            "text/plain": [
              "<IPython.core.display.HTML object>"
            ],
            "text/html": [
              "Find logs at: <code>./wandb/run-20230715_095824-h6i993dc/logs</code>"
            ]
          },
          "metadata": {}
        },
        {
          "output_type": "stream",
          "name": "stderr",
          "text": [
            "\u001b[34m\u001b[1mwandb\u001b[0m: Agent Starting Run: hzft6d5g with config:\n",
            "\u001b[34m\u001b[1mwandb\u001b[0m: \tactivation: sigmoid\n",
            "\u001b[34m\u001b[1mwandb\u001b[0m: \tbatch_size: 32\n",
            "\u001b[34m\u001b[1mwandb\u001b[0m: \tepochs: 5\n",
            "\u001b[34m\u001b[1mwandb\u001b[0m: \teta: 0.005\n",
            "\u001b[34m\u001b[1mwandb\u001b[0m: \thidden_layers: 3\n",
            "\u001b[34m\u001b[1mwandb\u001b[0m: \toptimizer: nesterov\n",
            "\u001b[34m\u001b[1mwandb\u001b[0m: \tsize: 64\n",
            "\u001b[34m\u001b[1mwandb\u001b[0m: \twt_decay: 0.005\n",
            "\u001b[34m\u001b[1mwandb\u001b[0m: \twt_init: random\n"
          ]
        },
        {
          "output_type": "display_data",
          "data": {
            "text/plain": [
              "<IPython.core.display.HTML object>"
            ],
            "text/html": [
              "Tracking run with wandb version 0.15.5"
            ]
          },
          "metadata": {}
        },
        {
          "output_type": "display_data",
          "data": {
            "text/plain": [
              "<IPython.core.display.HTML object>"
            ],
            "text/html": [
              "Run data is saved locally in <code>/content/wandb/run-20230715_100200-hzft6d5g</code>"
            ]
          },
          "metadata": {}
        },
        {
          "output_type": "display_data",
          "data": {
            "text/plain": [
              "<IPython.core.display.HTML object>"
            ],
            "text/html": [
              "Syncing run <strong><a href='https://wandb.ai/cs23z036/Assignment1_ReLoaded_15thJuly/runs/hzft6d5g' target=\"_blank\">drawn-sweep-22</a></strong> to <a href='https://wandb.ai/cs23z036/Assignment1_ReLoaded_15thJuly' target=\"_blank\">Weights & Biases</a> (<a href='https://wandb.me/run' target=\"_blank\">docs</a>)<br/>Sweep page: <a href='https://wandb.ai/cs23z036/Assignment1_ReLoaded_15thJuly/sweeps/az1ucc60' target=\"_blank\">https://wandb.ai/cs23z036/Assignment1_ReLoaded_15thJuly/sweeps/az1ucc60</a>"
            ]
          },
          "metadata": {}
        },
        {
          "output_type": "display_data",
          "data": {
            "text/plain": [
              "<IPython.core.display.HTML object>"
            ],
            "text/html": [
              " View project at <a href='https://wandb.ai/cs23z036/Assignment1_ReLoaded_15thJuly' target=\"_blank\">https://wandb.ai/cs23z036/Assignment1_ReLoaded_15thJuly</a>"
            ]
          },
          "metadata": {}
        },
        {
          "output_type": "display_data",
          "data": {
            "text/plain": [
              "<IPython.core.display.HTML object>"
            ],
            "text/html": [
              " View sweep at <a href='https://wandb.ai/cs23z036/Assignment1_ReLoaded_15thJuly/sweeps/az1ucc60' target=\"_blank\">https://wandb.ai/cs23z036/Assignment1_ReLoaded_15thJuly/sweeps/az1ucc60</a>"
            ]
          },
          "metadata": {}
        },
        {
          "output_type": "display_data",
          "data": {
            "text/plain": [
              "<IPython.core.display.HTML object>"
            ],
            "text/html": [
              " View run at <a href='https://wandb.ai/cs23z036/Assignment1_ReLoaded_15thJuly/runs/hzft6d5g' target=\"_blank\">https://wandb.ai/cs23z036/Assignment1_ReLoaded_15thJuly/runs/hzft6d5g</a>"
            ]
          },
          "metadata": {}
        },
        {
          "output_type": "display_data",
          "data": {
            "text/plain": [
              "<IPython.core.display.HTML object>"
            ],
            "text/html": [
              "Waiting for W&B process to finish... <strong style=\"color:green\">(success).</strong>"
            ]
          },
          "metadata": {}
        },
        {
          "output_type": "display_data",
          "data": {
            "text/plain": [
              "<IPython.core.display.HTML object>"
            ],
            "text/html": [
              "<style>\n",
              "    table.wandb td:nth-child(1) { padding: 0 10px; text-align: left ; width: auto;} td:nth-child(2) {text-align: left ; width: 100%}\n",
              "    .wandb-row { display: flex; flex-direction: row; flex-wrap: wrap; justify-content: flex-start; width: 100% }\n",
              "    .wandb-col { display: flex; flex-direction: column; flex-basis: 100%; flex: 1; padding: 10px; }\n",
              "    </style>\n",
              "<div class=\"wandb-row\"><div class=\"wandb-col\"><h3>Run history:</h3><br/><table class=\"wandb\"><tr><td>batch size</td><td>▁</td></tr><tr><td>epochs</td><td>▁</td></tr><tr><td>layer size</td><td>▁</td></tr><tr><td>learning rate</td><td>▁</td></tr><tr><td>no of hidden layers</td><td>▁</td></tr><tr><td>validation accuracy</td><td>▁</td></tr><tr><td>validation loss</td><td>▁</td></tr></table><br/></div><div class=\"wandb-col\"><h3>Run summary:</h3><br/><table class=\"wandb\"><tr><td>batch size</td><td>32</td></tr><tr><td>epochs</td><td>5</td></tr><tr><td>layer size</td><td>64</td></tr><tr><td>learning rate</td><td>0.005</td></tr><tr><td>no of hidden layers</td><td>3</td></tr><tr><td>optimizer</td><td>nesterov</td></tr><tr><td>validation accuracy</td><td>0.835</td></tr><tr><td>validation loss</td><td>0.46999</td></tr></table><br/></div></div>"
            ]
          },
          "metadata": {}
        },
        {
          "output_type": "display_data",
          "data": {
            "text/plain": [
              "<IPython.core.display.HTML object>"
            ],
            "text/html": [
              " View run <strong style=\"color:#cdcd00\">drawn-sweep-22</strong> at: <a href='https://wandb.ai/cs23z036/Assignment1_ReLoaded_15thJuly/runs/hzft6d5g' target=\"_blank\">https://wandb.ai/cs23z036/Assignment1_ReLoaded_15thJuly/runs/hzft6d5g</a><br/>Synced 4 W&B file(s), 0 media file(s), 0 artifact file(s) and 0 other file(s)"
            ]
          },
          "metadata": {}
        },
        {
          "output_type": "display_data",
          "data": {
            "text/plain": [
              "<IPython.core.display.HTML object>"
            ],
            "text/html": [
              "Find logs at: <code>./wandb/run-20230715_100200-hzft6d5g/logs</code>"
            ]
          },
          "metadata": {}
        },
        {
          "output_type": "stream",
          "name": "stderr",
          "text": [
            "\u001b[34m\u001b[1mwandb\u001b[0m: Agent Starting Run: f5v1ckns with config:\n",
            "\u001b[34m\u001b[1mwandb\u001b[0m: \tactivation: sigmoid\n",
            "\u001b[34m\u001b[1mwandb\u001b[0m: \tbatch_size: 32\n",
            "\u001b[34m\u001b[1mwandb\u001b[0m: \tepochs: 5\n",
            "\u001b[34m\u001b[1mwandb\u001b[0m: \teta: 0.005\n",
            "\u001b[34m\u001b[1mwandb\u001b[0m: \thidden_layers: 3\n",
            "\u001b[34m\u001b[1mwandb\u001b[0m: \toptimizer: nesterov\n",
            "\u001b[34m\u001b[1mwandb\u001b[0m: \tsize: 64\n",
            "\u001b[34m\u001b[1mwandb\u001b[0m: \twt_decay: 0.05\n",
            "\u001b[34m\u001b[1mwandb\u001b[0m: \twt_init: xavier\n"
          ]
        },
        {
          "output_type": "display_data",
          "data": {
            "text/plain": [
              "<IPython.core.display.HTML object>"
            ],
            "text/html": [
              "Tracking run with wandb version 0.15.5"
            ]
          },
          "metadata": {}
        },
        {
          "output_type": "display_data",
          "data": {
            "text/plain": [
              "<IPython.core.display.HTML object>"
            ],
            "text/html": [
              "Run data is saved locally in <code>/content/wandb/run-20230715_100536-f5v1ckns</code>"
            ]
          },
          "metadata": {}
        },
        {
          "output_type": "display_data",
          "data": {
            "text/plain": [
              "<IPython.core.display.HTML object>"
            ],
            "text/html": [
              "Syncing run <strong><a href='https://wandb.ai/cs23z036/Assignment1_ReLoaded_15thJuly/runs/f5v1ckns' target=\"_blank\">usual-sweep-23</a></strong> to <a href='https://wandb.ai/cs23z036/Assignment1_ReLoaded_15thJuly' target=\"_blank\">Weights & Biases</a> (<a href='https://wandb.me/run' target=\"_blank\">docs</a>)<br/>Sweep page: <a href='https://wandb.ai/cs23z036/Assignment1_ReLoaded_15thJuly/sweeps/az1ucc60' target=\"_blank\">https://wandb.ai/cs23z036/Assignment1_ReLoaded_15thJuly/sweeps/az1ucc60</a>"
            ]
          },
          "metadata": {}
        },
        {
          "output_type": "display_data",
          "data": {
            "text/plain": [
              "<IPython.core.display.HTML object>"
            ],
            "text/html": [
              " View project at <a href='https://wandb.ai/cs23z036/Assignment1_ReLoaded_15thJuly' target=\"_blank\">https://wandb.ai/cs23z036/Assignment1_ReLoaded_15thJuly</a>"
            ]
          },
          "metadata": {}
        },
        {
          "output_type": "display_data",
          "data": {
            "text/plain": [
              "<IPython.core.display.HTML object>"
            ],
            "text/html": [
              " View sweep at <a href='https://wandb.ai/cs23z036/Assignment1_ReLoaded_15thJuly/sweeps/az1ucc60' target=\"_blank\">https://wandb.ai/cs23z036/Assignment1_ReLoaded_15thJuly/sweeps/az1ucc60</a>"
            ]
          },
          "metadata": {}
        },
        {
          "output_type": "display_data",
          "data": {
            "text/plain": [
              "<IPython.core.display.HTML object>"
            ],
            "text/html": [
              " View run at <a href='https://wandb.ai/cs23z036/Assignment1_ReLoaded_15thJuly/runs/f5v1ckns' target=\"_blank\">https://wandb.ai/cs23z036/Assignment1_ReLoaded_15thJuly/runs/f5v1ckns</a>"
            ]
          },
          "metadata": {}
        },
        {
          "output_type": "display_data",
          "data": {
            "text/plain": [
              "<IPython.core.display.HTML object>"
            ],
            "text/html": [
              "Waiting for W&B process to finish... <strong style=\"color:green\">(success).</strong>"
            ]
          },
          "metadata": {}
        },
        {
          "output_type": "display_data",
          "data": {
            "text/plain": [
              "<IPython.core.display.HTML object>"
            ],
            "text/html": [
              "<style>\n",
              "    table.wandb td:nth-child(1) { padding: 0 10px; text-align: left ; width: auto;} td:nth-child(2) {text-align: left ; width: 100%}\n",
              "    .wandb-row { display: flex; flex-direction: row; flex-wrap: wrap; justify-content: flex-start; width: 100% }\n",
              "    .wandb-col { display: flex; flex-direction: column; flex-basis: 100%; flex: 1; padding: 10px; }\n",
              "    </style>\n",
              "<div class=\"wandb-row\"><div class=\"wandb-col\"><h3>Run history:</h3><br/><table class=\"wandb\"><tr><td>batch size</td><td>▁</td></tr><tr><td>epochs</td><td>▁</td></tr><tr><td>layer size</td><td>▁</td></tr><tr><td>learning rate</td><td>▁</td></tr><tr><td>no of hidden layers</td><td>▁</td></tr><tr><td>validation accuracy</td><td>▁</td></tr><tr><td>validation loss</td><td>▁</td></tr></table><br/></div><div class=\"wandb-col\"><h3>Run summary:</h3><br/><table class=\"wandb\"><tr><td>batch size</td><td>32</td></tr><tr><td>epochs</td><td>5</td></tr><tr><td>layer size</td><td>64</td></tr><tr><td>learning rate</td><td>0.005</td></tr><tr><td>no of hidden layers</td><td>3</td></tr><tr><td>optimizer</td><td>nesterov</td></tr><tr><td>validation accuracy</td><td>0.8573</td></tr><tr><td>validation loss</td><td>0.40985</td></tr></table><br/></div></div>"
            ]
          },
          "metadata": {}
        },
        {
          "output_type": "display_data",
          "data": {
            "text/plain": [
              "<IPython.core.display.HTML object>"
            ],
            "text/html": [
              " View run <strong style=\"color:#cdcd00\">usual-sweep-23</strong> at: <a href='https://wandb.ai/cs23z036/Assignment1_ReLoaded_15thJuly/runs/f5v1ckns' target=\"_blank\">https://wandb.ai/cs23z036/Assignment1_ReLoaded_15thJuly/runs/f5v1ckns</a><br/>Synced 4 W&B file(s), 0 media file(s), 0 artifact file(s) and 0 other file(s)"
            ]
          },
          "metadata": {}
        },
        {
          "output_type": "display_data",
          "data": {
            "text/plain": [
              "<IPython.core.display.HTML object>"
            ],
            "text/html": [
              "Find logs at: <code>./wandb/run-20230715_100536-f5v1ckns/logs</code>"
            ]
          },
          "metadata": {}
        },
        {
          "output_type": "stream",
          "name": "stderr",
          "text": [
            "\u001b[34m\u001b[1mwandb\u001b[0m: Agent Starting Run: 02bt6ppw with config:\n",
            "\u001b[34m\u001b[1mwandb\u001b[0m: \tactivation: sigmoid\n",
            "\u001b[34m\u001b[1mwandb\u001b[0m: \tbatch_size: 32\n",
            "\u001b[34m\u001b[1mwandb\u001b[0m: \tepochs: 5\n",
            "\u001b[34m\u001b[1mwandb\u001b[0m: \teta: 0.005\n",
            "\u001b[34m\u001b[1mwandb\u001b[0m: \thidden_layers: 3\n",
            "\u001b[34m\u001b[1mwandb\u001b[0m: \toptimizer: nesterov\n",
            "\u001b[34m\u001b[1mwandb\u001b[0m: \tsize: 64\n",
            "\u001b[34m\u001b[1mwandb\u001b[0m: \twt_decay: 0.05\n",
            "\u001b[34m\u001b[1mwandb\u001b[0m: \twt_init: random\n"
          ]
        },
        {
          "output_type": "display_data",
          "data": {
            "text/plain": [
              "<IPython.core.display.HTML object>"
            ],
            "text/html": [
              "Tracking run with wandb version 0.15.5"
            ]
          },
          "metadata": {}
        },
        {
          "output_type": "display_data",
          "data": {
            "text/plain": [
              "<IPython.core.display.HTML object>"
            ],
            "text/html": [
              "Run data is saved locally in <code>/content/wandb/run-20230715_100916-02bt6ppw</code>"
            ]
          },
          "metadata": {}
        },
        {
          "output_type": "display_data",
          "data": {
            "text/plain": [
              "<IPython.core.display.HTML object>"
            ],
            "text/html": [
              "Syncing run <strong><a href='https://wandb.ai/cs23z036/Assignment1_ReLoaded_15thJuly/runs/02bt6ppw' target=\"_blank\">vital-sweep-24</a></strong> to <a href='https://wandb.ai/cs23z036/Assignment1_ReLoaded_15thJuly' target=\"_blank\">Weights & Biases</a> (<a href='https://wandb.me/run' target=\"_blank\">docs</a>)<br/>Sweep page: <a href='https://wandb.ai/cs23z036/Assignment1_ReLoaded_15thJuly/sweeps/az1ucc60' target=\"_blank\">https://wandb.ai/cs23z036/Assignment1_ReLoaded_15thJuly/sweeps/az1ucc60</a>"
            ]
          },
          "metadata": {}
        },
        {
          "output_type": "display_data",
          "data": {
            "text/plain": [
              "<IPython.core.display.HTML object>"
            ],
            "text/html": [
              " View project at <a href='https://wandb.ai/cs23z036/Assignment1_ReLoaded_15thJuly' target=\"_blank\">https://wandb.ai/cs23z036/Assignment1_ReLoaded_15thJuly</a>"
            ]
          },
          "metadata": {}
        },
        {
          "output_type": "display_data",
          "data": {
            "text/plain": [
              "<IPython.core.display.HTML object>"
            ],
            "text/html": [
              " View sweep at <a href='https://wandb.ai/cs23z036/Assignment1_ReLoaded_15thJuly/sweeps/az1ucc60' target=\"_blank\">https://wandb.ai/cs23z036/Assignment1_ReLoaded_15thJuly/sweeps/az1ucc60</a>"
            ]
          },
          "metadata": {}
        },
        {
          "output_type": "display_data",
          "data": {
            "text/plain": [
              "<IPython.core.display.HTML object>"
            ],
            "text/html": [
              " View run at <a href='https://wandb.ai/cs23z036/Assignment1_ReLoaded_15thJuly/runs/02bt6ppw' target=\"_blank\">https://wandb.ai/cs23z036/Assignment1_ReLoaded_15thJuly/runs/02bt6ppw</a>"
            ]
          },
          "metadata": {}
        },
        {
          "output_type": "display_data",
          "data": {
            "text/plain": [
              "<IPython.core.display.HTML object>"
            ],
            "text/html": [
              "Waiting for W&B process to finish... <strong style=\"color:green\">(success).</strong>"
            ]
          },
          "metadata": {}
        },
        {
          "output_type": "display_data",
          "data": {
            "text/plain": [
              "<IPython.core.display.HTML object>"
            ],
            "text/html": [
              "<style>\n",
              "    table.wandb td:nth-child(1) { padding: 0 10px; text-align: left ; width: auto;} td:nth-child(2) {text-align: left ; width: 100%}\n",
              "    .wandb-row { display: flex; flex-direction: row; flex-wrap: wrap; justify-content: flex-start; width: 100% }\n",
              "    .wandb-col { display: flex; flex-direction: column; flex-basis: 100%; flex: 1; padding: 10px; }\n",
              "    </style>\n",
              "<div class=\"wandb-row\"><div class=\"wandb-col\"><h3>Run history:</h3><br/><table class=\"wandb\"><tr><td>batch size</td><td>▁</td></tr><tr><td>epochs</td><td>▁</td></tr><tr><td>layer size</td><td>▁</td></tr><tr><td>learning rate</td><td>▁</td></tr><tr><td>no of hidden layers</td><td>▁</td></tr><tr><td>validation accuracy</td><td>▁</td></tr><tr><td>validation loss</td><td>▁</td></tr></table><br/></div><div class=\"wandb-col\"><h3>Run summary:</h3><br/><table class=\"wandb\"><tr><td>batch size</td><td>32</td></tr><tr><td>epochs</td><td>5</td></tr><tr><td>layer size</td><td>64</td></tr><tr><td>learning rate</td><td>0.005</td></tr><tr><td>no of hidden layers</td><td>3</td></tr><tr><td>optimizer</td><td>nesterov</td></tr><tr><td>validation accuracy</td><td>0.8372</td></tr><tr><td>validation loss</td><td>0.44779</td></tr></table><br/></div></div>"
            ]
          },
          "metadata": {}
        },
        {
          "output_type": "display_data",
          "data": {
            "text/plain": [
              "<IPython.core.display.HTML object>"
            ],
            "text/html": [
              " View run <strong style=\"color:#cdcd00\">vital-sweep-24</strong> at: <a href='https://wandb.ai/cs23z036/Assignment1_ReLoaded_15thJuly/runs/02bt6ppw' target=\"_blank\">https://wandb.ai/cs23z036/Assignment1_ReLoaded_15thJuly/runs/02bt6ppw</a><br/>Synced 4 W&B file(s), 0 media file(s), 0 artifact file(s) and 0 other file(s)"
            ]
          },
          "metadata": {}
        },
        {
          "output_type": "display_data",
          "data": {
            "text/plain": [
              "<IPython.core.display.HTML object>"
            ],
            "text/html": [
              "Find logs at: <code>./wandb/run-20230715_100916-02bt6ppw/logs</code>"
            ]
          },
          "metadata": {}
        },
        {
          "output_type": "stream",
          "name": "stderr",
          "text": [
            "\u001b[34m\u001b[1mwandb\u001b[0m: Agent Starting Run: ouiky53n with config:\n",
            "\u001b[34m\u001b[1mwandb\u001b[0m: \tactivation: sigmoid\n",
            "\u001b[34m\u001b[1mwandb\u001b[0m: \tbatch_size: 32\n",
            "\u001b[34m\u001b[1mwandb\u001b[0m: \tepochs: 5\n",
            "\u001b[34m\u001b[1mwandb\u001b[0m: \teta: 0.005\n",
            "\u001b[34m\u001b[1mwandb\u001b[0m: \thidden_layers: 3\n",
            "\u001b[34m\u001b[1mwandb\u001b[0m: \toptimizer: rmsprop\n",
            "\u001b[34m\u001b[1mwandb\u001b[0m: \tsize: 32\n",
            "\u001b[34m\u001b[1mwandb\u001b[0m: \twt_decay: 0.005\n",
            "\u001b[34m\u001b[1mwandb\u001b[0m: \twt_init: xavier\n"
          ]
        },
        {
          "output_type": "display_data",
          "data": {
            "text/plain": [
              "VBox(children=(Label(value='Waiting for wandb.init()...\\r'), FloatProgress(value=0.016669247366644414, max=1.0…"
            ],
            "application/vnd.jupyter.widget-view+json": {
              "version_major": 2,
              "version_minor": 0,
              "model_id": "90ae6d0143644de393f38cd364bfff79"
            }
          },
          "metadata": {}
        },
        {
          "output_type": "display_data",
          "data": {
            "text/plain": [
              "<IPython.core.display.HTML object>"
            ],
            "text/html": [
              "Tracking run with wandb version 0.15.5"
            ]
          },
          "metadata": {}
        },
        {
          "output_type": "display_data",
          "data": {
            "text/plain": [
              "<IPython.core.display.HTML object>"
            ],
            "text/html": [
              "Run data is saved locally in <code>/content/wandb/run-20230715_101256-ouiky53n</code>"
            ]
          },
          "metadata": {}
        },
        {
          "output_type": "display_data",
          "data": {
            "text/plain": [
              "<IPython.core.display.HTML object>"
            ],
            "text/html": [
              "Syncing run <strong><a href='https://wandb.ai/cs23z036/Assignment1_ReLoaded_15thJuly/runs/ouiky53n' target=\"_blank\">atomic-sweep-25</a></strong> to <a href='https://wandb.ai/cs23z036/Assignment1_ReLoaded_15thJuly' target=\"_blank\">Weights & Biases</a> (<a href='https://wandb.me/run' target=\"_blank\">docs</a>)<br/>Sweep page: <a href='https://wandb.ai/cs23z036/Assignment1_ReLoaded_15thJuly/sweeps/az1ucc60' target=\"_blank\">https://wandb.ai/cs23z036/Assignment1_ReLoaded_15thJuly/sweeps/az1ucc60</a>"
            ]
          },
          "metadata": {}
        },
        {
          "output_type": "display_data",
          "data": {
            "text/plain": [
              "<IPython.core.display.HTML object>"
            ],
            "text/html": [
              " View project at <a href='https://wandb.ai/cs23z036/Assignment1_ReLoaded_15thJuly' target=\"_blank\">https://wandb.ai/cs23z036/Assignment1_ReLoaded_15thJuly</a>"
            ]
          },
          "metadata": {}
        },
        {
          "output_type": "display_data",
          "data": {
            "text/plain": [
              "<IPython.core.display.HTML object>"
            ],
            "text/html": [
              " View sweep at <a href='https://wandb.ai/cs23z036/Assignment1_ReLoaded_15thJuly/sweeps/az1ucc60' target=\"_blank\">https://wandb.ai/cs23z036/Assignment1_ReLoaded_15thJuly/sweeps/az1ucc60</a>"
            ]
          },
          "metadata": {}
        },
        {
          "output_type": "display_data",
          "data": {
            "text/plain": [
              "<IPython.core.display.HTML object>"
            ],
            "text/html": [
              " View run at <a href='https://wandb.ai/cs23z036/Assignment1_ReLoaded_15thJuly/runs/ouiky53n' target=\"_blank\">https://wandb.ai/cs23z036/Assignment1_ReLoaded_15thJuly/runs/ouiky53n</a>"
            ]
          },
          "metadata": {}
        },
        {
          "output_type": "display_data",
          "data": {
            "text/plain": [
              "<IPython.core.display.HTML object>"
            ],
            "text/html": [
              "Waiting for W&B process to finish... <strong style=\"color:green\">(success).</strong>"
            ]
          },
          "metadata": {}
        },
        {
          "output_type": "display_data",
          "data": {
            "text/plain": [
              "<IPython.core.display.HTML object>"
            ],
            "text/html": [
              "<style>\n",
              "    table.wandb td:nth-child(1) { padding: 0 10px; text-align: left ; width: auto;} td:nth-child(2) {text-align: left ; width: 100%}\n",
              "    .wandb-row { display: flex; flex-direction: row; flex-wrap: wrap; justify-content: flex-start; width: 100% }\n",
              "    .wandb-col { display: flex; flex-direction: column; flex-basis: 100%; flex: 1; padding: 10px; }\n",
              "    </style>\n",
              "<div class=\"wandb-row\"><div class=\"wandb-col\"><h3>Run history:</h3><br/><table class=\"wandb\"><tr><td>batch size</td><td>▁</td></tr><tr><td>epochs</td><td>▁</td></tr><tr><td>layer size</td><td>▁</td></tr><tr><td>learning rate</td><td>▁</td></tr><tr><td>no of hidden layers</td><td>▁</td></tr><tr><td>validation accuracy</td><td>▁</td></tr><tr><td>validation loss</td><td>▁</td></tr></table><br/></div><div class=\"wandb-col\"><h3>Run summary:</h3><br/><table class=\"wandb\"><tr><td>batch size</td><td>32</td></tr><tr><td>epochs</td><td>5</td></tr><tr><td>layer size</td><td>32</td></tr><tr><td>learning rate</td><td>0.005</td></tr><tr><td>no of hidden layers</td><td>3</td></tr><tr><td>optimizer</td><td>rmsprop</td></tr><tr><td>validation accuracy</td><td>0.8568</td></tr><tr><td>validation loss</td><td>0.40327</td></tr></table><br/></div></div>"
            ]
          },
          "metadata": {}
        },
        {
          "output_type": "display_data",
          "data": {
            "text/plain": [
              "<IPython.core.display.HTML object>"
            ],
            "text/html": [
              " View run <strong style=\"color:#cdcd00\">atomic-sweep-25</strong> at: <a href='https://wandb.ai/cs23z036/Assignment1_ReLoaded_15thJuly/runs/ouiky53n' target=\"_blank\">https://wandb.ai/cs23z036/Assignment1_ReLoaded_15thJuly/runs/ouiky53n</a><br/>Synced 4 W&B file(s), 0 media file(s), 0 artifact file(s) and 0 other file(s)"
            ]
          },
          "metadata": {}
        },
        {
          "output_type": "display_data",
          "data": {
            "text/plain": [
              "<IPython.core.display.HTML object>"
            ],
            "text/html": [
              "Find logs at: <code>./wandb/run-20230715_101256-ouiky53n/logs</code>"
            ]
          },
          "metadata": {}
        },
        {
          "output_type": "stream",
          "name": "stderr",
          "text": [
            "\u001b[34m\u001b[1mwandb\u001b[0m: Agent Starting Run: 1q4r8hts with config:\n",
            "\u001b[34m\u001b[1mwandb\u001b[0m: \tactivation: sigmoid\n",
            "\u001b[34m\u001b[1mwandb\u001b[0m: \tbatch_size: 32\n",
            "\u001b[34m\u001b[1mwandb\u001b[0m: \tepochs: 5\n",
            "\u001b[34m\u001b[1mwandb\u001b[0m: \teta: 0.005\n",
            "\u001b[34m\u001b[1mwandb\u001b[0m: \thidden_layers: 3\n",
            "\u001b[34m\u001b[1mwandb\u001b[0m: \toptimizer: rmsprop\n",
            "\u001b[34m\u001b[1mwandb\u001b[0m: \tsize: 32\n",
            "\u001b[34m\u001b[1mwandb\u001b[0m: \twt_decay: 0.005\n",
            "\u001b[34m\u001b[1mwandb\u001b[0m: \twt_init: random\n"
          ]
        },
        {
          "output_type": "display_data",
          "data": {
            "text/plain": [
              "<IPython.core.display.HTML object>"
            ],
            "text/html": [
              "Tracking run with wandb version 0.15.5"
            ]
          },
          "metadata": {}
        },
        {
          "output_type": "display_data",
          "data": {
            "text/plain": [
              "<IPython.core.display.HTML object>"
            ],
            "text/html": [
              "Run data is saved locally in <code>/content/wandb/run-20230715_101522-1q4r8hts</code>"
            ]
          },
          "metadata": {}
        },
        {
          "output_type": "display_data",
          "data": {
            "text/plain": [
              "<IPython.core.display.HTML object>"
            ],
            "text/html": [
              "Syncing run <strong><a href='https://wandb.ai/cs23z036/Assignment1_ReLoaded_15thJuly/runs/1q4r8hts' target=\"_blank\">rose-sweep-26</a></strong> to <a href='https://wandb.ai/cs23z036/Assignment1_ReLoaded_15thJuly' target=\"_blank\">Weights & Biases</a> (<a href='https://wandb.me/run' target=\"_blank\">docs</a>)<br/>Sweep page: <a href='https://wandb.ai/cs23z036/Assignment1_ReLoaded_15thJuly/sweeps/az1ucc60' target=\"_blank\">https://wandb.ai/cs23z036/Assignment1_ReLoaded_15thJuly/sweeps/az1ucc60</a>"
            ]
          },
          "metadata": {}
        },
        {
          "output_type": "display_data",
          "data": {
            "text/plain": [
              "<IPython.core.display.HTML object>"
            ],
            "text/html": [
              " View project at <a href='https://wandb.ai/cs23z036/Assignment1_ReLoaded_15thJuly' target=\"_blank\">https://wandb.ai/cs23z036/Assignment1_ReLoaded_15thJuly</a>"
            ]
          },
          "metadata": {}
        },
        {
          "output_type": "display_data",
          "data": {
            "text/plain": [
              "<IPython.core.display.HTML object>"
            ],
            "text/html": [
              " View sweep at <a href='https://wandb.ai/cs23z036/Assignment1_ReLoaded_15thJuly/sweeps/az1ucc60' target=\"_blank\">https://wandb.ai/cs23z036/Assignment1_ReLoaded_15thJuly/sweeps/az1ucc60</a>"
            ]
          },
          "metadata": {}
        },
        {
          "output_type": "display_data",
          "data": {
            "text/plain": [
              "<IPython.core.display.HTML object>"
            ],
            "text/html": [
              " View run at <a href='https://wandb.ai/cs23z036/Assignment1_ReLoaded_15thJuly/runs/1q4r8hts' target=\"_blank\">https://wandb.ai/cs23z036/Assignment1_ReLoaded_15thJuly/runs/1q4r8hts</a>"
            ]
          },
          "metadata": {}
        },
        {
          "output_type": "display_data",
          "data": {
            "text/plain": [
              "<IPython.core.display.HTML object>"
            ],
            "text/html": [
              "Waiting for W&B process to finish... <strong style=\"color:green\">(success).</strong>"
            ]
          },
          "metadata": {}
        },
        {
          "output_type": "display_data",
          "data": {
            "text/plain": [
              "<IPython.core.display.HTML object>"
            ],
            "text/html": [
              "<style>\n",
              "    table.wandb td:nth-child(1) { padding: 0 10px; text-align: left ; width: auto;} td:nth-child(2) {text-align: left ; width: 100%}\n",
              "    .wandb-row { display: flex; flex-direction: row; flex-wrap: wrap; justify-content: flex-start; width: 100% }\n",
              "    .wandb-col { display: flex; flex-direction: column; flex-basis: 100%; flex: 1; padding: 10px; }\n",
              "    </style>\n",
              "<div class=\"wandb-row\"><div class=\"wandb-col\"><h3>Run history:</h3><br/><table class=\"wandb\"><tr><td>batch size</td><td>▁</td></tr><tr><td>epochs</td><td>▁</td></tr><tr><td>layer size</td><td>▁</td></tr><tr><td>learning rate</td><td>▁</td></tr><tr><td>no of hidden layers</td><td>▁</td></tr><tr><td>validation accuracy</td><td>▁</td></tr><tr><td>validation loss</td><td>▁</td></tr></table><br/></div><div class=\"wandb-col\"><h3>Run summary:</h3><br/><table class=\"wandb\"><tr><td>batch size</td><td>32</td></tr><tr><td>epochs</td><td>5</td></tr><tr><td>layer size</td><td>32</td></tr><tr><td>learning rate</td><td>0.005</td></tr><tr><td>no of hidden layers</td><td>3</td></tr><tr><td>optimizer</td><td>rmsprop</td></tr><tr><td>validation accuracy</td><td>0.846</td></tr><tr><td>validation loss</td><td>0.43818</td></tr></table><br/></div></div>"
            ]
          },
          "metadata": {}
        },
        {
          "output_type": "display_data",
          "data": {
            "text/plain": [
              "<IPython.core.display.HTML object>"
            ],
            "text/html": [
              " View run <strong style=\"color:#cdcd00\">rose-sweep-26</strong> at: <a href='https://wandb.ai/cs23z036/Assignment1_ReLoaded_15thJuly/runs/1q4r8hts' target=\"_blank\">https://wandb.ai/cs23z036/Assignment1_ReLoaded_15thJuly/runs/1q4r8hts</a><br/>Synced 4 W&B file(s), 0 media file(s), 0 artifact file(s) and 0 other file(s)"
            ]
          },
          "metadata": {}
        },
        {
          "output_type": "display_data",
          "data": {
            "text/plain": [
              "<IPython.core.display.HTML object>"
            ],
            "text/html": [
              "Find logs at: <code>./wandb/run-20230715_101522-1q4r8hts/logs</code>"
            ]
          },
          "metadata": {}
        },
        {
          "output_type": "stream",
          "name": "stderr",
          "text": [
            "\u001b[34m\u001b[1mwandb\u001b[0m: Agent Starting Run: aj14gc7o with config:\n",
            "\u001b[34m\u001b[1mwandb\u001b[0m: \tactivation: sigmoid\n",
            "\u001b[34m\u001b[1mwandb\u001b[0m: \tbatch_size: 32\n",
            "\u001b[34m\u001b[1mwandb\u001b[0m: \tepochs: 5\n",
            "\u001b[34m\u001b[1mwandb\u001b[0m: \teta: 0.005\n",
            "\u001b[34m\u001b[1mwandb\u001b[0m: \thidden_layers: 3\n",
            "\u001b[34m\u001b[1mwandb\u001b[0m: \toptimizer: rmsprop\n",
            "\u001b[34m\u001b[1mwandb\u001b[0m: \tsize: 32\n",
            "\u001b[34m\u001b[1mwandb\u001b[0m: \twt_decay: 0.05\n",
            "\u001b[34m\u001b[1mwandb\u001b[0m: \twt_init: xavier\n"
          ]
        },
        {
          "output_type": "display_data",
          "data": {
            "text/plain": [
              "VBox(children=(Label(value='Waiting for wandb.init()...\\r'), FloatProgress(value=0.016670357716672395, max=1.0…"
            ],
            "application/vnd.jupyter.widget-view+json": {
              "version_major": 2,
              "version_minor": 0,
              "model_id": "05a9669e71054c2d8c957d6565ffe295"
            }
          },
          "metadata": {}
        },
        {
          "output_type": "display_data",
          "data": {
            "text/plain": [
              "<IPython.core.display.HTML object>"
            ],
            "text/html": [
              "Tracking run with wandb version 0.15.5"
            ]
          },
          "metadata": {}
        },
        {
          "output_type": "display_data",
          "data": {
            "text/plain": [
              "<IPython.core.display.HTML object>"
            ],
            "text/html": [
              "Run data is saved locally in <code>/content/wandb/run-20230715_101743-aj14gc7o</code>"
            ]
          },
          "metadata": {}
        },
        {
          "output_type": "display_data",
          "data": {
            "text/plain": [
              "<IPython.core.display.HTML object>"
            ],
            "text/html": [
              "Syncing run <strong><a href='https://wandb.ai/cs23z036/Assignment1_ReLoaded_15thJuly/runs/aj14gc7o' target=\"_blank\">wild-sweep-27</a></strong> to <a href='https://wandb.ai/cs23z036/Assignment1_ReLoaded_15thJuly' target=\"_blank\">Weights & Biases</a> (<a href='https://wandb.me/run' target=\"_blank\">docs</a>)<br/>Sweep page: <a href='https://wandb.ai/cs23z036/Assignment1_ReLoaded_15thJuly/sweeps/az1ucc60' target=\"_blank\">https://wandb.ai/cs23z036/Assignment1_ReLoaded_15thJuly/sweeps/az1ucc60</a>"
            ]
          },
          "metadata": {}
        },
        {
          "output_type": "display_data",
          "data": {
            "text/plain": [
              "<IPython.core.display.HTML object>"
            ],
            "text/html": [
              " View project at <a href='https://wandb.ai/cs23z036/Assignment1_ReLoaded_15thJuly' target=\"_blank\">https://wandb.ai/cs23z036/Assignment1_ReLoaded_15thJuly</a>"
            ]
          },
          "metadata": {}
        },
        {
          "output_type": "display_data",
          "data": {
            "text/plain": [
              "<IPython.core.display.HTML object>"
            ],
            "text/html": [
              " View sweep at <a href='https://wandb.ai/cs23z036/Assignment1_ReLoaded_15thJuly/sweeps/az1ucc60' target=\"_blank\">https://wandb.ai/cs23z036/Assignment1_ReLoaded_15thJuly/sweeps/az1ucc60</a>"
            ]
          },
          "metadata": {}
        },
        {
          "output_type": "display_data",
          "data": {
            "text/plain": [
              "<IPython.core.display.HTML object>"
            ],
            "text/html": [
              " View run at <a href='https://wandb.ai/cs23z036/Assignment1_ReLoaded_15thJuly/runs/aj14gc7o' target=\"_blank\">https://wandb.ai/cs23z036/Assignment1_ReLoaded_15thJuly/runs/aj14gc7o</a>"
            ]
          },
          "metadata": {}
        },
        {
          "output_type": "display_data",
          "data": {
            "text/plain": [
              "<IPython.core.display.HTML object>"
            ],
            "text/html": [
              "Waiting for W&B process to finish... <strong style=\"color:green\">(success).</strong>"
            ]
          },
          "metadata": {}
        },
        {
          "output_type": "display_data",
          "data": {
            "text/plain": [
              "<IPython.core.display.HTML object>"
            ],
            "text/html": [
              "<style>\n",
              "    table.wandb td:nth-child(1) { padding: 0 10px; text-align: left ; width: auto;} td:nth-child(2) {text-align: left ; width: 100%}\n",
              "    .wandb-row { display: flex; flex-direction: row; flex-wrap: wrap; justify-content: flex-start; width: 100% }\n",
              "    .wandb-col { display: flex; flex-direction: column; flex-basis: 100%; flex: 1; padding: 10px; }\n",
              "    </style>\n",
              "<div class=\"wandb-row\"><div class=\"wandb-col\"><h3>Run history:</h3><br/><table class=\"wandb\"><tr><td>batch size</td><td>▁</td></tr><tr><td>epochs</td><td>▁</td></tr><tr><td>layer size</td><td>▁</td></tr><tr><td>learning rate</td><td>▁</td></tr><tr><td>no of hidden layers</td><td>▁</td></tr><tr><td>validation accuracy</td><td>▁</td></tr><tr><td>validation loss</td><td>▁</td></tr></table><br/></div><div class=\"wandb-col\"><h3>Run summary:</h3><br/><table class=\"wandb\"><tr><td>batch size</td><td>32</td></tr><tr><td>epochs</td><td>5</td></tr><tr><td>layer size</td><td>32</td></tr><tr><td>learning rate</td><td>0.005</td></tr><tr><td>no of hidden layers</td><td>3</td></tr><tr><td>optimizer</td><td>rmsprop</td></tr><tr><td>validation accuracy</td><td>0.853</td></tr><tr><td>validation loss</td><td>0.41462</td></tr></table><br/></div></div>"
            ]
          },
          "metadata": {}
        },
        {
          "output_type": "display_data",
          "data": {
            "text/plain": [
              "<IPython.core.display.HTML object>"
            ],
            "text/html": [
              " View run <strong style=\"color:#cdcd00\">wild-sweep-27</strong> at: <a href='https://wandb.ai/cs23z036/Assignment1_ReLoaded_15thJuly/runs/aj14gc7o' target=\"_blank\">https://wandb.ai/cs23z036/Assignment1_ReLoaded_15thJuly/runs/aj14gc7o</a><br/>Synced 4 W&B file(s), 0 media file(s), 0 artifact file(s) and 0 other file(s)"
            ]
          },
          "metadata": {}
        },
        {
          "output_type": "display_data",
          "data": {
            "text/plain": [
              "<IPython.core.display.HTML object>"
            ],
            "text/html": [
              "Find logs at: <code>./wandb/run-20230715_101743-aj14gc7o/logs</code>"
            ]
          },
          "metadata": {}
        },
        {
          "output_type": "stream",
          "name": "stderr",
          "text": [
            "\u001b[34m\u001b[1mwandb\u001b[0m: Agent Starting Run: gpo5pbk8 with config:\n",
            "\u001b[34m\u001b[1mwandb\u001b[0m: \tactivation: sigmoid\n",
            "\u001b[34m\u001b[1mwandb\u001b[0m: \tbatch_size: 32\n",
            "\u001b[34m\u001b[1mwandb\u001b[0m: \tepochs: 5\n",
            "\u001b[34m\u001b[1mwandb\u001b[0m: \teta: 0.005\n",
            "\u001b[34m\u001b[1mwandb\u001b[0m: \thidden_layers: 3\n",
            "\u001b[34m\u001b[1mwandb\u001b[0m: \toptimizer: rmsprop\n",
            "\u001b[34m\u001b[1mwandb\u001b[0m: \tsize: 32\n",
            "\u001b[34m\u001b[1mwandb\u001b[0m: \twt_decay: 0.05\n",
            "\u001b[34m\u001b[1mwandb\u001b[0m: \twt_init: random\n"
          ]
        },
        {
          "output_type": "display_data",
          "data": {
            "text/plain": [
              "<IPython.core.display.HTML object>"
            ],
            "text/html": [
              "Tracking run with wandb version 0.15.5"
            ]
          },
          "metadata": {}
        },
        {
          "output_type": "display_data",
          "data": {
            "text/plain": [
              "<IPython.core.display.HTML object>"
            ],
            "text/html": [
              "Run data is saved locally in <code>/content/wandb/run-20230715_102006-gpo5pbk8</code>"
            ]
          },
          "metadata": {}
        },
        {
          "output_type": "display_data",
          "data": {
            "text/plain": [
              "<IPython.core.display.HTML object>"
            ],
            "text/html": [
              "Syncing run <strong><a href='https://wandb.ai/cs23z036/Assignment1_ReLoaded_15thJuly/runs/gpo5pbk8' target=\"_blank\">pleasant-sweep-28</a></strong> to <a href='https://wandb.ai/cs23z036/Assignment1_ReLoaded_15thJuly' target=\"_blank\">Weights & Biases</a> (<a href='https://wandb.me/run' target=\"_blank\">docs</a>)<br/>Sweep page: <a href='https://wandb.ai/cs23z036/Assignment1_ReLoaded_15thJuly/sweeps/az1ucc60' target=\"_blank\">https://wandb.ai/cs23z036/Assignment1_ReLoaded_15thJuly/sweeps/az1ucc60</a>"
            ]
          },
          "metadata": {}
        },
        {
          "output_type": "display_data",
          "data": {
            "text/plain": [
              "<IPython.core.display.HTML object>"
            ],
            "text/html": [
              " View project at <a href='https://wandb.ai/cs23z036/Assignment1_ReLoaded_15thJuly' target=\"_blank\">https://wandb.ai/cs23z036/Assignment1_ReLoaded_15thJuly</a>"
            ]
          },
          "metadata": {}
        },
        {
          "output_type": "display_data",
          "data": {
            "text/plain": [
              "<IPython.core.display.HTML object>"
            ],
            "text/html": [
              " View sweep at <a href='https://wandb.ai/cs23z036/Assignment1_ReLoaded_15thJuly/sweeps/az1ucc60' target=\"_blank\">https://wandb.ai/cs23z036/Assignment1_ReLoaded_15thJuly/sweeps/az1ucc60</a>"
            ]
          },
          "metadata": {}
        },
        {
          "output_type": "display_data",
          "data": {
            "text/plain": [
              "<IPython.core.display.HTML object>"
            ],
            "text/html": [
              " View run at <a href='https://wandb.ai/cs23z036/Assignment1_ReLoaded_15thJuly/runs/gpo5pbk8' target=\"_blank\">https://wandb.ai/cs23z036/Assignment1_ReLoaded_15thJuly/runs/gpo5pbk8</a>"
            ]
          },
          "metadata": {}
        },
        {
          "output_type": "display_data",
          "data": {
            "text/plain": [
              "<IPython.core.display.HTML object>"
            ],
            "text/html": [
              "Waiting for W&B process to finish... <strong style=\"color:green\">(success).</strong>"
            ]
          },
          "metadata": {}
        },
        {
          "output_type": "display_data",
          "data": {
            "text/plain": [
              "<IPython.core.display.HTML object>"
            ],
            "text/html": [
              "<style>\n",
              "    table.wandb td:nth-child(1) { padding: 0 10px; text-align: left ; width: auto;} td:nth-child(2) {text-align: left ; width: 100%}\n",
              "    .wandb-row { display: flex; flex-direction: row; flex-wrap: wrap; justify-content: flex-start; width: 100% }\n",
              "    .wandb-col { display: flex; flex-direction: column; flex-basis: 100%; flex: 1; padding: 10px; }\n",
              "    </style>\n",
              "<div class=\"wandb-row\"><div class=\"wandb-col\"><h3>Run history:</h3><br/><table class=\"wandb\"><tr><td>batch size</td><td>▁</td></tr><tr><td>epochs</td><td>▁</td></tr><tr><td>layer size</td><td>▁</td></tr><tr><td>learning rate</td><td>▁</td></tr><tr><td>no of hidden layers</td><td>▁</td></tr><tr><td>validation accuracy</td><td>▁</td></tr><tr><td>validation loss</td><td>▁</td></tr></table><br/></div><div class=\"wandb-col\"><h3>Run summary:</h3><br/><table class=\"wandb\"><tr><td>batch size</td><td>32</td></tr><tr><td>epochs</td><td>5</td></tr><tr><td>layer size</td><td>32</td></tr><tr><td>learning rate</td><td>0.005</td></tr><tr><td>no of hidden layers</td><td>3</td></tr><tr><td>optimizer</td><td>rmsprop</td></tr><tr><td>validation accuracy</td><td>0.8505</td></tr><tr><td>validation loss</td><td>0.42554</td></tr></table><br/></div></div>"
            ]
          },
          "metadata": {}
        },
        {
          "output_type": "display_data",
          "data": {
            "text/plain": [
              "<IPython.core.display.HTML object>"
            ],
            "text/html": [
              " View run <strong style=\"color:#cdcd00\">pleasant-sweep-28</strong> at: <a href='https://wandb.ai/cs23z036/Assignment1_ReLoaded_15thJuly/runs/gpo5pbk8' target=\"_blank\">https://wandb.ai/cs23z036/Assignment1_ReLoaded_15thJuly/runs/gpo5pbk8</a><br/>Synced 4 W&B file(s), 0 media file(s), 0 artifact file(s) and 0 other file(s)"
            ]
          },
          "metadata": {}
        },
        {
          "output_type": "display_data",
          "data": {
            "text/plain": [
              "<IPython.core.display.HTML object>"
            ],
            "text/html": [
              "Find logs at: <code>./wandb/run-20230715_102006-gpo5pbk8/logs</code>"
            ]
          },
          "metadata": {}
        },
        {
          "output_type": "stream",
          "name": "stderr",
          "text": [
            "\u001b[34m\u001b[1mwandb\u001b[0m: Agent Starting Run: ue29hoac with config:\n",
            "\u001b[34m\u001b[1mwandb\u001b[0m: \tactivation: sigmoid\n",
            "\u001b[34m\u001b[1mwandb\u001b[0m: \tbatch_size: 32\n",
            "\u001b[34m\u001b[1mwandb\u001b[0m: \tepochs: 5\n",
            "\u001b[34m\u001b[1mwandb\u001b[0m: \teta: 0.005\n",
            "\u001b[34m\u001b[1mwandb\u001b[0m: \thidden_layers: 3\n",
            "\u001b[34m\u001b[1mwandb\u001b[0m: \toptimizer: rmsprop\n",
            "\u001b[34m\u001b[1mwandb\u001b[0m: \tsize: 64\n",
            "\u001b[34m\u001b[1mwandb\u001b[0m: \twt_decay: 0.005\n",
            "\u001b[34m\u001b[1mwandb\u001b[0m: \twt_init: xavier\n"
          ]
        },
        {
          "output_type": "display_data",
          "data": {
            "text/plain": [
              "<IPython.core.display.HTML object>"
            ],
            "text/html": [
              "Tracking run with wandb version 0.15.5"
            ]
          },
          "metadata": {}
        },
        {
          "output_type": "display_data",
          "data": {
            "text/plain": [
              "<IPython.core.display.HTML object>"
            ],
            "text/html": [
              "Run data is saved locally in <code>/content/wandb/run-20230715_102225-ue29hoac</code>"
            ]
          },
          "metadata": {}
        },
        {
          "output_type": "display_data",
          "data": {
            "text/plain": [
              "<IPython.core.display.HTML object>"
            ],
            "text/html": [
              "Syncing run <strong><a href='https://wandb.ai/cs23z036/Assignment1_ReLoaded_15thJuly/runs/ue29hoac' target=\"_blank\">pleasant-sweep-29</a></strong> to <a href='https://wandb.ai/cs23z036/Assignment1_ReLoaded_15thJuly' target=\"_blank\">Weights & Biases</a> (<a href='https://wandb.me/run' target=\"_blank\">docs</a>)<br/>Sweep page: <a href='https://wandb.ai/cs23z036/Assignment1_ReLoaded_15thJuly/sweeps/az1ucc60' target=\"_blank\">https://wandb.ai/cs23z036/Assignment1_ReLoaded_15thJuly/sweeps/az1ucc60</a>"
            ]
          },
          "metadata": {}
        },
        {
          "output_type": "display_data",
          "data": {
            "text/plain": [
              "<IPython.core.display.HTML object>"
            ],
            "text/html": [
              " View project at <a href='https://wandb.ai/cs23z036/Assignment1_ReLoaded_15thJuly' target=\"_blank\">https://wandb.ai/cs23z036/Assignment1_ReLoaded_15thJuly</a>"
            ]
          },
          "metadata": {}
        },
        {
          "output_type": "display_data",
          "data": {
            "text/plain": [
              "<IPython.core.display.HTML object>"
            ],
            "text/html": [
              " View sweep at <a href='https://wandb.ai/cs23z036/Assignment1_ReLoaded_15thJuly/sweeps/az1ucc60' target=\"_blank\">https://wandb.ai/cs23z036/Assignment1_ReLoaded_15thJuly/sweeps/az1ucc60</a>"
            ]
          },
          "metadata": {}
        },
        {
          "output_type": "display_data",
          "data": {
            "text/plain": [
              "<IPython.core.display.HTML object>"
            ],
            "text/html": [
              " View run at <a href='https://wandb.ai/cs23z036/Assignment1_ReLoaded_15thJuly/runs/ue29hoac' target=\"_blank\">https://wandb.ai/cs23z036/Assignment1_ReLoaded_15thJuly/runs/ue29hoac</a>"
            ]
          },
          "metadata": {}
        },
        {
          "output_type": "display_data",
          "data": {
            "text/plain": [
              "<IPython.core.display.HTML object>"
            ],
            "text/html": [
              "Waiting for W&B process to finish... <strong style=\"color:green\">(success).</strong>"
            ]
          },
          "metadata": {}
        },
        {
          "output_type": "display_data",
          "data": {
            "text/plain": [
              "<IPython.core.display.HTML object>"
            ],
            "text/html": [
              "<style>\n",
              "    table.wandb td:nth-child(1) { padding: 0 10px; text-align: left ; width: auto;} td:nth-child(2) {text-align: left ; width: 100%}\n",
              "    .wandb-row { display: flex; flex-direction: row; flex-wrap: wrap; justify-content: flex-start; width: 100% }\n",
              "    .wandb-col { display: flex; flex-direction: column; flex-basis: 100%; flex: 1; padding: 10px; }\n",
              "    </style>\n",
              "<div class=\"wandb-row\"><div class=\"wandb-col\"><h3>Run history:</h3><br/><table class=\"wandb\"><tr><td>batch size</td><td>▁</td></tr><tr><td>epochs</td><td>▁</td></tr><tr><td>layer size</td><td>▁</td></tr><tr><td>learning rate</td><td>▁</td></tr><tr><td>no of hidden layers</td><td>▁</td></tr><tr><td>validation accuracy</td><td>▁</td></tr><tr><td>validation loss</td><td>▁</td></tr></table><br/></div><div class=\"wandb-col\"><h3>Run summary:</h3><br/><table class=\"wandb\"><tr><td>batch size</td><td>32</td></tr><tr><td>epochs</td><td>5</td></tr><tr><td>layer size</td><td>64</td></tr><tr><td>learning rate</td><td>0.005</td></tr><tr><td>no of hidden layers</td><td>3</td></tr><tr><td>optimizer</td><td>rmsprop</td></tr><tr><td>validation accuracy</td><td>0.8653</td></tr><tr><td>validation loss</td><td>0.38064</td></tr></table><br/></div></div>"
            ]
          },
          "metadata": {}
        },
        {
          "output_type": "display_data",
          "data": {
            "text/plain": [
              "<IPython.core.display.HTML object>"
            ],
            "text/html": [
              " View run <strong style=\"color:#cdcd00\">pleasant-sweep-29</strong> at: <a href='https://wandb.ai/cs23z036/Assignment1_ReLoaded_15thJuly/runs/ue29hoac' target=\"_blank\">https://wandb.ai/cs23z036/Assignment1_ReLoaded_15thJuly/runs/ue29hoac</a><br/>Synced 4 W&B file(s), 0 media file(s), 0 artifact file(s) and 0 other file(s)"
            ]
          },
          "metadata": {}
        },
        {
          "output_type": "display_data",
          "data": {
            "text/plain": [
              "<IPython.core.display.HTML object>"
            ],
            "text/html": [
              "Find logs at: <code>./wandb/run-20230715_102225-ue29hoac/logs</code>"
            ]
          },
          "metadata": {}
        },
        {
          "output_type": "stream",
          "name": "stderr",
          "text": [
            "\u001b[34m\u001b[1mwandb\u001b[0m: Agent Starting Run: 82ye2g5k with config:\n",
            "\u001b[34m\u001b[1mwandb\u001b[0m: \tactivation: sigmoid\n",
            "\u001b[34m\u001b[1mwandb\u001b[0m: \tbatch_size: 32\n",
            "\u001b[34m\u001b[1mwandb\u001b[0m: \tepochs: 5\n",
            "\u001b[34m\u001b[1mwandb\u001b[0m: \teta: 0.005\n",
            "\u001b[34m\u001b[1mwandb\u001b[0m: \thidden_layers: 3\n",
            "\u001b[34m\u001b[1mwandb\u001b[0m: \toptimizer: rmsprop\n",
            "\u001b[34m\u001b[1mwandb\u001b[0m: \tsize: 64\n",
            "\u001b[34m\u001b[1mwandb\u001b[0m: \twt_decay: 0.005\n",
            "\u001b[34m\u001b[1mwandb\u001b[0m: \twt_init: random\n"
          ]
        },
        {
          "output_type": "display_data",
          "data": {
            "text/plain": [
              "<IPython.core.display.HTML object>"
            ],
            "text/html": [
              "Tracking run with wandb version 0.15.5"
            ]
          },
          "metadata": {}
        },
        {
          "output_type": "display_data",
          "data": {
            "text/plain": [
              "<IPython.core.display.HTML object>"
            ],
            "text/html": [
              "Run data is saved locally in <code>/content/wandb/run-20230715_102539-82ye2g5k</code>"
            ]
          },
          "metadata": {}
        },
        {
          "output_type": "display_data",
          "data": {
            "text/plain": [
              "<IPython.core.display.HTML object>"
            ],
            "text/html": [
              "Syncing run <strong><a href='https://wandb.ai/cs23z036/Assignment1_ReLoaded_15thJuly/runs/82ye2g5k' target=\"_blank\">comfy-sweep-30</a></strong> to <a href='https://wandb.ai/cs23z036/Assignment1_ReLoaded_15thJuly' target=\"_blank\">Weights & Biases</a> (<a href='https://wandb.me/run' target=\"_blank\">docs</a>)<br/>Sweep page: <a href='https://wandb.ai/cs23z036/Assignment1_ReLoaded_15thJuly/sweeps/az1ucc60' target=\"_blank\">https://wandb.ai/cs23z036/Assignment1_ReLoaded_15thJuly/sweeps/az1ucc60</a>"
            ]
          },
          "metadata": {}
        },
        {
          "output_type": "display_data",
          "data": {
            "text/plain": [
              "<IPython.core.display.HTML object>"
            ],
            "text/html": [
              " View project at <a href='https://wandb.ai/cs23z036/Assignment1_ReLoaded_15thJuly' target=\"_blank\">https://wandb.ai/cs23z036/Assignment1_ReLoaded_15thJuly</a>"
            ]
          },
          "metadata": {}
        },
        {
          "output_type": "display_data",
          "data": {
            "text/plain": [
              "<IPython.core.display.HTML object>"
            ],
            "text/html": [
              " View sweep at <a href='https://wandb.ai/cs23z036/Assignment1_ReLoaded_15thJuly/sweeps/az1ucc60' target=\"_blank\">https://wandb.ai/cs23z036/Assignment1_ReLoaded_15thJuly/sweeps/az1ucc60</a>"
            ]
          },
          "metadata": {}
        },
        {
          "output_type": "display_data",
          "data": {
            "text/plain": [
              "<IPython.core.display.HTML object>"
            ],
            "text/html": [
              " View run at <a href='https://wandb.ai/cs23z036/Assignment1_ReLoaded_15thJuly/runs/82ye2g5k' target=\"_blank\">https://wandb.ai/cs23z036/Assignment1_ReLoaded_15thJuly/runs/82ye2g5k</a>"
            ]
          },
          "metadata": {}
        },
        {
          "output_type": "display_data",
          "data": {
            "text/plain": [
              "<IPython.core.display.HTML object>"
            ],
            "text/html": [
              "Waiting for W&B process to finish... <strong style=\"color:green\">(success).</strong>"
            ]
          },
          "metadata": {}
        },
        {
          "output_type": "display_data",
          "data": {
            "text/plain": [
              "<IPython.core.display.HTML object>"
            ],
            "text/html": [
              "<style>\n",
              "    table.wandb td:nth-child(1) { padding: 0 10px; text-align: left ; width: auto;} td:nth-child(2) {text-align: left ; width: 100%}\n",
              "    .wandb-row { display: flex; flex-direction: row; flex-wrap: wrap; justify-content: flex-start; width: 100% }\n",
              "    .wandb-col { display: flex; flex-direction: column; flex-basis: 100%; flex: 1; padding: 10px; }\n",
              "    </style>\n",
              "<div class=\"wandb-row\"><div class=\"wandb-col\"><h3>Run history:</h3><br/><table class=\"wandb\"><tr><td>batch size</td><td>▁</td></tr><tr><td>epochs</td><td>▁</td></tr><tr><td>layer size</td><td>▁</td></tr><tr><td>learning rate</td><td>▁</td></tr><tr><td>no of hidden layers</td><td>▁</td></tr><tr><td>validation accuracy</td><td>▁</td></tr><tr><td>validation loss</td><td>▁</td></tr></table><br/></div><div class=\"wandb-col\"><h3>Run summary:</h3><br/><table class=\"wandb\"><tr><td>batch size</td><td>32</td></tr><tr><td>epochs</td><td>5</td></tr><tr><td>layer size</td><td>64</td></tr><tr><td>learning rate</td><td>0.005</td></tr><tr><td>no of hidden layers</td><td>3</td></tr><tr><td>optimizer</td><td>rmsprop</td></tr><tr><td>validation accuracy</td><td>0.8536</td></tr><tr><td>validation loss</td><td>0.4175</td></tr></table><br/></div></div>"
            ]
          },
          "metadata": {}
        },
        {
          "output_type": "display_data",
          "data": {
            "text/plain": [
              "<IPython.core.display.HTML object>"
            ],
            "text/html": [
              " View run <strong style=\"color:#cdcd00\">comfy-sweep-30</strong> at: <a href='https://wandb.ai/cs23z036/Assignment1_ReLoaded_15thJuly/runs/82ye2g5k' target=\"_blank\">https://wandb.ai/cs23z036/Assignment1_ReLoaded_15thJuly/runs/82ye2g5k</a><br/>Synced 4 W&B file(s), 0 media file(s), 0 artifact file(s) and 0 other file(s)"
            ]
          },
          "metadata": {}
        },
        {
          "output_type": "display_data",
          "data": {
            "text/plain": [
              "<IPython.core.display.HTML object>"
            ],
            "text/html": [
              "Find logs at: <code>./wandb/run-20230715_102539-82ye2g5k/logs</code>"
            ]
          },
          "metadata": {}
        },
        {
          "output_type": "stream",
          "name": "stderr",
          "text": [
            "\u001b[34m\u001b[1mwandb\u001b[0m: Agent Starting Run: hb94ighr with config:\n",
            "\u001b[34m\u001b[1mwandb\u001b[0m: \tactivation: sigmoid\n",
            "\u001b[34m\u001b[1mwandb\u001b[0m: \tbatch_size: 32\n",
            "\u001b[34m\u001b[1mwandb\u001b[0m: \tepochs: 5\n",
            "\u001b[34m\u001b[1mwandb\u001b[0m: \teta: 0.005\n",
            "\u001b[34m\u001b[1mwandb\u001b[0m: \thidden_layers: 3\n",
            "\u001b[34m\u001b[1mwandb\u001b[0m: \toptimizer: rmsprop\n",
            "\u001b[34m\u001b[1mwandb\u001b[0m: \tsize: 64\n",
            "\u001b[34m\u001b[1mwandb\u001b[0m: \twt_decay: 0.05\n",
            "\u001b[34m\u001b[1mwandb\u001b[0m: \twt_init: xavier\n"
          ]
        },
        {
          "output_type": "display_data",
          "data": {
            "text/plain": [
              "<IPython.core.display.HTML object>"
            ],
            "text/html": [
              "Tracking run with wandb version 0.15.5"
            ]
          },
          "metadata": {}
        },
        {
          "output_type": "display_data",
          "data": {
            "text/plain": [
              "<IPython.core.display.HTML object>"
            ],
            "text/html": [
              "Run data is saved locally in <code>/content/wandb/run-20230715_102847-hb94ighr</code>"
            ]
          },
          "metadata": {}
        },
        {
          "output_type": "display_data",
          "data": {
            "text/plain": [
              "<IPython.core.display.HTML object>"
            ],
            "text/html": [
              "Syncing run <strong><a href='https://wandb.ai/cs23z036/Assignment1_ReLoaded_15thJuly/runs/hb94ighr' target=\"_blank\">radiant-sweep-31</a></strong> to <a href='https://wandb.ai/cs23z036/Assignment1_ReLoaded_15thJuly' target=\"_blank\">Weights & Biases</a> (<a href='https://wandb.me/run' target=\"_blank\">docs</a>)<br/>Sweep page: <a href='https://wandb.ai/cs23z036/Assignment1_ReLoaded_15thJuly/sweeps/az1ucc60' target=\"_blank\">https://wandb.ai/cs23z036/Assignment1_ReLoaded_15thJuly/sweeps/az1ucc60</a>"
            ]
          },
          "metadata": {}
        },
        {
          "output_type": "display_data",
          "data": {
            "text/plain": [
              "<IPython.core.display.HTML object>"
            ],
            "text/html": [
              " View project at <a href='https://wandb.ai/cs23z036/Assignment1_ReLoaded_15thJuly' target=\"_blank\">https://wandb.ai/cs23z036/Assignment1_ReLoaded_15thJuly</a>"
            ]
          },
          "metadata": {}
        },
        {
          "output_type": "display_data",
          "data": {
            "text/plain": [
              "<IPython.core.display.HTML object>"
            ],
            "text/html": [
              " View sweep at <a href='https://wandb.ai/cs23z036/Assignment1_ReLoaded_15thJuly/sweeps/az1ucc60' target=\"_blank\">https://wandb.ai/cs23z036/Assignment1_ReLoaded_15thJuly/sweeps/az1ucc60</a>"
            ]
          },
          "metadata": {}
        },
        {
          "output_type": "display_data",
          "data": {
            "text/plain": [
              "<IPython.core.display.HTML object>"
            ],
            "text/html": [
              " View run at <a href='https://wandb.ai/cs23z036/Assignment1_ReLoaded_15thJuly/runs/hb94ighr' target=\"_blank\">https://wandb.ai/cs23z036/Assignment1_ReLoaded_15thJuly/runs/hb94ighr</a>"
            ]
          },
          "metadata": {}
        },
        {
          "output_type": "display_data",
          "data": {
            "text/plain": [
              "<IPython.core.display.HTML object>"
            ],
            "text/html": [
              "Waiting for W&B process to finish... <strong style=\"color:green\">(success).</strong>"
            ]
          },
          "metadata": {}
        },
        {
          "output_type": "display_data",
          "data": {
            "text/plain": [
              "VBox(children=(Label(value='0.001 MB of 0.009 MB uploaded (0.000 MB deduped)\\r'), FloatProgress(value=0.105775…"
            ],
            "application/vnd.jupyter.widget-view+json": {
              "version_major": 2,
              "version_minor": 0,
              "model_id": "e4c7875e8c88426e82b5363300a4237c"
            }
          },
          "metadata": {}
        },
        {
          "output_type": "display_data",
          "data": {
            "text/plain": [
              "<IPython.core.display.HTML object>"
            ],
            "text/html": [
              "<style>\n",
              "    table.wandb td:nth-child(1) { padding: 0 10px; text-align: left ; width: auto;} td:nth-child(2) {text-align: left ; width: 100%}\n",
              "    .wandb-row { display: flex; flex-direction: row; flex-wrap: wrap; justify-content: flex-start; width: 100% }\n",
              "    .wandb-col { display: flex; flex-direction: column; flex-basis: 100%; flex: 1; padding: 10px; }\n",
              "    </style>\n",
              "<div class=\"wandb-row\"><div class=\"wandb-col\"><h3>Run history:</h3><br/><table class=\"wandb\"><tr><td>batch size</td><td>▁</td></tr><tr><td>epochs</td><td>▁</td></tr><tr><td>layer size</td><td>▁</td></tr><tr><td>learning rate</td><td>▁</td></tr><tr><td>no of hidden layers</td><td>▁</td></tr><tr><td>validation accuracy</td><td>▁</td></tr><tr><td>validation loss</td><td>▁</td></tr></table><br/></div><div class=\"wandb-col\"><h3>Run summary:</h3><br/><table class=\"wandb\"><tr><td>batch size</td><td>32</td></tr><tr><td>epochs</td><td>5</td></tr><tr><td>layer size</td><td>64</td></tr><tr><td>learning rate</td><td>0.005</td></tr><tr><td>no of hidden layers</td><td>3</td></tr><tr><td>optimizer</td><td>rmsprop</td></tr><tr><td>validation accuracy</td><td>0.8556</td></tr><tr><td>validation loss</td><td>0.40169</td></tr></table><br/></div></div>"
            ]
          },
          "metadata": {}
        },
        {
          "output_type": "display_data",
          "data": {
            "text/plain": [
              "<IPython.core.display.HTML object>"
            ],
            "text/html": [
              " View run <strong style=\"color:#cdcd00\">radiant-sweep-31</strong> at: <a href='https://wandb.ai/cs23z036/Assignment1_ReLoaded_15thJuly/runs/hb94ighr' target=\"_blank\">https://wandb.ai/cs23z036/Assignment1_ReLoaded_15thJuly/runs/hb94ighr</a><br/>Synced 4 W&B file(s), 0 media file(s), 0 artifact file(s) and 0 other file(s)"
            ]
          },
          "metadata": {}
        },
        {
          "output_type": "display_data",
          "data": {
            "text/plain": [
              "<IPython.core.display.HTML object>"
            ],
            "text/html": [
              "Find logs at: <code>./wandb/run-20230715_102847-hb94ighr/logs</code>"
            ]
          },
          "metadata": {}
        },
        {
          "output_type": "stream",
          "name": "stderr",
          "text": [
            "\u001b[34m\u001b[1mwandb\u001b[0m: Agent Starting Run: boih4xoh with config:\n",
            "\u001b[34m\u001b[1mwandb\u001b[0m: \tactivation: sigmoid\n",
            "\u001b[34m\u001b[1mwandb\u001b[0m: \tbatch_size: 32\n",
            "\u001b[34m\u001b[1mwandb\u001b[0m: \tepochs: 5\n",
            "\u001b[34m\u001b[1mwandb\u001b[0m: \teta: 0.005\n",
            "\u001b[34m\u001b[1mwandb\u001b[0m: \thidden_layers: 3\n",
            "\u001b[34m\u001b[1mwandb\u001b[0m: \toptimizer: rmsprop\n",
            "\u001b[34m\u001b[1mwandb\u001b[0m: \tsize: 64\n",
            "\u001b[34m\u001b[1mwandb\u001b[0m: \twt_decay: 0.05\n",
            "\u001b[34m\u001b[1mwandb\u001b[0m: \twt_init: random\n"
          ]
        },
        {
          "output_type": "display_data",
          "data": {
            "text/plain": [
              "<IPython.core.display.HTML object>"
            ],
            "text/html": [
              "Tracking run with wandb version 0.15.5"
            ]
          },
          "metadata": {}
        },
        {
          "output_type": "display_data",
          "data": {
            "text/plain": [
              "<IPython.core.display.HTML object>"
            ],
            "text/html": [
              "Run data is saved locally in <code>/content/wandb/run-20230715_103159-boih4xoh</code>"
            ]
          },
          "metadata": {}
        },
        {
          "output_type": "display_data",
          "data": {
            "text/plain": [
              "<IPython.core.display.HTML object>"
            ],
            "text/html": [
              "Syncing run <strong><a href='https://wandb.ai/cs23z036/Assignment1_ReLoaded_15thJuly/runs/boih4xoh' target=\"_blank\">dazzling-sweep-32</a></strong> to <a href='https://wandb.ai/cs23z036/Assignment1_ReLoaded_15thJuly' target=\"_blank\">Weights & Biases</a> (<a href='https://wandb.me/run' target=\"_blank\">docs</a>)<br/>Sweep page: <a href='https://wandb.ai/cs23z036/Assignment1_ReLoaded_15thJuly/sweeps/az1ucc60' target=\"_blank\">https://wandb.ai/cs23z036/Assignment1_ReLoaded_15thJuly/sweeps/az1ucc60</a>"
            ]
          },
          "metadata": {}
        },
        {
          "output_type": "display_data",
          "data": {
            "text/plain": [
              "<IPython.core.display.HTML object>"
            ],
            "text/html": [
              " View project at <a href='https://wandb.ai/cs23z036/Assignment1_ReLoaded_15thJuly' target=\"_blank\">https://wandb.ai/cs23z036/Assignment1_ReLoaded_15thJuly</a>"
            ]
          },
          "metadata": {}
        },
        {
          "output_type": "display_data",
          "data": {
            "text/plain": [
              "<IPython.core.display.HTML object>"
            ],
            "text/html": [
              " View sweep at <a href='https://wandb.ai/cs23z036/Assignment1_ReLoaded_15thJuly/sweeps/az1ucc60' target=\"_blank\">https://wandb.ai/cs23z036/Assignment1_ReLoaded_15thJuly/sweeps/az1ucc60</a>"
            ]
          },
          "metadata": {}
        },
        {
          "output_type": "display_data",
          "data": {
            "text/plain": [
              "<IPython.core.display.HTML object>"
            ],
            "text/html": [
              " View run at <a href='https://wandb.ai/cs23z036/Assignment1_ReLoaded_15thJuly/runs/boih4xoh' target=\"_blank\">https://wandb.ai/cs23z036/Assignment1_ReLoaded_15thJuly/runs/boih4xoh</a>"
            ]
          },
          "metadata": {}
        },
        {
          "output_type": "display_data",
          "data": {
            "text/plain": [
              "<IPython.core.display.HTML object>"
            ],
            "text/html": [
              "Waiting for W&B process to finish... <strong style=\"color:green\">(success).</strong>"
            ]
          },
          "metadata": {}
        },
        {
          "output_type": "display_data",
          "data": {
            "text/plain": [
              "<IPython.core.display.HTML object>"
            ],
            "text/html": [
              "<style>\n",
              "    table.wandb td:nth-child(1) { padding: 0 10px; text-align: left ; width: auto;} td:nth-child(2) {text-align: left ; width: 100%}\n",
              "    .wandb-row { display: flex; flex-direction: row; flex-wrap: wrap; justify-content: flex-start; width: 100% }\n",
              "    .wandb-col { display: flex; flex-direction: column; flex-basis: 100%; flex: 1; padding: 10px; }\n",
              "    </style>\n",
              "<div class=\"wandb-row\"><div class=\"wandb-col\"><h3>Run history:</h3><br/><table class=\"wandb\"><tr><td>batch size</td><td>▁</td></tr><tr><td>epochs</td><td>▁</td></tr><tr><td>layer size</td><td>▁</td></tr><tr><td>learning rate</td><td>▁</td></tr><tr><td>no of hidden layers</td><td>▁</td></tr><tr><td>validation accuracy</td><td>▁</td></tr><tr><td>validation loss</td><td>▁</td></tr></table><br/></div><div class=\"wandb-col\"><h3>Run summary:</h3><br/><table class=\"wandb\"><tr><td>batch size</td><td>32</td></tr><tr><td>epochs</td><td>5</td></tr><tr><td>layer size</td><td>64</td></tr><tr><td>learning rate</td><td>0.005</td></tr><tr><td>no of hidden layers</td><td>3</td></tr><tr><td>optimizer</td><td>rmsprop</td></tr><tr><td>validation accuracy</td><td>0.8385</td></tr><tr><td>validation loss</td><td>0.44209</td></tr></table><br/></div></div>"
            ]
          },
          "metadata": {}
        },
        {
          "output_type": "display_data",
          "data": {
            "text/plain": [
              "<IPython.core.display.HTML object>"
            ],
            "text/html": [
              " View run <strong style=\"color:#cdcd00\">dazzling-sweep-32</strong> at: <a href='https://wandb.ai/cs23z036/Assignment1_ReLoaded_15thJuly/runs/boih4xoh' target=\"_blank\">https://wandb.ai/cs23z036/Assignment1_ReLoaded_15thJuly/runs/boih4xoh</a><br/>Synced 4 W&B file(s), 0 media file(s), 0 artifact file(s) and 0 other file(s)"
            ]
          },
          "metadata": {}
        },
        {
          "output_type": "display_data",
          "data": {
            "text/plain": [
              "<IPython.core.display.HTML object>"
            ],
            "text/html": [
              "Find logs at: <code>./wandb/run-20230715_103159-boih4xoh/logs</code>"
            ]
          },
          "metadata": {}
        },
        {
          "output_type": "stream",
          "name": "stderr",
          "text": [
            "\u001b[34m\u001b[1mwandb\u001b[0m: Agent Starting Run: cyoqu1pp with config:\n",
            "\u001b[34m\u001b[1mwandb\u001b[0m: \tactivation: tanh\n",
            "\u001b[34m\u001b[1mwandb\u001b[0m: \tbatch_size: 32\n",
            "\u001b[34m\u001b[1mwandb\u001b[0m: \tepochs: 5\n",
            "\u001b[34m\u001b[1mwandb\u001b[0m: \teta: 0.005\n",
            "\u001b[34m\u001b[1mwandb\u001b[0m: \thidden_layers: 2\n",
            "\u001b[34m\u001b[1mwandb\u001b[0m: \toptimizer: nesterov\n",
            "\u001b[34m\u001b[1mwandb\u001b[0m: \tsize: 32\n",
            "\u001b[34m\u001b[1mwandb\u001b[0m: \twt_decay: 0.005\n",
            "\u001b[34m\u001b[1mwandb\u001b[0m: \twt_init: xavier\n"
          ]
        },
        {
          "output_type": "display_data",
          "data": {
            "text/plain": [
              "<IPython.core.display.HTML object>"
            ],
            "text/html": [
              "Tracking run with wandb version 0.15.5"
            ]
          },
          "metadata": {}
        },
        {
          "output_type": "display_data",
          "data": {
            "text/plain": [
              "<IPython.core.display.HTML object>"
            ],
            "text/html": [
              "Run data is saved locally in <code>/content/wandb/run-20230715_103507-cyoqu1pp</code>"
            ]
          },
          "metadata": {}
        },
        {
          "output_type": "display_data",
          "data": {
            "text/plain": [
              "<IPython.core.display.HTML object>"
            ],
            "text/html": [
              "Syncing run <strong><a href='https://wandb.ai/cs23z036/Assignment1_ReLoaded_15thJuly/runs/cyoqu1pp' target=\"_blank\">curious-sweep-33</a></strong> to <a href='https://wandb.ai/cs23z036/Assignment1_ReLoaded_15thJuly' target=\"_blank\">Weights & Biases</a> (<a href='https://wandb.me/run' target=\"_blank\">docs</a>)<br/>Sweep page: <a href='https://wandb.ai/cs23z036/Assignment1_ReLoaded_15thJuly/sweeps/az1ucc60' target=\"_blank\">https://wandb.ai/cs23z036/Assignment1_ReLoaded_15thJuly/sweeps/az1ucc60</a>"
            ]
          },
          "metadata": {}
        },
        {
          "output_type": "display_data",
          "data": {
            "text/plain": [
              "<IPython.core.display.HTML object>"
            ],
            "text/html": [
              " View project at <a href='https://wandb.ai/cs23z036/Assignment1_ReLoaded_15thJuly' target=\"_blank\">https://wandb.ai/cs23z036/Assignment1_ReLoaded_15thJuly</a>"
            ]
          },
          "metadata": {}
        },
        {
          "output_type": "display_data",
          "data": {
            "text/plain": [
              "<IPython.core.display.HTML object>"
            ],
            "text/html": [
              " View sweep at <a href='https://wandb.ai/cs23z036/Assignment1_ReLoaded_15thJuly/sweeps/az1ucc60' target=\"_blank\">https://wandb.ai/cs23z036/Assignment1_ReLoaded_15thJuly/sweeps/az1ucc60</a>"
            ]
          },
          "metadata": {}
        },
        {
          "output_type": "display_data",
          "data": {
            "text/plain": [
              "<IPython.core.display.HTML object>"
            ],
            "text/html": [
              " View run at <a href='https://wandb.ai/cs23z036/Assignment1_ReLoaded_15thJuly/runs/cyoqu1pp' target=\"_blank\">https://wandb.ai/cs23z036/Assignment1_ReLoaded_15thJuly/runs/cyoqu1pp</a>"
            ]
          },
          "metadata": {}
        },
        {
          "output_type": "display_data",
          "data": {
            "text/plain": [
              "<IPython.core.display.HTML object>"
            ],
            "text/html": [
              "Waiting for W&B process to finish... <strong style=\"color:green\">(success).</strong>"
            ]
          },
          "metadata": {}
        },
        {
          "output_type": "display_data",
          "data": {
            "text/plain": [
              "VBox(children=(Label(value='0.001 MB of 0.010 MB uploaded (0.000 MB deduped)\\r'), FloatProgress(value=0.102690…"
            ],
            "application/vnd.jupyter.widget-view+json": {
              "version_major": 2,
              "version_minor": 0,
              "model_id": "65873b852a2e442ca7a29258b69c55f6"
            }
          },
          "metadata": {}
        },
        {
          "output_type": "display_data",
          "data": {
            "text/plain": [
              "<IPython.core.display.HTML object>"
            ],
            "text/html": [
              "<style>\n",
              "    table.wandb td:nth-child(1) { padding: 0 10px; text-align: left ; width: auto;} td:nth-child(2) {text-align: left ; width: 100%}\n",
              "    .wandb-row { display: flex; flex-direction: row; flex-wrap: wrap; justify-content: flex-start; width: 100% }\n",
              "    .wandb-col { display: flex; flex-direction: column; flex-basis: 100%; flex: 1; padding: 10px; }\n",
              "    </style>\n",
              "<div class=\"wandb-row\"><div class=\"wandb-col\"><h3>Run history:</h3><br/><table class=\"wandb\"><tr><td>batch size</td><td>▁</td></tr><tr><td>epochs</td><td>▁</td></tr><tr><td>layer size</td><td>▁</td></tr><tr><td>learning rate</td><td>▁</td></tr><tr><td>no of hidden layers</td><td>▁</td></tr><tr><td>validation accuracy</td><td>▁</td></tr><tr><td>validation loss</td><td>▁</td></tr></table><br/></div><div class=\"wandb-col\"><h3>Run summary:</h3><br/><table class=\"wandb\"><tr><td>batch size</td><td>32</td></tr><tr><td>epochs</td><td>5</td></tr><tr><td>layer size</td><td>32</td></tr><tr><td>learning rate</td><td>0.005</td></tr><tr><td>no of hidden layers</td><td>2</td></tr><tr><td>optimizer</td><td>nesterov</td></tr><tr><td>validation accuracy</td><td>0.7257</td></tr><tr><td>validation loss</td><td>0.76659</td></tr></table><br/></div></div>"
            ]
          },
          "metadata": {}
        },
        {
          "output_type": "display_data",
          "data": {
            "text/plain": [
              "<IPython.core.display.HTML object>"
            ],
            "text/html": [
              " View run <strong style=\"color:#cdcd00\">curious-sweep-33</strong> at: <a href='https://wandb.ai/cs23z036/Assignment1_ReLoaded_15thJuly/runs/cyoqu1pp' target=\"_blank\">https://wandb.ai/cs23z036/Assignment1_ReLoaded_15thJuly/runs/cyoqu1pp</a><br/>Synced 4 W&B file(s), 0 media file(s), 0 artifact file(s) and 0 other file(s)"
            ]
          },
          "metadata": {}
        },
        {
          "output_type": "display_data",
          "data": {
            "text/plain": [
              "<IPython.core.display.HTML object>"
            ],
            "text/html": [
              "Find logs at: <code>./wandb/run-20230715_103507-cyoqu1pp/logs</code>"
            ]
          },
          "metadata": {}
        },
        {
          "output_type": "stream",
          "name": "stderr",
          "text": [
            "\u001b[34m\u001b[1mwandb\u001b[0m: Agent Starting Run: t0sw9k9d with config:\n",
            "\u001b[34m\u001b[1mwandb\u001b[0m: \tactivation: tanh\n",
            "\u001b[34m\u001b[1mwandb\u001b[0m: \tbatch_size: 32\n",
            "\u001b[34m\u001b[1mwandb\u001b[0m: \tepochs: 5\n",
            "\u001b[34m\u001b[1mwandb\u001b[0m: \teta: 0.005\n",
            "\u001b[34m\u001b[1mwandb\u001b[0m: \thidden_layers: 2\n",
            "\u001b[34m\u001b[1mwandb\u001b[0m: \toptimizer: nesterov\n",
            "\u001b[34m\u001b[1mwandb\u001b[0m: \tsize: 32\n",
            "\u001b[34m\u001b[1mwandb\u001b[0m: \twt_decay: 0.005\n",
            "\u001b[34m\u001b[1mwandb\u001b[0m: \twt_init: random\n"
          ]
        },
        {
          "output_type": "display_data",
          "data": {
            "text/plain": [
              "<IPython.core.display.HTML object>"
            ],
            "text/html": [
              "Tracking run with wandb version 0.15.5"
            ]
          },
          "metadata": {}
        },
        {
          "output_type": "display_data",
          "data": {
            "text/plain": [
              "<IPython.core.display.HTML object>"
            ],
            "text/html": [
              "Run data is saved locally in <code>/content/wandb/run-20230715_103720-t0sw9k9d</code>"
            ]
          },
          "metadata": {}
        },
        {
          "output_type": "display_data",
          "data": {
            "text/plain": [
              "<IPython.core.display.HTML object>"
            ],
            "text/html": [
              "Syncing run <strong><a href='https://wandb.ai/cs23z036/Assignment1_ReLoaded_15thJuly/runs/t0sw9k9d' target=\"_blank\">effortless-sweep-34</a></strong> to <a href='https://wandb.ai/cs23z036/Assignment1_ReLoaded_15thJuly' target=\"_blank\">Weights & Biases</a> (<a href='https://wandb.me/run' target=\"_blank\">docs</a>)<br/>Sweep page: <a href='https://wandb.ai/cs23z036/Assignment1_ReLoaded_15thJuly/sweeps/az1ucc60' target=\"_blank\">https://wandb.ai/cs23z036/Assignment1_ReLoaded_15thJuly/sweeps/az1ucc60</a>"
            ]
          },
          "metadata": {}
        },
        {
          "output_type": "display_data",
          "data": {
            "text/plain": [
              "<IPython.core.display.HTML object>"
            ],
            "text/html": [
              " View project at <a href='https://wandb.ai/cs23z036/Assignment1_ReLoaded_15thJuly' target=\"_blank\">https://wandb.ai/cs23z036/Assignment1_ReLoaded_15thJuly</a>"
            ]
          },
          "metadata": {}
        },
        {
          "output_type": "display_data",
          "data": {
            "text/plain": [
              "<IPython.core.display.HTML object>"
            ],
            "text/html": [
              " View sweep at <a href='https://wandb.ai/cs23z036/Assignment1_ReLoaded_15thJuly/sweeps/az1ucc60' target=\"_blank\">https://wandb.ai/cs23z036/Assignment1_ReLoaded_15thJuly/sweeps/az1ucc60</a>"
            ]
          },
          "metadata": {}
        },
        {
          "output_type": "display_data",
          "data": {
            "text/plain": [
              "<IPython.core.display.HTML object>"
            ],
            "text/html": [
              " View run at <a href='https://wandb.ai/cs23z036/Assignment1_ReLoaded_15thJuly/runs/t0sw9k9d' target=\"_blank\">https://wandb.ai/cs23z036/Assignment1_ReLoaded_15thJuly/runs/t0sw9k9d</a>"
            ]
          },
          "metadata": {}
        },
        {
          "output_type": "display_data",
          "data": {
            "text/plain": [
              "<IPython.core.display.HTML object>"
            ],
            "text/html": [
              "Waiting for W&B process to finish... <strong style=\"color:green\">(success).</strong>"
            ]
          },
          "metadata": {}
        },
        {
          "output_type": "display_data",
          "data": {
            "text/plain": [
              "<IPython.core.display.HTML object>"
            ],
            "text/html": [
              "<style>\n",
              "    table.wandb td:nth-child(1) { padding: 0 10px; text-align: left ; width: auto;} td:nth-child(2) {text-align: left ; width: 100%}\n",
              "    .wandb-row { display: flex; flex-direction: row; flex-wrap: wrap; justify-content: flex-start; width: 100% }\n",
              "    .wandb-col { display: flex; flex-direction: column; flex-basis: 100%; flex: 1; padding: 10px; }\n",
              "    </style>\n",
              "<div class=\"wandb-row\"><div class=\"wandb-col\"><h3>Run history:</h3><br/><table class=\"wandb\"><tr><td>batch size</td><td>▁</td></tr><tr><td>epochs</td><td>▁</td></tr><tr><td>layer size</td><td>▁</td></tr><tr><td>learning rate</td><td>▁</td></tr><tr><td>no of hidden layers</td><td>▁</td></tr><tr><td>validation accuracy</td><td>▁</td></tr><tr><td>validation loss</td><td>▁</td></tr></table><br/></div><div class=\"wandb-col\"><h3>Run summary:</h3><br/><table class=\"wandb\"><tr><td>batch size</td><td>32</td></tr><tr><td>epochs</td><td>5</td></tr><tr><td>layer size</td><td>32</td></tr><tr><td>learning rate</td><td>0.005</td></tr><tr><td>no of hidden layers</td><td>2</td></tr><tr><td>optimizer</td><td>nesterov</td></tr><tr><td>validation accuracy</td><td>0.6875</td></tr><tr><td>validation loss</td><td>0.78764</td></tr></table><br/></div></div>"
            ]
          },
          "metadata": {}
        },
        {
          "output_type": "display_data",
          "data": {
            "text/plain": [
              "<IPython.core.display.HTML object>"
            ],
            "text/html": [
              " View run <strong style=\"color:#cdcd00\">effortless-sweep-34</strong> at: <a href='https://wandb.ai/cs23z036/Assignment1_ReLoaded_15thJuly/runs/t0sw9k9d' target=\"_blank\">https://wandb.ai/cs23z036/Assignment1_ReLoaded_15thJuly/runs/t0sw9k9d</a><br/>Synced 4 W&B file(s), 0 media file(s), 0 artifact file(s) and 0 other file(s)"
            ]
          },
          "metadata": {}
        },
        {
          "output_type": "display_data",
          "data": {
            "text/plain": [
              "<IPython.core.display.HTML object>"
            ],
            "text/html": [
              "Find logs at: <code>./wandb/run-20230715_103720-t0sw9k9d/logs</code>"
            ]
          },
          "metadata": {}
        },
        {
          "output_type": "stream",
          "name": "stderr",
          "text": [
            "\u001b[34m\u001b[1mwandb\u001b[0m: Agent Starting Run: 8f2b6g20 with config:\n",
            "\u001b[34m\u001b[1mwandb\u001b[0m: \tactivation: tanh\n",
            "\u001b[34m\u001b[1mwandb\u001b[0m: \tbatch_size: 32\n",
            "\u001b[34m\u001b[1mwandb\u001b[0m: \tepochs: 5\n",
            "\u001b[34m\u001b[1mwandb\u001b[0m: \teta: 0.005\n",
            "\u001b[34m\u001b[1mwandb\u001b[0m: \thidden_layers: 2\n",
            "\u001b[34m\u001b[1mwandb\u001b[0m: \toptimizer: nesterov\n",
            "\u001b[34m\u001b[1mwandb\u001b[0m: \tsize: 32\n",
            "\u001b[34m\u001b[1mwandb\u001b[0m: \twt_decay: 0.05\n",
            "\u001b[34m\u001b[1mwandb\u001b[0m: \twt_init: xavier\n"
          ]
        },
        {
          "output_type": "display_data",
          "data": {
            "text/plain": [
              "<IPython.core.display.HTML object>"
            ],
            "text/html": [
              "Tracking run with wandb version 0.15.5"
            ]
          },
          "metadata": {}
        },
        {
          "output_type": "display_data",
          "data": {
            "text/plain": [
              "<IPython.core.display.HTML object>"
            ],
            "text/html": [
              "Run data is saved locally in <code>/content/wandb/run-20230715_103929-8f2b6g20</code>"
            ]
          },
          "metadata": {}
        },
        {
          "output_type": "display_data",
          "data": {
            "text/plain": [
              "<IPython.core.display.HTML object>"
            ],
            "text/html": [
              "Syncing run <strong><a href='https://wandb.ai/cs23z036/Assignment1_ReLoaded_15thJuly/runs/8f2b6g20' target=\"_blank\">astral-sweep-35</a></strong> to <a href='https://wandb.ai/cs23z036/Assignment1_ReLoaded_15thJuly' target=\"_blank\">Weights & Biases</a> (<a href='https://wandb.me/run' target=\"_blank\">docs</a>)<br/>Sweep page: <a href='https://wandb.ai/cs23z036/Assignment1_ReLoaded_15thJuly/sweeps/az1ucc60' target=\"_blank\">https://wandb.ai/cs23z036/Assignment1_ReLoaded_15thJuly/sweeps/az1ucc60</a>"
            ]
          },
          "metadata": {}
        },
        {
          "output_type": "display_data",
          "data": {
            "text/plain": [
              "<IPython.core.display.HTML object>"
            ],
            "text/html": [
              " View project at <a href='https://wandb.ai/cs23z036/Assignment1_ReLoaded_15thJuly' target=\"_blank\">https://wandb.ai/cs23z036/Assignment1_ReLoaded_15thJuly</a>"
            ]
          },
          "metadata": {}
        },
        {
          "output_type": "display_data",
          "data": {
            "text/plain": [
              "<IPython.core.display.HTML object>"
            ],
            "text/html": [
              " View sweep at <a href='https://wandb.ai/cs23z036/Assignment1_ReLoaded_15thJuly/sweeps/az1ucc60' target=\"_blank\">https://wandb.ai/cs23z036/Assignment1_ReLoaded_15thJuly/sweeps/az1ucc60</a>"
            ]
          },
          "metadata": {}
        },
        {
          "output_type": "display_data",
          "data": {
            "text/plain": [
              "<IPython.core.display.HTML object>"
            ],
            "text/html": [
              " View run at <a href='https://wandb.ai/cs23z036/Assignment1_ReLoaded_15thJuly/runs/8f2b6g20' target=\"_blank\">https://wandb.ai/cs23z036/Assignment1_ReLoaded_15thJuly/runs/8f2b6g20</a>"
            ]
          },
          "metadata": {}
        },
        {
          "output_type": "display_data",
          "data": {
            "text/plain": [
              "<IPython.core.display.HTML object>"
            ],
            "text/html": [
              "Waiting for W&B process to finish... <strong style=\"color:green\">(success).</strong>"
            ]
          },
          "metadata": {}
        },
        {
          "output_type": "display_data",
          "data": {
            "text/plain": [
              "VBox(children=(Label(value='0.001 MB of 0.009 MB uploaded (0.000 MB deduped)\\r'), FloatProgress(value=0.102710…"
            ],
            "application/vnd.jupyter.widget-view+json": {
              "version_major": 2,
              "version_minor": 0,
              "model_id": "61cb5d2f539d4257a336576bac83cc4e"
            }
          },
          "metadata": {}
        },
        {
          "output_type": "display_data",
          "data": {
            "text/plain": [
              "<IPython.core.display.HTML object>"
            ],
            "text/html": [
              "<style>\n",
              "    table.wandb td:nth-child(1) { padding: 0 10px; text-align: left ; width: auto;} td:nth-child(2) {text-align: left ; width: 100%}\n",
              "    .wandb-row { display: flex; flex-direction: row; flex-wrap: wrap; justify-content: flex-start; width: 100% }\n",
              "    .wandb-col { display: flex; flex-direction: column; flex-basis: 100%; flex: 1; padding: 10px; }\n",
              "    </style>\n",
              "<div class=\"wandb-row\"><div class=\"wandb-col\"><h3>Run history:</h3><br/><table class=\"wandb\"><tr><td>batch size</td><td>▁</td></tr><tr><td>epochs</td><td>▁</td></tr><tr><td>layer size</td><td>▁</td></tr><tr><td>learning rate</td><td>▁</td></tr><tr><td>no of hidden layers</td><td>▁</td></tr><tr><td>validation accuracy</td><td>▁</td></tr><tr><td>validation loss</td><td>▁</td></tr></table><br/></div><div class=\"wandb-col\"><h3>Run summary:</h3><br/><table class=\"wandb\"><tr><td>batch size</td><td>32</td></tr><tr><td>epochs</td><td>5</td></tr><tr><td>layer size</td><td>32</td></tr><tr><td>learning rate</td><td>0.005</td></tr><tr><td>no of hidden layers</td><td>2</td></tr><tr><td>optimizer</td><td>nesterov</td></tr><tr><td>validation accuracy</td><td>0.674</td></tr><tr><td>validation loss</td><td>0.78588</td></tr></table><br/></div></div>"
            ]
          },
          "metadata": {}
        },
        {
          "output_type": "display_data",
          "data": {
            "text/plain": [
              "<IPython.core.display.HTML object>"
            ],
            "text/html": [
              " View run <strong style=\"color:#cdcd00\">astral-sweep-35</strong> at: <a href='https://wandb.ai/cs23z036/Assignment1_ReLoaded_15thJuly/runs/8f2b6g20' target=\"_blank\">https://wandb.ai/cs23z036/Assignment1_ReLoaded_15thJuly/runs/8f2b6g20</a><br/>Synced 4 W&B file(s), 0 media file(s), 0 artifact file(s) and 0 other file(s)"
            ]
          },
          "metadata": {}
        },
        {
          "output_type": "display_data",
          "data": {
            "text/plain": [
              "<IPython.core.display.HTML object>"
            ],
            "text/html": [
              "Find logs at: <code>./wandb/run-20230715_103929-8f2b6g20/logs</code>"
            ]
          },
          "metadata": {}
        },
        {
          "output_type": "stream",
          "name": "stderr",
          "text": [
            "\u001b[34m\u001b[1mwandb\u001b[0m: Agent Starting Run: 3ex7xsk1 with config:\n",
            "\u001b[34m\u001b[1mwandb\u001b[0m: \tactivation: tanh\n",
            "\u001b[34m\u001b[1mwandb\u001b[0m: \tbatch_size: 32\n",
            "\u001b[34m\u001b[1mwandb\u001b[0m: \tepochs: 5\n",
            "\u001b[34m\u001b[1mwandb\u001b[0m: \teta: 0.005\n",
            "\u001b[34m\u001b[1mwandb\u001b[0m: \thidden_layers: 2\n",
            "\u001b[34m\u001b[1mwandb\u001b[0m: \toptimizer: nesterov\n",
            "\u001b[34m\u001b[1mwandb\u001b[0m: \tsize: 32\n",
            "\u001b[34m\u001b[1mwandb\u001b[0m: \twt_decay: 0.05\n",
            "\u001b[34m\u001b[1mwandb\u001b[0m: \twt_init: random\n"
          ]
        },
        {
          "output_type": "display_data",
          "data": {
            "text/plain": [
              "<IPython.core.display.HTML object>"
            ],
            "text/html": [
              "Tracking run with wandb version 0.15.5"
            ]
          },
          "metadata": {}
        },
        {
          "output_type": "display_data",
          "data": {
            "text/plain": [
              "<IPython.core.display.HTML object>"
            ],
            "text/html": [
              "Run data is saved locally in <code>/content/wandb/run-20230715_104140-3ex7xsk1</code>"
            ]
          },
          "metadata": {}
        },
        {
          "output_type": "display_data",
          "data": {
            "text/plain": [
              "<IPython.core.display.HTML object>"
            ],
            "text/html": [
              "Syncing run <strong><a href='https://wandb.ai/cs23z036/Assignment1_ReLoaded_15thJuly/runs/3ex7xsk1' target=\"_blank\">solar-sweep-36</a></strong> to <a href='https://wandb.ai/cs23z036/Assignment1_ReLoaded_15thJuly' target=\"_blank\">Weights & Biases</a> (<a href='https://wandb.me/run' target=\"_blank\">docs</a>)<br/>Sweep page: <a href='https://wandb.ai/cs23z036/Assignment1_ReLoaded_15thJuly/sweeps/az1ucc60' target=\"_blank\">https://wandb.ai/cs23z036/Assignment1_ReLoaded_15thJuly/sweeps/az1ucc60</a>"
            ]
          },
          "metadata": {}
        },
        {
          "output_type": "display_data",
          "data": {
            "text/plain": [
              "<IPython.core.display.HTML object>"
            ],
            "text/html": [
              " View project at <a href='https://wandb.ai/cs23z036/Assignment1_ReLoaded_15thJuly' target=\"_blank\">https://wandb.ai/cs23z036/Assignment1_ReLoaded_15thJuly</a>"
            ]
          },
          "metadata": {}
        },
        {
          "output_type": "display_data",
          "data": {
            "text/plain": [
              "<IPython.core.display.HTML object>"
            ],
            "text/html": [
              " View sweep at <a href='https://wandb.ai/cs23z036/Assignment1_ReLoaded_15thJuly/sweeps/az1ucc60' target=\"_blank\">https://wandb.ai/cs23z036/Assignment1_ReLoaded_15thJuly/sweeps/az1ucc60</a>"
            ]
          },
          "metadata": {}
        },
        {
          "output_type": "display_data",
          "data": {
            "text/plain": [
              "<IPython.core.display.HTML object>"
            ],
            "text/html": [
              " View run at <a href='https://wandb.ai/cs23z036/Assignment1_ReLoaded_15thJuly/runs/3ex7xsk1' target=\"_blank\">https://wandb.ai/cs23z036/Assignment1_ReLoaded_15thJuly/runs/3ex7xsk1</a>"
            ]
          },
          "metadata": {}
        },
        {
          "output_type": "display_data",
          "data": {
            "text/plain": [
              "<IPython.core.display.HTML object>"
            ],
            "text/html": [
              "Waiting for W&B process to finish... <strong style=\"color:green\">(success).</strong>"
            ]
          },
          "metadata": {}
        },
        {
          "output_type": "display_data",
          "data": {
            "text/plain": [
              "<IPython.core.display.HTML object>"
            ],
            "text/html": [
              "<style>\n",
              "    table.wandb td:nth-child(1) { padding: 0 10px; text-align: left ; width: auto;} td:nth-child(2) {text-align: left ; width: 100%}\n",
              "    .wandb-row { display: flex; flex-direction: row; flex-wrap: wrap; justify-content: flex-start; width: 100% }\n",
              "    .wandb-col { display: flex; flex-direction: column; flex-basis: 100%; flex: 1; padding: 10px; }\n",
              "    </style>\n",
              "<div class=\"wandb-row\"><div class=\"wandb-col\"><h3>Run history:</h3><br/><table class=\"wandb\"><tr><td>batch size</td><td>▁</td></tr><tr><td>epochs</td><td>▁</td></tr><tr><td>layer size</td><td>▁</td></tr><tr><td>learning rate</td><td>▁</td></tr><tr><td>no of hidden layers</td><td>▁</td></tr><tr><td>validation accuracy</td><td>▁</td></tr><tr><td>validation loss</td><td>▁</td></tr></table><br/></div><div class=\"wandb-col\"><h3>Run summary:</h3><br/><table class=\"wandb\"><tr><td>batch size</td><td>32</td></tr><tr><td>epochs</td><td>5</td></tr><tr><td>layer size</td><td>32</td></tr><tr><td>learning rate</td><td>0.005</td></tr><tr><td>no of hidden layers</td><td>2</td></tr><tr><td>optimizer</td><td>nesterov</td></tr><tr><td>validation accuracy</td><td>0.7095</td></tr><tr><td>validation loss</td><td>0.77202</td></tr></table><br/></div></div>"
            ]
          },
          "metadata": {}
        },
        {
          "output_type": "display_data",
          "data": {
            "text/plain": [
              "<IPython.core.display.HTML object>"
            ],
            "text/html": [
              " View run <strong style=\"color:#cdcd00\">solar-sweep-36</strong> at: <a href='https://wandb.ai/cs23z036/Assignment1_ReLoaded_15thJuly/runs/3ex7xsk1' target=\"_blank\">https://wandb.ai/cs23z036/Assignment1_ReLoaded_15thJuly/runs/3ex7xsk1</a><br/>Synced 4 W&B file(s), 0 media file(s), 0 artifact file(s) and 0 other file(s)"
            ]
          },
          "metadata": {}
        },
        {
          "output_type": "display_data",
          "data": {
            "text/plain": [
              "<IPython.core.display.HTML object>"
            ],
            "text/html": [
              "Find logs at: <code>./wandb/run-20230715_104140-3ex7xsk1/logs</code>"
            ]
          },
          "metadata": {}
        },
        {
          "output_type": "stream",
          "name": "stderr",
          "text": [
            "\u001b[34m\u001b[1mwandb\u001b[0m: Agent Starting Run: up5vcfk1 with config:\n",
            "\u001b[34m\u001b[1mwandb\u001b[0m: \tactivation: tanh\n",
            "\u001b[34m\u001b[1mwandb\u001b[0m: \tbatch_size: 32\n",
            "\u001b[34m\u001b[1mwandb\u001b[0m: \tepochs: 5\n",
            "\u001b[34m\u001b[1mwandb\u001b[0m: \teta: 0.005\n",
            "\u001b[34m\u001b[1mwandb\u001b[0m: \thidden_layers: 2\n",
            "\u001b[34m\u001b[1mwandb\u001b[0m: \toptimizer: nesterov\n",
            "\u001b[34m\u001b[1mwandb\u001b[0m: \tsize: 64\n",
            "\u001b[34m\u001b[1mwandb\u001b[0m: \twt_decay: 0.005\n",
            "\u001b[34m\u001b[1mwandb\u001b[0m: \twt_init: xavier\n"
          ]
        },
        {
          "output_type": "display_data",
          "data": {
            "text/plain": [
              "<IPython.core.display.HTML object>"
            ],
            "text/html": [
              "Tracking run with wandb version 0.15.5"
            ]
          },
          "metadata": {}
        },
        {
          "output_type": "display_data",
          "data": {
            "text/plain": [
              "<IPython.core.display.HTML object>"
            ],
            "text/html": [
              "Run data is saved locally in <code>/content/wandb/run-20230715_104351-up5vcfk1</code>"
            ]
          },
          "metadata": {}
        },
        {
          "output_type": "display_data",
          "data": {
            "text/plain": [
              "<IPython.core.display.HTML object>"
            ],
            "text/html": [
              "Syncing run <strong><a href='https://wandb.ai/cs23z036/Assignment1_ReLoaded_15thJuly/runs/up5vcfk1' target=\"_blank\">lyric-sweep-37</a></strong> to <a href='https://wandb.ai/cs23z036/Assignment1_ReLoaded_15thJuly' target=\"_blank\">Weights & Biases</a> (<a href='https://wandb.me/run' target=\"_blank\">docs</a>)<br/>Sweep page: <a href='https://wandb.ai/cs23z036/Assignment1_ReLoaded_15thJuly/sweeps/az1ucc60' target=\"_blank\">https://wandb.ai/cs23z036/Assignment1_ReLoaded_15thJuly/sweeps/az1ucc60</a>"
            ]
          },
          "metadata": {}
        },
        {
          "output_type": "display_data",
          "data": {
            "text/plain": [
              "<IPython.core.display.HTML object>"
            ],
            "text/html": [
              " View project at <a href='https://wandb.ai/cs23z036/Assignment1_ReLoaded_15thJuly' target=\"_blank\">https://wandb.ai/cs23z036/Assignment1_ReLoaded_15thJuly</a>"
            ]
          },
          "metadata": {}
        },
        {
          "output_type": "display_data",
          "data": {
            "text/plain": [
              "<IPython.core.display.HTML object>"
            ],
            "text/html": [
              " View sweep at <a href='https://wandb.ai/cs23z036/Assignment1_ReLoaded_15thJuly/sweeps/az1ucc60' target=\"_blank\">https://wandb.ai/cs23z036/Assignment1_ReLoaded_15thJuly/sweeps/az1ucc60</a>"
            ]
          },
          "metadata": {}
        },
        {
          "output_type": "display_data",
          "data": {
            "text/plain": [
              "<IPython.core.display.HTML object>"
            ],
            "text/html": [
              " View run at <a href='https://wandb.ai/cs23z036/Assignment1_ReLoaded_15thJuly/runs/up5vcfk1' target=\"_blank\">https://wandb.ai/cs23z036/Assignment1_ReLoaded_15thJuly/runs/up5vcfk1</a>"
            ]
          },
          "metadata": {}
        },
        {
          "output_type": "display_data",
          "data": {
            "text/plain": [
              "<IPython.core.display.HTML object>"
            ],
            "text/html": [
              "Waiting for W&B process to finish... <strong style=\"color:green\">(success).</strong>"
            ]
          },
          "metadata": {}
        },
        {
          "output_type": "display_data",
          "data": {
            "text/plain": [
              "<IPython.core.display.HTML object>"
            ],
            "text/html": [
              "<style>\n",
              "    table.wandb td:nth-child(1) { padding: 0 10px; text-align: left ; width: auto;} td:nth-child(2) {text-align: left ; width: 100%}\n",
              "    .wandb-row { display: flex; flex-direction: row; flex-wrap: wrap; justify-content: flex-start; width: 100% }\n",
              "    .wandb-col { display: flex; flex-direction: column; flex-basis: 100%; flex: 1; padding: 10px; }\n",
              "    </style>\n",
              "<div class=\"wandb-row\"><div class=\"wandb-col\"><h3>Run history:</h3><br/><table class=\"wandb\"><tr><td>batch size</td><td>▁</td></tr><tr><td>epochs</td><td>▁</td></tr><tr><td>layer size</td><td>▁</td></tr><tr><td>learning rate</td><td>▁</td></tr><tr><td>no of hidden layers</td><td>▁</td></tr><tr><td>validation accuracy</td><td>▁</td></tr><tr><td>validation loss</td><td>▁</td></tr></table><br/></div><div class=\"wandb-col\"><h3>Run summary:</h3><br/><table class=\"wandb\"><tr><td>batch size</td><td>32</td></tr><tr><td>epochs</td><td>5</td></tr><tr><td>layer size</td><td>64</td></tr><tr><td>learning rate</td><td>0.005</td></tr><tr><td>no of hidden layers</td><td>2</td></tr><tr><td>optimizer</td><td>nesterov</td></tr><tr><td>validation accuracy</td><td>0.6402</td></tr><tr><td>validation loss</td><td>0.97556</td></tr></table><br/></div></div>"
            ]
          },
          "metadata": {}
        },
        {
          "output_type": "display_data",
          "data": {
            "text/plain": [
              "<IPython.core.display.HTML object>"
            ],
            "text/html": [
              " View run <strong style=\"color:#cdcd00\">lyric-sweep-37</strong> at: <a href='https://wandb.ai/cs23z036/Assignment1_ReLoaded_15thJuly/runs/up5vcfk1' target=\"_blank\">https://wandb.ai/cs23z036/Assignment1_ReLoaded_15thJuly/runs/up5vcfk1</a><br/>Synced 4 W&B file(s), 0 media file(s), 0 artifact file(s) and 0 other file(s)"
            ]
          },
          "metadata": {}
        },
        {
          "output_type": "display_data",
          "data": {
            "text/plain": [
              "<IPython.core.display.HTML object>"
            ],
            "text/html": [
              "Find logs at: <code>./wandb/run-20230715_104351-up5vcfk1/logs</code>"
            ]
          },
          "metadata": {}
        },
        {
          "output_type": "stream",
          "name": "stderr",
          "text": [
            "\u001b[34m\u001b[1mwandb\u001b[0m: Agent Starting Run: jv6i6rmr with config:\n",
            "\u001b[34m\u001b[1mwandb\u001b[0m: \tactivation: tanh\n",
            "\u001b[34m\u001b[1mwandb\u001b[0m: \tbatch_size: 32\n",
            "\u001b[34m\u001b[1mwandb\u001b[0m: \tepochs: 5\n",
            "\u001b[34m\u001b[1mwandb\u001b[0m: \teta: 0.005\n",
            "\u001b[34m\u001b[1mwandb\u001b[0m: \thidden_layers: 2\n",
            "\u001b[34m\u001b[1mwandb\u001b[0m: \toptimizer: nesterov\n",
            "\u001b[34m\u001b[1mwandb\u001b[0m: \tsize: 64\n",
            "\u001b[34m\u001b[1mwandb\u001b[0m: \twt_decay: 0.005\n",
            "\u001b[34m\u001b[1mwandb\u001b[0m: \twt_init: random\n"
          ]
        },
        {
          "output_type": "display_data",
          "data": {
            "text/plain": [
              "<IPython.core.display.HTML object>"
            ],
            "text/html": [
              "Tracking run with wandb version 0.15.5"
            ]
          },
          "metadata": {}
        },
        {
          "output_type": "display_data",
          "data": {
            "text/plain": [
              "<IPython.core.display.HTML object>"
            ],
            "text/html": [
              "Run data is saved locally in <code>/content/wandb/run-20230715_104649-jv6i6rmr</code>"
            ]
          },
          "metadata": {}
        },
        {
          "output_type": "display_data",
          "data": {
            "text/plain": [
              "<IPython.core.display.HTML object>"
            ],
            "text/html": [
              "Syncing run <strong><a href='https://wandb.ai/cs23z036/Assignment1_ReLoaded_15thJuly/runs/jv6i6rmr' target=\"_blank\">lively-sweep-38</a></strong> to <a href='https://wandb.ai/cs23z036/Assignment1_ReLoaded_15thJuly' target=\"_blank\">Weights & Biases</a> (<a href='https://wandb.me/run' target=\"_blank\">docs</a>)<br/>Sweep page: <a href='https://wandb.ai/cs23z036/Assignment1_ReLoaded_15thJuly/sweeps/az1ucc60' target=\"_blank\">https://wandb.ai/cs23z036/Assignment1_ReLoaded_15thJuly/sweeps/az1ucc60</a>"
            ]
          },
          "metadata": {}
        },
        {
          "output_type": "display_data",
          "data": {
            "text/plain": [
              "<IPython.core.display.HTML object>"
            ],
            "text/html": [
              " View project at <a href='https://wandb.ai/cs23z036/Assignment1_ReLoaded_15thJuly' target=\"_blank\">https://wandb.ai/cs23z036/Assignment1_ReLoaded_15thJuly</a>"
            ]
          },
          "metadata": {}
        },
        {
          "output_type": "display_data",
          "data": {
            "text/plain": [
              "<IPython.core.display.HTML object>"
            ],
            "text/html": [
              " View sweep at <a href='https://wandb.ai/cs23z036/Assignment1_ReLoaded_15thJuly/sweeps/az1ucc60' target=\"_blank\">https://wandb.ai/cs23z036/Assignment1_ReLoaded_15thJuly/sweeps/az1ucc60</a>"
            ]
          },
          "metadata": {}
        },
        {
          "output_type": "display_data",
          "data": {
            "text/plain": [
              "<IPython.core.display.HTML object>"
            ],
            "text/html": [
              " View run at <a href='https://wandb.ai/cs23z036/Assignment1_ReLoaded_15thJuly/runs/jv6i6rmr' target=\"_blank\">https://wandb.ai/cs23z036/Assignment1_ReLoaded_15thJuly/runs/jv6i6rmr</a>"
            ]
          },
          "metadata": {}
        },
        {
          "output_type": "display_data",
          "data": {
            "text/plain": [
              "<IPython.core.display.HTML object>"
            ],
            "text/html": [
              "Waiting for W&B process to finish... <strong style=\"color:green\">(success).</strong>"
            ]
          },
          "metadata": {}
        },
        {
          "output_type": "display_data",
          "data": {
            "text/plain": [
              "<IPython.core.display.HTML object>"
            ],
            "text/html": [
              "<style>\n",
              "    table.wandb td:nth-child(1) { padding: 0 10px; text-align: left ; width: auto;} td:nth-child(2) {text-align: left ; width: 100%}\n",
              "    .wandb-row { display: flex; flex-direction: row; flex-wrap: wrap; justify-content: flex-start; width: 100% }\n",
              "    .wandb-col { display: flex; flex-direction: column; flex-basis: 100%; flex: 1; padding: 10px; }\n",
              "    </style>\n",
              "<div class=\"wandb-row\"><div class=\"wandb-col\"><h3>Run history:</h3><br/><table class=\"wandb\"><tr><td>batch size</td><td>▁</td></tr><tr><td>epochs</td><td>▁</td></tr><tr><td>layer size</td><td>▁</td></tr><tr><td>learning rate</td><td>▁</td></tr><tr><td>no of hidden layers</td><td>▁</td></tr><tr><td>validation accuracy</td><td>▁</td></tr><tr><td>validation loss</td><td>▁</td></tr></table><br/></div><div class=\"wandb-col\"><h3>Run summary:</h3><br/><table class=\"wandb\"><tr><td>batch size</td><td>32</td></tr><tr><td>epochs</td><td>5</td></tr><tr><td>layer size</td><td>64</td></tr><tr><td>learning rate</td><td>0.005</td></tr><tr><td>no of hidden layers</td><td>2</td></tr><tr><td>optimizer</td><td>nesterov</td></tr><tr><td>validation accuracy</td><td>0.4979</td></tr><tr><td>validation loss</td><td>1.62329</td></tr></table><br/></div></div>"
            ]
          },
          "metadata": {}
        },
        {
          "output_type": "display_data",
          "data": {
            "text/plain": [
              "<IPython.core.display.HTML object>"
            ],
            "text/html": [
              " View run <strong style=\"color:#cdcd00\">lively-sweep-38</strong> at: <a href='https://wandb.ai/cs23z036/Assignment1_ReLoaded_15thJuly/runs/jv6i6rmr' target=\"_blank\">https://wandb.ai/cs23z036/Assignment1_ReLoaded_15thJuly/runs/jv6i6rmr</a><br/>Synced 4 W&B file(s), 0 media file(s), 0 artifact file(s) and 0 other file(s)"
            ]
          },
          "metadata": {}
        },
        {
          "output_type": "display_data",
          "data": {
            "text/plain": [
              "<IPython.core.display.HTML object>"
            ],
            "text/html": [
              "Find logs at: <code>./wandb/run-20230715_104649-jv6i6rmr/logs</code>"
            ]
          },
          "metadata": {}
        },
        {
          "output_type": "stream",
          "name": "stderr",
          "text": [
            "\u001b[34m\u001b[1mwandb\u001b[0m: Agent Starting Run: uvt7xecd with config:\n",
            "\u001b[34m\u001b[1mwandb\u001b[0m: \tactivation: tanh\n",
            "\u001b[34m\u001b[1mwandb\u001b[0m: \tbatch_size: 32\n",
            "\u001b[34m\u001b[1mwandb\u001b[0m: \tepochs: 5\n",
            "\u001b[34m\u001b[1mwandb\u001b[0m: \teta: 0.005\n",
            "\u001b[34m\u001b[1mwandb\u001b[0m: \thidden_layers: 2\n",
            "\u001b[34m\u001b[1mwandb\u001b[0m: \toptimizer: nesterov\n",
            "\u001b[34m\u001b[1mwandb\u001b[0m: \tsize: 64\n",
            "\u001b[34m\u001b[1mwandb\u001b[0m: \twt_decay: 0.05\n",
            "\u001b[34m\u001b[1mwandb\u001b[0m: \twt_init: xavier\n"
          ]
        },
        {
          "output_type": "display_data",
          "data": {
            "text/plain": [
              "<IPython.core.display.HTML object>"
            ],
            "text/html": [
              "Tracking run with wandb version 0.15.5"
            ]
          },
          "metadata": {}
        },
        {
          "output_type": "display_data",
          "data": {
            "text/plain": [
              "<IPython.core.display.HTML object>"
            ],
            "text/html": [
              "Run data is saved locally in <code>/content/wandb/run-20230715_104946-uvt7xecd</code>"
            ]
          },
          "metadata": {}
        },
        {
          "output_type": "display_data",
          "data": {
            "text/plain": [
              "<IPython.core.display.HTML object>"
            ],
            "text/html": [
              "Syncing run <strong><a href='https://wandb.ai/cs23z036/Assignment1_ReLoaded_15thJuly/runs/uvt7xecd' target=\"_blank\">eager-sweep-39</a></strong> to <a href='https://wandb.ai/cs23z036/Assignment1_ReLoaded_15thJuly' target=\"_blank\">Weights & Biases</a> (<a href='https://wandb.me/run' target=\"_blank\">docs</a>)<br/>Sweep page: <a href='https://wandb.ai/cs23z036/Assignment1_ReLoaded_15thJuly/sweeps/az1ucc60' target=\"_blank\">https://wandb.ai/cs23z036/Assignment1_ReLoaded_15thJuly/sweeps/az1ucc60</a>"
            ]
          },
          "metadata": {}
        },
        {
          "output_type": "display_data",
          "data": {
            "text/plain": [
              "<IPython.core.display.HTML object>"
            ],
            "text/html": [
              " View project at <a href='https://wandb.ai/cs23z036/Assignment1_ReLoaded_15thJuly' target=\"_blank\">https://wandb.ai/cs23z036/Assignment1_ReLoaded_15thJuly</a>"
            ]
          },
          "metadata": {}
        },
        {
          "output_type": "display_data",
          "data": {
            "text/plain": [
              "<IPython.core.display.HTML object>"
            ],
            "text/html": [
              " View sweep at <a href='https://wandb.ai/cs23z036/Assignment1_ReLoaded_15thJuly/sweeps/az1ucc60' target=\"_blank\">https://wandb.ai/cs23z036/Assignment1_ReLoaded_15thJuly/sweeps/az1ucc60</a>"
            ]
          },
          "metadata": {}
        },
        {
          "output_type": "display_data",
          "data": {
            "text/plain": [
              "<IPython.core.display.HTML object>"
            ],
            "text/html": [
              " View run at <a href='https://wandb.ai/cs23z036/Assignment1_ReLoaded_15thJuly/runs/uvt7xecd' target=\"_blank\">https://wandb.ai/cs23z036/Assignment1_ReLoaded_15thJuly/runs/uvt7xecd</a>"
            ]
          },
          "metadata": {}
        },
        {
          "output_type": "display_data",
          "data": {
            "text/plain": [
              "<IPython.core.display.HTML object>"
            ],
            "text/html": [
              "Waiting for W&B process to finish... <strong style=\"color:green\">(success).</strong>"
            ]
          },
          "metadata": {}
        },
        {
          "output_type": "display_data",
          "data": {
            "text/plain": [
              "<IPython.core.display.HTML object>"
            ],
            "text/html": [
              "<style>\n",
              "    table.wandb td:nth-child(1) { padding: 0 10px; text-align: left ; width: auto;} td:nth-child(2) {text-align: left ; width: 100%}\n",
              "    .wandb-row { display: flex; flex-direction: row; flex-wrap: wrap; justify-content: flex-start; width: 100% }\n",
              "    .wandb-col { display: flex; flex-direction: column; flex-basis: 100%; flex: 1; padding: 10px; }\n",
              "    </style>\n",
              "<div class=\"wandb-row\"><div class=\"wandb-col\"><h3>Run history:</h3><br/><table class=\"wandb\"><tr><td>batch size</td><td>▁</td></tr><tr><td>epochs</td><td>▁</td></tr><tr><td>layer size</td><td>▁</td></tr><tr><td>learning rate</td><td>▁</td></tr><tr><td>no of hidden layers</td><td>▁</td></tr><tr><td>validation accuracy</td><td>▁</td></tr><tr><td>validation loss</td><td>▁</td></tr></table><br/></div><div class=\"wandb-col\"><h3>Run summary:</h3><br/><table class=\"wandb\"><tr><td>batch size</td><td>32</td></tr><tr><td>epochs</td><td>5</td></tr><tr><td>layer size</td><td>64</td></tr><tr><td>learning rate</td><td>0.005</td></tr><tr><td>no of hidden layers</td><td>2</td></tr><tr><td>optimizer</td><td>nesterov</td></tr><tr><td>validation accuracy</td><td>0.4522</td></tr><tr><td>validation loss</td><td>1.56408</td></tr></table><br/></div></div>"
            ]
          },
          "metadata": {}
        },
        {
          "output_type": "display_data",
          "data": {
            "text/plain": [
              "<IPython.core.display.HTML object>"
            ],
            "text/html": [
              " View run <strong style=\"color:#cdcd00\">eager-sweep-39</strong> at: <a href='https://wandb.ai/cs23z036/Assignment1_ReLoaded_15thJuly/runs/uvt7xecd' target=\"_blank\">https://wandb.ai/cs23z036/Assignment1_ReLoaded_15thJuly/runs/uvt7xecd</a><br/>Synced 4 W&B file(s), 0 media file(s), 0 artifact file(s) and 0 other file(s)"
            ]
          },
          "metadata": {}
        },
        {
          "output_type": "display_data",
          "data": {
            "text/plain": [
              "<IPython.core.display.HTML object>"
            ],
            "text/html": [
              "Find logs at: <code>./wandb/run-20230715_104946-uvt7xecd/logs</code>"
            ]
          },
          "metadata": {}
        },
        {
          "output_type": "stream",
          "name": "stderr",
          "text": [
            "\u001b[34m\u001b[1mwandb\u001b[0m: Agent Starting Run: spnyb9e8 with config:\n",
            "\u001b[34m\u001b[1mwandb\u001b[0m: \tactivation: tanh\n",
            "\u001b[34m\u001b[1mwandb\u001b[0m: \tbatch_size: 32\n",
            "\u001b[34m\u001b[1mwandb\u001b[0m: \tepochs: 5\n",
            "\u001b[34m\u001b[1mwandb\u001b[0m: \teta: 0.005\n",
            "\u001b[34m\u001b[1mwandb\u001b[0m: \thidden_layers: 2\n",
            "\u001b[34m\u001b[1mwandb\u001b[0m: \toptimizer: nesterov\n",
            "\u001b[34m\u001b[1mwandb\u001b[0m: \tsize: 64\n",
            "\u001b[34m\u001b[1mwandb\u001b[0m: \twt_decay: 0.05\n",
            "\u001b[34m\u001b[1mwandb\u001b[0m: \twt_init: random\n"
          ]
        },
        {
          "output_type": "display_data",
          "data": {
            "text/plain": [
              "<IPython.core.display.HTML object>"
            ],
            "text/html": [
              "Tracking run with wandb version 0.15.5"
            ]
          },
          "metadata": {}
        },
        {
          "output_type": "display_data",
          "data": {
            "text/plain": [
              "<IPython.core.display.HTML object>"
            ],
            "text/html": [
              "Run data is saved locally in <code>/content/wandb/run-20230715_105249-spnyb9e8</code>"
            ]
          },
          "metadata": {}
        },
        {
          "output_type": "display_data",
          "data": {
            "text/plain": [
              "<IPython.core.display.HTML object>"
            ],
            "text/html": [
              "Syncing run <strong><a href='https://wandb.ai/cs23z036/Assignment1_ReLoaded_15thJuly/runs/spnyb9e8' target=\"_blank\">super-sweep-40</a></strong> to <a href='https://wandb.ai/cs23z036/Assignment1_ReLoaded_15thJuly' target=\"_blank\">Weights & Biases</a> (<a href='https://wandb.me/run' target=\"_blank\">docs</a>)<br/>Sweep page: <a href='https://wandb.ai/cs23z036/Assignment1_ReLoaded_15thJuly/sweeps/az1ucc60' target=\"_blank\">https://wandb.ai/cs23z036/Assignment1_ReLoaded_15thJuly/sweeps/az1ucc60</a>"
            ]
          },
          "metadata": {}
        },
        {
          "output_type": "display_data",
          "data": {
            "text/plain": [
              "<IPython.core.display.HTML object>"
            ],
            "text/html": [
              " View project at <a href='https://wandb.ai/cs23z036/Assignment1_ReLoaded_15thJuly' target=\"_blank\">https://wandb.ai/cs23z036/Assignment1_ReLoaded_15thJuly</a>"
            ]
          },
          "metadata": {}
        },
        {
          "output_type": "display_data",
          "data": {
            "text/plain": [
              "<IPython.core.display.HTML object>"
            ],
            "text/html": [
              " View sweep at <a href='https://wandb.ai/cs23z036/Assignment1_ReLoaded_15thJuly/sweeps/az1ucc60' target=\"_blank\">https://wandb.ai/cs23z036/Assignment1_ReLoaded_15thJuly/sweeps/az1ucc60</a>"
            ]
          },
          "metadata": {}
        },
        {
          "output_type": "display_data",
          "data": {
            "text/plain": [
              "<IPython.core.display.HTML object>"
            ],
            "text/html": [
              " View run at <a href='https://wandb.ai/cs23z036/Assignment1_ReLoaded_15thJuly/runs/spnyb9e8' target=\"_blank\">https://wandb.ai/cs23z036/Assignment1_ReLoaded_15thJuly/runs/spnyb9e8</a>"
            ]
          },
          "metadata": {}
        },
        {
          "output_type": "display_data",
          "data": {
            "text/plain": [
              "<IPython.core.display.HTML object>"
            ],
            "text/html": [
              "Waiting for W&B process to finish... <strong style=\"color:green\">(success).</strong>"
            ]
          },
          "metadata": {}
        },
        {
          "output_type": "display_data",
          "data": {
            "text/plain": [
              "<IPython.core.display.HTML object>"
            ],
            "text/html": [
              "<style>\n",
              "    table.wandb td:nth-child(1) { padding: 0 10px; text-align: left ; width: auto;} td:nth-child(2) {text-align: left ; width: 100%}\n",
              "    .wandb-row { display: flex; flex-direction: row; flex-wrap: wrap; justify-content: flex-start; width: 100% }\n",
              "    .wandb-col { display: flex; flex-direction: column; flex-basis: 100%; flex: 1; padding: 10px; }\n",
              "    </style>\n",
              "<div class=\"wandb-row\"><div class=\"wandb-col\"><h3>Run history:</h3><br/><table class=\"wandb\"><tr><td>batch size</td><td>▁</td></tr><tr><td>epochs</td><td>▁</td></tr><tr><td>layer size</td><td>▁</td></tr><tr><td>learning rate</td><td>▁</td></tr><tr><td>no of hidden layers</td><td>▁</td></tr><tr><td>validation accuracy</td><td>▁</td></tr><tr><td>validation loss</td><td>▁</td></tr></table><br/></div><div class=\"wandb-col\"><h3>Run summary:</h3><br/><table class=\"wandb\"><tr><td>batch size</td><td>32</td></tr><tr><td>epochs</td><td>5</td></tr><tr><td>layer size</td><td>64</td></tr><tr><td>learning rate</td><td>0.005</td></tr><tr><td>no of hidden layers</td><td>2</td></tr><tr><td>optimizer</td><td>nesterov</td></tr><tr><td>validation accuracy</td><td>0.6568</td></tr><tr><td>validation loss</td><td>0.93065</td></tr></table><br/></div></div>"
            ]
          },
          "metadata": {}
        },
        {
          "output_type": "display_data",
          "data": {
            "text/plain": [
              "<IPython.core.display.HTML object>"
            ],
            "text/html": [
              " View run <strong style=\"color:#cdcd00\">super-sweep-40</strong> at: <a href='https://wandb.ai/cs23z036/Assignment1_ReLoaded_15thJuly/runs/spnyb9e8' target=\"_blank\">https://wandb.ai/cs23z036/Assignment1_ReLoaded_15thJuly/runs/spnyb9e8</a><br/>Synced 4 W&B file(s), 0 media file(s), 0 artifact file(s) and 0 other file(s)"
            ]
          },
          "metadata": {}
        },
        {
          "output_type": "display_data",
          "data": {
            "text/plain": [
              "<IPython.core.display.HTML object>"
            ],
            "text/html": [
              "Find logs at: <code>./wandb/run-20230715_105249-spnyb9e8/logs</code>"
            ]
          },
          "metadata": {}
        },
        {
          "output_type": "stream",
          "name": "stderr",
          "text": [
            "\u001b[34m\u001b[1mwandb\u001b[0m: Agent Starting Run: xtfr6yi5 with config:\n",
            "\u001b[34m\u001b[1mwandb\u001b[0m: \tactivation: tanh\n",
            "\u001b[34m\u001b[1mwandb\u001b[0m: \tbatch_size: 32\n",
            "\u001b[34m\u001b[1mwandb\u001b[0m: \tepochs: 5\n",
            "\u001b[34m\u001b[1mwandb\u001b[0m: \teta: 0.005\n",
            "\u001b[34m\u001b[1mwandb\u001b[0m: \thidden_layers: 2\n",
            "\u001b[34m\u001b[1mwandb\u001b[0m: \toptimizer: rmsprop\n",
            "\u001b[34m\u001b[1mwandb\u001b[0m: \tsize: 32\n",
            "\u001b[34m\u001b[1mwandb\u001b[0m: \twt_decay: 0.005\n",
            "\u001b[34m\u001b[1mwandb\u001b[0m: \twt_init: xavier\n"
          ]
        },
        {
          "output_type": "display_data",
          "data": {
            "text/plain": [
              "<IPython.core.display.HTML object>"
            ],
            "text/html": [
              "Tracking run with wandb version 0.15.5"
            ]
          },
          "metadata": {}
        },
        {
          "output_type": "display_data",
          "data": {
            "text/plain": [
              "<IPython.core.display.HTML object>"
            ],
            "text/html": [
              "Run data is saved locally in <code>/content/wandb/run-20230715_105546-xtfr6yi5</code>"
            ]
          },
          "metadata": {}
        },
        {
          "output_type": "display_data",
          "data": {
            "text/plain": [
              "<IPython.core.display.HTML object>"
            ],
            "text/html": [
              "Syncing run <strong><a href='https://wandb.ai/cs23z036/Assignment1_ReLoaded_15thJuly/runs/xtfr6yi5' target=\"_blank\">pleasant-sweep-41</a></strong> to <a href='https://wandb.ai/cs23z036/Assignment1_ReLoaded_15thJuly' target=\"_blank\">Weights & Biases</a> (<a href='https://wandb.me/run' target=\"_blank\">docs</a>)<br/>Sweep page: <a href='https://wandb.ai/cs23z036/Assignment1_ReLoaded_15thJuly/sweeps/az1ucc60' target=\"_blank\">https://wandb.ai/cs23z036/Assignment1_ReLoaded_15thJuly/sweeps/az1ucc60</a>"
            ]
          },
          "metadata": {}
        },
        {
          "output_type": "display_data",
          "data": {
            "text/plain": [
              "<IPython.core.display.HTML object>"
            ],
            "text/html": [
              " View project at <a href='https://wandb.ai/cs23z036/Assignment1_ReLoaded_15thJuly' target=\"_blank\">https://wandb.ai/cs23z036/Assignment1_ReLoaded_15thJuly</a>"
            ]
          },
          "metadata": {}
        },
        {
          "output_type": "display_data",
          "data": {
            "text/plain": [
              "<IPython.core.display.HTML object>"
            ],
            "text/html": [
              " View sweep at <a href='https://wandb.ai/cs23z036/Assignment1_ReLoaded_15thJuly/sweeps/az1ucc60' target=\"_blank\">https://wandb.ai/cs23z036/Assignment1_ReLoaded_15thJuly/sweeps/az1ucc60</a>"
            ]
          },
          "metadata": {}
        },
        {
          "output_type": "display_data",
          "data": {
            "text/plain": [
              "<IPython.core.display.HTML object>"
            ],
            "text/html": [
              " View run at <a href='https://wandb.ai/cs23z036/Assignment1_ReLoaded_15thJuly/runs/xtfr6yi5' target=\"_blank\">https://wandb.ai/cs23z036/Assignment1_ReLoaded_15thJuly/runs/xtfr6yi5</a>"
            ]
          },
          "metadata": {}
        },
        {
          "output_type": "display_data",
          "data": {
            "text/plain": [
              "<IPython.core.display.HTML object>"
            ],
            "text/html": [
              "Waiting for W&B process to finish... <strong style=\"color:green\">(success).</strong>"
            ]
          },
          "metadata": {}
        },
        {
          "output_type": "display_data",
          "data": {
            "text/plain": [
              "<IPython.core.display.HTML object>"
            ],
            "text/html": [
              "<style>\n",
              "    table.wandb td:nth-child(1) { padding: 0 10px; text-align: left ; width: auto;} td:nth-child(2) {text-align: left ; width: 100%}\n",
              "    .wandb-row { display: flex; flex-direction: row; flex-wrap: wrap; justify-content: flex-start; width: 100% }\n",
              "    .wandb-col { display: flex; flex-direction: column; flex-basis: 100%; flex: 1; padding: 10px; }\n",
              "    </style>\n",
              "<div class=\"wandb-row\"><div class=\"wandb-col\"><h3>Run history:</h3><br/><table class=\"wandb\"><tr><td>batch size</td><td>▁</td></tr><tr><td>epochs</td><td>▁</td></tr><tr><td>layer size</td><td>▁</td></tr><tr><td>learning rate</td><td>▁</td></tr><tr><td>no of hidden layers</td><td>▁</td></tr><tr><td>validation accuracy</td><td>▁</td></tr><tr><td>validation loss</td><td>▁</td></tr></table><br/></div><div class=\"wandb-col\"><h3>Run summary:</h3><br/><table class=\"wandb\"><tr><td>batch size</td><td>32</td></tr><tr><td>epochs</td><td>5</td></tr><tr><td>layer size</td><td>32</td></tr><tr><td>learning rate</td><td>0.005</td></tr><tr><td>no of hidden layers</td><td>2</td></tr><tr><td>optimizer</td><td>rmsprop</td></tr><tr><td>validation accuracy</td><td>0.841</td></tr><tr><td>validation loss</td><td>0.43871</td></tr></table><br/></div></div>"
            ]
          },
          "metadata": {}
        },
        {
          "output_type": "display_data",
          "data": {
            "text/plain": [
              "<IPython.core.display.HTML object>"
            ],
            "text/html": [
              " View run <strong style=\"color:#cdcd00\">pleasant-sweep-41</strong> at: <a href='https://wandb.ai/cs23z036/Assignment1_ReLoaded_15thJuly/runs/xtfr6yi5' target=\"_blank\">https://wandb.ai/cs23z036/Assignment1_ReLoaded_15thJuly/runs/xtfr6yi5</a><br/>Synced 4 W&B file(s), 0 media file(s), 0 artifact file(s) and 0 other file(s)"
            ]
          },
          "metadata": {}
        },
        {
          "output_type": "display_data",
          "data": {
            "text/plain": [
              "<IPython.core.display.HTML object>"
            ],
            "text/html": [
              "Find logs at: <code>./wandb/run-20230715_105546-xtfr6yi5/logs</code>"
            ]
          },
          "metadata": {}
        },
        {
          "output_type": "stream",
          "name": "stderr",
          "text": [
            "\u001b[34m\u001b[1mwandb\u001b[0m: Agent Starting Run: 47o3tcpk with config:\n",
            "\u001b[34m\u001b[1mwandb\u001b[0m: \tactivation: tanh\n",
            "\u001b[34m\u001b[1mwandb\u001b[0m: \tbatch_size: 32\n",
            "\u001b[34m\u001b[1mwandb\u001b[0m: \tepochs: 5\n",
            "\u001b[34m\u001b[1mwandb\u001b[0m: \teta: 0.005\n",
            "\u001b[34m\u001b[1mwandb\u001b[0m: \thidden_layers: 2\n",
            "\u001b[34m\u001b[1mwandb\u001b[0m: \toptimizer: rmsprop\n",
            "\u001b[34m\u001b[1mwandb\u001b[0m: \tsize: 32\n",
            "\u001b[34m\u001b[1mwandb\u001b[0m: \twt_decay: 0.005\n",
            "\u001b[34m\u001b[1mwandb\u001b[0m: \twt_init: random\n"
          ]
        },
        {
          "output_type": "display_data",
          "data": {
            "text/plain": [
              "<IPython.core.display.HTML object>"
            ],
            "text/html": [
              "Tracking run with wandb version 0.15.5"
            ]
          },
          "metadata": {}
        },
        {
          "output_type": "display_data",
          "data": {
            "text/plain": [
              "<IPython.core.display.HTML object>"
            ],
            "text/html": [
              "Run data is saved locally in <code>/content/wandb/run-20230715_105742-47o3tcpk</code>"
            ]
          },
          "metadata": {}
        },
        {
          "output_type": "display_data",
          "data": {
            "text/plain": [
              "<IPython.core.display.HTML object>"
            ],
            "text/html": [
              "Syncing run <strong><a href='https://wandb.ai/cs23z036/Assignment1_ReLoaded_15thJuly/runs/47o3tcpk' target=\"_blank\">daily-sweep-42</a></strong> to <a href='https://wandb.ai/cs23z036/Assignment1_ReLoaded_15thJuly' target=\"_blank\">Weights & Biases</a> (<a href='https://wandb.me/run' target=\"_blank\">docs</a>)<br/>Sweep page: <a href='https://wandb.ai/cs23z036/Assignment1_ReLoaded_15thJuly/sweeps/az1ucc60' target=\"_blank\">https://wandb.ai/cs23z036/Assignment1_ReLoaded_15thJuly/sweeps/az1ucc60</a>"
            ]
          },
          "metadata": {}
        },
        {
          "output_type": "display_data",
          "data": {
            "text/plain": [
              "<IPython.core.display.HTML object>"
            ],
            "text/html": [
              " View project at <a href='https://wandb.ai/cs23z036/Assignment1_ReLoaded_15thJuly' target=\"_blank\">https://wandb.ai/cs23z036/Assignment1_ReLoaded_15thJuly</a>"
            ]
          },
          "metadata": {}
        },
        {
          "output_type": "display_data",
          "data": {
            "text/plain": [
              "<IPython.core.display.HTML object>"
            ],
            "text/html": [
              " View sweep at <a href='https://wandb.ai/cs23z036/Assignment1_ReLoaded_15thJuly/sweeps/az1ucc60' target=\"_blank\">https://wandb.ai/cs23z036/Assignment1_ReLoaded_15thJuly/sweeps/az1ucc60</a>"
            ]
          },
          "metadata": {}
        },
        {
          "output_type": "display_data",
          "data": {
            "text/plain": [
              "<IPython.core.display.HTML object>"
            ],
            "text/html": [
              " View run at <a href='https://wandb.ai/cs23z036/Assignment1_ReLoaded_15thJuly/runs/47o3tcpk' target=\"_blank\">https://wandb.ai/cs23z036/Assignment1_ReLoaded_15thJuly/runs/47o3tcpk</a>"
            ]
          },
          "metadata": {}
        },
        {
          "output_type": "display_data",
          "data": {
            "text/plain": [
              "<IPython.core.display.HTML object>"
            ],
            "text/html": [
              "Waiting for W&B process to finish... <strong style=\"color:green\">(success).</strong>"
            ]
          },
          "metadata": {}
        },
        {
          "output_type": "display_data",
          "data": {
            "text/plain": [
              "<IPython.core.display.HTML object>"
            ],
            "text/html": [
              "<style>\n",
              "    table.wandb td:nth-child(1) { padding: 0 10px; text-align: left ; width: auto;} td:nth-child(2) {text-align: left ; width: 100%}\n",
              "    .wandb-row { display: flex; flex-direction: row; flex-wrap: wrap; justify-content: flex-start; width: 100% }\n",
              "    .wandb-col { display: flex; flex-direction: column; flex-basis: 100%; flex: 1; padding: 10px; }\n",
              "    </style>\n",
              "<div class=\"wandb-row\"><div class=\"wandb-col\"><h3>Run history:</h3><br/><table class=\"wandb\"><tr><td>batch size</td><td>▁</td></tr><tr><td>epochs</td><td>▁</td></tr><tr><td>layer size</td><td>▁</td></tr><tr><td>learning rate</td><td>▁</td></tr><tr><td>no of hidden layers</td><td>▁</td></tr><tr><td>validation accuracy</td><td>▁</td></tr><tr><td>validation loss</td><td>▁</td></tr></table><br/></div><div class=\"wandb-col\"><h3>Run summary:</h3><br/><table class=\"wandb\"><tr><td>batch size</td><td>32</td></tr><tr><td>epochs</td><td>5</td></tr><tr><td>layer size</td><td>32</td></tr><tr><td>learning rate</td><td>0.005</td></tr><tr><td>no of hidden layers</td><td>2</td></tr><tr><td>optimizer</td><td>rmsprop</td></tr><tr><td>validation accuracy</td><td>0.8118</td></tr><tr><td>validation loss</td><td>0.54957</td></tr></table><br/></div></div>"
            ]
          },
          "metadata": {}
        },
        {
          "output_type": "display_data",
          "data": {
            "text/plain": [
              "<IPython.core.display.HTML object>"
            ],
            "text/html": [
              " View run <strong style=\"color:#cdcd00\">daily-sweep-42</strong> at: <a href='https://wandb.ai/cs23z036/Assignment1_ReLoaded_15thJuly/runs/47o3tcpk' target=\"_blank\">https://wandb.ai/cs23z036/Assignment1_ReLoaded_15thJuly/runs/47o3tcpk</a><br/>Synced 4 W&B file(s), 0 media file(s), 0 artifact file(s) and 0 other file(s)"
            ]
          },
          "metadata": {}
        },
        {
          "output_type": "display_data",
          "data": {
            "text/plain": [
              "<IPython.core.display.HTML object>"
            ],
            "text/html": [
              "Find logs at: <code>./wandb/run-20230715_105742-47o3tcpk/logs</code>"
            ]
          },
          "metadata": {}
        },
        {
          "output_type": "stream",
          "name": "stderr",
          "text": [
            "\u001b[34m\u001b[1mwandb\u001b[0m: Sweep Agent: Waiting for job.\n",
            "\u001b[34m\u001b[1mwandb\u001b[0m: Job received.\n",
            "\u001b[34m\u001b[1mwandb\u001b[0m: Agent Starting Run: kpdywmop with config:\n",
            "\u001b[34m\u001b[1mwandb\u001b[0m: \tactivation: tanh\n",
            "\u001b[34m\u001b[1mwandb\u001b[0m: \tbatch_size: 32\n",
            "\u001b[34m\u001b[1mwandb\u001b[0m: \tepochs: 5\n",
            "\u001b[34m\u001b[1mwandb\u001b[0m: \teta: 0.005\n",
            "\u001b[34m\u001b[1mwandb\u001b[0m: \thidden_layers: 2\n",
            "\u001b[34m\u001b[1mwandb\u001b[0m: \toptimizer: rmsprop\n",
            "\u001b[34m\u001b[1mwandb\u001b[0m: \tsize: 32\n",
            "\u001b[34m\u001b[1mwandb\u001b[0m: \twt_decay: 0.05\n",
            "\u001b[34m\u001b[1mwandb\u001b[0m: \twt_init: xavier\n"
          ]
        },
        {
          "output_type": "display_data",
          "data": {
            "text/plain": [
              "<IPython.core.display.HTML object>"
            ],
            "text/html": [
              "Tracking run with wandb version 0.15.5"
            ]
          },
          "metadata": {}
        },
        {
          "output_type": "display_data",
          "data": {
            "text/plain": [
              "<IPython.core.display.HTML object>"
            ],
            "text/html": [
              "Run data is saved locally in <code>/content/wandb/run-20230715_105946-kpdywmop</code>"
            ]
          },
          "metadata": {}
        },
        {
          "output_type": "display_data",
          "data": {
            "text/plain": [
              "<IPython.core.display.HTML object>"
            ],
            "text/html": [
              "Syncing run <strong><a href='https://wandb.ai/cs23z036/Assignment1_ReLoaded_15thJuly/runs/kpdywmop' target=\"_blank\">eternal-sweep-43</a></strong> to <a href='https://wandb.ai/cs23z036/Assignment1_ReLoaded_15thJuly' target=\"_blank\">Weights & Biases</a> (<a href='https://wandb.me/run' target=\"_blank\">docs</a>)<br/>Sweep page: <a href='https://wandb.ai/cs23z036/Assignment1_ReLoaded_15thJuly/sweeps/az1ucc60' target=\"_blank\">https://wandb.ai/cs23z036/Assignment1_ReLoaded_15thJuly/sweeps/az1ucc60</a>"
            ]
          },
          "metadata": {}
        },
        {
          "output_type": "display_data",
          "data": {
            "text/plain": [
              "<IPython.core.display.HTML object>"
            ],
            "text/html": [
              " View project at <a href='https://wandb.ai/cs23z036/Assignment1_ReLoaded_15thJuly' target=\"_blank\">https://wandb.ai/cs23z036/Assignment1_ReLoaded_15thJuly</a>"
            ]
          },
          "metadata": {}
        },
        {
          "output_type": "display_data",
          "data": {
            "text/plain": [
              "<IPython.core.display.HTML object>"
            ],
            "text/html": [
              " View sweep at <a href='https://wandb.ai/cs23z036/Assignment1_ReLoaded_15thJuly/sweeps/az1ucc60' target=\"_blank\">https://wandb.ai/cs23z036/Assignment1_ReLoaded_15thJuly/sweeps/az1ucc60</a>"
            ]
          },
          "metadata": {}
        },
        {
          "output_type": "display_data",
          "data": {
            "text/plain": [
              "<IPython.core.display.HTML object>"
            ],
            "text/html": [
              " View run at <a href='https://wandb.ai/cs23z036/Assignment1_ReLoaded_15thJuly/runs/kpdywmop' target=\"_blank\">https://wandb.ai/cs23z036/Assignment1_ReLoaded_15thJuly/runs/kpdywmop</a>"
            ]
          },
          "metadata": {}
        },
        {
          "output_type": "display_data",
          "data": {
            "text/plain": [
              "<IPython.core.display.HTML object>"
            ],
            "text/html": [
              "Waiting for W&B process to finish... <strong style=\"color:green\">(success).</strong>"
            ]
          },
          "metadata": {}
        },
        {
          "output_type": "display_data",
          "data": {
            "text/plain": [
              "<IPython.core.display.HTML object>"
            ],
            "text/html": [
              "<style>\n",
              "    table.wandb td:nth-child(1) { padding: 0 10px; text-align: left ; width: auto;} td:nth-child(2) {text-align: left ; width: 100%}\n",
              "    .wandb-row { display: flex; flex-direction: row; flex-wrap: wrap; justify-content: flex-start; width: 100% }\n",
              "    .wandb-col { display: flex; flex-direction: column; flex-basis: 100%; flex: 1; padding: 10px; }\n",
              "    </style>\n",
              "<div class=\"wandb-row\"><div class=\"wandb-col\"><h3>Run history:</h3><br/><table class=\"wandb\"><tr><td>batch size</td><td>▁</td></tr><tr><td>epochs</td><td>▁</td></tr><tr><td>layer size</td><td>▁</td></tr><tr><td>learning rate</td><td>▁</td></tr><tr><td>no of hidden layers</td><td>▁</td></tr><tr><td>validation accuracy</td><td>▁</td></tr><tr><td>validation loss</td><td>▁</td></tr></table><br/></div><div class=\"wandb-col\"><h3>Run summary:</h3><br/><table class=\"wandb\"><tr><td>batch size</td><td>32</td></tr><tr><td>epochs</td><td>5</td></tr><tr><td>layer size</td><td>32</td></tr><tr><td>learning rate</td><td>0.005</td></tr><tr><td>no of hidden layers</td><td>2</td></tr><tr><td>optimizer</td><td>rmsprop</td></tr><tr><td>validation accuracy</td><td>0.8501</td></tr><tr><td>validation loss</td><td>0.42311</td></tr></table><br/></div></div>"
            ]
          },
          "metadata": {}
        },
        {
          "output_type": "display_data",
          "data": {
            "text/plain": [
              "<IPython.core.display.HTML object>"
            ],
            "text/html": [
              " View run <strong style=\"color:#cdcd00\">eternal-sweep-43</strong> at: <a href='https://wandb.ai/cs23z036/Assignment1_ReLoaded_15thJuly/runs/kpdywmop' target=\"_blank\">https://wandb.ai/cs23z036/Assignment1_ReLoaded_15thJuly/runs/kpdywmop</a><br/>Synced 4 W&B file(s), 0 media file(s), 0 artifact file(s) and 0 other file(s)"
            ]
          },
          "metadata": {}
        },
        {
          "output_type": "display_data",
          "data": {
            "text/plain": [
              "<IPython.core.display.HTML object>"
            ],
            "text/html": [
              "Find logs at: <code>./wandb/run-20230715_105946-kpdywmop/logs</code>"
            ]
          },
          "metadata": {}
        },
        {
          "output_type": "stream",
          "name": "stderr",
          "text": [
            "\u001b[34m\u001b[1mwandb\u001b[0m: Agent Starting Run: z6iwxmcj with config:\n",
            "\u001b[34m\u001b[1mwandb\u001b[0m: \tactivation: tanh\n",
            "\u001b[34m\u001b[1mwandb\u001b[0m: \tbatch_size: 32\n",
            "\u001b[34m\u001b[1mwandb\u001b[0m: \tepochs: 5\n",
            "\u001b[34m\u001b[1mwandb\u001b[0m: \teta: 0.005\n",
            "\u001b[34m\u001b[1mwandb\u001b[0m: \thidden_layers: 2\n",
            "\u001b[34m\u001b[1mwandb\u001b[0m: \toptimizer: rmsprop\n",
            "\u001b[34m\u001b[1mwandb\u001b[0m: \tsize: 32\n",
            "\u001b[34m\u001b[1mwandb\u001b[0m: \twt_decay: 0.05\n",
            "\u001b[34m\u001b[1mwandb\u001b[0m: \twt_init: random\n"
          ]
        },
        {
          "output_type": "display_data",
          "data": {
            "text/plain": [
              "<IPython.core.display.HTML object>"
            ],
            "text/html": [
              "Tracking run with wandb version 0.15.5"
            ]
          },
          "metadata": {}
        },
        {
          "output_type": "display_data",
          "data": {
            "text/plain": [
              "<IPython.core.display.HTML object>"
            ],
            "text/html": [
              "Run data is saved locally in <code>/content/wandb/run-20230715_110143-z6iwxmcj</code>"
            ]
          },
          "metadata": {}
        },
        {
          "output_type": "display_data",
          "data": {
            "text/plain": [
              "<IPython.core.display.HTML object>"
            ],
            "text/html": [
              "Syncing run <strong><a href='https://wandb.ai/cs23z036/Assignment1_ReLoaded_15thJuly/runs/z6iwxmcj' target=\"_blank\">pious-sweep-44</a></strong> to <a href='https://wandb.ai/cs23z036/Assignment1_ReLoaded_15thJuly' target=\"_blank\">Weights & Biases</a> (<a href='https://wandb.me/run' target=\"_blank\">docs</a>)<br/>Sweep page: <a href='https://wandb.ai/cs23z036/Assignment1_ReLoaded_15thJuly/sweeps/az1ucc60' target=\"_blank\">https://wandb.ai/cs23z036/Assignment1_ReLoaded_15thJuly/sweeps/az1ucc60</a>"
            ]
          },
          "metadata": {}
        },
        {
          "output_type": "display_data",
          "data": {
            "text/plain": [
              "<IPython.core.display.HTML object>"
            ],
            "text/html": [
              " View project at <a href='https://wandb.ai/cs23z036/Assignment1_ReLoaded_15thJuly' target=\"_blank\">https://wandb.ai/cs23z036/Assignment1_ReLoaded_15thJuly</a>"
            ]
          },
          "metadata": {}
        },
        {
          "output_type": "display_data",
          "data": {
            "text/plain": [
              "<IPython.core.display.HTML object>"
            ],
            "text/html": [
              " View sweep at <a href='https://wandb.ai/cs23z036/Assignment1_ReLoaded_15thJuly/sweeps/az1ucc60' target=\"_blank\">https://wandb.ai/cs23z036/Assignment1_ReLoaded_15thJuly/sweeps/az1ucc60</a>"
            ]
          },
          "metadata": {}
        },
        {
          "output_type": "display_data",
          "data": {
            "text/plain": [
              "<IPython.core.display.HTML object>"
            ],
            "text/html": [
              " View run at <a href='https://wandb.ai/cs23z036/Assignment1_ReLoaded_15thJuly/runs/z6iwxmcj' target=\"_blank\">https://wandb.ai/cs23z036/Assignment1_ReLoaded_15thJuly/runs/z6iwxmcj</a>"
            ]
          },
          "metadata": {}
        },
        {
          "output_type": "display_data",
          "data": {
            "text/plain": [
              "<IPython.core.display.HTML object>"
            ],
            "text/html": [
              "Waiting for W&B process to finish... <strong style=\"color:green\">(success).</strong>"
            ]
          },
          "metadata": {}
        },
        {
          "output_type": "display_data",
          "data": {
            "text/plain": [
              "<IPython.core.display.HTML object>"
            ],
            "text/html": [
              "<style>\n",
              "    table.wandb td:nth-child(1) { padding: 0 10px; text-align: left ; width: auto;} td:nth-child(2) {text-align: left ; width: 100%}\n",
              "    .wandb-row { display: flex; flex-direction: row; flex-wrap: wrap; justify-content: flex-start; width: 100% }\n",
              "    .wandb-col { display: flex; flex-direction: column; flex-basis: 100%; flex: 1; padding: 10px; }\n",
              "    </style>\n",
              "<div class=\"wandb-row\"><div class=\"wandb-col\"><h3>Run history:</h3><br/><table class=\"wandb\"><tr><td>batch size</td><td>▁</td></tr><tr><td>epochs</td><td>▁</td></tr><tr><td>layer size</td><td>▁</td></tr><tr><td>learning rate</td><td>▁</td></tr><tr><td>no of hidden layers</td><td>▁</td></tr><tr><td>validation accuracy</td><td>▁</td></tr><tr><td>validation loss</td><td>▁</td></tr></table><br/></div><div class=\"wandb-col\"><h3>Run summary:</h3><br/><table class=\"wandb\"><tr><td>batch size</td><td>32</td></tr><tr><td>epochs</td><td>5</td></tr><tr><td>layer size</td><td>32</td></tr><tr><td>learning rate</td><td>0.005</td></tr><tr><td>no of hidden layers</td><td>2</td></tr><tr><td>optimizer</td><td>rmsprop</td></tr><tr><td>validation accuracy</td><td>0.8205</td></tr><tr><td>validation loss</td><td>0.51301</td></tr></table><br/></div></div>"
            ]
          },
          "metadata": {}
        },
        {
          "output_type": "display_data",
          "data": {
            "text/plain": [
              "<IPython.core.display.HTML object>"
            ],
            "text/html": [
              " View run <strong style=\"color:#cdcd00\">pious-sweep-44</strong> at: <a href='https://wandb.ai/cs23z036/Assignment1_ReLoaded_15thJuly/runs/z6iwxmcj' target=\"_blank\">https://wandb.ai/cs23z036/Assignment1_ReLoaded_15thJuly/runs/z6iwxmcj</a><br/>Synced 4 W&B file(s), 0 media file(s), 0 artifact file(s) and 0 other file(s)"
            ]
          },
          "metadata": {}
        },
        {
          "output_type": "display_data",
          "data": {
            "text/plain": [
              "<IPython.core.display.HTML object>"
            ],
            "text/html": [
              "Find logs at: <code>./wandb/run-20230715_110143-z6iwxmcj/logs</code>"
            ]
          },
          "metadata": {}
        },
        {
          "output_type": "stream",
          "name": "stderr",
          "text": [
            "\u001b[34m\u001b[1mwandb\u001b[0m: Agent Starting Run: owq63etd with config:\n",
            "\u001b[34m\u001b[1mwandb\u001b[0m: \tactivation: tanh\n",
            "\u001b[34m\u001b[1mwandb\u001b[0m: \tbatch_size: 32\n",
            "\u001b[34m\u001b[1mwandb\u001b[0m: \tepochs: 5\n",
            "\u001b[34m\u001b[1mwandb\u001b[0m: \teta: 0.005\n",
            "\u001b[34m\u001b[1mwandb\u001b[0m: \thidden_layers: 2\n",
            "\u001b[34m\u001b[1mwandb\u001b[0m: \toptimizer: rmsprop\n",
            "\u001b[34m\u001b[1mwandb\u001b[0m: \tsize: 64\n",
            "\u001b[34m\u001b[1mwandb\u001b[0m: \twt_decay: 0.005\n",
            "\u001b[34m\u001b[1mwandb\u001b[0m: \twt_init: xavier\n"
          ]
        },
        {
          "output_type": "display_data",
          "data": {
            "text/plain": [
              "<IPython.core.display.HTML object>"
            ],
            "text/html": [
              "Tracking run with wandb version 0.15.5"
            ]
          },
          "metadata": {}
        },
        {
          "output_type": "display_data",
          "data": {
            "text/plain": [
              "<IPython.core.display.HTML object>"
            ],
            "text/html": [
              "Run data is saved locally in <code>/content/wandb/run-20230715_110340-owq63etd</code>"
            ]
          },
          "metadata": {}
        },
        {
          "output_type": "display_data",
          "data": {
            "text/plain": [
              "<IPython.core.display.HTML object>"
            ],
            "text/html": [
              "Syncing run <strong><a href='https://wandb.ai/cs23z036/Assignment1_ReLoaded_15thJuly/runs/owq63etd' target=\"_blank\">clear-sweep-45</a></strong> to <a href='https://wandb.ai/cs23z036/Assignment1_ReLoaded_15thJuly' target=\"_blank\">Weights & Biases</a> (<a href='https://wandb.me/run' target=\"_blank\">docs</a>)<br/>Sweep page: <a href='https://wandb.ai/cs23z036/Assignment1_ReLoaded_15thJuly/sweeps/az1ucc60' target=\"_blank\">https://wandb.ai/cs23z036/Assignment1_ReLoaded_15thJuly/sweeps/az1ucc60</a>"
            ]
          },
          "metadata": {}
        },
        {
          "output_type": "display_data",
          "data": {
            "text/plain": [
              "<IPython.core.display.HTML object>"
            ],
            "text/html": [
              " View project at <a href='https://wandb.ai/cs23z036/Assignment1_ReLoaded_15thJuly' target=\"_blank\">https://wandb.ai/cs23z036/Assignment1_ReLoaded_15thJuly</a>"
            ]
          },
          "metadata": {}
        },
        {
          "output_type": "display_data",
          "data": {
            "text/plain": [
              "<IPython.core.display.HTML object>"
            ],
            "text/html": [
              " View sweep at <a href='https://wandb.ai/cs23z036/Assignment1_ReLoaded_15thJuly/sweeps/az1ucc60' target=\"_blank\">https://wandb.ai/cs23z036/Assignment1_ReLoaded_15thJuly/sweeps/az1ucc60</a>"
            ]
          },
          "metadata": {}
        },
        {
          "output_type": "display_data",
          "data": {
            "text/plain": [
              "<IPython.core.display.HTML object>"
            ],
            "text/html": [
              " View run at <a href='https://wandb.ai/cs23z036/Assignment1_ReLoaded_15thJuly/runs/owq63etd' target=\"_blank\">https://wandb.ai/cs23z036/Assignment1_ReLoaded_15thJuly/runs/owq63etd</a>"
            ]
          },
          "metadata": {}
        },
        {
          "output_type": "display_data",
          "data": {
            "text/plain": [
              "<IPython.core.display.HTML object>"
            ],
            "text/html": [
              "Waiting for W&B process to finish... <strong style=\"color:green\">(success).</strong>"
            ]
          },
          "metadata": {}
        },
        {
          "output_type": "display_data",
          "data": {
            "text/plain": [
              "<IPython.core.display.HTML object>"
            ],
            "text/html": [
              "<style>\n",
              "    table.wandb td:nth-child(1) { padding: 0 10px; text-align: left ; width: auto;} td:nth-child(2) {text-align: left ; width: 100%}\n",
              "    .wandb-row { display: flex; flex-direction: row; flex-wrap: wrap; justify-content: flex-start; width: 100% }\n",
              "    .wandb-col { display: flex; flex-direction: column; flex-basis: 100%; flex: 1; padding: 10px; }\n",
              "    </style>\n",
              "<div class=\"wandb-row\"><div class=\"wandb-col\"><h3>Run history:</h3><br/><table class=\"wandb\"><tr><td>batch size</td><td>▁</td></tr><tr><td>epochs</td><td>▁</td></tr><tr><td>layer size</td><td>▁</td></tr><tr><td>learning rate</td><td>▁</td></tr><tr><td>no of hidden layers</td><td>▁</td></tr><tr><td>validation accuracy</td><td>▁</td></tr><tr><td>validation loss</td><td>▁</td></tr></table><br/></div><div class=\"wandb-col\"><h3>Run summary:</h3><br/><table class=\"wandb\"><tr><td>batch size</td><td>32</td></tr><tr><td>epochs</td><td>5</td></tr><tr><td>layer size</td><td>64</td></tr><tr><td>learning rate</td><td>0.005</td></tr><tr><td>no of hidden layers</td><td>2</td></tr><tr><td>optimizer</td><td>rmsprop</td></tr><tr><td>validation accuracy</td><td>0.8389</td></tr><tr><td>validation loss</td><td>0.44784</td></tr></table><br/></div></div>"
            ]
          },
          "metadata": {}
        },
        {
          "output_type": "display_data",
          "data": {
            "text/plain": [
              "<IPython.core.display.HTML object>"
            ],
            "text/html": [
              " View run <strong style=\"color:#cdcd00\">clear-sweep-45</strong> at: <a href='https://wandb.ai/cs23z036/Assignment1_ReLoaded_15thJuly/runs/owq63etd' target=\"_blank\">https://wandb.ai/cs23z036/Assignment1_ReLoaded_15thJuly/runs/owq63etd</a><br/>Synced 4 W&B file(s), 0 media file(s), 0 artifact file(s) and 0 other file(s)"
            ]
          },
          "metadata": {}
        },
        {
          "output_type": "display_data",
          "data": {
            "text/plain": [
              "<IPython.core.display.HTML object>"
            ],
            "text/html": [
              "Find logs at: <code>./wandb/run-20230715_110340-owq63etd/logs</code>"
            ]
          },
          "metadata": {}
        },
        {
          "output_type": "stream",
          "name": "stderr",
          "text": [
            "\u001b[34m\u001b[1mwandb\u001b[0m: Agent Starting Run: 4ypazuzv with config:\n",
            "\u001b[34m\u001b[1mwandb\u001b[0m: \tactivation: tanh\n",
            "\u001b[34m\u001b[1mwandb\u001b[0m: \tbatch_size: 32\n",
            "\u001b[34m\u001b[1mwandb\u001b[0m: \tepochs: 5\n",
            "\u001b[34m\u001b[1mwandb\u001b[0m: \teta: 0.005\n",
            "\u001b[34m\u001b[1mwandb\u001b[0m: \thidden_layers: 2\n",
            "\u001b[34m\u001b[1mwandb\u001b[0m: \toptimizer: rmsprop\n",
            "\u001b[34m\u001b[1mwandb\u001b[0m: \tsize: 64\n",
            "\u001b[34m\u001b[1mwandb\u001b[0m: \twt_decay: 0.005\n",
            "\u001b[34m\u001b[1mwandb\u001b[0m: \twt_init: random\n"
          ]
        },
        {
          "output_type": "display_data",
          "data": {
            "text/plain": [
              "<IPython.core.display.HTML object>"
            ],
            "text/html": [
              "Tracking run with wandb version 0.15.5"
            ]
          },
          "metadata": {}
        },
        {
          "output_type": "display_data",
          "data": {
            "text/plain": [
              "<IPython.core.display.HTML object>"
            ],
            "text/html": [
              "Run data is saved locally in <code>/content/wandb/run-20230715_110620-4ypazuzv</code>"
            ]
          },
          "metadata": {}
        },
        {
          "output_type": "display_data",
          "data": {
            "text/plain": [
              "<IPython.core.display.HTML object>"
            ],
            "text/html": [
              "Syncing run <strong><a href='https://wandb.ai/cs23z036/Assignment1_ReLoaded_15thJuly/runs/4ypazuzv' target=\"_blank\">balmy-sweep-46</a></strong> to <a href='https://wandb.ai/cs23z036/Assignment1_ReLoaded_15thJuly' target=\"_blank\">Weights & Biases</a> (<a href='https://wandb.me/run' target=\"_blank\">docs</a>)<br/>Sweep page: <a href='https://wandb.ai/cs23z036/Assignment1_ReLoaded_15thJuly/sweeps/az1ucc60' target=\"_blank\">https://wandb.ai/cs23z036/Assignment1_ReLoaded_15thJuly/sweeps/az1ucc60</a>"
            ]
          },
          "metadata": {}
        },
        {
          "output_type": "display_data",
          "data": {
            "text/plain": [
              "<IPython.core.display.HTML object>"
            ],
            "text/html": [
              " View project at <a href='https://wandb.ai/cs23z036/Assignment1_ReLoaded_15thJuly' target=\"_blank\">https://wandb.ai/cs23z036/Assignment1_ReLoaded_15thJuly</a>"
            ]
          },
          "metadata": {}
        },
        {
          "output_type": "display_data",
          "data": {
            "text/plain": [
              "<IPython.core.display.HTML object>"
            ],
            "text/html": [
              " View sweep at <a href='https://wandb.ai/cs23z036/Assignment1_ReLoaded_15thJuly/sweeps/az1ucc60' target=\"_blank\">https://wandb.ai/cs23z036/Assignment1_ReLoaded_15thJuly/sweeps/az1ucc60</a>"
            ]
          },
          "metadata": {}
        },
        {
          "output_type": "display_data",
          "data": {
            "text/plain": [
              "<IPython.core.display.HTML object>"
            ],
            "text/html": [
              " View run at <a href='https://wandb.ai/cs23z036/Assignment1_ReLoaded_15thJuly/runs/4ypazuzv' target=\"_blank\">https://wandb.ai/cs23z036/Assignment1_ReLoaded_15thJuly/runs/4ypazuzv</a>"
            ]
          },
          "metadata": {}
        },
        {
          "output_type": "display_data",
          "data": {
            "text/plain": [
              "<IPython.core.display.HTML object>"
            ],
            "text/html": [
              "Waiting for W&B process to finish... <strong style=\"color:green\">(success).</strong>"
            ]
          },
          "metadata": {}
        },
        {
          "output_type": "display_data",
          "data": {
            "text/plain": [
              "<IPython.core.display.HTML object>"
            ],
            "text/html": [
              "<style>\n",
              "    table.wandb td:nth-child(1) { padding: 0 10px; text-align: left ; width: auto;} td:nth-child(2) {text-align: left ; width: 100%}\n",
              "    .wandb-row { display: flex; flex-direction: row; flex-wrap: wrap; justify-content: flex-start; width: 100% }\n",
              "    .wandb-col { display: flex; flex-direction: column; flex-basis: 100%; flex: 1; padding: 10px; }\n",
              "    </style>\n",
              "<div class=\"wandb-row\"><div class=\"wandb-col\"><h3>Run history:</h3><br/><table class=\"wandb\"><tr><td>batch size</td><td>▁</td></tr><tr><td>epochs</td><td>▁</td></tr><tr><td>layer size</td><td>▁</td></tr><tr><td>learning rate</td><td>▁</td></tr><tr><td>no of hidden layers</td><td>▁</td></tr><tr><td>validation accuracy</td><td>▁</td></tr><tr><td>validation loss</td><td>▁</td></tr></table><br/></div><div class=\"wandb-col\"><h3>Run summary:</h3><br/><table class=\"wandb\"><tr><td>batch size</td><td>32</td></tr><tr><td>epochs</td><td>5</td></tr><tr><td>layer size</td><td>64</td></tr><tr><td>learning rate</td><td>0.005</td></tr><tr><td>no of hidden layers</td><td>2</td></tr><tr><td>optimizer</td><td>rmsprop</td></tr><tr><td>validation accuracy</td><td>0.812</td></tr><tr><td>validation loss</td><td>0.54802</td></tr></table><br/></div></div>"
            ]
          },
          "metadata": {}
        },
        {
          "output_type": "display_data",
          "data": {
            "text/plain": [
              "<IPython.core.display.HTML object>"
            ],
            "text/html": [
              " View run <strong style=\"color:#cdcd00\">balmy-sweep-46</strong> at: <a href='https://wandb.ai/cs23z036/Assignment1_ReLoaded_15thJuly/runs/4ypazuzv' target=\"_blank\">https://wandb.ai/cs23z036/Assignment1_ReLoaded_15thJuly/runs/4ypazuzv</a><br/>Synced 4 W&B file(s), 0 media file(s), 0 artifact file(s) and 0 other file(s)"
            ]
          },
          "metadata": {}
        },
        {
          "output_type": "display_data",
          "data": {
            "text/plain": [
              "<IPython.core.display.HTML object>"
            ],
            "text/html": [
              "Find logs at: <code>./wandb/run-20230715_110620-4ypazuzv/logs</code>"
            ]
          },
          "metadata": {}
        },
        {
          "output_type": "stream",
          "name": "stderr",
          "text": [
            "\u001b[34m\u001b[1mwandb\u001b[0m: Agent Starting Run: e1ija0k2 with config:\n",
            "\u001b[34m\u001b[1mwandb\u001b[0m: \tactivation: tanh\n",
            "\u001b[34m\u001b[1mwandb\u001b[0m: \tbatch_size: 32\n",
            "\u001b[34m\u001b[1mwandb\u001b[0m: \tepochs: 5\n",
            "\u001b[34m\u001b[1mwandb\u001b[0m: \teta: 0.005\n",
            "\u001b[34m\u001b[1mwandb\u001b[0m: \thidden_layers: 2\n",
            "\u001b[34m\u001b[1mwandb\u001b[0m: \toptimizer: rmsprop\n",
            "\u001b[34m\u001b[1mwandb\u001b[0m: \tsize: 64\n",
            "\u001b[34m\u001b[1mwandb\u001b[0m: \twt_decay: 0.05\n",
            "\u001b[34m\u001b[1mwandb\u001b[0m: \twt_init: xavier\n"
          ]
        },
        {
          "output_type": "display_data",
          "data": {
            "text/plain": [
              "<IPython.core.display.HTML object>"
            ],
            "text/html": [
              "Tracking run with wandb version 0.15.5"
            ]
          },
          "metadata": {}
        },
        {
          "output_type": "display_data",
          "data": {
            "text/plain": [
              "<IPython.core.display.HTML object>"
            ],
            "text/html": [
              "Run data is saved locally in <code>/content/wandb/run-20230715_110858-e1ija0k2</code>"
            ]
          },
          "metadata": {}
        },
        {
          "output_type": "display_data",
          "data": {
            "text/plain": [
              "<IPython.core.display.HTML object>"
            ],
            "text/html": [
              "Syncing run <strong><a href='https://wandb.ai/cs23z036/Assignment1_ReLoaded_15thJuly/runs/e1ija0k2' target=\"_blank\">robust-sweep-47</a></strong> to <a href='https://wandb.ai/cs23z036/Assignment1_ReLoaded_15thJuly' target=\"_blank\">Weights & Biases</a> (<a href='https://wandb.me/run' target=\"_blank\">docs</a>)<br/>Sweep page: <a href='https://wandb.ai/cs23z036/Assignment1_ReLoaded_15thJuly/sweeps/az1ucc60' target=\"_blank\">https://wandb.ai/cs23z036/Assignment1_ReLoaded_15thJuly/sweeps/az1ucc60</a>"
            ]
          },
          "metadata": {}
        },
        {
          "output_type": "display_data",
          "data": {
            "text/plain": [
              "<IPython.core.display.HTML object>"
            ],
            "text/html": [
              " View project at <a href='https://wandb.ai/cs23z036/Assignment1_ReLoaded_15thJuly' target=\"_blank\">https://wandb.ai/cs23z036/Assignment1_ReLoaded_15thJuly</a>"
            ]
          },
          "metadata": {}
        },
        {
          "output_type": "display_data",
          "data": {
            "text/plain": [
              "<IPython.core.display.HTML object>"
            ],
            "text/html": [
              " View sweep at <a href='https://wandb.ai/cs23z036/Assignment1_ReLoaded_15thJuly/sweeps/az1ucc60' target=\"_blank\">https://wandb.ai/cs23z036/Assignment1_ReLoaded_15thJuly/sweeps/az1ucc60</a>"
            ]
          },
          "metadata": {}
        },
        {
          "output_type": "display_data",
          "data": {
            "text/plain": [
              "<IPython.core.display.HTML object>"
            ],
            "text/html": [
              " View run at <a href='https://wandb.ai/cs23z036/Assignment1_ReLoaded_15thJuly/runs/e1ija0k2' target=\"_blank\">https://wandb.ai/cs23z036/Assignment1_ReLoaded_15thJuly/runs/e1ija0k2</a>"
            ]
          },
          "metadata": {}
        },
        {
          "output_type": "display_data",
          "data": {
            "text/plain": [
              "<IPython.core.display.HTML object>"
            ],
            "text/html": [
              "Waiting for W&B process to finish... <strong style=\"color:green\">(success).</strong>"
            ]
          },
          "metadata": {}
        },
        {
          "output_type": "display_data",
          "data": {
            "text/plain": [
              "<IPython.core.display.HTML object>"
            ],
            "text/html": [
              "<style>\n",
              "    table.wandb td:nth-child(1) { padding: 0 10px; text-align: left ; width: auto;} td:nth-child(2) {text-align: left ; width: 100%}\n",
              "    .wandb-row { display: flex; flex-direction: row; flex-wrap: wrap; justify-content: flex-start; width: 100% }\n",
              "    .wandb-col { display: flex; flex-direction: column; flex-basis: 100%; flex: 1; padding: 10px; }\n",
              "    </style>\n",
              "<div class=\"wandb-row\"><div class=\"wandb-col\"><h3>Run history:</h3><br/><table class=\"wandb\"><tr><td>batch size</td><td>▁</td></tr><tr><td>epochs</td><td>▁</td></tr><tr><td>layer size</td><td>▁</td></tr><tr><td>learning rate</td><td>▁</td></tr><tr><td>no of hidden layers</td><td>▁</td></tr><tr><td>validation accuracy</td><td>▁</td></tr><tr><td>validation loss</td><td>▁</td></tr></table><br/></div><div class=\"wandb-col\"><h3>Run summary:</h3><br/><table class=\"wandb\"><tr><td>batch size</td><td>32</td></tr><tr><td>epochs</td><td>5</td></tr><tr><td>layer size</td><td>64</td></tr><tr><td>learning rate</td><td>0.005</td></tr><tr><td>no of hidden layers</td><td>2</td></tr><tr><td>optimizer</td><td>rmsprop</td></tr><tr><td>validation accuracy</td><td>0.8512</td></tr><tr><td>validation loss</td><td>0.41956</td></tr></table><br/></div></div>"
            ]
          },
          "metadata": {}
        },
        {
          "output_type": "display_data",
          "data": {
            "text/plain": [
              "<IPython.core.display.HTML object>"
            ],
            "text/html": [
              " View run <strong style=\"color:#cdcd00\">robust-sweep-47</strong> at: <a href='https://wandb.ai/cs23z036/Assignment1_ReLoaded_15thJuly/runs/e1ija0k2' target=\"_blank\">https://wandb.ai/cs23z036/Assignment1_ReLoaded_15thJuly/runs/e1ija0k2</a><br/>Synced 4 W&B file(s), 0 media file(s), 0 artifact file(s) and 0 other file(s)"
            ]
          },
          "metadata": {}
        },
        {
          "output_type": "display_data",
          "data": {
            "text/plain": [
              "<IPython.core.display.HTML object>"
            ],
            "text/html": [
              "Find logs at: <code>./wandb/run-20230715_110858-e1ija0k2/logs</code>"
            ]
          },
          "metadata": {}
        },
        {
          "output_type": "stream",
          "name": "stderr",
          "text": [
            "\u001b[34m\u001b[1mwandb\u001b[0m: Agent Starting Run: 9w77f8og with config:\n",
            "\u001b[34m\u001b[1mwandb\u001b[0m: \tactivation: tanh\n",
            "\u001b[34m\u001b[1mwandb\u001b[0m: \tbatch_size: 32\n",
            "\u001b[34m\u001b[1mwandb\u001b[0m: \tepochs: 5\n",
            "\u001b[34m\u001b[1mwandb\u001b[0m: \teta: 0.005\n",
            "\u001b[34m\u001b[1mwandb\u001b[0m: \thidden_layers: 2\n",
            "\u001b[34m\u001b[1mwandb\u001b[0m: \toptimizer: rmsprop\n",
            "\u001b[34m\u001b[1mwandb\u001b[0m: \tsize: 64\n",
            "\u001b[34m\u001b[1mwandb\u001b[0m: \twt_decay: 0.05\n",
            "\u001b[34m\u001b[1mwandb\u001b[0m: \twt_init: random\n"
          ]
        },
        {
          "output_type": "display_data",
          "data": {
            "text/plain": [
              "<IPython.core.display.HTML object>"
            ],
            "text/html": [
              "Tracking run with wandb version 0.15.5"
            ]
          },
          "metadata": {}
        },
        {
          "output_type": "display_data",
          "data": {
            "text/plain": [
              "<IPython.core.display.HTML object>"
            ],
            "text/html": [
              "Run data is saved locally in <code>/content/wandb/run-20230715_111137-9w77f8og</code>"
            ]
          },
          "metadata": {}
        },
        {
          "output_type": "display_data",
          "data": {
            "text/plain": [
              "<IPython.core.display.HTML object>"
            ],
            "text/html": [
              "Syncing run <strong><a href='https://wandb.ai/cs23z036/Assignment1_ReLoaded_15thJuly/runs/9w77f8og' target=\"_blank\">northern-sweep-48</a></strong> to <a href='https://wandb.ai/cs23z036/Assignment1_ReLoaded_15thJuly' target=\"_blank\">Weights & Biases</a> (<a href='https://wandb.me/run' target=\"_blank\">docs</a>)<br/>Sweep page: <a href='https://wandb.ai/cs23z036/Assignment1_ReLoaded_15thJuly/sweeps/az1ucc60' target=\"_blank\">https://wandb.ai/cs23z036/Assignment1_ReLoaded_15thJuly/sweeps/az1ucc60</a>"
            ]
          },
          "metadata": {}
        },
        {
          "output_type": "display_data",
          "data": {
            "text/plain": [
              "<IPython.core.display.HTML object>"
            ],
            "text/html": [
              " View project at <a href='https://wandb.ai/cs23z036/Assignment1_ReLoaded_15thJuly' target=\"_blank\">https://wandb.ai/cs23z036/Assignment1_ReLoaded_15thJuly</a>"
            ]
          },
          "metadata": {}
        },
        {
          "output_type": "display_data",
          "data": {
            "text/plain": [
              "<IPython.core.display.HTML object>"
            ],
            "text/html": [
              " View sweep at <a href='https://wandb.ai/cs23z036/Assignment1_ReLoaded_15thJuly/sweeps/az1ucc60' target=\"_blank\">https://wandb.ai/cs23z036/Assignment1_ReLoaded_15thJuly/sweeps/az1ucc60</a>"
            ]
          },
          "metadata": {}
        },
        {
          "output_type": "display_data",
          "data": {
            "text/plain": [
              "<IPython.core.display.HTML object>"
            ],
            "text/html": [
              " View run at <a href='https://wandb.ai/cs23z036/Assignment1_ReLoaded_15thJuly/runs/9w77f8og' target=\"_blank\">https://wandb.ai/cs23z036/Assignment1_ReLoaded_15thJuly/runs/9w77f8og</a>"
            ]
          },
          "metadata": {}
        },
        {
          "output_type": "display_data",
          "data": {
            "text/plain": [
              "<IPython.core.display.HTML object>"
            ],
            "text/html": [
              "Waiting for W&B process to finish... <strong style=\"color:green\">(success).</strong>"
            ]
          },
          "metadata": {}
        },
        {
          "output_type": "display_data",
          "data": {
            "text/plain": [
              "<IPython.core.display.HTML object>"
            ],
            "text/html": [
              "<style>\n",
              "    table.wandb td:nth-child(1) { padding: 0 10px; text-align: left ; width: auto;} td:nth-child(2) {text-align: left ; width: 100%}\n",
              "    .wandb-row { display: flex; flex-direction: row; flex-wrap: wrap; justify-content: flex-start; width: 100% }\n",
              "    .wandb-col { display: flex; flex-direction: column; flex-basis: 100%; flex: 1; padding: 10px; }\n",
              "    </style>\n",
              "<div class=\"wandb-row\"><div class=\"wandb-col\"><h3>Run history:</h3><br/><table class=\"wandb\"><tr><td>batch size</td><td>▁</td></tr><tr><td>epochs</td><td>▁</td></tr><tr><td>layer size</td><td>▁</td></tr><tr><td>learning rate</td><td>▁</td></tr><tr><td>no of hidden layers</td><td>▁</td></tr><tr><td>validation accuracy</td><td>▁</td></tr><tr><td>validation loss</td><td>▁</td></tr></table><br/></div><div class=\"wandb-col\"><h3>Run summary:</h3><br/><table class=\"wandb\"><tr><td>batch size</td><td>32</td></tr><tr><td>epochs</td><td>5</td></tr><tr><td>layer size</td><td>64</td></tr><tr><td>learning rate</td><td>0.005</td></tr><tr><td>no of hidden layers</td><td>2</td></tr><tr><td>optimizer</td><td>rmsprop</td></tr><tr><td>validation accuracy</td><td>0.8159</td></tr><tr><td>validation loss</td><td>0.52273</td></tr></table><br/></div></div>"
            ]
          },
          "metadata": {}
        },
        {
          "output_type": "display_data",
          "data": {
            "text/plain": [
              "<IPython.core.display.HTML object>"
            ],
            "text/html": [
              " View run <strong style=\"color:#cdcd00\">northern-sweep-48</strong> at: <a href='https://wandb.ai/cs23z036/Assignment1_ReLoaded_15thJuly/runs/9w77f8og' target=\"_blank\">https://wandb.ai/cs23z036/Assignment1_ReLoaded_15thJuly/runs/9w77f8og</a><br/>Synced 4 W&B file(s), 0 media file(s), 0 artifact file(s) and 0 other file(s)"
            ]
          },
          "metadata": {}
        },
        {
          "output_type": "display_data",
          "data": {
            "text/plain": [
              "<IPython.core.display.HTML object>"
            ],
            "text/html": [
              "Find logs at: <code>./wandb/run-20230715_111137-9w77f8og/logs</code>"
            ]
          },
          "metadata": {}
        },
        {
          "output_type": "stream",
          "name": "stderr",
          "text": [
            "\u001b[34m\u001b[1mwandb\u001b[0m: Agent Starting Run: q7h71rl4 with config:\n",
            "\u001b[34m\u001b[1mwandb\u001b[0m: \tactivation: tanh\n",
            "\u001b[34m\u001b[1mwandb\u001b[0m: \tbatch_size: 32\n",
            "\u001b[34m\u001b[1mwandb\u001b[0m: \tepochs: 5\n",
            "\u001b[34m\u001b[1mwandb\u001b[0m: \teta: 0.005\n",
            "\u001b[34m\u001b[1mwandb\u001b[0m: \thidden_layers: 3\n",
            "\u001b[34m\u001b[1mwandb\u001b[0m: \toptimizer: nesterov\n",
            "\u001b[34m\u001b[1mwandb\u001b[0m: \tsize: 32\n",
            "\u001b[34m\u001b[1mwandb\u001b[0m: \twt_decay: 0.005\n",
            "\u001b[34m\u001b[1mwandb\u001b[0m: \twt_init: xavier\n"
          ]
        },
        {
          "output_type": "display_data",
          "data": {
            "text/plain": [
              "<IPython.core.display.HTML object>"
            ],
            "text/html": [
              "Tracking run with wandb version 0.15.5"
            ]
          },
          "metadata": {}
        },
        {
          "output_type": "display_data",
          "data": {
            "text/plain": [
              "<IPython.core.display.HTML object>"
            ],
            "text/html": [
              "Run data is saved locally in <code>/content/wandb/run-20230715_111410-q7h71rl4</code>"
            ]
          },
          "metadata": {}
        },
        {
          "output_type": "display_data",
          "data": {
            "text/plain": [
              "<IPython.core.display.HTML object>"
            ],
            "text/html": [
              "Syncing run <strong><a href='https://wandb.ai/cs23z036/Assignment1_ReLoaded_15thJuly/runs/q7h71rl4' target=\"_blank\">vivid-sweep-49</a></strong> to <a href='https://wandb.ai/cs23z036/Assignment1_ReLoaded_15thJuly' target=\"_blank\">Weights & Biases</a> (<a href='https://wandb.me/run' target=\"_blank\">docs</a>)<br/>Sweep page: <a href='https://wandb.ai/cs23z036/Assignment1_ReLoaded_15thJuly/sweeps/az1ucc60' target=\"_blank\">https://wandb.ai/cs23z036/Assignment1_ReLoaded_15thJuly/sweeps/az1ucc60</a>"
            ]
          },
          "metadata": {}
        },
        {
          "output_type": "display_data",
          "data": {
            "text/plain": [
              "<IPython.core.display.HTML object>"
            ],
            "text/html": [
              " View project at <a href='https://wandb.ai/cs23z036/Assignment1_ReLoaded_15thJuly' target=\"_blank\">https://wandb.ai/cs23z036/Assignment1_ReLoaded_15thJuly</a>"
            ]
          },
          "metadata": {}
        },
        {
          "output_type": "display_data",
          "data": {
            "text/plain": [
              "<IPython.core.display.HTML object>"
            ],
            "text/html": [
              " View sweep at <a href='https://wandb.ai/cs23z036/Assignment1_ReLoaded_15thJuly/sweeps/az1ucc60' target=\"_blank\">https://wandb.ai/cs23z036/Assignment1_ReLoaded_15thJuly/sweeps/az1ucc60</a>"
            ]
          },
          "metadata": {}
        },
        {
          "output_type": "display_data",
          "data": {
            "text/plain": [
              "<IPython.core.display.HTML object>"
            ],
            "text/html": [
              " View run at <a href='https://wandb.ai/cs23z036/Assignment1_ReLoaded_15thJuly/runs/q7h71rl4' target=\"_blank\">https://wandb.ai/cs23z036/Assignment1_ReLoaded_15thJuly/runs/q7h71rl4</a>"
            ]
          },
          "metadata": {}
        },
        {
          "output_type": "display_data",
          "data": {
            "text/plain": [
              "<IPython.core.display.HTML object>"
            ],
            "text/html": [
              "Waiting for W&B process to finish... <strong style=\"color:green\">(success).</strong>"
            ]
          },
          "metadata": {}
        },
        {
          "output_type": "display_data",
          "data": {
            "text/plain": [
              "<IPython.core.display.HTML object>"
            ],
            "text/html": [
              "<style>\n",
              "    table.wandb td:nth-child(1) { padding: 0 10px; text-align: left ; width: auto;} td:nth-child(2) {text-align: left ; width: 100%}\n",
              "    .wandb-row { display: flex; flex-direction: row; flex-wrap: wrap; justify-content: flex-start; width: 100% }\n",
              "    .wandb-col { display: flex; flex-direction: column; flex-basis: 100%; flex: 1; padding: 10px; }\n",
              "    </style>\n",
              "<div class=\"wandb-row\"><div class=\"wandb-col\"><h3>Run history:</h3><br/><table class=\"wandb\"><tr><td>batch size</td><td>▁</td></tr><tr><td>epochs</td><td>▁</td></tr><tr><td>layer size</td><td>▁</td></tr><tr><td>learning rate</td><td>▁</td></tr><tr><td>no of hidden layers</td><td>▁</td></tr><tr><td>validation accuracy</td><td>▁</td></tr><tr><td>validation loss</td><td>▁</td></tr></table><br/></div><div class=\"wandb-col\"><h3>Run summary:</h3><br/><table class=\"wandb\"><tr><td>batch size</td><td>32</td></tr><tr><td>epochs</td><td>5</td></tr><tr><td>layer size</td><td>32</td></tr><tr><td>learning rate</td><td>0.005</td></tr><tr><td>no of hidden layers</td><td>3</td></tr><tr><td>optimizer</td><td>nesterov</td></tr><tr><td>validation accuracy</td><td>0.0996</td></tr><tr><td>validation loss</td><td>2.39942</td></tr></table><br/></div></div>"
            ]
          },
          "metadata": {}
        },
        {
          "output_type": "display_data",
          "data": {
            "text/plain": [
              "<IPython.core.display.HTML object>"
            ],
            "text/html": [
              " View run <strong style=\"color:#cdcd00\">vivid-sweep-49</strong> at: <a href='https://wandb.ai/cs23z036/Assignment1_ReLoaded_15thJuly/runs/q7h71rl4' target=\"_blank\">https://wandb.ai/cs23z036/Assignment1_ReLoaded_15thJuly/runs/q7h71rl4</a><br/>Synced 4 W&B file(s), 0 media file(s), 0 artifact file(s) and 0 other file(s)"
            ]
          },
          "metadata": {}
        },
        {
          "output_type": "display_data",
          "data": {
            "text/plain": [
              "<IPython.core.display.HTML object>"
            ],
            "text/html": [
              "Find logs at: <code>./wandb/run-20230715_111410-q7h71rl4/logs</code>"
            ]
          },
          "metadata": {}
        },
        {
          "output_type": "stream",
          "name": "stderr",
          "text": [
            "\u001b[34m\u001b[1mwandb\u001b[0m: Agent Starting Run: h4gvz3et with config:\n",
            "\u001b[34m\u001b[1mwandb\u001b[0m: \tactivation: tanh\n",
            "\u001b[34m\u001b[1mwandb\u001b[0m: \tbatch_size: 32\n",
            "\u001b[34m\u001b[1mwandb\u001b[0m: \tepochs: 5\n",
            "\u001b[34m\u001b[1mwandb\u001b[0m: \teta: 0.005\n",
            "\u001b[34m\u001b[1mwandb\u001b[0m: \thidden_layers: 3\n",
            "\u001b[34m\u001b[1mwandb\u001b[0m: \toptimizer: nesterov\n",
            "\u001b[34m\u001b[1mwandb\u001b[0m: \tsize: 32\n",
            "\u001b[34m\u001b[1mwandb\u001b[0m: \twt_decay: 0.005\n",
            "\u001b[34m\u001b[1mwandb\u001b[0m: \twt_init: random\n"
          ]
        },
        {
          "output_type": "display_data",
          "data": {
            "text/plain": [
              "<IPython.core.display.HTML object>"
            ],
            "text/html": [
              "Tracking run with wandb version 0.15.5"
            ]
          },
          "metadata": {}
        },
        {
          "output_type": "display_data",
          "data": {
            "text/plain": [
              "<IPython.core.display.HTML object>"
            ],
            "text/html": [
              "Run data is saved locally in <code>/content/wandb/run-20230715_111652-h4gvz3et</code>"
            ]
          },
          "metadata": {}
        },
        {
          "output_type": "display_data",
          "data": {
            "text/plain": [
              "<IPython.core.display.HTML object>"
            ],
            "text/html": [
              "Syncing run <strong><a href='https://wandb.ai/cs23z036/Assignment1_ReLoaded_15thJuly/runs/h4gvz3et' target=\"_blank\">colorful-sweep-50</a></strong> to <a href='https://wandb.ai/cs23z036/Assignment1_ReLoaded_15thJuly' target=\"_blank\">Weights & Biases</a> (<a href='https://wandb.me/run' target=\"_blank\">docs</a>)<br/>Sweep page: <a href='https://wandb.ai/cs23z036/Assignment1_ReLoaded_15thJuly/sweeps/az1ucc60' target=\"_blank\">https://wandb.ai/cs23z036/Assignment1_ReLoaded_15thJuly/sweeps/az1ucc60</a>"
            ]
          },
          "metadata": {}
        },
        {
          "output_type": "display_data",
          "data": {
            "text/plain": [
              "<IPython.core.display.HTML object>"
            ],
            "text/html": [
              " View project at <a href='https://wandb.ai/cs23z036/Assignment1_ReLoaded_15thJuly' target=\"_blank\">https://wandb.ai/cs23z036/Assignment1_ReLoaded_15thJuly</a>"
            ]
          },
          "metadata": {}
        },
        {
          "output_type": "display_data",
          "data": {
            "text/plain": [
              "<IPython.core.display.HTML object>"
            ],
            "text/html": [
              " View sweep at <a href='https://wandb.ai/cs23z036/Assignment1_ReLoaded_15thJuly/sweeps/az1ucc60' target=\"_blank\">https://wandb.ai/cs23z036/Assignment1_ReLoaded_15thJuly/sweeps/az1ucc60</a>"
            ]
          },
          "metadata": {}
        },
        {
          "output_type": "display_data",
          "data": {
            "text/plain": [
              "<IPython.core.display.HTML object>"
            ],
            "text/html": [
              " View run at <a href='https://wandb.ai/cs23z036/Assignment1_ReLoaded_15thJuly/runs/h4gvz3et' target=\"_blank\">https://wandb.ai/cs23z036/Assignment1_ReLoaded_15thJuly/runs/h4gvz3et</a>"
            ]
          },
          "metadata": {}
        },
        {
          "output_type": "display_data",
          "data": {
            "text/plain": [
              "<IPython.core.display.HTML object>"
            ],
            "text/html": [
              "Waiting for W&B process to finish... <strong style=\"color:green\">(success).</strong>"
            ]
          },
          "metadata": {}
        },
        {
          "output_type": "display_data",
          "data": {
            "text/plain": [
              "<IPython.core.display.HTML object>"
            ],
            "text/html": [
              "<style>\n",
              "    table.wandb td:nth-child(1) { padding: 0 10px; text-align: left ; width: auto;} td:nth-child(2) {text-align: left ; width: 100%}\n",
              "    .wandb-row { display: flex; flex-direction: row; flex-wrap: wrap; justify-content: flex-start; width: 100% }\n",
              "    .wandb-col { display: flex; flex-direction: column; flex-basis: 100%; flex: 1; padding: 10px; }\n",
              "    </style>\n",
              "<div class=\"wandb-row\"><div class=\"wandb-col\"><h3>Run history:</h3><br/><table class=\"wandb\"><tr><td>batch size</td><td>▁</td></tr><tr><td>epochs</td><td>▁</td></tr><tr><td>layer size</td><td>▁</td></tr><tr><td>learning rate</td><td>▁</td></tr><tr><td>no of hidden layers</td><td>▁</td></tr><tr><td>validation accuracy</td><td>▁</td></tr><tr><td>validation loss</td><td>▁</td></tr></table><br/></div><div class=\"wandb-col\"><h3>Run summary:</h3><br/><table class=\"wandb\"><tr><td>batch size</td><td>32</td></tr><tr><td>epochs</td><td>5</td></tr><tr><td>layer size</td><td>32</td></tr><tr><td>learning rate</td><td>0.005</td></tr><tr><td>no of hidden layers</td><td>3</td></tr><tr><td>optimizer</td><td>nesterov</td></tr><tr><td>validation accuracy</td><td>0.0996</td></tr><tr><td>validation loss</td><td>2.39942</td></tr></table><br/></div></div>"
            ]
          },
          "metadata": {}
        },
        {
          "output_type": "display_data",
          "data": {
            "text/plain": [
              "<IPython.core.display.HTML object>"
            ],
            "text/html": [
              " View run <strong style=\"color:#cdcd00\">colorful-sweep-50</strong> at: <a href='https://wandb.ai/cs23z036/Assignment1_ReLoaded_15thJuly/runs/h4gvz3et' target=\"_blank\">https://wandb.ai/cs23z036/Assignment1_ReLoaded_15thJuly/runs/h4gvz3et</a><br/>Synced 4 W&B file(s), 0 media file(s), 0 artifact file(s) and 0 other file(s)"
            ]
          },
          "metadata": {}
        },
        {
          "output_type": "display_data",
          "data": {
            "text/plain": [
              "<IPython.core.display.HTML object>"
            ],
            "text/html": [
              "Find logs at: <code>./wandb/run-20230715_111652-h4gvz3et/logs</code>"
            ]
          },
          "metadata": {}
        },
        {
          "output_type": "stream",
          "name": "stderr",
          "text": [
            "\u001b[34m\u001b[1mwandb\u001b[0m: Agent Starting Run: 95avy1en with config:\n",
            "\u001b[34m\u001b[1mwandb\u001b[0m: \tactivation: tanh\n",
            "\u001b[34m\u001b[1mwandb\u001b[0m: \tbatch_size: 32\n",
            "\u001b[34m\u001b[1mwandb\u001b[0m: \tepochs: 5\n",
            "\u001b[34m\u001b[1mwandb\u001b[0m: \teta: 0.005\n",
            "\u001b[34m\u001b[1mwandb\u001b[0m: \thidden_layers: 3\n",
            "\u001b[34m\u001b[1mwandb\u001b[0m: \toptimizer: nesterov\n",
            "\u001b[34m\u001b[1mwandb\u001b[0m: \tsize: 32\n",
            "\u001b[34m\u001b[1mwandb\u001b[0m: \twt_decay: 0.05\n",
            "\u001b[34m\u001b[1mwandb\u001b[0m: \twt_init: xavier\n"
          ]
        },
        {
          "output_type": "display_data",
          "data": {
            "text/plain": [
              "<IPython.core.display.HTML object>"
            ],
            "text/html": [
              "Tracking run with wandb version 0.15.5"
            ]
          },
          "metadata": {}
        },
        {
          "output_type": "display_data",
          "data": {
            "text/plain": [
              "<IPython.core.display.HTML object>"
            ],
            "text/html": [
              "Run data is saved locally in <code>/content/wandb/run-20230715_111934-95avy1en</code>"
            ]
          },
          "metadata": {}
        },
        {
          "output_type": "display_data",
          "data": {
            "text/plain": [
              "<IPython.core.display.HTML object>"
            ],
            "text/html": [
              "Syncing run <strong><a href='https://wandb.ai/cs23z036/Assignment1_ReLoaded_15thJuly/runs/95avy1en' target=\"_blank\">hearty-sweep-51</a></strong> to <a href='https://wandb.ai/cs23z036/Assignment1_ReLoaded_15thJuly' target=\"_blank\">Weights & Biases</a> (<a href='https://wandb.me/run' target=\"_blank\">docs</a>)<br/>Sweep page: <a href='https://wandb.ai/cs23z036/Assignment1_ReLoaded_15thJuly/sweeps/az1ucc60' target=\"_blank\">https://wandb.ai/cs23z036/Assignment1_ReLoaded_15thJuly/sweeps/az1ucc60</a>"
            ]
          },
          "metadata": {}
        },
        {
          "output_type": "display_data",
          "data": {
            "text/plain": [
              "<IPython.core.display.HTML object>"
            ],
            "text/html": [
              " View project at <a href='https://wandb.ai/cs23z036/Assignment1_ReLoaded_15thJuly' target=\"_blank\">https://wandb.ai/cs23z036/Assignment1_ReLoaded_15thJuly</a>"
            ]
          },
          "metadata": {}
        },
        {
          "output_type": "display_data",
          "data": {
            "text/plain": [
              "<IPython.core.display.HTML object>"
            ],
            "text/html": [
              " View sweep at <a href='https://wandb.ai/cs23z036/Assignment1_ReLoaded_15thJuly/sweeps/az1ucc60' target=\"_blank\">https://wandb.ai/cs23z036/Assignment1_ReLoaded_15thJuly/sweeps/az1ucc60</a>"
            ]
          },
          "metadata": {}
        },
        {
          "output_type": "display_data",
          "data": {
            "text/plain": [
              "<IPython.core.display.HTML object>"
            ],
            "text/html": [
              " View run at <a href='https://wandb.ai/cs23z036/Assignment1_ReLoaded_15thJuly/runs/95avy1en' target=\"_blank\">https://wandb.ai/cs23z036/Assignment1_ReLoaded_15thJuly/runs/95avy1en</a>"
            ]
          },
          "metadata": {}
        },
        {
          "output_type": "display_data",
          "data": {
            "text/plain": [
              "<IPython.core.display.HTML object>"
            ],
            "text/html": [
              "Waiting for W&B process to finish... <strong style=\"color:green\">(success).</strong>"
            ]
          },
          "metadata": {}
        },
        {
          "output_type": "display_data",
          "data": {
            "text/plain": [
              "<IPython.core.display.HTML object>"
            ],
            "text/html": [
              "<style>\n",
              "    table.wandb td:nth-child(1) { padding: 0 10px; text-align: left ; width: auto;} td:nth-child(2) {text-align: left ; width: 100%}\n",
              "    .wandb-row { display: flex; flex-direction: row; flex-wrap: wrap; justify-content: flex-start; width: 100% }\n",
              "    .wandb-col { display: flex; flex-direction: column; flex-basis: 100%; flex: 1; padding: 10px; }\n",
              "    </style>\n",
              "<div class=\"wandb-row\"><div class=\"wandb-col\"><h3>Run history:</h3><br/><table class=\"wandb\"><tr><td>batch size</td><td>▁</td></tr><tr><td>epochs</td><td>▁</td></tr><tr><td>layer size</td><td>▁</td></tr><tr><td>learning rate</td><td>▁</td></tr><tr><td>no of hidden layers</td><td>▁</td></tr><tr><td>validation accuracy</td><td>▁</td></tr><tr><td>validation loss</td><td>▁</td></tr></table><br/></div><div class=\"wandb-col\"><h3>Run summary:</h3><br/><table class=\"wandb\"><tr><td>batch size</td><td>32</td></tr><tr><td>epochs</td><td>5</td></tr><tr><td>layer size</td><td>32</td></tr><tr><td>learning rate</td><td>0.005</td></tr><tr><td>no of hidden layers</td><td>3</td></tr><tr><td>optimizer</td><td>nesterov</td></tr><tr><td>validation accuracy</td><td>0.0996</td></tr><tr><td>validation loss</td><td>2.39941</td></tr></table><br/></div></div>"
            ]
          },
          "metadata": {}
        },
        {
          "output_type": "display_data",
          "data": {
            "text/plain": [
              "<IPython.core.display.HTML object>"
            ],
            "text/html": [
              " View run <strong style=\"color:#cdcd00\">hearty-sweep-51</strong> at: <a href='https://wandb.ai/cs23z036/Assignment1_ReLoaded_15thJuly/runs/95avy1en' target=\"_blank\">https://wandb.ai/cs23z036/Assignment1_ReLoaded_15thJuly/runs/95avy1en</a><br/>Synced 4 W&B file(s), 0 media file(s), 0 artifact file(s) and 0 other file(s)"
            ]
          },
          "metadata": {}
        },
        {
          "output_type": "display_data",
          "data": {
            "text/plain": [
              "<IPython.core.display.HTML object>"
            ],
            "text/html": [
              "Find logs at: <code>./wandb/run-20230715_111934-95avy1en/logs</code>"
            ]
          },
          "metadata": {}
        },
        {
          "output_type": "stream",
          "name": "stderr",
          "text": [
            "\u001b[34m\u001b[1mwandb\u001b[0m: Agent Starting Run: arscmqux with config:\n",
            "\u001b[34m\u001b[1mwandb\u001b[0m: \tactivation: tanh\n",
            "\u001b[34m\u001b[1mwandb\u001b[0m: \tbatch_size: 32\n",
            "\u001b[34m\u001b[1mwandb\u001b[0m: \tepochs: 5\n",
            "\u001b[34m\u001b[1mwandb\u001b[0m: \teta: 0.005\n",
            "\u001b[34m\u001b[1mwandb\u001b[0m: \thidden_layers: 3\n",
            "\u001b[34m\u001b[1mwandb\u001b[0m: \toptimizer: nesterov\n",
            "\u001b[34m\u001b[1mwandb\u001b[0m: \tsize: 32\n",
            "\u001b[34m\u001b[1mwandb\u001b[0m: \twt_decay: 0.05\n",
            "\u001b[34m\u001b[1mwandb\u001b[0m: \twt_init: random\n"
          ]
        },
        {
          "output_type": "display_data",
          "data": {
            "text/plain": [
              "<IPython.core.display.HTML object>"
            ],
            "text/html": [
              "Tracking run with wandb version 0.15.5"
            ]
          },
          "metadata": {}
        },
        {
          "output_type": "display_data",
          "data": {
            "text/plain": [
              "<IPython.core.display.HTML object>"
            ],
            "text/html": [
              "Run data is saved locally in <code>/content/wandb/run-20230715_112212-arscmqux</code>"
            ]
          },
          "metadata": {}
        },
        {
          "output_type": "display_data",
          "data": {
            "text/plain": [
              "<IPython.core.display.HTML object>"
            ],
            "text/html": [
              "Syncing run <strong><a href='https://wandb.ai/cs23z036/Assignment1_ReLoaded_15thJuly/runs/arscmqux' target=\"_blank\">volcanic-sweep-52</a></strong> to <a href='https://wandb.ai/cs23z036/Assignment1_ReLoaded_15thJuly' target=\"_blank\">Weights & Biases</a> (<a href='https://wandb.me/run' target=\"_blank\">docs</a>)<br/>Sweep page: <a href='https://wandb.ai/cs23z036/Assignment1_ReLoaded_15thJuly/sweeps/az1ucc60' target=\"_blank\">https://wandb.ai/cs23z036/Assignment1_ReLoaded_15thJuly/sweeps/az1ucc60</a>"
            ]
          },
          "metadata": {}
        },
        {
          "output_type": "display_data",
          "data": {
            "text/plain": [
              "<IPython.core.display.HTML object>"
            ],
            "text/html": [
              " View project at <a href='https://wandb.ai/cs23z036/Assignment1_ReLoaded_15thJuly' target=\"_blank\">https://wandb.ai/cs23z036/Assignment1_ReLoaded_15thJuly</a>"
            ]
          },
          "metadata": {}
        },
        {
          "output_type": "display_data",
          "data": {
            "text/plain": [
              "<IPython.core.display.HTML object>"
            ],
            "text/html": [
              " View sweep at <a href='https://wandb.ai/cs23z036/Assignment1_ReLoaded_15thJuly/sweeps/az1ucc60' target=\"_blank\">https://wandb.ai/cs23z036/Assignment1_ReLoaded_15thJuly/sweeps/az1ucc60</a>"
            ]
          },
          "metadata": {}
        },
        {
          "output_type": "display_data",
          "data": {
            "text/plain": [
              "<IPython.core.display.HTML object>"
            ],
            "text/html": [
              " View run at <a href='https://wandb.ai/cs23z036/Assignment1_ReLoaded_15thJuly/runs/arscmqux' target=\"_blank\">https://wandb.ai/cs23z036/Assignment1_ReLoaded_15thJuly/runs/arscmqux</a>"
            ]
          },
          "metadata": {}
        },
        {
          "output_type": "stream",
          "name": "stderr",
          "text": [
            "<ipython-input-69-b242f8bc9c43>:7: RuntimeWarning: overflow encountered in exp\n",
            "  return (np.exp(x)-np.exp(-x))/(np.exp(x)+np.exp(-x))\n",
            "<ipython-input-69-b242f8bc9c43>:7: RuntimeWarning: invalid value encountered in true_divide\n",
            "  return (np.exp(x)-np.exp(-x))/(np.exp(x)+np.exp(-x))\n"
          ]
        },
        {
          "output_type": "display_data",
          "data": {
            "text/plain": [
              "<IPython.core.display.HTML object>"
            ],
            "text/html": [
              "Waiting for W&B process to finish... <strong style=\"color:green\">(success).</strong>"
            ]
          },
          "metadata": {}
        },
        {
          "output_type": "display_data",
          "data": {
            "text/plain": [
              "<IPython.core.display.HTML object>"
            ],
            "text/html": [
              "<style>\n",
              "    table.wandb td:nth-child(1) { padding: 0 10px; text-align: left ; width: auto;} td:nth-child(2) {text-align: left ; width: 100%}\n",
              "    .wandb-row { display: flex; flex-direction: row; flex-wrap: wrap; justify-content: flex-start; width: 100% }\n",
              "    .wandb-col { display: flex; flex-direction: column; flex-basis: 100%; flex: 1; padding: 10px; }\n",
              "    </style>\n",
              "<div class=\"wandb-row\"><div class=\"wandb-col\"><h3>Run history:</h3><br/><table class=\"wandb\"><tr><td>batch size</td><td>▁</td></tr><tr><td>epochs</td><td>▁</td></tr><tr><td>layer size</td><td>▁</td></tr><tr><td>learning rate</td><td>▁</td></tr><tr><td>no of hidden layers</td><td>▁</td></tr><tr><td>validation accuracy</td><td>▁</td></tr></table><br/></div><div class=\"wandb-col\"><h3>Run summary:</h3><br/><table class=\"wandb\"><tr><td>batch size</td><td>32</td></tr><tr><td>epochs</td><td>5</td></tr><tr><td>layer size</td><td>32</td></tr><tr><td>learning rate</td><td>0.005</td></tr><tr><td>no of hidden layers</td><td>3</td></tr><tr><td>optimizer</td><td>nesterov</td></tr><tr><td>validation accuracy</td><td>0.1023</td></tr><tr><td>validation loss</td><td>nan</td></tr></table><br/></div></div>"
            ]
          },
          "metadata": {}
        },
        {
          "output_type": "display_data",
          "data": {
            "text/plain": [
              "<IPython.core.display.HTML object>"
            ],
            "text/html": [
              " View run <strong style=\"color:#cdcd00\">volcanic-sweep-52</strong> at: <a href='https://wandb.ai/cs23z036/Assignment1_ReLoaded_15thJuly/runs/arscmqux' target=\"_blank\">https://wandb.ai/cs23z036/Assignment1_ReLoaded_15thJuly/runs/arscmqux</a><br/>Synced 5 W&B file(s), 0 media file(s), 0 artifact file(s) and 0 other file(s)"
            ]
          },
          "metadata": {}
        },
        {
          "output_type": "display_data",
          "data": {
            "text/plain": [
              "<IPython.core.display.HTML object>"
            ],
            "text/html": [
              "Find logs at: <code>./wandb/run-20230715_112212-arscmqux/logs</code>"
            ]
          },
          "metadata": {}
        },
        {
          "output_type": "stream",
          "name": "stderr",
          "text": [
            "\u001b[34m\u001b[1mwandb\u001b[0m: Agent Starting Run: odua6hcd with config:\n",
            "\u001b[34m\u001b[1mwandb\u001b[0m: \tactivation: tanh\n",
            "\u001b[34m\u001b[1mwandb\u001b[0m: \tbatch_size: 32\n",
            "\u001b[34m\u001b[1mwandb\u001b[0m: \tepochs: 5\n",
            "\u001b[34m\u001b[1mwandb\u001b[0m: \teta: 0.005\n",
            "\u001b[34m\u001b[1mwandb\u001b[0m: \thidden_layers: 3\n",
            "\u001b[34m\u001b[1mwandb\u001b[0m: \toptimizer: nesterov\n",
            "\u001b[34m\u001b[1mwandb\u001b[0m: \tsize: 64\n",
            "\u001b[34m\u001b[1mwandb\u001b[0m: \twt_decay: 0.005\n",
            "\u001b[34m\u001b[1mwandb\u001b[0m: \twt_init: xavier\n"
          ]
        },
        {
          "output_type": "display_data",
          "data": {
            "text/plain": [
              "<IPython.core.display.HTML object>"
            ],
            "text/html": [
              "Tracking run with wandb version 0.15.5"
            ]
          },
          "metadata": {}
        },
        {
          "output_type": "display_data",
          "data": {
            "text/plain": [
              "<IPython.core.display.HTML object>"
            ],
            "text/html": [
              "Run data is saved locally in <code>/content/wandb/run-20230715_112450-odua6hcd</code>"
            ]
          },
          "metadata": {}
        },
        {
          "output_type": "display_data",
          "data": {
            "text/plain": [
              "<IPython.core.display.HTML object>"
            ],
            "text/html": [
              "Syncing run <strong><a href='https://wandb.ai/cs23z036/Assignment1_ReLoaded_15thJuly/runs/odua6hcd' target=\"_blank\">morning-sweep-53</a></strong> to <a href='https://wandb.ai/cs23z036/Assignment1_ReLoaded_15thJuly' target=\"_blank\">Weights & Biases</a> (<a href='https://wandb.me/run' target=\"_blank\">docs</a>)<br/>Sweep page: <a href='https://wandb.ai/cs23z036/Assignment1_ReLoaded_15thJuly/sweeps/az1ucc60' target=\"_blank\">https://wandb.ai/cs23z036/Assignment1_ReLoaded_15thJuly/sweeps/az1ucc60</a>"
            ]
          },
          "metadata": {}
        },
        {
          "output_type": "display_data",
          "data": {
            "text/plain": [
              "<IPython.core.display.HTML object>"
            ],
            "text/html": [
              " View project at <a href='https://wandb.ai/cs23z036/Assignment1_ReLoaded_15thJuly' target=\"_blank\">https://wandb.ai/cs23z036/Assignment1_ReLoaded_15thJuly</a>"
            ]
          },
          "metadata": {}
        },
        {
          "output_type": "display_data",
          "data": {
            "text/plain": [
              "<IPython.core.display.HTML object>"
            ],
            "text/html": [
              " View sweep at <a href='https://wandb.ai/cs23z036/Assignment1_ReLoaded_15thJuly/sweeps/az1ucc60' target=\"_blank\">https://wandb.ai/cs23z036/Assignment1_ReLoaded_15thJuly/sweeps/az1ucc60</a>"
            ]
          },
          "metadata": {}
        },
        {
          "output_type": "display_data",
          "data": {
            "text/plain": [
              "<IPython.core.display.HTML object>"
            ],
            "text/html": [
              " View run at <a href='https://wandb.ai/cs23z036/Assignment1_ReLoaded_15thJuly/runs/odua6hcd' target=\"_blank\">https://wandb.ai/cs23z036/Assignment1_ReLoaded_15thJuly/runs/odua6hcd</a>"
            ]
          },
          "metadata": {}
        },
        {
          "output_type": "display_data",
          "data": {
            "text/plain": [
              "<IPython.core.display.HTML object>"
            ],
            "text/html": [
              "Waiting for W&B process to finish... <strong style=\"color:green\">(success).</strong>"
            ]
          },
          "metadata": {}
        },
        {
          "output_type": "display_data",
          "data": {
            "text/plain": [
              "<IPython.core.display.HTML object>"
            ],
            "text/html": [
              "<style>\n",
              "    table.wandb td:nth-child(1) { padding: 0 10px; text-align: left ; width: auto;} td:nth-child(2) {text-align: left ; width: 100%}\n",
              "    .wandb-row { display: flex; flex-direction: row; flex-wrap: wrap; justify-content: flex-start; width: 100% }\n",
              "    .wandb-col { display: flex; flex-direction: column; flex-basis: 100%; flex: 1; padding: 10px; }\n",
              "    </style>\n",
              "<div class=\"wandb-row\"><div class=\"wandb-col\"><h3>Run history:</h3><br/><table class=\"wandb\"><tr><td>batch size</td><td>▁</td></tr><tr><td>epochs</td><td>▁</td></tr><tr><td>layer size</td><td>▁</td></tr><tr><td>learning rate</td><td>▁</td></tr><tr><td>no of hidden layers</td><td>▁</td></tr><tr><td>validation accuracy</td><td>▁</td></tr><tr><td>validation loss</td><td>▁</td></tr></table><br/></div><div class=\"wandb-col\"><h3>Run summary:</h3><br/><table class=\"wandb\"><tr><td>batch size</td><td>32</td></tr><tr><td>epochs</td><td>5</td></tr><tr><td>layer size</td><td>64</td></tr><tr><td>learning rate</td><td>0.005</td></tr><tr><td>no of hidden layers</td><td>3</td></tr><tr><td>optimizer</td><td>nesterov</td></tr><tr><td>validation accuracy</td><td>0.0997</td></tr><tr><td>validation loss</td><td>6.66441</td></tr></table><br/></div></div>"
            ]
          },
          "metadata": {}
        },
        {
          "output_type": "display_data",
          "data": {
            "text/plain": [
              "<IPython.core.display.HTML object>"
            ],
            "text/html": [
              " View run <strong style=\"color:#cdcd00\">morning-sweep-53</strong> at: <a href='https://wandb.ai/cs23z036/Assignment1_ReLoaded_15thJuly/runs/odua6hcd' target=\"_blank\">https://wandb.ai/cs23z036/Assignment1_ReLoaded_15thJuly/runs/odua6hcd</a><br/>Synced 4 W&B file(s), 0 media file(s), 0 artifact file(s) and 0 other file(s)"
            ]
          },
          "metadata": {}
        },
        {
          "output_type": "display_data",
          "data": {
            "text/plain": [
              "<IPython.core.display.HTML object>"
            ],
            "text/html": [
              "Find logs at: <code>./wandb/run-20230715_112450-odua6hcd/logs</code>"
            ]
          },
          "metadata": {}
        },
        {
          "output_type": "stream",
          "name": "stderr",
          "text": [
            "\u001b[34m\u001b[1mwandb\u001b[0m: Agent Starting Run: s916rrkb with config:\n",
            "\u001b[34m\u001b[1mwandb\u001b[0m: \tactivation: tanh\n",
            "\u001b[34m\u001b[1mwandb\u001b[0m: \tbatch_size: 32\n",
            "\u001b[34m\u001b[1mwandb\u001b[0m: \tepochs: 5\n",
            "\u001b[34m\u001b[1mwandb\u001b[0m: \teta: 0.005\n",
            "\u001b[34m\u001b[1mwandb\u001b[0m: \thidden_layers: 3\n",
            "\u001b[34m\u001b[1mwandb\u001b[0m: \toptimizer: nesterov\n",
            "\u001b[34m\u001b[1mwandb\u001b[0m: \tsize: 64\n",
            "\u001b[34m\u001b[1mwandb\u001b[0m: \twt_decay: 0.005\n",
            "\u001b[34m\u001b[1mwandb\u001b[0m: \twt_init: random\n"
          ]
        },
        {
          "output_type": "display_data",
          "data": {
            "text/plain": [
              "<IPython.core.display.HTML object>"
            ],
            "text/html": [
              "Tracking run with wandb version 0.15.5"
            ]
          },
          "metadata": {}
        },
        {
          "output_type": "display_data",
          "data": {
            "text/plain": [
              "<IPython.core.display.HTML object>"
            ],
            "text/html": [
              "Run data is saved locally in <code>/content/wandb/run-20230715_112833-s916rrkb</code>"
            ]
          },
          "metadata": {}
        },
        {
          "output_type": "display_data",
          "data": {
            "text/plain": [
              "<IPython.core.display.HTML object>"
            ],
            "text/html": [
              "Syncing run <strong><a href='https://wandb.ai/cs23z036/Assignment1_ReLoaded_15thJuly/runs/s916rrkb' target=\"_blank\">wild-sweep-54</a></strong> to <a href='https://wandb.ai/cs23z036/Assignment1_ReLoaded_15thJuly' target=\"_blank\">Weights & Biases</a> (<a href='https://wandb.me/run' target=\"_blank\">docs</a>)<br/>Sweep page: <a href='https://wandb.ai/cs23z036/Assignment1_ReLoaded_15thJuly/sweeps/az1ucc60' target=\"_blank\">https://wandb.ai/cs23z036/Assignment1_ReLoaded_15thJuly/sweeps/az1ucc60</a>"
            ]
          },
          "metadata": {}
        },
        {
          "output_type": "display_data",
          "data": {
            "text/plain": [
              "<IPython.core.display.HTML object>"
            ],
            "text/html": [
              " View project at <a href='https://wandb.ai/cs23z036/Assignment1_ReLoaded_15thJuly' target=\"_blank\">https://wandb.ai/cs23z036/Assignment1_ReLoaded_15thJuly</a>"
            ]
          },
          "metadata": {}
        },
        {
          "output_type": "display_data",
          "data": {
            "text/plain": [
              "<IPython.core.display.HTML object>"
            ],
            "text/html": [
              " View sweep at <a href='https://wandb.ai/cs23z036/Assignment1_ReLoaded_15thJuly/sweeps/az1ucc60' target=\"_blank\">https://wandb.ai/cs23z036/Assignment1_ReLoaded_15thJuly/sweeps/az1ucc60</a>"
            ]
          },
          "metadata": {}
        },
        {
          "output_type": "display_data",
          "data": {
            "text/plain": [
              "<IPython.core.display.HTML object>"
            ],
            "text/html": [
              " View run at <a href='https://wandb.ai/cs23z036/Assignment1_ReLoaded_15thJuly/runs/s916rrkb' target=\"_blank\">https://wandb.ai/cs23z036/Assignment1_ReLoaded_15thJuly/runs/s916rrkb</a>"
            ]
          },
          "metadata": {}
        },
        {
          "output_type": "display_data",
          "data": {
            "text/plain": [
              "<IPython.core.display.HTML object>"
            ],
            "text/html": [
              "Waiting for W&B process to finish... <strong style=\"color:green\">(success).</strong>"
            ]
          },
          "metadata": {}
        },
        {
          "output_type": "display_data",
          "data": {
            "text/plain": [
              "<IPython.core.display.HTML object>"
            ],
            "text/html": [
              "<style>\n",
              "    table.wandb td:nth-child(1) { padding: 0 10px; text-align: left ; width: auto;} td:nth-child(2) {text-align: left ; width: 100%}\n",
              "    .wandb-row { display: flex; flex-direction: row; flex-wrap: wrap; justify-content: flex-start; width: 100% }\n",
              "    .wandb-col { display: flex; flex-direction: column; flex-basis: 100%; flex: 1; padding: 10px; }\n",
              "    </style>\n",
              "<div class=\"wandb-row\"><div class=\"wandb-col\"><h3>Run history:</h3><br/><table class=\"wandb\"><tr><td>batch size</td><td>▁</td></tr><tr><td>epochs</td><td>▁</td></tr><tr><td>layer size</td><td>▁</td></tr><tr><td>learning rate</td><td>▁</td></tr><tr><td>no of hidden layers</td><td>▁</td></tr><tr><td>validation accuracy</td><td>▁</td></tr><tr><td>validation loss</td><td>▁</td></tr></table><br/></div><div class=\"wandb-col\"><h3>Run summary:</h3><br/><table class=\"wandb\"><tr><td>batch size</td><td>32</td></tr><tr><td>epochs</td><td>5</td></tr><tr><td>layer size</td><td>64</td></tr><tr><td>learning rate</td><td>0.005</td></tr><tr><td>no of hidden layers</td><td>3</td></tr><tr><td>optimizer</td><td>nesterov</td></tr><tr><td>validation accuracy</td><td>0.1021</td></tr><tr><td>validation loss</td><td>5.97599</td></tr></table><br/></div></div>"
            ]
          },
          "metadata": {}
        },
        {
          "output_type": "display_data",
          "data": {
            "text/plain": [
              "<IPython.core.display.HTML object>"
            ],
            "text/html": [
              " View run <strong style=\"color:#cdcd00\">wild-sweep-54</strong> at: <a href='https://wandb.ai/cs23z036/Assignment1_ReLoaded_15thJuly/runs/s916rrkb' target=\"_blank\">https://wandb.ai/cs23z036/Assignment1_ReLoaded_15thJuly/runs/s916rrkb</a><br/>Synced 4 W&B file(s), 0 media file(s), 0 artifact file(s) and 0 other file(s)"
            ]
          },
          "metadata": {}
        },
        {
          "output_type": "display_data",
          "data": {
            "text/plain": [
              "<IPython.core.display.HTML object>"
            ],
            "text/html": [
              "Find logs at: <code>./wandb/run-20230715_112833-s916rrkb/logs</code>"
            ]
          },
          "metadata": {}
        },
        {
          "output_type": "stream",
          "name": "stderr",
          "text": [
            "\u001b[34m\u001b[1mwandb\u001b[0m: Agent Starting Run: 4fgj0sd2 with config:\n",
            "\u001b[34m\u001b[1mwandb\u001b[0m: \tactivation: tanh\n",
            "\u001b[34m\u001b[1mwandb\u001b[0m: \tbatch_size: 32\n",
            "\u001b[34m\u001b[1mwandb\u001b[0m: \tepochs: 5\n",
            "\u001b[34m\u001b[1mwandb\u001b[0m: \teta: 0.005\n",
            "\u001b[34m\u001b[1mwandb\u001b[0m: \thidden_layers: 3\n",
            "\u001b[34m\u001b[1mwandb\u001b[0m: \toptimizer: nesterov\n",
            "\u001b[34m\u001b[1mwandb\u001b[0m: \tsize: 64\n",
            "\u001b[34m\u001b[1mwandb\u001b[0m: \twt_decay: 0.05\n",
            "\u001b[34m\u001b[1mwandb\u001b[0m: \twt_init: xavier\n"
          ]
        },
        {
          "output_type": "display_data",
          "data": {
            "text/plain": [
              "<IPython.core.display.HTML object>"
            ],
            "text/html": [
              "Tracking run with wandb version 0.15.5"
            ]
          },
          "metadata": {}
        },
        {
          "output_type": "display_data",
          "data": {
            "text/plain": [
              "<IPython.core.display.HTML object>"
            ],
            "text/html": [
              "Run data is saved locally in <code>/content/wandb/run-20230715_113223-4fgj0sd2</code>"
            ]
          },
          "metadata": {}
        },
        {
          "output_type": "display_data",
          "data": {
            "text/plain": [
              "<IPython.core.display.HTML object>"
            ],
            "text/html": [
              "Syncing run <strong><a href='https://wandb.ai/cs23z036/Assignment1_ReLoaded_15thJuly/runs/4fgj0sd2' target=\"_blank\">visionary-sweep-55</a></strong> to <a href='https://wandb.ai/cs23z036/Assignment1_ReLoaded_15thJuly' target=\"_blank\">Weights & Biases</a> (<a href='https://wandb.me/run' target=\"_blank\">docs</a>)<br/>Sweep page: <a href='https://wandb.ai/cs23z036/Assignment1_ReLoaded_15thJuly/sweeps/az1ucc60' target=\"_blank\">https://wandb.ai/cs23z036/Assignment1_ReLoaded_15thJuly/sweeps/az1ucc60</a>"
            ]
          },
          "metadata": {}
        },
        {
          "output_type": "display_data",
          "data": {
            "text/plain": [
              "<IPython.core.display.HTML object>"
            ],
            "text/html": [
              " View project at <a href='https://wandb.ai/cs23z036/Assignment1_ReLoaded_15thJuly' target=\"_blank\">https://wandb.ai/cs23z036/Assignment1_ReLoaded_15thJuly</a>"
            ]
          },
          "metadata": {}
        },
        {
          "output_type": "display_data",
          "data": {
            "text/plain": [
              "<IPython.core.display.HTML object>"
            ],
            "text/html": [
              " View sweep at <a href='https://wandb.ai/cs23z036/Assignment1_ReLoaded_15thJuly/sweeps/az1ucc60' target=\"_blank\">https://wandb.ai/cs23z036/Assignment1_ReLoaded_15thJuly/sweeps/az1ucc60</a>"
            ]
          },
          "metadata": {}
        },
        {
          "output_type": "display_data",
          "data": {
            "text/plain": [
              "<IPython.core.display.HTML object>"
            ],
            "text/html": [
              " View run at <a href='https://wandb.ai/cs23z036/Assignment1_ReLoaded_15thJuly/runs/4fgj0sd2' target=\"_blank\">https://wandb.ai/cs23z036/Assignment1_ReLoaded_15thJuly/runs/4fgj0sd2</a>"
            ]
          },
          "metadata": {}
        },
        {
          "output_type": "stream",
          "name": "stderr",
          "text": [
            "<ipython-input-69-b242f8bc9c43>:7: RuntimeWarning: overflow encountered in exp\n",
            "  return (np.exp(x)-np.exp(-x))/(np.exp(x)+np.exp(-x))\n",
            "<ipython-input-69-b242f8bc9c43>:7: RuntimeWarning: invalid value encountered in true_divide\n",
            "  return (np.exp(x)-np.exp(-x))/(np.exp(x)+np.exp(-x))\n"
          ]
        },
        {
          "output_type": "display_data",
          "data": {
            "text/plain": [
              "<IPython.core.display.HTML object>"
            ],
            "text/html": [
              "Waiting for W&B process to finish... <strong style=\"color:green\">(success).</strong>"
            ]
          },
          "metadata": {}
        },
        {
          "output_type": "display_data",
          "data": {
            "text/plain": [
              "VBox(children=(Label(value='0.001 MB of 0.001 MB uploaded (0.000 MB deduped)\\r'), FloatProgress(value=1.0, max…"
            ],
            "application/vnd.jupyter.widget-view+json": {
              "version_major": 2,
              "version_minor": 0,
              "model_id": "f7114c413743479a9a13776d3be47004"
            }
          },
          "metadata": {}
        },
        {
          "output_type": "display_data",
          "data": {
            "text/plain": [
              "<IPython.core.display.HTML object>"
            ],
            "text/html": [
              "<style>\n",
              "    table.wandb td:nth-child(1) { padding: 0 10px; text-align: left ; width: auto;} td:nth-child(2) {text-align: left ; width: 100%}\n",
              "    .wandb-row { display: flex; flex-direction: row; flex-wrap: wrap; justify-content: flex-start; width: 100% }\n",
              "    .wandb-col { display: flex; flex-direction: column; flex-basis: 100%; flex: 1; padding: 10px; }\n",
              "    </style>\n",
              "<div class=\"wandb-row\"><div class=\"wandb-col\"><h3>Run history:</h3><br/><table class=\"wandb\"><tr><td>batch size</td><td>▁</td></tr><tr><td>epochs</td><td>▁</td></tr><tr><td>layer size</td><td>▁</td></tr><tr><td>learning rate</td><td>▁</td></tr><tr><td>no of hidden layers</td><td>▁</td></tr><tr><td>validation accuracy</td><td>▁</td></tr></table><br/></div><div class=\"wandb-col\"><h3>Run summary:</h3><br/><table class=\"wandb\"><tr><td>batch size</td><td>32</td></tr><tr><td>epochs</td><td>5</td></tr><tr><td>layer size</td><td>64</td></tr><tr><td>learning rate</td><td>0.005</td></tr><tr><td>no of hidden layers</td><td>3</td></tr><tr><td>optimizer</td><td>nesterov</td></tr><tr><td>validation accuracy</td><td>0.1023</td></tr><tr><td>validation loss</td><td>nan</td></tr></table><br/></div></div>"
            ]
          },
          "metadata": {}
        },
        {
          "output_type": "display_data",
          "data": {
            "text/plain": [
              "<IPython.core.display.HTML object>"
            ],
            "text/html": [
              " View run <strong style=\"color:#cdcd00\">visionary-sweep-55</strong> at: <a href='https://wandb.ai/cs23z036/Assignment1_ReLoaded_15thJuly/runs/4fgj0sd2' target=\"_blank\">https://wandb.ai/cs23z036/Assignment1_ReLoaded_15thJuly/runs/4fgj0sd2</a><br/>Synced 5 W&B file(s), 0 media file(s), 0 artifact file(s) and 0 other file(s)"
            ]
          },
          "metadata": {}
        },
        {
          "output_type": "display_data",
          "data": {
            "text/plain": [
              "<IPython.core.display.HTML object>"
            ],
            "text/html": [
              "Find logs at: <code>./wandb/run-20230715_113223-4fgj0sd2/logs</code>"
            ]
          },
          "metadata": {}
        },
        {
          "output_type": "stream",
          "name": "stderr",
          "text": [
            "\u001b[34m\u001b[1mwandb\u001b[0m: Agent Starting Run: ff5xsxo9 with config:\n",
            "\u001b[34m\u001b[1mwandb\u001b[0m: \tactivation: tanh\n",
            "\u001b[34m\u001b[1mwandb\u001b[0m: \tbatch_size: 32\n",
            "\u001b[34m\u001b[1mwandb\u001b[0m: \tepochs: 5\n",
            "\u001b[34m\u001b[1mwandb\u001b[0m: \teta: 0.005\n",
            "\u001b[34m\u001b[1mwandb\u001b[0m: \thidden_layers: 3\n",
            "\u001b[34m\u001b[1mwandb\u001b[0m: \toptimizer: nesterov\n",
            "\u001b[34m\u001b[1mwandb\u001b[0m: \tsize: 64\n",
            "\u001b[34m\u001b[1mwandb\u001b[0m: \twt_decay: 0.05\n",
            "\u001b[34m\u001b[1mwandb\u001b[0m: \twt_init: random\n"
          ]
        },
        {
          "output_type": "display_data",
          "data": {
            "text/plain": [
              "<IPython.core.display.HTML object>"
            ],
            "text/html": [
              "Tracking run with wandb version 0.15.5"
            ]
          },
          "metadata": {}
        },
        {
          "output_type": "display_data",
          "data": {
            "text/plain": [
              "<IPython.core.display.HTML object>"
            ],
            "text/html": [
              "Run data is saved locally in <code>/content/wandb/run-20230715_113606-ff5xsxo9</code>"
            ]
          },
          "metadata": {}
        },
        {
          "output_type": "display_data",
          "data": {
            "text/plain": [
              "<IPython.core.display.HTML object>"
            ],
            "text/html": [
              "Syncing run <strong><a href='https://wandb.ai/cs23z036/Assignment1_ReLoaded_15thJuly/runs/ff5xsxo9' target=\"_blank\">different-sweep-56</a></strong> to <a href='https://wandb.ai/cs23z036/Assignment1_ReLoaded_15thJuly' target=\"_blank\">Weights & Biases</a> (<a href='https://wandb.me/run' target=\"_blank\">docs</a>)<br/>Sweep page: <a href='https://wandb.ai/cs23z036/Assignment1_ReLoaded_15thJuly/sweeps/az1ucc60' target=\"_blank\">https://wandb.ai/cs23z036/Assignment1_ReLoaded_15thJuly/sweeps/az1ucc60</a>"
            ]
          },
          "metadata": {}
        },
        {
          "output_type": "display_data",
          "data": {
            "text/plain": [
              "<IPython.core.display.HTML object>"
            ],
            "text/html": [
              " View project at <a href='https://wandb.ai/cs23z036/Assignment1_ReLoaded_15thJuly' target=\"_blank\">https://wandb.ai/cs23z036/Assignment1_ReLoaded_15thJuly</a>"
            ]
          },
          "metadata": {}
        },
        {
          "output_type": "display_data",
          "data": {
            "text/plain": [
              "<IPython.core.display.HTML object>"
            ],
            "text/html": [
              " View sweep at <a href='https://wandb.ai/cs23z036/Assignment1_ReLoaded_15thJuly/sweeps/az1ucc60' target=\"_blank\">https://wandb.ai/cs23z036/Assignment1_ReLoaded_15thJuly/sweeps/az1ucc60</a>"
            ]
          },
          "metadata": {}
        },
        {
          "output_type": "display_data",
          "data": {
            "text/plain": [
              "<IPython.core.display.HTML object>"
            ],
            "text/html": [
              " View run at <a href='https://wandb.ai/cs23z036/Assignment1_ReLoaded_15thJuly/runs/ff5xsxo9' target=\"_blank\">https://wandb.ai/cs23z036/Assignment1_ReLoaded_15thJuly/runs/ff5xsxo9</a>"
            ]
          },
          "metadata": {}
        },
        {
          "output_type": "display_data",
          "data": {
            "text/plain": [
              "<IPython.core.display.HTML object>"
            ],
            "text/html": [
              "Waiting for W&B process to finish... <strong style=\"color:green\">(success).</strong>"
            ]
          },
          "metadata": {}
        },
        {
          "output_type": "display_data",
          "data": {
            "text/plain": [
              "<IPython.core.display.HTML object>"
            ],
            "text/html": [
              "<style>\n",
              "    table.wandb td:nth-child(1) { padding: 0 10px; text-align: left ; width: auto;} td:nth-child(2) {text-align: left ; width: 100%}\n",
              "    .wandb-row { display: flex; flex-direction: row; flex-wrap: wrap; justify-content: flex-start; width: 100% }\n",
              "    .wandb-col { display: flex; flex-direction: column; flex-basis: 100%; flex: 1; padding: 10px; }\n",
              "    </style>\n",
              "<div class=\"wandb-row\"><div class=\"wandb-col\"><h3>Run history:</h3><br/><table class=\"wandb\"><tr><td>batch size</td><td>▁</td></tr><tr><td>epochs</td><td>▁</td></tr><tr><td>layer size</td><td>▁</td></tr><tr><td>learning rate</td><td>▁</td></tr><tr><td>no of hidden layers</td><td>▁</td></tr><tr><td>validation accuracy</td><td>▁</td></tr><tr><td>validation loss</td><td>▁</td></tr></table><br/></div><div class=\"wandb-col\"><h3>Run summary:</h3><br/><table class=\"wandb\"><tr><td>batch size</td><td>32</td></tr><tr><td>epochs</td><td>5</td></tr><tr><td>layer size</td><td>64</td></tr><tr><td>learning rate</td><td>0.005</td></tr><tr><td>no of hidden layers</td><td>3</td></tr><tr><td>optimizer</td><td>nesterov</td></tr><tr><td>validation accuracy</td><td>0.1021</td></tr><tr><td>validation loss</td><td>6.82421</td></tr></table><br/></div></div>"
            ]
          },
          "metadata": {}
        },
        {
          "output_type": "display_data",
          "data": {
            "text/plain": [
              "<IPython.core.display.HTML object>"
            ],
            "text/html": [
              " View run <strong style=\"color:#cdcd00\">different-sweep-56</strong> at: <a href='https://wandb.ai/cs23z036/Assignment1_ReLoaded_15thJuly/runs/ff5xsxo9' target=\"_blank\">https://wandb.ai/cs23z036/Assignment1_ReLoaded_15thJuly/runs/ff5xsxo9</a><br/>Synced 4 W&B file(s), 0 media file(s), 0 artifact file(s) and 0 other file(s)"
            ]
          },
          "metadata": {}
        },
        {
          "output_type": "display_data",
          "data": {
            "text/plain": [
              "<IPython.core.display.HTML object>"
            ],
            "text/html": [
              "Find logs at: <code>./wandb/run-20230715_113606-ff5xsxo9/logs</code>"
            ]
          },
          "metadata": {}
        },
        {
          "output_type": "stream",
          "name": "stderr",
          "text": [
            "\u001b[34m\u001b[1mwandb\u001b[0m: Agent Starting Run: uzwztdzj with config:\n",
            "\u001b[34m\u001b[1mwandb\u001b[0m: \tactivation: tanh\n",
            "\u001b[34m\u001b[1mwandb\u001b[0m: \tbatch_size: 32\n",
            "\u001b[34m\u001b[1mwandb\u001b[0m: \tepochs: 5\n",
            "\u001b[34m\u001b[1mwandb\u001b[0m: \teta: 0.005\n",
            "\u001b[34m\u001b[1mwandb\u001b[0m: \thidden_layers: 3\n",
            "\u001b[34m\u001b[1mwandb\u001b[0m: \toptimizer: rmsprop\n",
            "\u001b[34m\u001b[1mwandb\u001b[0m: \tsize: 32\n",
            "\u001b[34m\u001b[1mwandb\u001b[0m: \twt_decay: 0.005\n",
            "\u001b[34m\u001b[1mwandb\u001b[0m: \twt_init: xavier\n"
          ]
        },
        {
          "output_type": "display_data",
          "data": {
            "text/plain": [
              "<IPython.core.display.HTML object>"
            ],
            "text/html": [
              "Tracking run with wandb version 0.15.5"
            ]
          },
          "metadata": {}
        },
        {
          "output_type": "display_data",
          "data": {
            "text/plain": [
              "<IPython.core.display.HTML object>"
            ],
            "text/html": [
              "Run data is saved locally in <code>/content/wandb/run-20230715_113950-uzwztdzj</code>"
            ]
          },
          "metadata": {}
        },
        {
          "output_type": "display_data",
          "data": {
            "text/plain": [
              "<IPython.core.display.HTML object>"
            ],
            "text/html": [
              "Syncing run <strong><a href='https://wandb.ai/cs23z036/Assignment1_ReLoaded_15thJuly/runs/uzwztdzj' target=\"_blank\">vital-sweep-57</a></strong> to <a href='https://wandb.ai/cs23z036/Assignment1_ReLoaded_15thJuly' target=\"_blank\">Weights & Biases</a> (<a href='https://wandb.me/run' target=\"_blank\">docs</a>)<br/>Sweep page: <a href='https://wandb.ai/cs23z036/Assignment1_ReLoaded_15thJuly/sweeps/az1ucc60' target=\"_blank\">https://wandb.ai/cs23z036/Assignment1_ReLoaded_15thJuly/sweeps/az1ucc60</a>"
            ]
          },
          "metadata": {}
        },
        {
          "output_type": "display_data",
          "data": {
            "text/plain": [
              "<IPython.core.display.HTML object>"
            ],
            "text/html": [
              " View project at <a href='https://wandb.ai/cs23z036/Assignment1_ReLoaded_15thJuly' target=\"_blank\">https://wandb.ai/cs23z036/Assignment1_ReLoaded_15thJuly</a>"
            ]
          },
          "metadata": {}
        },
        {
          "output_type": "display_data",
          "data": {
            "text/plain": [
              "<IPython.core.display.HTML object>"
            ],
            "text/html": [
              " View sweep at <a href='https://wandb.ai/cs23z036/Assignment1_ReLoaded_15thJuly/sweeps/az1ucc60' target=\"_blank\">https://wandb.ai/cs23z036/Assignment1_ReLoaded_15thJuly/sweeps/az1ucc60</a>"
            ]
          },
          "metadata": {}
        },
        {
          "output_type": "display_data",
          "data": {
            "text/plain": [
              "<IPython.core.display.HTML object>"
            ],
            "text/html": [
              " View run at <a href='https://wandb.ai/cs23z036/Assignment1_ReLoaded_15thJuly/runs/uzwztdzj' target=\"_blank\">https://wandb.ai/cs23z036/Assignment1_ReLoaded_15thJuly/runs/uzwztdzj</a>"
            ]
          },
          "metadata": {}
        },
        {
          "output_type": "display_data",
          "data": {
            "text/plain": [
              "<IPython.core.display.HTML object>"
            ],
            "text/html": [
              "Waiting for W&B process to finish... <strong style=\"color:green\">(success).</strong>"
            ]
          },
          "metadata": {}
        },
        {
          "output_type": "display_data",
          "data": {
            "text/plain": [
              "<IPython.core.display.HTML object>"
            ],
            "text/html": [
              "<style>\n",
              "    table.wandb td:nth-child(1) { padding: 0 10px; text-align: left ; width: auto;} td:nth-child(2) {text-align: left ; width: 100%}\n",
              "    .wandb-row { display: flex; flex-direction: row; flex-wrap: wrap; justify-content: flex-start; width: 100% }\n",
              "    .wandb-col { display: flex; flex-direction: column; flex-basis: 100%; flex: 1; padding: 10px; }\n",
              "    </style>\n",
              "<div class=\"wandb-row\"><div class=\"wandb-col\"><h3>Run history:</h3><br/><table class=\"wandb\"><tr><td>batch size</td><td>▁</td></tr><tr><td>epochs</td><td>▁</td></tr><tr><td>layer size</td><td>▁</td></tr><tr><td>learning rate</td><td>▁</td></tr><tr><td>no of hidden layers</td><td>▁</td></tr><tr><td>validation accuracy</td><td>▁</td></tr><tr><td>validation loss</td><td>▁</td></tr></table><br/></div><div class=\"wandb-col\"><h3>Run summary:</h3><br/><table class=\"wandb\"><tr><td>batch size</td><td>32</td></tr><tr><td>epochs</td><td>5</td></tr><tr><td>layer size</td><td>32</td></tr><tr><td>learning rate</td><td>0.005</td></tr><tr><td>no of hidden layers</td><td>3</td></tr><tr><td>optimizer</td><td>rmsprop</td></tr><tr><td>validation accuracy</td><td>0.8358</td></tr><tr><td>validation loss</td><td>0.46752</td></tr></table><br/></div></div>"
            ]
          },
          "metadata": {}
        },
        {
          "output_type": "display_data",
          "data": {
            "text/plain": [
              "<IPython.core.display.HTML object>"
            ],
            "text/html": [
              " View run <strong style=\"color:#cdcd00\">vital-sweep-57</strong> at: <a href='https://wandb.ai/cs23z036/Assignment1_ReLoaded_15thJuly/runs/uzwztdzj' target=\"_blank\">https://wandb.ai/cs23z036/Assignment1_ReLoaded_15thJuly/runs/uzwztdzj</a><br/>Synced 4 W&B file(s), 0 media file(s), 0 artifact file(s) and 0 other file(s)"
            ]
          },
          "metadata": {}
        },
        {
          "output_type": "display_data",
          "data": {
            "text/plain": [
              "<IPython.core.display.HTML object>"
            ],
            "text/html": [
              "Find logs at: <code>./wandb/run-20230715_113950-uzwztdzj/logs</code>"
            ]
          },
          "metadata": {}
        },
        {
          "output_type": "stream",
          "name": "stderr",
          "text": [
            "\u001b[34m\u001b[1mwandb\u001b[0m: Agent Starting Run: tva8h4nc with config:\n",
            "\u001b[34m\u001b[1mwandb\u001b[0m: \tactivation: tanh\n",
            "\u001b[34m\u001b[1mwandb\u001b[0m: \tbatch_size: 32\n",
            "\u001b[34m\u001b[1mwandb\u001b[0m: \tepochs: 5\n",
            "\u001b[34m\u001b[1mwandb\u001b[0m: \teta: 0.005\n",
            "\u001b[34m\u001b[1mwandb\u001b[0m: \thidden_layers: 3\n",
            "\u001b[34m\u001b[1mwandb\u001b[0m: \toptimizer: rmsprop\n",
            "\u001b[34m\u001b[1mwandb\u001b[0m: \tsize: 32\n",
            "\u001b[34m\u001b[1mwandb\u001b[0m: \twt_decay: 0.005\n",
            "\u001b[34m\u001b[1mwandb\u001b[0m: \twt_init: random\n"
          ]
        },
        {
          "output_type": "display_data",
          "data": {
            "text/plain": [
              "<IPython.core.display.HTML object>"
            ],
            "text/html": [
              "Tracking run with wandb version 0.15.5"
            ]
          },
          "metadata": {}
        },
        {
          "output_type": "display_data",
          "data": {
            "text/plain": [
              "<IPython.core.display.HTML object>"
            ],
            "text/html": [
              "Run data is saved locally in <code>/content/wandb/run-20230715_114213-tva8h4nc</code>"
            ]
          },
          "metadata": {}
        },
        {
          "output_type": "display_data",
          "data": {
            "text/plain": [
              "<IPython.core.display.HTML object>"
            ],
            "text/html": [
              "Syncing run <strong><a href='https://wandb.ai/cs23z036/Assignment1_ReLoaded_15thJuly/runs/tva8h4nc' target=\"_blank\">summer-sweep-58</a></strong> to <a href='https://wandb.ai/cs23z036/Assignment1_ReLoaded_15thJuly' target=\"_blank\">Weights & Biases</a> (<a href='https://wandb.me/run' target=\"_blank\">docs</a>)<br/>Sweep page: <a href='https://wandb.ai/cs23z036/Assignment1_ReLoaded_15thJuly/sweeps/az1ucc60' target=\"_blank\">https://wandb.ai/cs23z036/Assignment1_ReLoaded_15thJuly/sweeps/az1ucc60</a>"
            ]
          },
          "metadata": {}
        },
        {
          "output_type": "display_data",
          "data": {
            "text/plain": [
              "<IPython.core.display.HTML object>"
            ],
            "text/html": [
              " View project at <a href='https://wandb.ai/cs23z036/Assignment1_ReLoaded_15thJuly' target=\"_blank\">https://wandb.ai/cs23z036/Assignment1_ReLoaded_15thJuly</a>"
            ]
          },
          "metadata": {}
        },
        {
          "output_type": "display_data",
          "data": {
            "text/plain": [
              "<IPython.core.display.HTML object>"
            ],
            "text/html": [
              " View sweep at <a href='https://wandb.ai/cs23z036/Assignment1_ReLoaded_15thJuly/sweeps/az1ucc60' target=\"_blank\">https://wandb.ai/cs23z036/Assignment1_ReLoaded_15thJuly/sweeps/az1ucc60</a>"
            ]
          },
          "metadata": {}
        },
        {
          "output_type": "display_data",
          "data": {
            "text/plain": [
              "<IPython.core.display.HTML object>"
            ],
            "text/html": [
              " View run at <a href='https://wandb.ai/cs23z036/Assignment1_ReLoaded_15thJuly/runs/tva8h4nc' target=\"_blank\">https://wandb.ai/cs23z036/Assignment1_ReLoaded_15thJuly/runs/tva8h4nc</a>"
            ]
          },
          "metadata": {}
        },
        {
          "output_type": "display_data",
          "data": {
            "text/plain": [
              "<IPython.core.display.HTML object>"
            ],
            "text/html": [
              "Waiting for W&B process to finish... <strong style=\"color:green\">(success).</strong>"
            ]
          },
          "metadata": {}
        },
        {
          "output_type": "display_data",
          "data": {
            "text/plain": [
              "<IPython.core.display.HTML object>"
            ],
            "text/html": [
              "<style>\n",
              "    table.wandb td:nth-child(1) { padding: 0 10px; text-align: left ; width: auto;} td:nth-child(2) {text-align: left ; width: 100%}\n",
              "    .wandb-row { display: flex; flex-direction: row; flex-wrap: wrap; justify-content: flex-start; width: 100% }\n",
              "    .wandb-col { display: flex; flex-direction: column; flex-basis: 100%; flex: 1; padding: 10px; }\n",
              "    </style>\n",
              "<div class=\"wandb-row\"><div class=\"wandb-col\"><h3>Run history:</h3><br/><table class=\"wandb\"><tr><td>batch size</td><td>▁</td></tr><tr><td>epochs</td><td>▁</td></tr><tr><td>layer size</td><td>▁</td></tr><tr><td>learning rate</td><td>▁</td></tr><tr><td>no of hidden layers</td><td>▁</td></tr><tr><td>validation accuracy</td><td>▁</td></tr><tr><td>validation loss</td><td>▁</td></tr></table><br/></div><div class=\"wandb-col\"><h3>Run summary:</h3><br/><table class=\"wandb\"><tr><td>batch size</td><td>32</td></tr><tr><td>epochs</td><td>5</td></tr><tr><td>layer size</td><td>32</td></tr><tr><td>learning rate</td><td>0.005</td></tr><tr><td>no of hidden layers</td><td>3</td></tr><tr><td>optimizer</td><td>rmsprop</td></tr><tr><td>validation accuracy</td><td>0.7929</td></tr><tr><td>validation loss</td><td>0.57857</td></tr></table><br/></div></div>"
            ]
          },
          "metadata": {}
        },
        {
          "output_type": "display_data",
          "data": {
            "text/plain": [
              "<IPython.core.display.HTML object>"
            ],
            "text/html": [
              " View run <strong style=\"color:#cdcd00\">summer-sweep-58</strong> at: <a href='https://wandb.ai/cs23z036/Assignment1_ReLoaded_15thJuly/runs/tva8h4nc' target=\"_blank\">https://wandb.ai/cs23z036/Assignment1_ReLoaded_15thJuly/runs/tva8h4nc</a><br/>Synced 4 W&B file(s), 0 media file(s), 0 artifact file(s) and 0 other file(s)"
            ]
          },
          "metadata": {}
        },
        {
          "output_type": "display_data",
          "data": {
            "text/plain": [
              "<IPython.core.display.HTML object>"
            ],
            "text/html": [
              "Find logs at: <code>./wandb/run-20230715_114213-tva8h4nc/logs</code>"
            ]
          },
          "metadata": {}
        },
        {
          "output_type": "stream",
          "name": "stderr",
          "text": [
            "\u001b[34m\u001b[1mwandb\u001b[0m: Agent Starting Run: r1cerupz with config:\n",
            "\u001b[34m\u001b[1mwandb\u001b[0m: \tactivation: tanh\n",
            "\u001b[34m\u001b[1mwandb\u001b[0m: \tbatch_size: 32\n",
            "\u001b[34m\u001b[1mwandb\u001b[0m: \tepochs: 5\n",
            "\u001b[34m\u001b[1mwandb\u001b[0m: \teta: 0.005\n",
            "\u001b[34m\u001b[1mwandb\u001b[0m: \thidden_layers: 3\n",
            "\u001b[34m\u001b[1mwandb\u001b[0m: \toptimizer: rmsprop\n",
            "\u001b[34m\u001b[1mwandb\u001b[0m: \tsize: 32\n",
            "\u001b[34m\u001b[1mwandb\u001b[0m: \twt_decay: 0.05\n",
            "\u001b[34m\u001b[1mwandb\u001b[0m: \twt_init: xavier\n"
          ]
        },
        {
          "output_type": "display_data",
          "data": {
            "text/plain": [
              "<IPython.core.display.HTML object>"
            ],
            "text/html": [
              "Tracking run with wandb version 0.15.5"
            ]
          },
          "metadata": {}
        },
        {
          "output_type": "display_data",
          "data": {
            "text/plain": [
              "<IPython.core.display.HTML object>"
            ],
            "text/html": [
              "Run data is saved locally in <code>/content/wandb/run-20230715_114438-r1cerupz</code>"
            ]
          },
          "metadata": {}
        },
        {
          "output_type": "display_data",
          "data": {
            "text/plain": [
              "<IPython.core.display.HTML object>"
            ],
            "text/html": [
              "Syncing run <strong><a href='https://wandb.ai/cs23z036/Assignment1_ReLoaded_15thJuly/runs/r1cerupz' target=\"_blank\">ethereal-sweep-59</a></strong> to <a href='https://wandb.ai/cs23z036/Assignment1_ReLoaded_15thJuly' target=\"_blank\">Weights & Biases</a> (<a href='https://wandb.me/run' target=\"_blank\">docs</a>)<br/>Sweep page: <a href='https://wandb.ai/cs23z036/Assignment1_ReLoaded_15thJuly/sweeps/az1ucc60' target=\"_blank\">https://wandb.ai/cs23z036/Assignment1_ReLoaded_15thJuly/sweeps/az1ucc60</a>"
            ]
          },
          "metadata": {}
        },
        {
          "output_type": "display_data",
          "data": {
            "text/plain": [
              "<IPython.core.display.HTML object>"
            ],
            "text/html": [
              " View project at <a href='https://wandb.ai/cs23z036/Assignment1_ReLoaded_15thJuly' target=\"_blank\">https://wandb.ai/cs23z036/Assignment1_ReLoaded_15thJuly</a>"
            ]
          },
          "metadata": {}
        },
        {
          "output_type": "display_data",
          "data": {
            "text/plain": [
              "<IPython.core.display.HTML object>"
            ],
            "text/html": [
              " View sweep at <a href='https://wandb.ai/cs23z036/Assignment1_ReLoaded_15thJuly/sweeps/az1ucc60' target=\"_blank\">https://wandb.ai/cs23z036/Assignment1_ReLoaded_15thJuly/sweeps/az1ucc60</a>"
            ]
          },
          "metadata": {}
        },
        {
          "output_type": "display_data",
          "data": {
            "text/plain": [
              "<IPython.core.display.HTML object>"
            ],
            "text/html": [
              " View run at <a href='https://wandb.ai/cs23z036/Assignment1_ReLoaded_15thJuly/runs/r1cerupz' target=\"_blank\">https://wandb.ai/cs23z036/Assignment1_ReLoaded_15thJuly/runs/r1cerupz</a>"
            ]
          },
          "metadata": {}
        },
        {
          "output_type": "display_data",
          "data": {
            "text/plain": [
              "<IPython.core.display.HTML object>"
            ],
            "text/html": [
              "Waiting for W&B process to finish... <strong style=\"color:green\">(success).</strong>"
            ]
          },
          "metadata": {}
        },
        {
          "output_type": "display_data",
          "data": {
            "text/plain": [
              "<IPython.core.display.HTML object>"
            ],
            "text/html": [
              "<style>\n",
              "    table.wandb td:nth-child(1) { padding: 0 10px; text-align: left ; width: auto;} td:nth-child(2) {text-align: left ; width: 100%}\n",
              "    .wandb-row { display: flex; flex-direction: row; flex-wrap: wrap; justify-content: flex-start; width: 100% }\n",
              "    .wandb-col { display: flex; flex-direction: column; flex-basis: 100%; flex: 1; padding: 10px; }\n",
              "    </style>\n",
              "<div class=\"wandb-row\"><div class=\"wandb-col\"><h3>Run history:</h3><br/><table class=\"wandb\"><tr><td>batch size</td><td>▁</td></tr><tr><td>epochs</td><td>▁</td></tr><tr><td>layer size</td><td>▁</td></tr><tr><td>learning rate</td><td>▁</td></tr><tr><td>no of hidden layers</td><td>▁</td></tr><tr><td>validation accuracy</td><td>▁</td></tr><tr><td>validation loss</td><td>▁</td></tr></table><br/></div><div class=\"wandb-col\"><h3>Run summary:</h3><br/><table class=\"wandb\"><tr><td>batch size</td><td>32</td></tr><tr><td>epochs</td><td>5</td></tr><tr><td>layer size</td><td>32</td></tr><tr><td>learning rate</td><td>0.005</td></tr><tr><td>no of hidden layers</td><td>3</td></tr><tr><td>optimizer</td><td>rmsprop</td></tr><tr><td>validation accuracy</td><td>0.8427</td></tr><tr><td>validation loss</td><td>0.44456</td></tr></table><br/></div></div>"
            ]
          },
          "metadata": {}
        },
        {
          "output_type": "display_data",
          "data": {
            "text/plain": [
              "<IPython.core.display.HTML object>"
            ],
            "text/html": [
              " View run <strong style=\"color:#cdcd00\">ethereal-sweep-59</strong> at: <a href='https://wandb.ai/cs23z036/Assignment1_ReLoaded_15thJuly/runs/r1cerupz' target=\"_blank\">https://wandb.ai/cs23z036/Assignment1_ReLoaded_15thJuly/runs/r1cerupz</a><br/>Synced 4 W&B file(s), 0 media file(s), 0 artifact file(s) and 0 other file(s)"
            ]
          },
          "metadata": {}
        },
        {
          "output_type": "display_data",
          "data": {
            "text/plain": [
              "<IPython.core.display.HTML object>"
            ],
            "text/html": [
              "Find logs at: <code>./wandb/run-20230715_114438-r1cerupz/logs</code>"
            ]
          },
          "metadata": {}
        },
        {
          "output_type": "stream",
          "name": "stderr",
          "text": [
            "\u001b[34m\u001b[1mwandb\u001b[0m: Agent Starting Run: i7svn7v4 with config:\n",
            "\u001b[34m\u001b[1mwandb\u001b[0m: \tactivation: tanh\n",
            "\u001b[34m\u001b[1mwandb\u001b[0m: \tbatch_size: 32\n",
            "\u001b[34m\u001b[1mwandb\u001b[0m: \tepochs: 5\n",
            "\u001b[34m\u001b[1mwandb\u001b[0m: \teta: 0.005\n",
            "\u001b[34m\u001b[1mwandb\u001b[0m: \thidden_layers: 3\n",
            "\u001b[34m\u001b[1mwandb\u001b[0m: \toptimizer: rmsprop\n",
            "\u001b[34m\u001b[1mwandb\u001b[0m: \tsize: 32\n",
            "\u001b[34m\u001b[1mwandb\u001b[0m: \twt_decay: 0.05\n",
            "\u001b[34m\u001b[1mwandb\u001b[0m: \twt_init: random\n"
          ]
        },
        {
          "output_type": "display_data",
          "data": {
            "text/plain": [
              "<IPython.core.display.HTML object>"
            ],
            "text/html": [
              "Tracking run with wandb version 0.15.5"
            ]
          },
          "metadata": {}
        },
        {
          "output_type": "display_data",
          "data": {
            "text/plain": [
              "<IPython.core.display.HTML object>"
            ],
            "text/html": [
              "Run data is saved locally in <code>/content/wandb/run-20230715_114709-i7svn7v4</code>"
            ]
          },
          "metadata": {}
        },
        {
          "output_type": "display_data",
          "data": {
            "text/plain": [
              "<IPython.core.display.HTML object>"
            ],
            "text/html": [
              "Syncing run <strong><a href='https://wandb.ai/cs23z036/Assignment1_ReLoaded_15thJuly/runs/i7svn7v4' target=\"_blank\">rural-sweep-60</a></strong> to <a href='https://wandb.ai/cs23z036/Assignment1_ReLoaded_15thJuly' target=\"_blank\">Weights & Biases</a> (<a href='https://wandb.me/run' target=\"_blank\">docs</a>)<br/>Sweep page: <a href='https://wandb.ai/cs23z036/Assignment1_ReLoaded_15thJuly/sweeps/az1ucc60' target=\"_blank\">https://wandb.ai/cs23z036/Assignment1_ReLoaded_15thJuly/sweeps/az1ucc60</a>"
            ]
          },
          "metadata": {}
        },
        {
          "output_type": "display_data",
          "data": {
            "text/plain": [
              "<IPython.core.display.HTML object>"
            ],
            "text/html": [
              " View project at <a href='https://wandb.ai/cs23z036/Assignment1_ReLoaded_15thJuly' target=\"_blank\">https://wandb.ai/cs23z036/Assignment1_ReLoaded_15thJuly</a>"
            ]
          },
          "metadata": {}
        },
        {
          "output_type": "display_data",
          "data": {
            "text/plain": [
              "<IPython.core.display.HTML object>"
            ],
            "text/html": [
              " View sweep at <a href='https://wandb.ai/cs23z036/Assignment1_ReLoaded_15thJuly/sweeps/az1ucc60' target=\"_blank\">https://wandb.ai/cs23z036/Assignment1_ReLoaded_15thJuly/sweeps/az1ucc60</a>"
            ]
          },
          "metadata": {}
        },
        {
          "output_type": "display_data",
          "data": {
            "text/plain": [
              "<IPython.core.display.HTML object>"
            ],
            "text/html": [
              " View run at <a href='https://wandb.ai/cs23z036/Assignment1_ReLoaded_15thJuly/runs/i7svn7v4' target=\"_blank\">https://wandb.ai/cs23z036/Assignment1_ReLoaded_15thJuly/runs/i7svn7v4</a>"
            ]
          },
          "metadata": {}
        },
        {
          "output_type": "display_data",
          "data": {
            "text/plain": [
              "<IPython.core.display.HTML object>"
            ],
            "text/html": [
              "Waiting for W&B process to finish... <strong style=\"color:green\">(success).</strong>"
            ]
          },
          "metadata": {}
        },
        {
          "output_type": "display_data",
          "data": {
            "text/plain": [
              "<IPython.core.display.HTML object>"
            ],
            "text/html": [
              "<style>\n",
              "    table.wandb td:nth-child(1) { padding: 0 10px; text-align: left ; width: auto;} td:nth-child(2) {text-align: left ; width: 100%}\n",
              "    .wandb-row { display: flex; flex-direction: row; flex-wrap: wrap; justify-content: flex-start; width: 100% }\n",
              "    .wandb-col { display: flex; flex-direction: column; flex-basis: 100%; flex: 1; padding: 10px; }\n",
              "    </style>\n",
              "<div class=\"wandb-row\"><div class=\"wandb-col\"><h3>Run history:</h3><br/><table class=\"wandb\"><tr><td>batch size</td><td>▁</td></tr><tr><td>epochs</td><td>▁</td></tr><tr><td>layer size</td><td>▁</td></tr><tr><td>learning rate</td><td>▁</td></tr><tr><td>no of hidden layers</td><td>▁</td></tr><tr><td>validation accuracy</td><td>▁</td></tr><tr><td>validation loss</td><td>▁</td></tr></table><br/></div><div class=\"wandb-col\"><h3>Run summary:</h3><br/><table class=\"wandb\"><tr><td>batch size</td><td>32</td></tr><tr><td>epochs</td><td>5</td></tr><tr><td>layer size</td><td>32</td></tr><tr><td>learning rate</td><td>0.005</td></tr><tr><td>no of hidden layers</td><td>3</td></tr><tr><td>optimizer</td><td>rmsprop</td></tr><tr><td>validation accuracy</td><td>0.7994</td></tr><tr><td>validation loss</td><td>0.60038</td></tr></table><br/></div></div>"
            ]
          },
          "metadata": {}
        },
        {
          "output_type": "display_data",
          "data": {
            "text/plain": [
              "<IPython.core.display.HTML object>"
            ],
            "text/html": [
              " View run <strong style=\"color:#cdcd00\">rural-sweep-60</strong> at: <a href='https://wandb.ai/cs23z036/Assignment1_ReLoaded_15thJuly/runs/i7svn7v4' target=\"_blank\">https://wandb.ai/cs23z036/Assignment1_ReLoaded_15thJuly/runs/i7svn7v4</a><br/>Synced 4 W&B file(s), 0 media file(s), 0 artifact file(s) and 0 other file(s)"
            ]
          },
          "metadata": {}
        },
        {
          "output_type": "display_data",
          "data": {
            "text/plain": [
              "<IPython.core.display.HTML object>"
            ],
            "text/html": [
              "Find logs at: <code>./wandb/run-20230715_114709-i7svn7v4/logs</code>"
            ]
          },
          "metadata": {}
        },
        {
          "output_type": "stream",
          "name": "stderr",
          "text": [
            "\u001b[34m\u001b[1mwandb\u001b[0m: Agent Starting Run: eb9j646a with config:\n",
            "\u001b[34m\u001b[1mwandb\u001b[0m: \tactivation: tanh\n",
            "\u001b[34m\u001b[1mwandb\u001b[0m: \tbatch_size: 32\n",
            "\u001b[34m\u001b[1mwandb\u001b[0m: \tepochs: 5\n",
            "\u001b[34m\u001b[1mwandb\u001b[0m: \teta: 0.005\n",
            "\u001b[34m\u001b[1mwandb\u001b[0m: \thidden_layers: 3\n",
            "\u001b[34m\u001b[1mwandb\u001b[0m: \toptimizer: rmsprop\n",
            "\u001b[34m\u001b[1mwandb\u001b[0m: \tsize: 64\n",
            "\u001b[34m\u001b[1mwandb\u001b[0m: \twt_decay: 0.005\n",
            "\u001b[34m\u001b[1mwandb\u001b[0m: \twt_init: xavier\n"
          ]
        },
        {
          "output_type": "display_data",
          "data": {
            "text/plain": [
              "<IPython.core.display.HTML object>"
            ],
            "text/html": [
              "Tracking run with wandb version 0.15.5"
            ]
          },
          "metadata": {}
        },
        {
          "output_type": "display_data",
          "data": {
            "text/plain": [
              "<IPython.core.display.HTML object>"
            ],
            "text/html": [
              "Run data is saved locally in <code>/content/wandb/run-20230715_114931-eb9j646a</code>"
            ]
          },
          "metadata": {}
        },
        {
          "output_type": "display_data",
          "data": {
            "text/plain": [
              "<IPython.core.display.HTML object>"
            ],
            "text/html": [
              "Syncing run <strong><a href='https://wandb.ai/cs23z036/Assignment1_ReLoaded_15thJuly/runs/eb9j646a' target=\"_blank\">earthy-sweep-61</a></strong> to <a href='https://wandb.ai/cs23z036/Assignment1_ReLoaded_15thJuly' target=\"_blank\">Weights & Biases</a> (<a href='https://wandb.me/run' target=\"_blank\">docs</a>)<br/>Sweep page: <a href='https://wandb.ai/cs23z036/Assignment1_ReLoaded_15thJuly/sweeps/az1ucc60' target=\"_blank\">https://wandb.ai/cs23z036/Assignment1_ReLoaded_15thJuly/sweeps/az1ucc60</a>"
            ]
          },
          "metadata": {}
        },
        {
          "output_type": "display_data",
          "data": {
            "text/plain": [
              "<IPython.core.display.HTML object>"
            ],
            "text/html": [
              " View project at <a href='https://wandb.ai/cs23z036/Assignment1_ReLoaded_15thJuly' target=\"_blank\">https://wandb.ai/cs23z036/Assignment1_ReLoaded_15thJuly</a>"
            ]
          },
          "metadata": {}
        },
        {
          "output_type": "display_data",
          "data": {
            "text/plain": [
              "<IPython.core.display.HTML object>"
            ],
            "text/html": [
              " View sweep at <a href='https://wandb.ai/cs23z036/Assignment1_ReLoaded_15thJuly/sweeps/az1ucc60' target=\"_blank\">https://wandb.ai/cs23z036/Assignment1_ReLoaded_15thJuly/sweeps/az1ucc60</a>"
            ]
          },
          "metadata": {}
        },
        {
          "output_type": "display_data",
          "data": {
            "text/plain": [
              "<IPython.core.display.HTML object>"
            ],
            "text/html": [
              " View run at <a href='https://wandb.ai/cs23z036/Assignment1_ReLoaded_15thJuly/runs/eb9j646a' target=\"_blank\">https://wandb.ai/cs23z036/Assignment1_ReLoaded_15thJuly/runs/eb9j646a</a>"
            ]
          },
          "metadata": {}
        },
        {
          "output_type": "display_data",
          "data": {
            "text/plain": [
              "<IPython.core.display.HTML object>"
            ],
            "text/html": [
              "Waiting for W&B process to finish... <strong style=\"color:green\">(success).</strong>"
            ]
          },
          "metadata": {}
        },
        {
          "output_type": "display_data",
          "data": {
            "text/plain": [
              "<IPython.core.display.HTML object>"
            ],
            "text/html": [
              "<style>\n",
              "    table.wandb td:nth-child(1) { padding: 0 10px; text-align: left ; width: auto;} td:nth-child(2) {text-align: left ; width: 100%}\n",
              "    .wandb-row { display: flex; flex-direction: row; flex-wrap: wrap; justify-content: flex-start; width: 100% }\n",
              "    .wandb-col { display: flex; flex-direction: column; flex-basis: 100%; flex: 1; padding: 10px; }\n",
              "    </style>\n",
              "<div class=\"wandb-row\"><div class=\"wandb-col\"><h3>Run history:</h3><br/><table class=\"wandb\"><tr><td>batch size</td><td>▁</td></tr><tr><td>epochs</td><td>▁</td></tr><tr><td>layer size</td><td>▁</td></tr><tr><td>learning rate</td><td>▁</td></tr><tr><td>no of hidden layers</td><td>▁</td></tr><tr><td>validation accuracy</td><td>▁</td></tr><tr><td>validation loss</td><td>▁</td></tr></table><br/></div><div class=\"wandb-col\"><h3>Run summary:</h3><br/><table class=\"wandb\"><tr><td>batch size</td><td>32</td></tr><tr><td>epochs</td><td>5</td></tr><tr><td>layer size</td><td>64</td></tr><tr><td>learning rate</td><td>0.005</td></tr><tr><td>no of hidden layers</td><td>3</td></tr><tr><td>optimizer</td><td>rmsprop</td></tr><tr><td>validation accuracy</td><td>0.8314</td></tr><tr><td>validation loss</td><td>0.47291</td></tr></table><br/></div></div>"
            ]
          },
          "metadata": {}
        },
        {
          "output_type": "display_data",
          "data": {
            "text/plain": [
              "<IPython.core.display.HTML object>"
            ],
            "text/html": [
              " View run <strong style=\"color:#cdcd00\">earthy-sweep-61</strong> at: <a href='https://wandb.ai/cs23z036/Assignment1_ReLoaded_15thJuly/runs/eb9j646a' target=\"_blank\">https://wandb.ai/cs23z036/Assignment1_ReLoaded_15thJuly/runs/eb9j646a</a><br/>Synced 4 W&B file(s), 0 media file(s), 0 artifact file(s) and 0 other file(s)"
            ]
          },
          "metadata": {}
        },
        {
          "output_type": "display_data",
          "data": {
            "text/plain": [
              "<IPython.core.display.HTML object>"
            ],
            "text/html": [
              "Find logs at: <code>./wandb/run-20230715_114931-eb9j646a/logs</code>"
            ]
          },
          "metadata": {}
        },
        {
          "output_type": "stream",
          "name": "stderr",
          "text": [
            "\u001b[34m\u001b[1mwandb\u001b[0m: Agent Starting Run: cuhylrgg with config:\n",
            "\u001b[34m\u001b[1mwandb\u001b[0m: \tactivation: tanh\n",
            "\u001b[34m\u001b[1mwandb\u001b[0m: \tbatch_size: 32\n",
            "\u001b[34m\u001b[1mwandb\u001b[0m: \tepochs: 5\n",
            "\u001b[34m\u001b[1mwandb\u001b[0m: \teta: 0.005\n",
            "\u001b[34m\u001b[1mwandb\u001b[0m: \thidden_layers: 3\n",
            "\u001b[34m\u001b[1mwandb\u001b[0m: \toptimizer: rmsprop\n",
            "\u001b[34m\u001b[1mwandb\u001b[0m: \tsize: 64\n",
            "\u001b[34m\u001b[1mwandb\u001b[0m: \twt_decay: 0.005\n",
            "\u001b[34m\u001b[1mwandb\u001b[0m: \twt_init: random\n"
          ]
        },
        {
          "output_type": "display_data",
          "data": {
            "text/plain": [
              "<IPython.core.display.HTML object>"
            ],
            "text/html": [
              "Tracking run with wandb version 0.15.5"
            ]
          },
          "metadata": {}
        },
        {
          "output_type": "display_data",
          "data": {
            "text/plain": [
              "<IPython.core.display.HTML object>"
            ],
            "text/html": [
              "Run data is saved locally in <code>/content/wandb/run-20230715_115245-cuhylrgg</code>"
            ]
          },
          "metadata": {}
        },
        {
          "output_type": "display_data",
          "data": {
            "text/plain": [
              "<IPython.core.display.HTML object>"
            ],
            "text/html": [
              "Syncing run <strong><a href='https://wandb.ai/cs23z036/Assignment1_ReLoaded_15thJuly/runs/cuhylrgg' target=\"_blank\">classic-sweep-62</a></strong> to <a href='https://wandb.ai/cs23z036/Assignment1_ReLoaded_15thJuly' target=\"_blank\">Weights & Biases</a> (<a href='https://wandb.me/run' target=\"_blank\">docs</a>)<br/>Sweep page: <a href='https://wandb.ai/cs23z036/Assignment1_ReLoaded_15thJuly/sweeps/az1ucc60' target=\"_blank\">https://wandb.ai/cs23z036/Assignment1_ReLoaded_15thJuly/sweeps/az1ucc60</a>"
            ]
          },
          "metadata": {}
        },
        {
          "output_type": "display_data",
          "data": {
            "text/plain": [
              "<IPython.core.display.HTML object>"
            ],
            "text/html": [
              " View project at <a href='https://wandb.ai/cs23z036/Assignment1_ReLoaded_15thJuly' target=\"_blank\">https://wandb.ai/cs23z036/Assignment1_ReLoaded_15thJuly</a>"
            ]
          },
          "metadata": {}
        },
        {
          "output_type": "display_data",
          "data": {
            "text/plain": [
              "<IPython.core.display.HTML object>"
            ],
            "text/html": [
              " View sweep at <a href='https://wandb.ai/cs23z036/Assignment1_ReLoaded_15thJuly/sweeps/az1ucc60' target=\"_blank\">https://wandb.ai/cs23z036/Assignment1_ReLoaded_15thJuly/sweeps/az1ucc60</a>"
            ]
          },
          "metadata": {}
        },
        {
          "output_type": "display_data",
          "data": {
            "text/plain": [
              "<IPython.core.display.HTML object>"
            ],
            "text/html": [
              " View run at <a href='https://wandb.ai/cs23z036/Assignment1_ReLoaded_15thJuly/runs/cuhylrgg' target=\"_blank\">https://wandb.ai/cs23z036/Assignment1_ReLoaded_15thJuly/runs/cuhylrgg</a>"
            ]
          },
          "metadata": {}
        },
        {
          "output_type": "display_data",
          "data": {
            "text/plain": [
              "<IPython.core.display.HTML object>"
            ],
            "text/html": [
              "Waiting for W&B process to finish... <strong style=\"color:green\">(success).</strong>"
            ]
          },
          "metadata": {}
        },
        {
          "output_type": "display_data",
          "data": {
            "text/plain": [
              "VBox(children=(Label(value='0.001 MB of 0.009 MB uploaded (0.000 MB deduped)\\r'), FloatProgress(value=0.102620…"
            ],
            "application/vnd.jupyter.widget-view+json": {
              "version_major": 2,
              "version_minor": 0,
              "model_id": "5f03288ce2694aae851deb3042f98dad"
            }
          },
          "metadata": {}
        },
        {
          "output_type": "display_data",
          "data": {
            "text/plain": [
              "<IPython.core.display.HTML object>"
            ],
            "text/html": [
              "<style>\n",
              "    table.wandb td:nth-child(1) { padding: 0 10px; text-align: left ; width: auto;} td:nth-child(2) {text-align: left ; width: 100%}\n",
              "    .wandb-row { display: flex; flex-direction: row; flex-wrap: wrap; justify-content: flex-start; width: 100% }\n",
              "    .wandb-col { display: flex; flex-direction: column; flex-basis: 100%; flex: 1; padding: 10px; }\n",
              "    </style>\n",
              "<div class=\"wandb-row\"><div class=\"wandb-col\"><h3>Run history:</h3><br/><table class=\"wandb\"><tr><td>batch size</td><td>▁</td></tr><tr><td>epochs</td><td>▁</td></tr><tr><td>layer size</td><td>▁</td></tr><tr><td>learning rate</td><td>▁</td></tr><tr><td>no of hidden layers</td><td>▁</td></tr><tr><td>validation accuracy</td><td>▁</td></tr><tr><td>validation loss</td><td>▁</td></tr></table><br/></div><div class=\"wandb-col\"><h3>Run summary:</h3><br/><table class=\"wandb\"><tr><td>batch size</td><td>32</td></tr><tr><td>epochs</td><td>5</td></tr><tr><td>layer size</td><td>64</td></tr><tr><td>learning rate</td><td>0.005</td></tr><tr><td>no of hidden layers</td><td>3</td></tr><tr><td>optimizer</td><td>rmsprop</td></tr><tr><td>validation accuracy</td><td>0.7565</td></tr><tr><td>validation loss</td><td>0.63811</td></tr></table><br/></div></div>"
            ]
          },
          "metadata": {}
        },
        {
          "output_type": "display_data",
          "data": {
            "text/plain": [
              "<IPython.core.display.HTML object>"
            ],
            "text/html": [
              " View run <strong style=\"color:#cdcd00\">classic-sweep-62</strong> at: <a href='https://wandb.ai/cs23z036/Assignment1_ReLoaded_15thJuly/runs/cuhylrgg' target=\"_blank\">https://wandb.ai/cs23z036/Assignment1_ReLoaded_15thJuly/runs/cuhylrgg</a><br/>Synced 4 W&B file(s), 0 media file(s), 0 artifact file(s) and 0 other file(s)"
            ]
          },
          "metadata": {}
        },
        {
          "output_type": "display_data",
          "data": {
            "text/plain": [
              "<IPython.core.display.HTML object>"
            ],
            "text/html": [
              "Find logs at: <code>./wandb/run-20230715_115245-cuhylrgg/logs</code>"
            ]
          },
          "metadata": {}
        },
        {
          "output_type": "stream",
          "name": "stderr",
          "text": [
            "\u001b[34m\u001b[1mwandb\u001b[0m: Agent Starting Run: qddnisvr with config:\n",
            "\u001b[34m\u001b[1mwandb\u001b[0m: \tactivation: tanh\n",
            "\u001b[34m\u001b[1mwandb\u001b[0m: \tbatch_size: 32\n",
            "\u001b[34m\u001b[1mwandb\u001b[0m: \tepochs: 5\n",
            "\u001b[34m\u001b[1mwandb\u001b[0m: \teta: 0.005\n",
            "\u001b[34m\u001b[1mwandb\u001b[0m: \thidden_layers: 3\n",
            "\u001b[34m\u001b[1mwandb\u001b[0m: \toptimizer: rmsprop\n",
            "\u001b[34m\u001b[1mwandb\u001b[0m: \tsize: 64\n",
            "\u001b[34m\u001b[1mwandb\u001b[0m: \twt_decay: 0.05\n",
            "\u001b[34m\u001b[1mwandb\u001b[0m: \twt_init: xavier\n"
          ]
        },
        {
          "output_type": "display_data",
          "data": {
            "text/plain": [
              "<IPython.core.display.HTML object>"
            ],
            "text/html": [
              "Tracking run with wandb version 0.15.5"
            ]
          },
          "metadata": {}
        },
        {
          "output_type": "display_data",
          "data": {
            "text/plain": [
              "<IPython.core.display.HTML object>"
            ],
            "text/html": [
              "Run data is saved locally in <code>/content/wandb/run-20230715_115558-qddnisvr</code>"
            ]
          },
          "metadata": {}
        },
        {
          "output_type": "display_data",
          "data": {
            "text/plain": [
              "<IPython.core.display.HTML object>"
            ],
            "text/html": [
              "Syncing run <strong><a href='https://wandb.ai/cs23z036/Assignment1_ReLoaded_15thJuly/runs/qddnisvr' target=\"_blank\">mild-sweep-63</a></strong> to <a href='https://wandb.ai/cs23z036/Assignment1_ReLoaded_15thJuly' target=\"_blank\">Weights & Biases</a> (<a href='https://wandb.me/run' target=\"_blank\">docs</a>)<br/>Sweep page: <a href='https://wandb.ai/cs23z036/Assignment1_ReLoaded_15thJuly/sweeps/az1ucc60' target=\"_blank\">https://wandb.ai/cs23z036/Assignment1_ReLoaded_15thJuly/sweeps/az1ucc60</a>"
            ]
          },
          "metadata": {}
        },
        {
          "output_type": "display_data",
          "data": {
            "text/plain": [
              "<IPython.core.display.HTML object>"
            ],
            "text/html": [
              " View project at <a href='https://wandb.ai/cs23z036/Assignment1_ReLoaded_15thJuly' target=\"_blank\">https://wandb.ai/cs23z036/Assignment1_ReLoaded_15thJuly</a>"
            ]
          },
          "metadata": {}
        },
        {
          "output_type": "display_data",
          "data": {
            "text/plain": [
              "<IPython.core.display.HTML object>"
            ],
            "text/html": [
              " View sweep at <a href='https://wandb.ai/cs23z036/Assignment1_ReLoaded_15thJuly/sweeps/az1ucc60' target=\"_blank\">https://wandb.ai/cs23z036/Assignment1_ReLoaded_15thJuly/sweeps/az1ucc60</a>"
            ]
          },
          "metadata": {}
        },
        {
          "output_type": "display_data",
          "data": {
            "text/plain": [
              "<IPython.core.display.HTML object>"
            ],
            "text/html": [
              " View run at <a href='https://wandb.ai/cs23z036/Assignment1_ReLoaded_15thJuly/runs/qddnisvr' target=\"_blank\">https://wandb.ai/cs23z036/Assignment1_ReLoaded_15thJuly/runs/qddnisvr</a>"
            ]
          },
          "metadata": {}
        },
        {
          "output_type": "display_data",
          "data": {
            "text/plain": [
              "<IPython.core.display.HTML object>"
            ],
            "text/html": [
              "Waiting for W&B process to finish... <strong style=\"color:green\">(success).</strong>"
            ]
          },
          "metadata": {}
        },
        {
          "output_type": "display_data",
          "data": {
            "text/plain": [
              "<IPython.core.display.HTML object>"
            ],
            "text/html": [
              "<style>\n",
              "    table.wandb td:nth-child(1) { padding: 0 10px; text-align: left ; width: auto;} td:nth-child(2) {text-align: left ; width: 100%}\n",
              "    .wandb-row { display: flex; flex-direction: row; flex-wrap: wrap; justify-content: flex-start; width: 100% }\n",
              "    .wandb-col { display: flex; flex-direction: column; flex-basis: 100%; flex: 1; padding: 10px; }\n",
              "    </style>\n",
              "<div class=\"wandb-row\"><div class=\"wandb-col\"><h3>Run history:</h3><br/><table class=\"wandb\"><tr><td>batch size</td><td>▁</td></tr><tr><td>epochs</td><td>▁</td></tr><tr><td>layer size</td><td>▁</td></tr><tr><td>learning rate</td><td>▁</td></tr><tr><td>no of hidden layers</td><td>▁</td></tr><tr><td>validation accuracy</td><td>▁</td></tr><tr><td>validation loss</td><td>▁</td></tr></table><br/></div><div class=\"wandb-col\"><h3>Run summary:</h3><br/><table class=\"wandb\"><tr><td>batch size</td><td>32</td></tr><tr><td>epochs</td><td>5</td></tr><tr><td>layer size</td><td>64</td></tr><tr><td>learning rate</td><td>0.005</td></tr><tr><td>no of hidden layers</td><td>3</td></tr><tr><td>optimizer</td><td>rmsprop</td></tr><tr><td>validation accuracy</td><td>0.8322</td></tr><tr><td>validation loss</td><td>0.48165</td></tr></table><br/></div></div>"
            ]
          },
          "metadata": {}
        },
        {
          "output_type": "display_data",
          "data": {
            "text/plain": [
              "<IPython.core.display.HTML object>"
            ],
            "text/html": [
              " View run <strong style=\"color:#cdcd00\">mild-sweep-63</strong> at: <a href='https://wandb.ai/cs23z036/Assignment1_ReLoaded_15thJuly/runs/qddnisvr' target=\"_blank\">https://wandb.ai/cs23z036/Assignment1_ReLoaded_15thJuly/runs/qddnisvr</a><br/>Synced 4 W&B file(s), 0 media file(s), 0 artifact file(s) and 0 other file(s)"
            ]
          },
          "metadata": {}
        },
        {
          "output_type": "display_data",
          "data": {
            "text/plain": [
              "<IPython.core.display.HTML object>"
            ],
            "text/html": [
              "Find logs at: <code>./wandb/run-20230715_115558-qddnisvr/logs</code>"
            ]
          },
          "metadata": {}
        },
        {
          "output_type": "stream",
          "name": "stderr",
          "text": [
            "\u001b[34m\u001b[1mwandb\u001b[0m: Agent Starting Run: zlnd1rmm with config:\n",
            "\u001b[34m\u001b[1mwandb\u001b[0m: \tactivation: tanh\n",
            "\u001b[34m\u001b[1mwandb\u001b[0m: \tbatch_size: 32\n",
            "\u001b[34m\u001b[1mwandb\u001b[0m: \tepochs: 5\n",
            "\u001b[34m\u001b[1mwandb\u001b[0m: \teta: 0.005\n",
            "\u001b[34m\u001b[1mwandb\u001b[0m: \thidden_layers: 3\n",
            "\u001b[34m\u001b[1mwandb\u001b[0m: \toptimizer: rmsprop\n",
            "\u001b[34m\u001b[1mwandb\u001b[0m: \tsize: 64\n",
            "\u001b[34m\u001b[1mwandb\u001b[0m: \twt_decay: 0.05\n",
            "\u001b[34m\u001b[1mwandb\u001b[0m: \twt_init: random\n"
          ]
        },
        {
          "output_type": "display_data",
          "data": {
            "text/plain": [
              "<IPython.core.display.HTML object>"
            ],
            "text/html": [
              "Tracking run with wandb version 0.15.5"
            ]
          },
          "metadata": {}
        },
        {
          "output_type": "display_data",
          "data": {
            "text/plain": [
              "<IPython.core.display.HTML object>"
            ],
            "text/html": [
              "Run data is saved locally in <code>/content/wandb/run-20230715_115905-zlnd1rmm</code>"
            ]
          },
          "metadata": {}
        },
        {
          "output_type": "display_data",
          "data": {
            "text/plain": [
              "<IPython.core.display.HTML object>"
            ],
            "text/html": [
              "Syncing run <strong><a href='https://wandb.ai/cs23z036/Assignment1_ReLoaded_15thJuly/runs/zlnd1rmm' target=\"_blank\">cool-sweep-64</a></strong> to <a href='https://wandb.ai/cs23z036/Assignment1_ReLoaded_15thJuly' target=\"_blank\">Weights & Biases</a> (<a href='https://wandb.me/run' target=\"_blank\">docs</a>)<br/>Sweep page: <a href='https://wandb.ai/cs23z036/Assignment1_ReLoaded_15thJuly/sweeps/az1ucc60' target=\"_blank\">https://wandb.ai/cs23z036/Assignment1_ReLoaded_15thJuly/sweeps/az1ucc60</a>"
            ]
          },
          "metadata": {}
        },
        {
          "output_type": "display_data",
          "data": {
            "text/plain": [
              "<IPython.core.display.HTML object>"
            ],
            "text/html": [
              " View project at <a href='https://wandb.ai/cs23z036/Assignment1_ReLoaded_15thJuly' target=\"_blank\">https://wandb.ai/cs23z036/Assignment1_ReLoaded_15thJuly</a>"
            ]
          },
          "metadata": {}
        },
        {
          "output_type": "display_data",
          "data": {
            "text/plain": [
              "<IPython.core.display.HTML object>"
            ],
            "text/html": [
              " View sweep at <a href='https://wandb.ai/cs23z036/Assignment1_ReLoaded_15thJuly/sweeps/az1ucc60' target=\"_blank\">https://wandb.ai/cs23z036/Assignment1_ReLoaded_15thJuly/sweeps/az1ucc60</a>"
            ]
          },
          "metadata": {}
        },
        {
          "output_type": "display_data",
          "data": {
            "text/plain": [
              "<IPython.core.display.HTML object>"
            ],
            "text/html": [
              " View run at <a href='https://wandb.ai/cs23z036/Assignment1_ReLoaded_15thJuly/runs/zlnd1rmm' target=\"_blank\">https://wandb.ai/cs23z036/Assignment1_ReLoaded_15thJuly/runs/zlnd1rmm</a>"
            ]
          },
          "metadata": {}
        },
        {
          "output_type": "display_data",
          "data": {
            "text/plain": [
              "<IPython.core.display.HTML object>"
            ],
            "text/html": [
              "Waiting for W&B process to finish... <strong style=\"color:green\">(success).</strong>"
            ]
          },
          "metadata": {}
        },
        {
          "output_type": "display_data",
          "data": {
            "text/plain": [
              "<IPython.core.display.HTML object>"
            ],
            "text/html": [
              "<style>\n",
              "    table.wandb td:nth-child(1) { padding: 0 10px; text-align: left ; width: auto;} td:nth-child(2) {text-align: left ; width: 100%}\n",
              "    .wandb-row { display: flex; flex-direction: row; flex-wrap: wrap; justify-content: flex-start; width: 100% }\n",
              "    .wandb-col { display: flex; flex-direction: column; flex-basis: 100%; flex: 1; padding: 10px; }\n",
              "    </style>\n",
              "<div class=\"wandb-row\"><div class=\"wandb-col\"><h3>Run history:</h3><br/><table class=\"wandb\"><tr><td>batch size</td><td>▁</td></tr><tr><td>epochs</td><td>▁</td></tr><tr><td>layer size</td><td>▁</td></tr><tr><td>learning rate</td><td>▁</td></tr><tr><td>no of hidden layers</td><td>▁</td></tr><tr><td>validation accuracy</td><td>▁</td></tr><tr><td>validation loss</td><td>▁</td></tr></table><br/></div><div class=\"wandb-col\"><h3>Run summary:</h3><br/><table class=\"wandb\"><tr><td>batch size</td><td>32</td></tr><tr><td>epochs</td><td>5</td></tr><tr><td>layer size</td><td>64</td></tr><tr><td>learning rate</td><td>0.005</td></tr><tr><td>no of hidden layers</td><td>3</td></tr><tr><td>optimizer</td><td>rmsprop</td></tr><tr><td>validation accuracy</td><td>0.7717</td></tr><tr><td>validation loss</td><td>0.64749</td></tr></table><br/></div></div>"
            ]
          },
          "metadata": {}
        },
        {
          "output_type": "display_data",
          "data": {
            "text/plain": [
              "<IPython.core.display.HTML object>"
            ],
            "text/html": [
              " View run <strong style=\"color:#cdcd00\">cool-sweep-64</strong> at: <a href='https://wandb.ai/cs23z036/Assignment1_ReLoaded_15thJuly/runs/zlnd1rmm' target=\"_blank\">https://wandb.ai/cs23z036/Assignment1_ReLoaded_15thJuly/runs/zlnd1rmm</a><br/>Synced 4 W&B file(s), 0 media file(s), 0 artifact file(s) and 0 other file(s)"
            ]
          },
          "metadata": {}
        },
        {
          "output_type": "display_data",
          "data": {
            "text/plain": [
              "<IPython.core.display.HTML object>"
            ],
            "text/html": [
              "Find logs at: <code>./wandb/run-20230715_115905-zlnd1rmm/logs</code>"
            ]
          },
          "metadata": {}
        },
        {
          "output_type": "stream",
          "name": "stderr",
          "text": [
            "\u001b[34m\u001b[1mwandb\u001b[0m: Sweep Agent: Waiting for job.\n",
            "\u001b[34m\u001b[1mwandb\u001b[0m: Sweep Agent: Exiting.\n"
          ]
        }
      ]
    },
    {
      "cell_type": "code",
      "source": [],
      "metadata": {
        "id": "3jinZotszyD-"
      },
      "execution_count": null,
      "outputs": []
    }
  ]
}