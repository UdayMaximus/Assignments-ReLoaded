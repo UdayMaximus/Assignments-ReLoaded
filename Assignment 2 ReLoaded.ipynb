{
  "cells": [
    {
      "cell_type": "code",
      "execution_count": 2,
      "metadata": {
        "id": "-Z_TYin1nLdm"
      },
      "outputs": [],
      "source": [
        "import torch\n",
        "import torch.nn as nn\n",
        "import torch.optim as optim\n",
        "import torchvision\n",
        "import torchvision.transforms as transforms\n",
        "import wandb\n",
        "from torch.utils.data import DataLoader\n",
        "from torchvision.datasets import ImageFolder\n",
        "# import splitfolders"
      ]
    },
    {
      "cell_type": "markdown",
      "metadata": {
        "id": "RK87muUSFeSH"
      },
      "source": [
        "**Part A**"
      ]
    },
    {
      "cell_type": "markdown",
      "metadata": {
        "id": "j75t5GmxFg_z"
      },
      "source": [
        "Question 1"
      ]
    },
    {
      "cell_type": "code",
      "execution_count": 3,
      "metadata": {
        "id": "PYfxtB-4Fk6l"
      },
      "outputs": [],
      "source": [
        "class SmallCNN(nn.Module):\n",
        "    def __init__(self, num_filters, filter_size, activation, num_classes, num_neurons_dense):\n",
        "        super(SmallCNN, self).__init__()\n",
        "        self.num_filters=num_filters\n",
        "        self.filter_size=filter_size\n",
        "        self.conv_blocks = nn.Sequential(\n",
        "            # Convolutional blocks\n",
        "            nn.Conv2d(3, num_filters, filter_size, padding=1),\n",
        "            activation(),\n",
        "            nn.MaxPool2d(2),\n",
        "\n",
        "            nn.Conv2d(num_filters, 2*num_filters, filter_size, padding=1),\n",
        "            activation(),\n",
        "            nn.MaxPool2d(2),\n",
        "\n",
        "            nn.Conv2d(2*num_filters, 4*num_filters, filter_size, padding=1),\n",
        "            activation(),\n",
        "            nn.MaxPool2d(2),\n",
        "\n",
        "            nn.Conv2d(4*num_filters, 8*num_filters, filter_size, padding=1),\n",
        "            activation(),\n",
        "            nn.MaxPool2d(2),\n",
        "\n",
        "            nn.Conv2d(8*num_filters, 16*num_filters, filter_size, padding=1),\n",
        "            activation(),\n",
        "            nn.MaxPool2d(2)\n",
        "        )\n",
        "        self.fc = nn.Sequential(\n",
        "            # Fully connected layers\n",
        "            # nn.Linear(num_filters * 4 * 4*8*8, num_neurons_dense),\n",
        "            nn.Linear(num_filters * 4 * 4*(11-filter_size)*(11-filter_size), num_neurons_dense),\n",
        "            activation(),\n",
        "            nn.Linear(num_neurons_dense, num_classes),\n",
        "            nn.Softmax(dim=1)\n",
        "        )\n",
        "\n",
        "    def forward(self, x):\n",
        "        x = self.conv_blocks(x)\n",
        "        # x = x.view(-1, 48*8*8)\n",
        "        x = x.view(-1, self.num_filters*4*4*(11-self.filter_size)*(11-self.filter_size))\n",
        "        x = self.fc(x)\n",
        "        # print(x.shape)\n",
        "        return x"
      ]
    },
    {
      "cell_type": "markdown",
      "metadata": {
        "id": "AmjRGsEhFtNm"
      },
      "source": [
        "What is the total number of parameters in your network? (assume mmm filters in each layer of size k×kk\\times kk×k and nnn neurons in the dense layer) ?\n"
      ]
    },
    {
      "cell_type": "markdown",
      "metadata": {
        "id": "hbrbWijCHNMB"
      },
      "source": [
        "To calculate the total number of parameters in this network, we need to count the number of learnable parameters in each layer and sum them up.\n",
        "\n",
        "The convolutional layers have learnable parameters in the form of filters, biases, and the number of parameters in each layer can be calculated as:\n",
        "\n",
        "First Convolutional Layer: (num_filters * 3 * filter_size * filter_size) + num_filters\n",
        "\n",
        "\n",
        "Second Convolutional Layer: (2*num_filters * num_filters * filter_size * filter_size) + (2*num_filters)\n",
        "\n",
        "\n",
        "Third Convolutional Layer: (4*num_filters * 2*num_filters * filter_size * filter_size) + (4*num_filters)\n",
        "\n",
        "\n",
        "Fourth Convolutional Layer: (8*num_filters * 4*num_filters * filter_size * filter_size) + (8*num_filters)\n",
        "\n",
        "\n",
        "Fifth Convolutional Layer: (16*num_filters * 8*num_filters * filter_size * filter_size) + (16*num_filters)\n",
        "\n",
        "\n",
        "The fully connected layers have learnable parameters in the form of weights and biases, and the number of parameters in each layer can be calculated as:\n",
        "\n",
        "First Fully Connected Layer: (num_filters * 4 * (11-filter_size) * (11-filter_size) * num_neurons_dense) + num_neurons_dense\n",
        "\n",
        "\n",
        "Second Fully Connected Layer: (num_neurons_dense * num_classes) + num_classes\n",
        "\n",
        "\n",
        "\n",
        "Thus, the total number of parameters in the network can be calculated by summing up the number of parameters in each layer:\n",
        "\n",
        "total_parameters = (num_filters * 3 * filter_size * filter_size) + num_filters + (2*num_filters * num_filters * filter_size * filter_size) + (2*num_filters) + (4*num_filters * 2*num_filters * filter_size * filter_size) + (4*num_filters) + (8*num_filters * 4*num_filters * filter_size * filter_size) + (8*num_filters) + (16*num_filters * 8*num_filters * filter_size * filter_size) + (16*num_filters) + (num_filters * 4 * (11-filter_size) * (11-filter_size) * num_neurons_dense) + num_neurons_dense + (num_neurons_dense * num_classes) + num_classes\n",
        "\n",
        "\n",
        "Substituting the given values :\n",
        "total_params = (3mkk+1m+2mmkk+2m+4mmkk+4m+8mmkk+8m+16mmkk+16m) + (m * 4 * (11 - k) * (11 - k) * n + n + n * num_classes)\n",
        "\n",
        "Substituting the given values:\n",
        "\n",
        "num_filters = 32\n",
        "\n",
        "\n",
        "filter_size = 3\n",
        "\n",
        "\n",
        "num_classes = 10\n",
        "\n",
        "\n",
        "num_neurons_dense = 128\n",
        "\n",
        "\n",
        "total_params = (33233+132+2323233+232+4323233+432+8323233+832+16323233+1632) + (32 * 4 * (11 - 3) * (11 - 3) * 128 + 128 + 128 * 10)\n",
        "\n",
        "\n",
        "Simplifying\n",
        "total_params = 24915328"
      ]
    },
    {
      "cell_type": "markdown",
      "metadata": {
        "id": "BwgIOqp_H_qh"
      },
      "source": [
        "Question 2"
      ]
    },
    {
      "cell_type": "code",
      "execution_count": 4,
      "metadata": {
        "colab": {
          "base_uri": "https://localhost:8080/"
        },
        "id": "13CvShb9mUHU",
        "outputId": "f1e17e97-6878-42ce-f5b2-29c443e5aaf1"
      },
      "outputs": [
        {
          "output_type": "stream",
          "name": "stdout",
          "text": [
            "Mounted at /content/drive\n"
          ]
        }
      ],
      "source": [
        "from google.colab import drive\n",
        "drive.mount('/content/drive')"
      ]
    },
    {
      "cell_type": "code",
      "execution_count": 5,
      "metadata": {
        "colab": {
          "base_uri": "https://localhost:8080/"
        },
        "id": "KF3BK7WyfY_w",
        "outputId": "0f3ec636-a5ae-41d2-ecf2-628fc1883656"
      },
      "outputs": [
        {
          "output_type": "stream",
          "name": "stdout",
          "text": [
            "/content/drive/MyDrive/inaturalist_12K\n"
          ]
        }
      ],
      "source": [
        "cd /content/drive/MyDrive/inaturalist_12K"
      ]
    },
    {
      "cell_type": "code",
      "execution_count": 6,
      "metadata": {
        "colab": {
          "base_uri": "https://localhost:8080/"
        },
        "id": "9x5syAMWfjgD",
        "outputId": "c7f0be77-85f1-4345-8ea1-d8c28a14349a"
      },
      "outputs": [
        {
          "output_type": "stream",
          "name": "stdout",
          "text": [
            "\u001b[34m\u001b[1mwandb\u001b[0m: Logging into wandb.ai. (Learn how to deploy a W&B server locally: https://wandb.me/wandb-server)\n",
            "\u001b[34m\u001b[1mwandb\u001b[0m: You can find your API key in your browser here: https://wandb.ai/authorize\n",
            "\u001b[34m\u001b[1mwandb\u001b[0m: Paste an API key from your profile and hit enter, or press ctrl+c to quit: \n",
            "\u001b[34m\u001b[1mwandb\u001b[0m: Appending key for api.wandb.ai to your netrc file: /root/.netrc\n"
          ]
        }
      ],
      "source": [
        "!wandb login"
      ]
    },
    {
      "cell_type": "code",
      "execution_count": 7,
      "metadata": {
        "id": "nHjElHfjr5cb"
      },
      "outputs": [],
      "source": [
        "config_defaults = {\n",
        "        'epochs': 5,\n",
        "        'num_filters':32,\n",
        "        'filter_size':3,\n",
        "        'lr': 0.001,\n",
        "        'activation':'relu',\n",
        "        'num_classes': 10,      #available: sigmoid,tanh,relu\n",
        "        'num_neurons_dense':64\n",
        "        }\n",
        "config=config_defaults"
      ]
    },
    {
      "cell_type": "code",
      "execution_count": 8,
      "metadata": {
        "id": "2hHTXT6GsiHB"
      },
      "outputs": [],
      "source": [
        "sweep_config = {\n",
        "  'name': 'Assignment2_ReLoaded',\n",
        "  'method': 'grid',\n",
        "  'parameters': {\n",
        "        'epochs': {\n",
        "            'values': [5]\n",
        "        },\n",
        "        'num_filters':{\n",
        "            'values':[16,32]\n",
        "        },\n",
        "        'filter_size':{\n",
        "            'values':[3,5]\n",
        "        },\n",
        "        'lr': {\n",
        "            'values': [0.001]\n",
        "        },\n",
        "        'activation':{\n",
        "            'values':['relu']\n",
        "        },\n",
        "        'num_classes': {\n",
        "            'values': [10]\n",
        "        },\n",
        "        'num_neurons_dense':{\n",
        "            'values':[128]\n",
        "        }\n",
        "    }\n",
        "}"
      ]
    },
    {
      "cell_type": "code",
      "execution_count": 9,
      "metadata": {
        "id": "rs95dO0qbFWH"
      },
      "outputs": [],
      "source": [
        "# Define the model\n",
        "class SmallCNN(nn.Module):\n",
        "    def __init__(self, num_filters, filter_size, activation, num_classes, num_neurons_dense):\n",
        "        super(SmallCNN, self).__init__()\n",
        "        self.num_filters=num_filters\n",
        "        self.filter_size=filter_size\n",
        "        self.conv_blocks = nn.Sequential(\n",
        "            # Convolutional blocks\n",
        "            nn.Conv2d(3, num_filters, filter_size, padding=1),\n",
        "            activation(),\n",
        "            nn.MaxPool2d(2),\n",
        "\n",
        "            nn.Conv2d(num_filters, 2*num_filters, filter_size, padding=1),\n",
        "            activation(),\n",
        "            nn.MaxPool2d(2),\n",
        "\n",
        "            nn.Conv2d(2*num_filters, 4*num_filters, filter_size, padding=1),\n",
        "            activation(),\n",
        "            nn.MaxPool2d(2),\n",
        "\n",
        "            nn.Conv2d(4*num_filters, 8*num_filters, filter_size, padding=1),\n",
        "            activation(),\n",
        "            nn.MaxPool2d(2),\n",
        "\n",
        "            nn.Conv2d(8*num_filters, 16*num_filters, filter_size, padding=1),\n",
        "            activation(),\n",
        "            nn.MaxPool2d(2)\n",
        "        )\n",
        "        self.fc = nn.Sequential(\n",
        "            # Fully connected layers\n",
        "            # nn.Linear(num_filters * 4 * 4*8*8, num_neurons_dense),\n",
        "            nn.Linear(num_filters * 4 * 4*(11-filter_size)*(11-filter_size), num_neurons_dense),\n",
        "            activation(),\n",
        "            nn.Linear(num_neurons_dense, num_classes),\n",
        "            nn.Softmax(dim=1)\n",
        "        )\n",
        "\n",
        "    def forward(self, x):\n",
        "        x = self.conv_blocks(x)\n",
        "        # x = x.view(-1, 48*8*8)\n",
        "        x = x.view(-1, self.num_filters*4*4*(11-self.filter_size)*(11-self.filter_size))\n",
        "        x = self.fc(x)\n",
        "        # print(x.shape)\n",
        "        return x"
      ]
    },
    {
      "cell_type": "code",
      "execution_count": 10,
      "metadata": {
        "id": "huT1CJQXko0h"
      },
      "outputs": [],
      "source": [
        "# Define the training function\n",
        "\n",
        "def Train():\n",
        "    # Initialize WandB\n",
        "    device = torch.device(\"cuda\" if torch.cuda.is_available() else \"cpu\")\n",
        "    best_accuracy=0\n",
        "    wandb.init(config=config_defaults)\n",
        "    config = wandb.config\n",
        "    activation_map={'relu':nn.ReLU}\n",
        "\n",
        "    epochs=config['epochs']\n",
        "    num_filters=config['num_filters']\n",
        "    filter_size=config['filter_size']\n",
        "    lr=config['lr']\n",
        "    # activation=config['activation']\n",
        "    activation = activation_map[config.activation]\n",
        "    print('activation is........',activation)\n",
        "    num_classes=config['num_classes']\n",
        "    num_neurons_dense=config['num_neurons_dense']\n",
        "\n",
        "\n",
        "    transform_train = transforms.Compose([\n",
        "    transforms.Resize((256, 256)),\n",
        "    transforms.RandomHorizontalFlip(),\n",
        "    transforms.ToTensor(),\n",
        "    ])\n",
        "\n",
        "    transform_test = transforms.Compose([\n",
        "        transforms.Resize((256, 256)),\n",
        "        transforms.RandomHorizontalFlip(),\n",
        "        transforms.ToTensor(),\n",
        "    ])\n",
        "\n",
        "    # Load the data\n",
        "    train_data = ImageFolder(root='train', transform=transform_train)\n",
        "    val_data = ImageFolder(root='val', transform=transform_test)\n",
        "\n",
        "    train_loader = DataLoader(train_data, batch_size=64, shuffle=True)\n",
        "    val_loader = DataLoader(val_data, batch_size=64, shuffle=False)\n",
        "\n",
        "\n",
        "\n",
        "    # Define the model\n",
        "    # Initialize the model and optimizer\n",
        "    model = SmallCNN(num_filters=num_filters, filter_size=filter_size, activation=activation,\n",
        "                    num_classes=num_classes, num_neurons_dense=num_neurons_dense)\n",
        "    if torch.cuda.is_available():\n",
        "      model.cuda()\n",
        "\n",
        "\n",
        "    criterion = nn.CrossEntropyLoss()\n",
        "    optimizer = optim.Adam(model.parameters(), lr=lr)\n",
        "\n",
        "\n",
        "\n",
        "    # Train the model\n",
        "\n",
        "    for epoch in range(epochs):\n",
        "        print('epoch is.......',epoch)\n",
        "\n",
        "        running_loss = 0.0\n",
        "        running_corrects = 0\n",
        "        for i, data in enumerate(train_loader):\n",
        "\n",
        "\n",
        "            inputs, labels = data\n",
        "\n",
        "            inputs = inputs.to(device)\n",
        "            labels = labels.to(device)\n",
        "            # print('inputs are ..........',inputs)\n",
        "\n",
        "            # Zero the parameter gradients\n",
        "            optimizer.zero_grad()\n",
        "\n",
        "            # Forward + backward + optimize\n",
        "            outputs = model(inputs)\n",
        "            loss = criterion(outputs, labels)\n",
        "            loss.backward()\n",
        "            optimizer.step()\n",
        "\n",
        "            # Compute statistics\n",
        "            _, preds = torch.max(outputs, 1)\n",
        "            running_loss += loss.item() * inputs.size(0)\n",
        "            running_corrects += torch.sum(preds == labels.data)\n",
        "\n",
        "            # Log training loss and accuracy to W&B\n",
        "            wandb.log({'train_loss': loss.item()})\n",
        "            wandb.log({'train_accuracy': running_corrects.item() / len(train_data)})\n",
        "\n",
        "            if i % 100 == 99:\n",
        "                print('[%d, %5d] loss: %.3f' %\n",
        "                      (epoch + 1, i + 1, running_loss / ((i+1) * 128)))\n",
        "\n",
        "\n",
        "    print('training is done......,hurrah !')\n",
        "\n",
        "    # Evaluate the model on the validation set\n",
        "    running_loss = 0.0\n",
        "    running_corrects = 0\n",
        "    with torch.no_grad():\n",
        "        for i, data in enumerate(val_loader):\n",
        "            # Get the inputs and labels\n",
        "            inputs, labels = data\n",
        "            inputs = inputs.to(device)\n",
        "            labels = labels.to(device)\n",
        "            # Forward\n",
        "            outputs = model(inputs)\n",
        "            loss = criterion(outputs, labels)\n",
        "\n",
        "            # Compute statistics\n",
        "            _, preds = torch.max(outputs, 1)\n",
        "            running_loss += loss.item() * inputs.size(0)\n",
        "            running_corrects += torch.sum(preds == labels.data)\n",
        "\n",
        "            # Log test loss and accuracy to W&B\n",
        "            wandb.log({'val_loss': loss.item()})\n",
        "            wandb.log({'val_accuracy': running_corrects.item() / len(val_data)})\n",
        "\n",
        "        val_loss = running_loss / len(val_data)\n",
        "        val_acc = running_corrects.item() / len(val_data)\n",
        "        if val_acc>best_accuracy:\n",
        "          torch.save(model.state_dict(),'best_checkpoint.model')\n",
        "          best_accuracy=val_acc\n",
        "\n",
        "    # print('Epoch: {}, Test Loss: {:.3f}, Test Acc: {:.3f}'.format(epoch+1, val_loss, val_acc))\n",
        "\n",
        "    params={'learning rate':lr,'filter size':filter_size,'activation':activation,'num neurons dense':num_neurons_dense,'validation loss':val_loss,'validation accuracy':val_acc}\n",
        "    wandb.log(params)\n",
        "\n",
        "    wandb.log({'final_test_accuracy': val_acc})\n",
        "    wandb.finish()"
      ]
    },
    {
      "cell_type": "code",
      "source": [
        "model = SmallCNN(num_filters=32,filter_size=5,activation=nn.ReLU,num_classes=10,num_neurons_dense=128)\n",
        "model.load_state_dict(torch.load('best_checkpoint.model',map_location=torch.device('cpu')))\n"
      ],
      "metadata": {
        "colab": {
          "base_uri": "https://localhost:8080/"
        },
        "id": "9Fvl_3TlMc8N",
        "outputId": "492ced67-d359-40ec-b986-0f0636c8e1b6"
      },
      "execution_count": 15,
      "outputs": [
        {
          "output_type": "execute_result",
          "data": {
            "text/plain": [
              "<All keys matched successfully>"
            ]
          },
          "metadata": {},
          "execution_count": 15
        }
      ]
    },
    {
      "cell_type": "code",
      "source": [
        "transform_test = transforms.Compose([\n",
        "        transforms.Resize((256, 256)),\n",
        "        transforms.RandomHorizontalFlip(),\n",
        "        transforms.ToTensor(),\n",
        "    ])\n",
        "\n",
        "test_data = ImageFolder(root='test', transform=transform_test)\n",
        "test_loader = DataLoader(test_data, batch_size=64, shuffle=False)\n",
        "criterion = nn.CrossEntropyLoss()\n",
        "\n",
        "running_loss = 0.0\n",
        "running_corrects = 0\n",
        "wandb.init()\n",
        "with torch.no_grad():\n",
        "    for i, data in enumerate(test_loader):\n",
        "        # Get the inputs and labels\n",
        "        inputs, labels = data\n",
        "        # inputs = inputs.to(device)\n",
        "        # labels = labels.to(device)\n",
        "        # Forward\n",
        "        outputs = model(inputs)\n",
        "        loss = criterion(outputs, labels)\n",
        "\n",
        "        # Compute statistics\n",
        "        _, preds = torch.max(outputs, 1)\n",
        "        running_loss += loss.item() * inputs.size(0)\n",
        "        running_corrects += torch.sum(preds == labels.data)\n",
        "\n",
        "        # Log test loss and accuracy to W&B\n",
        "        wandb.log({'test_loss': loss.item()})\n",
        "        wandb.log({'test_accuracy': running_corrects.item() / len(test_data)})\n",
        "\n",
        "    test_loss = running_loss / len(test_data)\n",
        "    test_acc = running_corrects.item() / len(test_data)"
      ],
      "metadata": {
        "colab": {
          "base_uri": "https://localhost:8080/",
          "height": 122
        },
        "id": "xe4pJUgiN2wU",
        "outputId": "3d5473df-eb9c-499a-b0f2-24f6d0c1813c"
      },
      "execution_count": 17,
      "outputs": [
        {
          "output_type": "stream",
          "name": "stderr",
          "text": [
            "\u001b[34m\u001b[1mwandb\u001b[0m: Currently logged in as: \u001b[33mcs23z036\u001b[0m. Use \u001b[1m`wandb login --relogin`\u001b[0m to force relogin\n"
          ]
        },
        {
          "output_type": "display_data",
          "data": {
            "text/plain": [
              "<IPython.core.display.HTML object>"
            ],
            "text/html": [
              "Tracking run with wandb version 0.15.5"
            ]
          },
          "metadata": {}
        },
        {
          "output_type": "display_data",
          "data": {
            "text/plain": [
              "<IPython.core.display.HTML object>"
            ],
            "text/html": [
              "Run data is saved locally in <code>/content/drive/MyDrive/inaturalist_12K/wandb/run-20230719_174250-axxrsmso</code>"
            ]
          },
          "metadata": {}
        },
        {
          "output_type": "display_data",
          "data": {
            "text/plain": [
              "<IPython.core.display.HTML object>"
            ],
            "text/html": [
              "Syncing run <strong><a href='https://wandb.ai/cs23z036/uncategorized/runs/axxrsmso' target=\"_blank\">vital-sound-147</a></strong> to <a href='https://wandb.ai/cs23z036/uncategorized' target=\"_blank\">Weights & Biases</a> (<a href='https://wandb.me/run' target=\"_blank\">docs</a>)<br/>"
            ]
          },
          "metadata": {}
        },
        {
          "output_type": "display_data",
          "data": {
            "text/plain": [
              "<IPython.core.display.HTML object>"
            ],
            "text/html": [
              " View project at <a href='https://wandb.ai/cs23z036/uncategorized' target=\"_blank\">https://wandb.ai/cs23z036/uncategorized</a>"
            ]
          },
          "metadata": {}
        },
        {
          "output_type": "display_data",
          "data": {
            "text/plain": [
              "<IPython.core.display.HTML object>"
            ],
            "text/html": [
              " View run at <a href='https://wandb.ai/cs23z036/uncategorized/runs/axxrsmso' target=\"_blank\">https://wandb.ai/cs23z036/uncategorized/runs/axxrsmso</a>"
            ]
          },
          "metadata": {}
        }
      ]
    },
    {
      "cell_type": "code",
      "execution_count": null,
      "metadata": {
        "colab": {
          "base_uri": "https://localhost:8080/"
        },
        "id": "9IC3wV1xTwgS",
        "outputId": "5845e0a2-158d-4a48-a36b-cb574c7b02b5"
      },
      "outputs": [
        {
          "output_type": "stream",
          "name": "stdout",
          "text": [
            "Create sweep with ID: 2bj6kli5\n",
            "Sweep URL: https://wandb.ai/cs23z036/Assignment2_ReLoaded_18thJuly/sweeps/2bj6kli5\n"
          ]
        }
      ],
      "source": [
        "sweep_id = wandb.sweep(sweep_config,project='Assignment2_ReLoaded_18thJuly')\n"
      ]
    },
    {
      "cell_type": "code",
      "execution_count": null,
      "metadata": {
        "colab": {
          "base_uri": "https://localhost:8080/",
          "height": 1000,
          "referenced_widgets": [
            "9021a8115312452993dfbae063e2f445",
            "eee1e75c8b014870962c1ba06aa8042c",
            "c730566e20924ae6984de5b10aeb3309",
            "348c72e468e246d5bebe1af5ab1212bd",
            "93b0122d2914489ab74470744938fb01",
            "447c7082d70e422081910d8d6e20db75",
            "2c3512b826c04f8095110192a0adbf44",
            "5224def56e1f4252b6395f648f6b8c89",
            "cf462a19fc154e9d83264920678cfd57",
            "311e047abcd94730b76780e882146956",
            "f7857982dae14afe97b439cdb2b4013a",
            "4833cf06d11442668aa543855ea39896",
            "75761198fb03473983cb3341ebb2303c",
            "f521b2ade8fd4f3b9f576407dd6e1542",
            "34d1e4be31f640ac8c4faa11cdbbc430",
            "b05e46cd97cb4ab0be7368961b22363e",
            "515bf96074814c4dbdae8ddd724043d4",
            "7d34e416f2514306931932883397da56",
            "d48979984ec24655841e415ef1286046",
            "2f9c93eda8344d6a909f5d476a246508",
            "4ad8093f00254137b77c9128a31b31e6",
            "823d3a5d6fa34712ae43bcf2032b73a3",
            "d5e0d002530b4a7eba37ef91ff03e5c7",
            "f0011fba75a7475780d66f42b87d737c",
            "3a4a0fe18dd04b16b8f4d8205f48c7d6",
            "16a6e329bb2747658a07304116b25985",
            "566fc9fe1c2a40cdb51e5220436ead65",
            "2042f041cf894767880ecb9f9613ee1e",
            "7fe851a2f5f043abaa3f62aad551554b",
            "c3f6ead7452a41bbb5c87d0ee8022c7c",
            "11294c22ca0b42f692a157fa47c493da",
            "1a797dc84263472487b91cd1a2bdc80b"
          ]
        },
        "id": "PAxLp-n6drMa",
        "outputId": "e6bceb40-92f6-4028-b825-01ad0b643752"
      },
      "outputs": [
        {
          "output_type": "stream",
          "name": "stderr",
          "text": [
            "\u001b[34m\u001b[1mwandb\u001b[0m: Agent Starting Run: fi18g57q with config:\n",
            "\u001b[34m\u001b[1mwandb\u001b[0m: \tactivation: relu\n",
            "\u001b[34m\u001b[1mwandb\u001b[0m: \tepochs: 5\n",
            "\u001b[34m\u001b[1mwandb\u001b[0m: \tfilter_size: 3\n",
            "\u001b[34m\u001b[1mwandb\u001b[0m: \tlr: 0.001\n",
            "\u001b[34m\u001b[1mwandb\u001b[0m: \tnum_classes: 10\n",
            "\u001b[34m\u001b[1mwandb\u001b[0m: \tnum_filters: 16\n",
            "\u001b[34m\u001b[1mwandb\u001b[0m: \tnum_neurons_dense: 128\n",
            "\u001b[34m\u001b[1mwandb\u001b[0m: Currently logged in as: \u001b[33mcs23z036\u001b[0m. Use \u001b[1m`wandb login --relogin`\u001b[0m to force relogin\n"
          ]
        },
        {
          "output_type": "display_data",
          "data": {
            "text/plain": [
              "<IPython.core.display.HTML object>"
            ],
            "text/html": [
              "Tracking run with wandb version 0.15.5"
            ]
          },
          "metadata": {}
        },
        {
          "output_type": "display_data",
          "data": {
            "text/plain": [
              "<IPython.core.display.HTML object>"
            ],
            "text/html": [
              "Run data is saved locally in <code>/content/drive/MyDrive/inaturalist_12K/wandb/run-20230719_092020-fi18g57q</code>"
            ]
          },
          "metadata": {}
        },
        {
          "output_type": "display_data",
          "data": {
            "text/plain": [
              "<IPython.core.display.HTML object>"
            ],
            "text/html": [
              "Syncing run <strong><a href='https://wandb.ai/cs23z036/Assignment2_ReLoaded_18thJuly/runs/fi18g57q' target=\"_blank\">floral-sweep-1</a></strong> to <a href='https://wandb.ai/cs23z036/Assignment2_ReLoaded_18thJuly' target=\"_blank\">Weights & Biases</a> (<a href='https://wandb.me/run' target=\"_blank\">docs</a>)<br/>Sweep page: <a href='https://wandb.ai/cs23z036/Assignment2_ReLoaded_18thJuly/sweeps/2bj6kli5' target=\"_blank\">https://wandb.ai/cs23z036/Assignment2_ReLoaded_18thJuly/sweeps/2bj6kli5</a>"
            ]
          },
          "metadata": {}
        },
        {
          "output_type": "display_data",
          "data": {
            "text/plain": [
              "<IPython.core.display.HTML object>"
            ],
            "text/html": [
              " View project at <a href='https://wandb.ai/cs23z036/Assignment2_ReLoaded_18thJuly' target=\"_blank\">https://wandb.ai/cs23z036/Assignment2_ReLoaded_18thJuly</a>"
            ]
          },
          "metadata": {}
        },
        {
          "output_type": "display_data",
          "data": {
            "text/plain": [
              "<IPython.core.display.HTML object>"
            ],
            "text/html": [
              " View sweep at <a href='https://wandb.ai/cs23z036/Assignment2_ReLoaded_18thJuly/sweeps/2bj6kli5' target=\"_blank\">https://wandb.ai/cs23z036/Assignment2_ReLoaded_18thJuly/sweeps/2bj6kli5</a>"
            ]
          },
          "metadata": {}
        },
        {
          "output_type": "display_data",
          "data": {
            "text/plain": [
              "<IPython.core.display.HTML object>"
            ],
            "text/html": [
              " View run at <a href='https://wandb.ai/cs23z036/Assignment2_ReLoaded_18thJuly/runs/fi18g57q' target=\"_blank\">https://wandb.ai/cs23z036/Assignment2_ReLoaded_18thJuly/runs/fi18g57q</a>"
            ]
          },
          "metadata": {}
        },
        {
          "output_type": "stream",
          "name": "stdout",
          "text": [
            "activation is........ <class 'torch.nn.modules.activation.ReLU'>\n",
            "epoch is....... 0\n",
            "[1,   100] loss: 1.151\n",
            "epoch is....... 1\n",
            "[2,   100] loss: 1.146\n",
            "epoch is....... 2\n",
            "[3,   100] loss: 1.135\n",
            "epoch is....... 3\n",
            "[4,   100] loss: 1.131\n",
            "epoch is....... 4\n",
            "[5,   100] loss: 1.123\n",
            "training is done......,hurrah !\n"
          ]
        },
        {
          "output_type": "display_data",
          "data": {
            "text/plain": [
              "<IPython.core.display.HTML object>"
            ],
            "text/html": [
              "Waiting for W&B process to finish... <strong style=\"color:green\">(success).</strong>"
            ]
          },
          "metadata": {}
        },
        {
          "output_type": "display_data",
          "data": {
            "text/plain": [
              "VBox(children=(Label(value='0.001 MB of 0.010 MB uploaded (0.000 MB deduped)\\r'), FloatProgress(value=0.115739…"
            ],
            "application/vnd.jupyter.widget-view+json": {
              "version_major": 2,
              "version_minor": 0,
              "model_id": "9021a8115312452993dfbae063e2f445"
            }
          },
          "metadata": {}
        },
        {
          "output_type": "display_data",
          "data": {
            "text/plain": [
              "<IPython.core.display.HTML object>"
            ],
            "text/html": [
              "<style>\n",
              "    table.wandb td:nth-child(1) { padding: 0 10px; text-align: left ; width: auto;} td:nth-child(2) {text-align: left ; width: 100%}\n",
              "    .wandb-row { display: flex; flex-direction: row; flex-wrap: wrap; justify-content: flex-start; width: 100% }\n",
              "    .wandb-col { display: flex; flex-direction: column; flex-basis: 100%; flex: 1; padding: 10px; }\n",
              "    </style>\n",
              "<div class=\"wandb-row\"><div class=\"wandb-col\"><h3>Run history:</h3><br/><table class=\"wandb\"><tr><td>filter size</td><td>▁</td></tr><tr><td>final_test_accuracy</td><td>▁</td></tr><tr><td>learning rate</td><td>▁</td></tr><tr><td>num neurons dense</td><td>▁</td></tr><tr><td>train_accuracy</td><td>▁▁▂▂▃▃▄▅▁▂▂▃▃▄▅▅▁▂▃▄▅▅▆▇▁▂▃▄▅▆▇▇▁▂▃▄▅▆▇█</td></tr><tr><td>train_loss</td><td>▇▇▇▇▇▇▇▆▇▄▇▆█▅▇▇▆▆▃▄▃▇▄▃▅▆▆▃▄▅▆▂▆▄▁▅▃▁▄▁</td></tr><tr><td>val_accuracy</td><td>▁▁▁▁▁▁▁▂▂▂▂▃▃▃▄▅▅▅▅▆▆▆▆▆▆▆▇▇████</td></tr><tr><td>val_loss</td><td>▇▇▇▇▆▇▆▄▂▃▅▄▄▂▁▁▆▄▅▄▅▅▇██▅▂▂▄▆▆▆</td></tr><tr><td>validation accuracy</td><td>▁</td></tr><tr><td>validation loss</td><td>▁</td></tr></table><br/></div><div class=\"wandb-col\"><h3>Run summary:</h3><br/><table class=\"wandb\"><tr><td>activation</td><td>torch.nn.modules.act...</td></tr><tr><td>filter size</td><td>3</td></tr><tr><td>final_test_accuracy</td><td>0.20336</td></tr><tr><td>learning rate</td><td>0.001</td></tr><tr><td>num neurons dense</td><td>128</td></tr><tr><td>train_accuracy</td><td>0.19561</td></tr><tr><td>train_loss</td><td>2.28248</td></tr><tr><td>val_accuracy</td><td>0.20336</td></tr><tr><td>val_loss</td><td>2.28621</td></tr><tr><td>validation accuracy</td><td>0.20336</td></tr><tr><td>validation loss</td><td>2.23796</td></tr></table><br/></div></div>"
            ]
          },
          "metadata": {}
        },
        {
          "output_type": "display_data",
          "data": {
            "text/plain": [
              "<IPython.core.display.HTML object>"
            ],
            "text/html": [
              " View run <strong style=\"color:#cdcd00\">floral-sweep-1</strong> at: <a href='https://wandb.ai/cs23z036/Assignment2_ReLoaded_18thJuly/runs/fi18g57q' target=\"_blank\">https://wandb.ai/cs23z036/Assignment2_ReLoaded_18thJuly/runs/fi18g57q</a><br/>Synced 5 W&B file(s), 0 media file(s), 0 artifact file(s) and 0 other file(s)"
            ]
          },
          "metadata": {}
        },
        {
          "output_type": "display_data",
          "data": {
            "text/plain": [
              "<IPython.core.display.HTML object>"
            ],
            "text/html": [
              "Find logs at: <code>./wandb/run-20230719_092020-fi18g57q/logs</code>"
            ]
          },
          "metadata": {}
        },
        {
          "output_type": "stream",
          "name": "stderr",
          "text": [
            "\u001b[34m\u001b[1mwandb\u001b[0m: Agent Starting Run: d2devm9h with config:\n",
            "\u001b[34m\u001b[1mwandb\u001b[0m: \tactivation: relu\n",
            "\u001b[34m\u001b[1mwandb\u001b[0m: \tepochs: 5\n",
            "\u001b[34m\u001b[1mwandb\u001b[0m: \tfilter_size: 3\n",
            "\u001b[34m\u001b[1mwandb\u001b[0m: \tlr: 0.001\n",
            "\u001b[34m\u001b[1mwandb\u001b[0m: \tnum_classes: 10\n",
            "\u001b[34m\u001b[1mwandb\u001b[0m: \tnum_filters: 32\n",
            "\u001b[34m\u001b[1mwandb\u001b[0m: \tnum_neurons_dense: 128\n"
          ]
        },
        {
          "output_type": "display_data",
          "data": {
            "text/plain": [
              "<IPython.core.display.HTML object>"
            ],
            "text/html": [
              "Tracking run with wandb version 0.15.5"
            ]
          },
          "metadata": {}
        },
        {
          "output_type": "display_data",
          "data": {
            "text/plain": [
              "<IPython.core.display.HTML object>"
            ],
            "text/html": [
              "Run data is saved locally in <code>/content/drive/MyDrive/inaturalist_12K/wandb/run-20230719_093641-d2devm9h</code>"
            ]
          },
          "metadata": {}
        },
        {
          "output_type": "display_data",
          "data": {
            "text/plain": [
              "<IPython.core.display.HTML object>"
            ],
            "text/html": [
              "Syncing run <strong><a href='https://wandb.ai/cs23z036/Assignment2_ReLoaded_18thJuly/runs/d2devm9h' target=\"_blank\">leafy-sweep-2</a></strong> to <a href='https://wandb.ai/cs23z036/Assignment2_ReLoaded_18thJuly' target=\"_blank\">Weights & Biases</a> (<a href='https://wandb.me/run' target=\"_blank\">docs</a>)<br/>Sweep page: <a href='https://wandb.ai/cs23z036/Assignment2_ReLoaded_18thJuly/sweeps/2bj6kli5' target=\"_blank\">https://wandb.ai/cs23z036/Assignment2_ReLoaded_18thJuly/sweeps/2bj6kli5</a>"
            ]
          },
          "metadata": {}
        },
        {
          "output_type": "display_data",
          "data": {
            "text/plain": [
              "<IPython.core.display.HTML object>"
            ],
            "text/html": [
              " View project at <a href='https://wandb.ai/cs23z036/Assignment2_ReLoaded_18thJuly' target=\"_blank\">https://wandb.ai/cs23z036/Assignment2_ReLoaded_18thJuly</a>"
            ]
          },
          "metadata": {}
        },
        {
          "output_type": "display_data",
          "data": {
            "text/plain": [
              "<IPython.core.display.HTML object>"
            ],
            "text/html": [
              " View sweep at <a href='https://wandb.ai/cs23z036/Assignment2_ReLoaded_18thJuly/sweeps/2bj6kli5' target=\"_blank\">https://wandb.ai/cs23z036/Assignment2_ReLoaded_18thJuly/sweeps/2bj6kli5</a>"
            ]
          },
          "metadata": {}
        },
        {
          "output_type": "display_data",
          "data": {
            "text/plain": [
              "<IPython.core.display.HTML object>"
            ],
            "text/html": [
              " View run at <a href='https://wandb.ai/cs23z036/Assignment2_ReLoaded_18thJuly/runs/d2devm9h' target=\"_blank\">https://wandb.ai/cs23z036/Assignment2_ReLoaded_18thJuly/runs/d2devm9h</a>"
            ]
          },
          "metadata": {}
        },
        {
          "output_type": "stream",
          "name": "stdout",
          "text": [
            "activation is........ <class 'torch.nn.modules.activation.ReLU'>\n",
            "epoch is....... 0\n",
            "[1,   100] loss: 1.151\n",
            "epoch is....... 1\n",
            "[2,   100] loss: 1.151\n",
            "epoch is....... 2\n",
            "[3,   100] loss: 1.150\n",
            "epoch is....... 3\n",
            "[4,   100] loss: 1.138\n",
            "epoch is....... 4\n",
            "[5,   100] loss: 1.128\n",
            "training is done......,hurrah !\n"
          ]
        },
        {
          "output_type": "display_data",
          "data": {
            "text/plain": [
              "<IPython.core.display.HTML object>"
            ],
            "text/html": [
              "Waiting for W&B process to finish... <strong style=\"color:green\">(success).</strong>"
            ]
          },
          "metadata": {}
        },
        {
          "output_type": "display_data",
          "data": {
            "text/plain": [
              "VBox(children=(Label(value='0.001 MB of 0.010 MB uploaded (0.000 MB deduped)\\r'), FloatProgress(value=0.1125, …"
            ],
            "application/vnd.jupyter.widget-view+json": {
              "version_major": 2,
              "version_minor": 0,
              "model_id": "cf462a19fc154e9d83264920678cfd57"
            }
          },
          "metadata": {}
        },
        {
          "output_type": "display_data",
          "data": {
            "text/plain": [
              "<IPython.core.display.HTML object>"
            ],
            "text/html": [
              "<style>\n",
              "    table.wandb td:nth-child(1) { padding: 0 10px; text-align: left ; width: auto;} td:nth-child(2) {text-align: left ; width: 100%}\n",
              "    .wandb-row { display: flex; flex-direction: row; flex-wrap: wrap; justify-content: flex-start; width: 100% }\n",
              "    .wandb-col { display: flex; flex-direction: column; flex-basis: 100%; flex: 1; padding: 10px; }\n",
              "    </style>\n",
              "<div class=\"wandb-row\"><div class=\"wandb-col\"><h3>Run history:</h3><br/><table class=\"wandb\"><tr><td>filter size</td><td>▁</td></tr><tr><td>final_test_accuracy</td><td>▁</td></tr><tr><td>learning rate</td><td>▁</td></tr><tr><td>num neurons dense</td><td>▁</td></tr><tr><td>train_accuracy</td><td>▁▂▂▂▃▃▄▄▁▂▂▃▃▄▄▅▁▂▂▃▃▄▅▅▁▂▃▃▄▅▆▇▁▂▃▄▅▆▇█</td></tr><tr><td>train_loss</td><td>███████████████████▇█▇▅▆▅▆▇▆▅▃▇▃▂▁▅▆▄▁▄▅</td></tr><tr><td>val_accuracy</td><td>▁▁▁▂▃▄▅▅▅▆▆▆▆▆▆▆▆▆▆▆▆▆▆▆▆▇▇█████</td></tr><tr><td>val_loss</td><td>███▃▁▂▄█▇▇█▇▇██▇▇▆▇██████▆▄▅▇███</td></tr><tr><td>validation accuracy</td><td>▁</td></tr><tr><td>validation loss</td><td>▁</td></tr></table><br/></div><div class=\"wandb-col\"><h3>Run summary:</h3><br/><table class=\"wandb\"><tr><td>activation</td><td>torch.nn.modules.act...</td></tr><tr><td>filter size</td><td>3</td></tr><tr><td>final_test_accuracy</td><td>0.16881</td></tr><tr><td>learning rate</td><td>0.001</td></tr><tr><td>num neurons dense</td><td>128</td></tr><tr><td>train_accuracy</td><td>0.18513</td></tr><tr><td>train_loss</td><td>2.22167</td></tr><tr><td>val_accuracy</td><td>0.16881</td></tr><tr><td>val_loss</td><td>2.3997</td></tr><tr><td>validation accuracy</td><td>0.16881</td></tr><tr><td>validation loss</td><td>2.28239</td></tr></table><br/></div></div>"
            ]
          },
          "metadata": {}
        },
        {
          "output_type": "display_data",
          "data": {
            "text/plain": [
              "<IPython.core.display.HTML object>"
            ],
            "text/html": [
              " View run <strong style=\"color:#cdcd00\">leafy-sweep-2</strong> at: <a href='https://wandb.ai/cs23z036/Assignment2_ReLoaded_18thJuly/runs/d2devm9h' target=\"_blank\">https://wandb.ai/cs23z036/Assignment2_ReLoaded_18thJuly/runs/d2devm9h</a><br/>Synced 5 W&B file(s), 0 media file(s), 0 artifact file(s) and 0 other file(s)"
            ]
          },
          "metadata": {}
        },
        {
          "output_type": "display_data",
          "data": {
            "text/plain": [
              "<IPython.core.display.HTML object>"
            ],
            "text/html": [
              "Find logs at: <code>./wandb/run-20230719_093641-d2devm9h/logs</code>"
            ]
          },
          "metadata": {}
        },
        {
          "output_type": "stream",
          "name": "stderr",
          "text": [
            "\u001b[34m\u001b[1mwandb\u001b[0m: Agent Starting Run: 6tj4gxqx with config:\n",
            "\u001b[34m\u001b[1mwandb\u001b[0m: \tactivation: relu\n",
            "\u001b[34m\u001b[1mwandb\u001b[0m: \tepochs: 5\n",
            "\u001b[34m\u001b[1mwandb\u001b[0m: \tfilter_size: 5\n",
            "\u001b[34m\u001b[1mwandb\u001b[0m: \tlr: 0.001\n",
            "\u001b[34m\u001b[1mwandb\u001b[0m: \tnum_classes: 10\n",
            "\u001b[34m\u001b[1mwandb\u001b[0m: \tnum_filters: 16\n",
            "\u001b[34m\u001b[1mwandb\u001b[0m: \tnum_neurons_dense: 128\n"
          ]
        },
        {
          "output_type": "display_data",
          "data": {
            "text/plain": [
              "<IPython.core.display.HTML object>"
            ],
            "text/html": [
              "Tracking run with wandb version 0.15.5"
            ]
          },
          "metadata": {}
        },
        {
          "output_type": "display_data",
          "data": {
            "text/plain": [
              "<IPython.core.display.HTML object>"
            ],
            "text/html": [
              "Run data is saved locally in <code>/content/drive/MyDrive/inaturalist_12K/wandb/run-20230719_095335-6tj4gxqx</code>"
            ]
          },
          "metadata": {}
        },
        {
          "output_type": "display_data",
          "data": {
            "text/plain": [
              "<IPython.core.display.HTML object>"
            ],
            "text/html": [
              "Syncing run <strong><a href='https://wandb.ai/cs23z036/Assignment2_ReLoaded_18thJuly/runs/6tj4gxqx' target=\"_blank\">jolly-sweep-3</a></strong> to <a href='https://wandb.ai/cs23z036/Assignment2_ReLoaded_18thJuly' target=\"_blank\">Weights & Biases</a> (<a href='https://wandb.me/run' target=\"_blank\">docs</a>)<br/>Sweep page: <a href='https://wandb.ai/cs23z036/Assignment2_ReLoaded_18thJuly/sweeps/2bj6kli5' target=\"_blank\">https://wandb.ai/cs23z036/Assignment2_ReLoaded_18thJuly/sweeps/2bj6kli5</a>"
            ]
          },
          "metadata": {}
        },
        {
          "output_type": "display_data",
          "data": {
            "text/plain": [
              "<IPython.core.display.HTML object>"
            ],
            "text/html": [
              " View project at <a href='https://wandb.ai/cs23z036/Assignment2_ReLoaded_18thJuly' target=\"_blank\">https://wandb.ai/cs23z036/Assignment2_ReLoaded_18thJuly</a>"
            ]
          },
          "metadata": {}
        },
        {
          "output_type": "display_data",
          "data": {
            "text/plain": [
              "<IPython.core.display.HTML object>"
            ],
            "text/html": [
              " View sweep at <a href='https://wandb.ai/cs23z036/Assignment2_ReLoaded_18thJuly/sweeps/2bj6kli5' target=\"_blank\">https://wandb.ai/cs23z036/Assignment2_ReLoaded_18thJuly/sweeps/2bj6kli5</a>"
            ]
          },
          "metadata": {}
        },
        {
          "output_type": "display_data",
          "data": {
            "text/plain": [
              "<IPython.core.display.HTML object>"
            ],
            "text/html": [
              " View run at <a href='https://wandb.ai/cs23z036/Assignment2_ReLoaded_18thJuly/runs/6tj4gxqx' target=\"_blank\">https://wandb.ai/cs23z036/Assignment2_ReLoaded_18thJuly/runs/6tj4gxqx</a>"
            ]
          },
          "metadata": {}
        },
        {
          "output_type": "stream",
          "name": "stdout",
          "text": [
            "activation is........ <class 'torch.nn.modules.activation.ReLU'>\n",
            "epoch is....... 0\n",
            "[1,   100] loss: 1.151\n",
            "epoch is....... 1\n",
            "[2,   100] loss: 1.141\n",
            "epoch is....... 2\n",
            "[3,   100] loss: 1.126\n",
            "epoch is....... 3\n",
            "[4,   100] loss: 1.129\n",
            "epoch is....... 4\n",
            "[5,   100] loss: 1.122\n",
            "training is done......,hurrah !\n"
          ]
        },
        {
          "output_type": "display_data",
          "data": {
            "text/plain": [
              "<IPython.core.display.HTML object>"
            ],
            "text/html": [
              "Waiting for W&B process to finish... <strong style=\"color:green\">(success).</strong>"
            ]
          },
          "metadata": {}
        },
        {
          "output_type": "display_data",
          "data": {
            "text/plain": [
              "VBox(children=(Label(value='0.001 MB of 0.001 MB uploaded (0.000 MB deduped)\\r'), FloatProgress(value=1.0, max…"
            ],
            "application/vnd.jupyter.widget-view+json": {
              "version_major": 2,
              "version_minor": 0,
              "model_id": "515bf96074814c4dbdae8ddd724043d4"
            }
          },
          "metadata": {}
        },
        {
          "output_type": "display_data",
          "data": {
            "text/plain": [
              "<IPython.core.display.HTML object>"
            ],
            "text/html": [
              "<style>\n",
              "    table.wandb td:nth-child(1) { padding: 0 10px; text-align: left ; width: auto;} td:nth-child(2) {text-align: left ; width: 100%}\n",
              "    .wandb-row { display: flex; flex-direction: row; flex-wrap: wrap; justify-content: flex-start; width: 100% }\n",
              "    .wandb-col { display: flex; flex-direction: column; flex-basis: 100%; flex: 1; padding: 10px; }\n",
              "    </style>\n",
              "<div class=\"wandb-row\"><div class=\"wandb-col\"><h3>Run history:</h3><br/><table class=\"wandb\"><tr><td>filter size</td><td>▁</td></tr><tr><td>final_test_accuracy</td><td>▁</td></tr><tr><td>learning rate</td><td>▁</td></tr><tr><td>num neurons dense</td><td>▁</td></tr><tr><td>train_accuracy</td><td>▁▁▂▂▃▃▄▄▁▂▂▃▄▄▅▆▁▂▃▄▅▆▇▇▁▂▃▄▅▆▇█▂▂▃▄▅▆▇█</td></tr><tr><td>train_loss</td><td>███████▇█▆▇▆▇▆▅▅▃▇▂▅▄▆▂▆▆█▅▅▄▇▃▅▅▄▄▆▄▂▃▁</td></tr><tr><td>val_accuracy</td><td>▁▁▁▂▃▄▄▄▄▄▄▄▅▅▅▆▆▆▆▇▇▇▇▇▇▇▇█████</td></tr><tr><td>val_loss</td><td>▇▇▇▂▂▁▃███▇▇▇▃▃▂▄▄▅▇▇▇▆▅▅▅▁▁▅▅▆▆</td></tr><tr><td>validation accuracy</td><td>▁</td></tr><tr><td>validation loss</td><td>▁</td></tr></table><br/></div><div class=\"wandb-col\"><h3>Run summary:</h3><br/><table class=\"wandb\"><tr><td>activation</td><td>torch.nn.modules.act...</td></tr><tr><td>filter size</td><td>5</td></tr><tr><td>final_test_accuracy</td><td>0.19102</td></tr><tr><td>learning rate</td><td>0.001</td></tr><tr><td>num neurons dense</td><td>128</td></tr><tr><td>train_accuracy</td><td>0.19771</td></tr><tr><td>train_loss</td><td>2.25463</td></tr><tr><td>val_accuracy</td><td>0.19102</td></tr><tr><td>val_loss</td><td>2.27377</td></tr><tr><td>validation accuracy</td><td>0.19102</td></tr><tr><td>validation loss</td><td>2.24543</td></tr></table><br/></div></div>"
            ]
          },
          "metadata": {}
        },
        {
          "output_type": "display_data",
          "data": {
            "text/plain": [
              "<IPython.core.display.HTML object>"
            ],
            "text/html": [
              " View run <strong style=\"color:#cdcd00\">jolly-sweep-3</strong> at: <a href='https://wandb.ai/cs23z036/Assignment2_ReLoaded_18thJuly/runs/6tj4gxqx' target=\"_blank\">https://wandb.ai/cs23z036/Assignment2_ReLoaded_18thJuly/runs/6tj4gxqx</a><br/>Synced 5 W&B file(s), 0 media file(s), 0 artifact file(s) and 0 other file(s)"
            ]
          },
          "metadata": {}
        },
        {
          "output_type": "display_data",
          "data": {
            "text/plain": [
              "<IPython.core.display.HTML object>"
            ],
            "text/html": [
              "Find logs at: <code>./wandb/run-20230719_095335-6tj4gxqx/logs</code>"
            ]
          },
          "metadata": {}
        },
        {
          "output_type": "stream",
          "name": "stderr",
          "text": [
            "\u001b[34m\u001b[1mwandb\u001b[0m: Agent Starting Run: kntk3com with config:\n",
            "\u001b[34m\u001b[1mwandb\u001b[0m: \tactivation: relu\n",
            "\u001b[34m\u001b[1mwandb\u001b[0m: \tepochs: 5\n",
            "\u001b[34m\u001b[1mwandb\u001b[0m: \tfilter_size: 5\n",
            "\u001b[34m\u001b[1mwandb\u001b[0m: \tlr: 0.001\n",
            "\u001b[34m\u001b[1mwandb\u001b[0m: \tnum_classes: 10\n",
            "\u001b[34m\u001b[1mwandb\u001b[0m: \tnum_filters: 32\n",
            "\u001b[34m\u001b[1mwandb\u001b[0m: \tnum_neurons_dense: 128\n"
          ]
        },
        {
          "output_type": "display_data",
          "data": {
            "text/plain": [
              "<IPython.core.display.HTML object>"
            ],
            "text/html": [
              "Tracking run with wandb version 0.15.5"
            ]
          },
          "metadata": {}
        },
        {
          "output_type": "display_data",
          "data": {
            "text/plain": [
              "<IPython.core.display.HTML object>"
            ],
            "text/html": [
              "Run data is saved locally in <code>/content/drive/MyDrive/inaturalist_12K/wandb/run-20230719_101022-kntk3com</code>"
            ]
          },
          "metadata": {}
        },
        {
          "output_type": "display_data",
          "data": {
            "text/plain": [
              "<IPython.core.display.HTML object>"
            ],
            "text/html": [
              "Syncing run <strong><a href='https://wandb.ai/cs23z036/Assignment2_ReLoaded_18thJuly/runs/kntk3com' target=\"_blank\">wobbly-sweep-4</a></strong> to <a href='https://wandb.ai/cs23z036/Assignment2_ReLoaded_18thJuly' target=\"_blank\">Weights & Biases</a> (<a href='https://wandb.me/run' target=\"_blank\">docs</a>)<br/>Sweep page: <a href='https://wandb.ai/cs23z036/Assignment2_ReLoaded_18thJuly/sweeps/2bj6kli5' target=\"_blank\">https://wandb.ai/cs23z036/Assignment2_ReLoaded_18thJuly/sweeps/2bj6kli5</a>"
            ]
          },
          "metadata": {}
        },
        {
          "output_type": "display_data",
          "data": {
            "text/plain": [
              "<IPython.core.display.HTML object>"
            ],
            "text/html": [
              " View project at <a href='https://wandb.ai/cs23z036/Assignment2_ReLoaded_18thJuly' target=\"_blank\">https://wandb.ai/cs23z036/Assignment2_ReLoaded_18thJuly</a>"
            ]
          },
          "metadata": {}
        },
        {
          "output_type": "display_data",
          "data": {
            "text/plain": [
              "<IPython.core.display.HTML object>"
            ],
            "text/html": [
              " View sweep at <a href='https://wandb.ai/cs23z036/Assignment2_ReLoaded_18thJuly/sweeps/2bj6kli5' target=\"_blank\">https://wandb.ai/cs23z036/Assignment2_ReLoaded_18thJuly/sweeps/2bj6kli5</a>"
            ]
          },
          "metadata": {}
        },
        {
          "output_type": "display_data",
          "data": {
            "text/plain": [
              "<IPython.core.display.HTML object>"
            ],
            "text/html": [
              " View run at <a href='https://wandb.ai/cs23z036/Assignment2_ReLoaded_18thJuly/runs/kntk3com' target=\"_blank\">https://wandb.ai/cs23z036/Assignment2_ReLoaded_18thJuly/runs/kntk3com</a>"
            ]
          },
          "metadata": {}
        },
        {
          "output_type": "stream",
          "name": "stdout",
          "text": [
            "activation is........ <class 'torch.nn.modules.activation.ReLU'>\n",
            "epoch is....... 0\n",
            "[1,   100] loss: 1.151\n",
            "epoch is....... 1\n",
            "[2,   100] loss: 1.151\n",
            "epoch is....... 2\n",
            "[3,   100] loss: 1.151\n",
            "epoch is....... 3\n",
            "[4,   100] loss: 1.151\n",
            "epoch is....... 4\n",
            "[5,   100] loss: 1.146\n",
            "training is done......,hurrah !\n"
          ]
        },
        {
          "output_type": "display_data",
          "data": {
            "text/plain": [
              "<IPython.core.display.HTML object>"
            ],
            "text/html": [
              "Waiting for W&B process to finish... <strong style=\"color:green\">(success).</strong>"
            ]
          },
          "metadata": {}
        },
        {
          "output_type": "display_data",
          "data": {
            "text/plain": [
              "VBox(children=(Label(value='0.001 MB of 0.010 MB uploaded (0.000 MB deduped)\\r'), FloatProgress(value=0.115781…"
            ],
            "application/vnd.jupyter.widget-view+json": {
              "version_major": 2,
              "version_minor": 0,
              "model_id": "3a4a0fe18dd04b16b8f4d8205f48c7d6"
            }
          },
          "metadata": {}
        },
        {
          "output_type": "display_data",
          "data": {
            "text/plain": [
              "<IPython.core.display.HTML object>"
            ],
            "text/html": [
              "<style>\n",
              "    table.wandb td:nth-child(1) { padding: 0 10px; text-align: left ; width: auto;} td:nth-child(2) {text-align: left ; width: 100%}\n",
              "    .wandb-row { display: flex; flex-direction: row; flex-wrap: wrap; justify-content: flex-start; width: 100% }\n",
              "    .wandb-col { display: flex; flex-direction: column; flex-basis: 100%; flex: 1; padding: 10px; }\n",
              "    </style>\n",
              "<div class=\"wandb-row\"><div class=\"wandb-col\"><h3>Run history:</h3><br/><table class=\"wandb\"><tr><td>filter size</td><td>▁</td></tr><tr><td>final_test_accuracy</td><td>▁</td></tr><tr><td>learning rate</td><td>▁</td></tr><tr><td>num neurons dense</td><td>▁</td></tr><tr><td>train_accuracy</td><td>▁▂▂▃▄▅▅▆▁▂▃▃▄▅▆▇▁▂▃▃▄▅▆▆▁▂▃▄▅▅▆▇▁▂▃▄▅▆▇█</td></tr><tr><td>train_loss</td><td>▆▅▅▅▅▅▅▅▅▅▆▆▅▅▅▅▅▄▅▅▅▅▅▅▅▅▅▅▅▅▄▆▄▅▂▅▄▅▁█</td></tr><tr><td>val_accuracy</td><td>▁▁▁▁▁▁▁▂▃▄▄▄▄▅▆▇▇▇▇▇████████████</td></tr><tr><td>val_loss</td><td>██████▇▅▄▅█▇▇▂▁▁▇██▇▆▇██████████</td></tr><tr><td>validation accuracy</td><td>▁</td></tr><tr><td>validation loss</td><td>▁</td></tr></table><br/></div><div class=\"wandb-col\"><h3>Run summary:</h3><br/><table class=\"wandb\"><tr><td>activation</td><td>torch.nn.modules.act...</td></tr><tr><td>filter size</td><td>5</td></tr><tr><td>final_test_accuracy</td><td>0.15597</td></tr><tr><td>learning rate</td><td>0.001</td></tr><tr><td>num neurons dense</td><td>128</td></tr><tr><td>train_accuracy</td><td>0.13222</td></tr><tr><td>train_loss</td><td>2.27272</td></tr><tr><td>val_accuracy</td><td>0.15597</td></tr><tr><td>val_loss</td><td>2.41986</td></tr><tr><td>validation accuracy</td><td>0.15597</td></tr><tr><td>validation loss</td><td>2.28441</td></tr></table><br/></div></div>"
            ]
          },
          "metadata": {}
        },
        {
          "output_type": "display_data",
          "data": {
            "text/plain": [
              "<IPython.core.display.HTML object>"
            ],
            "text/html": [
              " View run <strong style=\"color:#cdcd00\">wobbly-sweep-4</strong> at: <a href='https://wandb.ai/cs23z036/Assignment2_ReLoaded_18thJuly/runs/kntk3com' target=\"_blank\">https://wandb.ai/cs23z036/Assignment2_ReLoaded_18thJuly/runs/kntk3com</a><br/>Synced 5 W&B file(s), 0 media file(s), 0 artifact file(s) and 0 other file(s)"
            ]
          },
          "metadata": {}
        },
        {
          "output_type": "display_data",
          "data": {
            "text/plain": [
              "<IPython.core.display.HTML object>"
            ],
            "text/html": [
              "Find logs at: <code>./wandb/run-20230719_101022-kntk3com/logs</code>"
            ]
          },
          "metadata": {}
        },
        {
          "output_type": "stream",
          "name": "stderr",
          "text": [
            "\u001b[34m\u001b[1mwandb\u001b[0m: Sweep Agent: Waiting for job.\n",
            "\u001b[34m\u001b[1mwandb\u001b[0m: Sweep Agent: Exiting.\n"
          ]
        }
      ],
      "source": [
        "wandb.agent(sweep_id, Train)"
      ]
    },
    {
      "cell_type": "code",
      "source": [],
      "metadata": {
        "id": "siUawOwhS3HQ"
      },
      "execution_count": null,
      "outputs": []
    },
    {
      "cell_type": "markdown",
      "source": [
        "Question 3 (15 Marks)\n",
        "Based on the above plots write down some insightful observations\n",
        "\n",
        "Insighful Observations:\n",
        "\n",
        "\n",
        "Increasing the filter size and and adding number of filters improved the accuracy on validation set.\n",
        "\n",
        "\n",
        "Adding number of dense neurons could have improved the accuracy as well\n",
        "\n",
        "\n"
      ],
      "metadata": {
        "id": "_6UnYCW2S51u"
      }
    },
    {
      "cell_type": "markdown",
      "metadata": {
        "id": "zFN2LM0IEd0-"
      },
      "source": [
        "Part B"
      ]
    },
    {
      "cell_type": "markdown",
      "metadata": {
        "id": "zghZqkuOEclA"
      },
      "source": [
        "Question1 :\n",
        "\n",
        "a)The dimensions of the images in your data may not be the same as that in the ImageNet data. How will you address this?\n",
        "\n",
        "Ans:\n",
        "\n",
        "To address the issue of different image dimensions, we can use image resizing techniques to match the dimensions of our input images with those of the pre-trained model. There are several ways to perform image resizing, and one common approach is to either scale the images proportionally or pad them with zeros to fit the desired size.\n",
        "\n",
        "We can use libraries such as Pillow or OpenCV to resize the images. These libraries provide functions that allow us to specify the target size of the image, as well as the resizing method to be used, such as nearest neighbor interpolation or bilinear interpolation. It's important to note that resizing can introduce distortions or loss of information, so we need to choose the resizing method carefully, depending on the nature of our data and the requirements of our task."
      ]
    },
    {
      "cell_type": "markdown",
      "metadata": {
        "id": "sHOEzxkiFB6Y"
      },
      "source": [
        "b)ImageNet has 1000 classes and hence the last layer of the pre-trained model would have 1000 nodes. However, the naturalist dataset has only 10 classes. How will you address this?\n",
        "\n",
        "Ans:\n",
        "\n",
        "To address the difference in the number of classes between the pre-trained model and our target dataset, we need to modify the last layer of the pre-trained model to have the same number of output nodes as the number of classes in our dataset. Specifically, we need to replace the last fully connected layer of the pre-trained model with a new fully connected layer that has the desired number of output nodes.\n",
        "\n",
        "In this case, since the naturalist dataset has only 10 classes, we can replace the last layer of the pre-trained model with a new fully connected layer that has 10 output nodes. We can do this by creating a new instance of the fully connected layer in PyTorch with 10 output nodes and replacing the last layer of the pre-trained model with this new layer.\n",
        "\n",
        "Once we have replaced the last layer, we can then fine-tune the entire model on the naturalist dataset. During fine-tuning, the weights of the pre-trained model will be updated to adapt to the new dataset, while the weights of the new output layer will be initialized randomly and trained from scratch to classify the new classes."
      ]
    },
    {
      "cell_type": "markdown",
      "metadata": {
        "id": "I-suk7nAFH_9"
      },
      "source": [
        "Question2 :\n",
        "\n",
        "You will notice that GoogLeNet, InceptionV3, ResNet50, VGG, EfficientNetV2, VisionTransformer are very huge models as compared to the simple model that you implemented in Part A. Even fine-tuning on a small training data may be very expensive. What is a common trick used to keep the training tractable (you will have to read up a bit on this)? Try different variants of this trick and fine-tune the model using the iNaturalist dataset. For example, '___'ing all layers except the last layer, '___'ing upto k layers and '___'ing the rest. Read up on pre-training and fine-tuning to understand what exactly these terms mean.\n",
        "\n",
        "Write down the at least 3 different strategies that you tried (simple bullet points would be fine).\n",
        "\n",
        "\n",
        "Ans:\n",
        "\n",
        "1.Fine-tuning the Classifier:\n",
        "\n",
        "Fine-tune the pre-trained model on the new dataset, but only update the weights of the last few layers (i.e., the classifier) while keeping the weights of the remaining layers fixed.\n",
        "\n",
        "2.Fine-tuning the Full Model:\n",
        "\n",
        "Fine-tune the entire pre-trained model on the new dataset with a lower learning rate.\n",
        "This strategy can be useful when the pre-trained model is relatively similar to the new dataset, and we have a relatively large amount of training data\n"
      ]
    },
    {
      "cell_type": "markdown",
      "metadata": {
        "id": "KWvxGgA2FODv"
      },
      "source": [
        "Question 3:\n",
        "\n",
        "\n",
        "Now fine-tune the model using ANY ONE of the listed strategies that you discussed above. Based on these experiments write down some insightful inferences comparing training from scratch and fine-tuning a large pre-trained model\n",
        "\n",
        "\n",
        "Ans:\n",
        "\n",
        "\n",
        "Fine-tuning a pre-trained model is usually faster than training a model from scratch, as the pre-trained model already has learned a set of general features that can be useful for the new task.\n",
        "Fine-tuning a pre-trained model can lead to better performance than training from scratch, especially when the target dataset is relatively small or similar to the pre-training dataset."
      ]
    },
    {
      "cell_type": "code",
      "source": [
        "device = torch.device(\"cuda\" if torch.cuda.is_available() else \"cpu\")\n",
        "device"
      ],
      "metadata": {
        "colab": {
          "base_uri": "https://localhost:8080/"
        },
        "id": "tnop2OmkBbdx",
        "outputId": "1da1930b-3d70-443f-e661-5f5c35198dea"
      },
      "execution_count": null,
      "outputs": [
        {
          "output_type": "execute_result",
          "data": {
            "text/plain": [
              "device(type='cuda')"
            ]
          },
          "metadata": {},
          "execution_count": 11
        }
      ]
    },
    {
      "cell_type": "code",
      "execution_count": null,
      "metadata": {
        "colab": {
          "base_uri": "https://localhost:8080/"
        },
        "id": "aIqW2ym2GBwu",
        "outputId": "42c7d75e-b700-4583-bb0d-ffbef219d44e"
      },
      "outputs": [
        {
          "output_type": "stream",
          "name": "stdout",
          "text": [
            "epoch is ........... 0\n",
            "Epoch [1/5], Train Loss: 1.0439, Train Acc: 0.6569\n",
            "epoch is ........... 1\n",
            "Epoch [2/5], Train Loss: 0.6702, Train Acc: 0.7840\n",
            "epoch is ........... 2\n",
            "Epoch [3/5], Train Loss: 0.4981, Train Acc: 0.8415\n",
            "epoch is ........... 3\n",
            "Epoch [4/5], Train Loss: 0.3877, Train Acc: 0.8756\n",
            "epoch is ........... 4\n",
            "Epoch [5/5], Train Loss: 0.2872, Train Acc: 0.9021\n",
            "Epoch [5/5], Val Loss: 0.9882, Val Acc: 0.7443\n"
          ]
        }
      ],
      "source": [
        "#code\n",
        "\n",
        "import torch\n",
        "import torch.nn as nn\n",
        "import torch.optim as optim\n",
        "from torchvision import datasets, models, transforms\n",
        "\n",
        "# Set device\n",
        "device = torch.device(\"cuda\" if torch.cuda.is_available() else \"cpu\")\n",
        "\n",
        "# Set hyperparameters\n",
        "num_epochs = 5\n",
        "batch_size = 64\n",
        "learning_rate = 0.001\n",
        "\n",
        "# Load data\n",
        "\"\"\"\n",
        "train_transforms = transforms.Compose([\n",
        "    transforms.Resize(256),\n",
        "    transforms.RandomHorizontalFlip(),\n",
        "    transforms.ToTensor()\n",
        "])\n",
        "\n",
        "val_transforms = transforms.Compose([\n",
        "    transforms.Resize(256),\n",
        "    transforms.ToTensor(),\n",
        "])\n",
        "\"\"\"\n",
        "transform_train = transforms.Compose([\n",
        "    transforms.Resize((256, 256)),\n",
        "    transforms.RandomHorizontalFlip(),\n",
        "    transforms.ToTensor(),\n",
        "])\n",
        "\n",
        "transform_test = transforms.Compose([\n",
        "    transforms.Resize((256, 256)),\n",
        "    transforms.RandomHorizontalFlip(),\n",
        "    transforms.ToTensor(),\n",
        "])\n",
        "\n",
        "\n",
        "train_data = datasets.ImageFolder(\"train\", transform=transform_train)\n",
        "val_data = datasets.ImageFolder(\"val\", transform=transform_test)\n",
        "\n",
        "train_loader = torch.utils.data.DataLoader(train_data, batch_size=batch_size, shuffle=True)\n",
        "val_loader = torch.utils.data.DataLoader(val_data, batch_size=batch_size, shuffle=False)\n",
        "\n",
        "# Load pre-trained ResNet50 model\n",
        "model = models.resnet50(pretrained=True)\n",
        "# model = model()\n",
        "\n",
        "\n",
        "\n",
        "\n",
        "# if torch.cuda.is_available():\n",
        "#     model.cuda()\n",
        "\n",
        "# Replace the last fully connected layer with a new one that has 10 output nodes\n",
        "num_ftrs = model.fc.in_features\n",
        "model.fc = nn.Linear(num_ftrs, 10)\n",
        "\n",
        "# Freeze all the pre-trained layers except the last few layers\n",
        "for param in model.parameters():\n",
        "    param.requires_grad = False\n",
        "for param in model.layer4.parameters():\n",
        "    param.requires_grad = True\n",
        "for param in model.fc.parameters():\n",
        "    param.requires_grad = True\n",
        "\n",
        "if torch.cuda.is_available():\n",
        "    model.cuda()\n",
        "# Define the optimizer and loss function\n",
        "optimizer = torch.optim.Adam(model.parameters(), lr=0.001)\n",
        "criterion = nn.CrossEntropyLoss()\n",
        "\n",
        "# Fine-tune the model\n",
        "num_epochs = 5\n",
        "\n",
        "for epoch in range(num_epochs):\n",
        "    print('epoch is ...........',epoch)\n",
        "    # Set to training mode\n",
        "    model.train()\n",
        "\n",
        "    train_loss = 0.0\n",
        "    train_acc = 0.0\n",
        "\n",
        "    # Iterate over the training data\n",
        "    for images, labels in train_loader:\n",
        "        images = images.to(device)\n",
        "        labels = labels.to(device)\n",
        "\n",
        "        # Zero the gradients\n",
        "        optimizer.zero_grad()\n",
        "\n",
        "        # Forward pass\n",
        "        outputs = model(images)\n",
        "        loss = criterion(outputs, labels)\n",
        "\n",
        "        # Backward pass and update\n",
        "        loss.backward()\n",
        "        optimizer.step()\n",
        "\n",
        "        # Compute the accuracy\n",
        "        _, preds = torch.max(outputs, 1)\n",
        "        train_acc += torch.sum(preds == labels.data)\n",
        "\n",
        "        # Compute the loss\n",
        "        train_loss += loss.item() * images.size(0)\n",
        "\n",
        "    # Compute the average accuracy and loss for this epoch\n",
        "    train_acc = train_acc.double() / len(train_loader.dataset)\n",
        "    train_loss = train_loss / len(train_loader.dataset)\n",
        "\n",
        "    # Print the progress\n",
        "    print('Epoch [{}/{}], Train Loss: {:.4f}, Train Acc: {:.4f}'.format(epoch+1, num_epochs, train_loss, train_acc))\n",
        "\n",
        "# Set to evaluation mode\n",
        "model.eval()\n",
        "\n",
        "val_loss = 0.0\n",
        "val_acc = 0.0\n",
        "\n",
        "# Disable gradient computations\n",
        "with torch.no_grad():\n",
        "    # Iterate over the validation data\n",
        "    for images, labels in val_loader:\n",
        "        images = images.to(device)\n",
        "        labels = labels.to(device)\n",
        "\n",
        "        # Forward pass\n",
        "        outputs = model(images)\n",
        "        loss = criterion(outputs, labels)\n",
        "\n",
        "        # Compute the accuracy\n",
        "        _, preds = torch.max(outputs, 1)\n",
        "        val_acc += torch.sum(preds == labels.data)\n",
        "\n",
        "        # Compute the loss\n",
        "        val_loss += loss.item() * images.size(0)\n",
        "\n",
        "# Compute the average accuracy and loss for this epoch\n",
        "val_acc = val_acc.double() / len(val_loader.dataset)\n",
        "val_loss = val_loss / len(val_loader.dataset)\n",
        "\n",
        "# Print the progress\n",
        "print('Epoch [{}/{}], Val Loss: {:.4f}, Val Acc: {:.4f}'.format(epoch+1, num_epochs, val_loss, val_acc))\n"
      ]
    }
  ],
  "metadata": {
    "colab": {
      "provenance": [],
      "gpuType": "T4"
    },
    "kernelspec": {
      "display_name": "Python 3",
      "name": "python3"
    },
    "language_info": {
      "codemirror_mode": {
        "name": "ipython",
        "version": 3
      },
      "file_extension": ".py",
      "mimetype": "text/x-python",
      "name": "python",
      "nbconvert_exporter": "python",
      "pygments_lexer": "ipython3",
      "version": "3.9.12"
    },
    "widgets": {
      "application/vnd.jupyter.widget-state+json": {
        "9021a8115312452993dfbae063e2f445": {
          "model_module": "@jupyter-widgets/controls",
          "model_name": "VBoxModel",
          "model_module_version": "1.5.0",
          "state": {
            "_dom_classes": [],
            "_model_module": "@jupyter-widgets/controls",
            "_model_module_version": "1.5.0",
            "_model_name": "VBoxModel",
            "_view_count": null,
            "_view_module": "@jupyter-widgets/controls",
            "_view_module_version": "1.5.0",
            "_view_name": "VBoxView",
            "box_style": "",
            "children": [
              "IPY_MODEL_eee1e75c8b014870962c1ba06aa8042c",
              "IPY_MODEL_c730566e20924ae6984de5b10aeb3309"
            ],
            "layout": "IPY_MODEL_348c72e468e246d5bebe1af5ab1212bd"
          }
        },
        "eee1e75c8b014870962c1ba06aa8042c": {
          "model_module": "@jupyter-widgets/controls",
          "model_name": "LabelModel",
          "model_module_version": "1.5.0",
          "state": {
            "_dom_classes": [],
            "_model_module": "@jupyter-widgets/controls",
            "_model_module_version": "1.5.0",
            "_model_name": "LabelModel",
            "_view_count": null,
            "_view_module": "@jupyter-widgets/controls",
            "_view_module_version": "1.5.0",
            "_view_name": "LabelView",
            "description": "",
            "description_tooltip": null,
            "layout": "IPY_MODEL_93b0122d2914489ab74470744938fb01",
            "placeholder": "​",
            "style": "IPY_MODEL_447c7082d70e422081910d8d6e20db75",
            "value": "0.001 MB of 0.010 MB uploaded (0.000 MB deduped)\r"
          }
        },
        "c730566e20924ae6984de5b10aeb3309": {
          "model_module": "@jupyter-widgets/controls",
          "model_name": "FloatProgressModel",
          "model_module_version": "1.5.0",
          "state": {
            "_dom_classes": [],
            "_model_module": "@jupyter-widgets/controls",
            "_model_module_version": "1.5.0",
            "_model_name": "FloatProgressModel",
            "_view_count": null,
            "_view_module": "@jupyter-widgets/controls",
            "_view_module_version": "1.5.0",
            "_view_name": "ProgressView",
            "bar_style": "",
            "description": "",
            "description_tooltip": null,
            "layout": "IPY_MODEL_2c3512b826c04f8095110192a0adbf44",
            "max": 1,
            "min": 0,
            "orientation": "horizontal",
            "style": "IPY_MODEL_5224def56e1f4252b6395f648f6b8c89",
            "value": 0.1157398310080566
          }
        },
        "348c72e468e246d5bebe1af5ab1212bd": {
          "model_module": "@jupyter-widgets/base",
          "model_name": "LayoutModel",
          "model_module_version": "1.2.0",
          "state": {
            "_model_module": "@jupyter-widgets/base",
            "_model_module_version": "1.2.0",
            "_model_name": "LayoutModel",
            "_view_count": null,
            "_view_module": "@jupyter-widgets/base",
            "_view_module_version": "1.2.0",
            "_view_name": "LayoutView",
            "align_content": null,
            "align_items": null,
            "align_self": null,
            "border": null,
            "bottom": null,
            "display": null,
            "flex": null,
            "flex_flow": null,
            "grid_area": null,
            "grid_auto_columns": null,
            "grid_auto_flow": null,
            "grid_auto_rows": null,
            "grid_column": null,
            "grid_gap": null,
            "grid_row": null,
            "grid_template_areas": null,
            "grid_template_columns": null,
            "grid_template_rows": null,
            "height": null,
            "justify_content": null,
            "justify_items": null,
            "left": null,
            "margin": null,
            "max_height": null,
            "max_width": null,
            "min_height": null,
            "min_width": null,
            "object_fit": null,
            "object_position": null,
            "order": null,
            "overflow": null,
            "overflow_x": null,
            "overflow_y": null,
            "padding": null,
            "right": null,
            "top": null,
            "visibility": null,
            "width": null
          }
        },
        "93b0122d2914489ab74470744938fb01": {
          "model_module": "@jupyter-widgets/base",
          "model_name": "LayoutModel",
          "model_module_version": "1.2.0",
          "state": {
            "_model_module": "@jupyter-widgets/base",
            "_model_module_version": "1.2.0",
            "_model_name": "LayoutModel",
            "_view_count": null,
            "_view_module": "@jupyter-widgets/base",
            "_view_module_version": "1.2.0",
            "_view_name": "LayoutView",
            "align_content": null,
            "align_items": null,
            "align_self": null,
            "border": null,
            "bottom": null,
            "display": null,
            "flex": null,
            "flex_flow": null,
            "grid_area": null,
            "grid_auto_columns": null,
            "grid_auto_flow": null,
            "grid_auto_rows": null,
            "grid_column": null,
            "grid_gap": null,
            "grid_row": null,
            "grid_template_areas": null,
            "grid_template_columns": null,
            "grid_template_rows": null,
            "height": null,
            "justify_content": null,
            "justify_items": null,
            "left": null,
            "margin": null,
            "max_height": null,
            "max_width": null,
            "min_height": null,
            "min_width": null,
            "object_fit": null,
            "object_position": null,
            "order": null,
            "overflow": null,
            "overflow_x": null,
            "overflow_y": null,
            "padding": null,
            "right": null,
            "top": null,
            "visibility": null,
            "width": null
          }
        },
        "447c7082d70e422081910d8d6e20db75": {
          "model_module": "@jupyter-widgets/controls",
          "model_name": "DescriptionStyleModel",
          "model_module_version": "1.5.0",
          "state": {
            "_model_module": "@jupyter-widgets/controls",
            "_model_module_version": "1.5.0",
            "_model_name": "DescriptionStyleModel",
            "_view_count": null,
            "_view_module": "@jupyter-widgets/base",
            "_view_module_version": "1.2.0",
            "_view_name": "StyleView",
            "description_width": ""
          }
        },
        "2c3512b826c04f8095110192a0adbf44": {
          "model_module": "@jupyter-widgets/base",
          "model_name": "LayoutModel",
          "model_module_version": "1.2.0",
          "state": {
            "_model_module": "@jupyter-widgets/base",
            "_model_module_version": "1.2.0",
            "_model_name": "LayoutModel",
            "_view_count": null,
            "_view_module": "@jupyter-widgets/base",
            "_view_module_version": "1.2.0",
            "_view_name": "LayoutView",
            "align_content": null,
            "align_items": null,
            "align_self": null,
            "border": null,
            "bottom": null,
            "display": null,
            "flex": null,
            "flex_flow": null,
            "grid_area": null,
            "grid_auto_columns": null,
            "grid_auto_flow": null,
            "grid_auto_rows": null,
            "grid_column": null,
            "grid_gap": null,
            "grid_row": null,
            "grid_template_areas": null,
            "grid_template_columns": null,
            "grid_template_rows": null,
            "height": null,
            "justify_content": null,
            "justify_items": null,
            "left": null,
            "margin": null,
            "max_height": null,
            "max_width": null,
            "min_height": null,
            "min_width": null,
            "object_fit": null,
            "object_position": null,
            "order": null,
            "overflow": null,
            "overflow_x": null,
            "overflow_y": null,
            "padding": null,
            "right": null,
            "top": null,
            "visibility": null,
            "width": null
          }
        },
        "5224def56e1f4252b6395f648f6b8c89": {
          "model_module": "@jupyter-widgets/controls",
          "model_name": "ProgressStyleModel",
          "model_module_version": "1.5.0",
          "state": {
            "_model_module": "@jupyter-widgets/controls",
            "_model_module_version": "1.5.0",
            "_model_name": "ProgressStyleModel",
            "_view_count": null,
            "_view_module": "@jupyter-widgets/base",
            "_view_module_version": "1.2.0",
            "_view_name": "StyleView",
            "bar_color": null,
            "description_width": ""
          }
        },
        "cf462a19fc154e9d83264920678cfd57": {
          "model_module": "@jupyter-widgets/controls",
          "model_name": "VBoxModel",
          "model_module_version": "1.5.0",
          "state": {
            "_dom_classes": [],
            "_model_module": "@jupyter-widgets/controls",
            "_model_module_version": "1.5.0",
            "_model_name": "VBoxModel",
            "_view_count": null,
            "_view_module": "@jupyter-widgets/controls",
            "_view_module_version": "1.5.0",
            "_view_name": "VBoxView",
            "box_style": "",
            "children": [
              "IPY_MODEL_311e047abcd94730b76780e882146956",
              "IPY_MODEL_f7857982dae14afe97b439cdb2b4013a"
            ],
            "layout": "IPY_MODEL_4833cf06d11442668aa543855ea39896"
          }
        },
        "311e047abcd94730b76780e882146956": {
          "model_module": "@jupyter-widgets/controls",
          "model_name": "LabelModel",
          "model_module_version": "1.5.0",
          "state": {
            "_dom_classes": [],
            "_model_module": "@jupyter-widgets/controls",
            "_model_module_version": "1.5.0",
            "_model_name": "LabelModel",
            "_view_count": null,
            "_view_module": "@jupyter-widgets/controls",
            "_view_module_version": "1.5.0",
            "_view_name": "LabelView",
            "description": "",
            "description_tooltip": null,
            "layout": "IPY_MODEL_75761198fb03473983cb3341ebb2303c",
            "placeholder": "​",
            "style": "IPY_MODEL_f521b2ade8fd4f3b9f576407dd6e1542",
            "value": "0.001 MB of 0.010 MB uploaded (0.000 MB deduped)\r"
          }
        },
        "f7857982dae14afe97b439cdb2b4013a": {
          "model_module": "@jupyter-widgets/controls",
          "model_name": "FloatProgressModel",
          "model_module_version": "1.5.0",
          "state": {
            "_dom_classes": [],
            "_model_module": "@jupyter-widgets/controls",
            "_model_module_version": "1.5.0",
            "_model_name": "FloatProgressModel",
            "_view_count": null,
            "_view_module": "@jupyter-widgets/controls",
            "_view_module_version": "1.5.0",
            "_view_name": "ProgressView",
            "bar_style": "",
            "description": "",
            "description_tooltip": null,
            "layout": "IPY_MODEL_34d1e4be31f640ac8c4faa11cdbbc430",
            "max": 1,
            "min": 0,
            "orientation": "horizontal",
            "style": "IPY_MODEL_b05e46cd97cb4ab0be7368961b22363e",
            "value": 0.1125
          }
        },
        "4833cf06d11442668aa543855ea39896": {
          "model_module": "@jupyter-widgets/base",
          "model_name": "LayoutModel",
          "model_module_version": "1.2.0",
          "state": {
            "_model_module": "@jupyter-widgets/base",
            "_model_module_version": "1.2.0",
            "_model_name": "LayoutModel",
            "_view_count": null,
            "_view_module": "@jupyter-widgets/base",
            "_view_module_version": "1.2.0",
            "_view_name": "LayoutView",
            "align_content": null,
            "align_items": null,
            "align_self": null,
            "border": null,
            "bottom": null,
            "display": null,
            "flex": null,
            "flex_flow": null,
            "grid_area": null,
            "grid_auto_columns": null,
            "grid_auto_flow": null,
            "grid_auto_rows": null,
            "grid_column": null,
            "grid_gap": null,
            "grid_row": null,
            "grid_template_areas": null,
            "grid_template_columns": null,
            "grid_template_rows": null,
            "height": null,
            "justify_content": null,
            "justify_items": null,
            "left": null,
            "margin": null,
            "max_height": null,
            "max_width": null,
            "min_height": null,
            "min_width": null,
            "object_fit": null,
            "object_position": null,
            "order": null,
            "overflow": null,
            "overflow_x": null,
            "overflow_y": null,
            "padding": null,
            "right": null,
            "top": null,
            "visibility": null,
            "width": null
          }
        },
        "75761198fb03473983cb3341ebb2303c": {
          "model_module": "@jupyter-widgets/base",
          "model_name": "LayoutModel",
          "model_module_version": "1.2.0",
          "state": {
            "_model_module": "@jupyter-widgets/base",
            "_model_module_version": "1.2.0",
            "_model_name": "LayoutModel",
            "_view_count": null,
            "_view_module": "@jupyter-widgets/base",
            "_view_module_version": "1.2.0",
            "_view_name": "LayoutView",
            "align_content": null,
            "align_items": null,
            "align_self": null,
            "border": null,
            "bottom": null,
            "display": null,
            "flex": null,
            "flex_flow": null,
            "grid_area": null,
            "grid_auto_columns": null,
            "grid_auto_flow": null,
            "grid_auto_rows": null,
            "grid_column": null,
            "grid_gap": null,
            "grid_row": null,
            "grid_template_areas": null,
            "grid_template_columns": null,
            "grid_template_rows": null,
            "height": null,
            "justify_content": null,
            "justify_items": null,
            "left": null,
            "margin": null,
            "max_height": null,
            "max_width": null,
            "min_height": null,
            "min_width": null,
            "object_fit": null,
            "object_position": null,
            "order": null,
            "overflow": null,
            "overflow_x": null,
            "overflow_y": null,
            "padding": null,
            "right": null,
            "top": null,
            "visibility": null,
            "width": null
          }
        },
        "f521b2ade8fd4f3b9f576407dd6e1542": {
          "model_module": "@jupyter-widgets/controls",
          "model_name": "DescriptionStyleModel",
          "model_module_version": "1.5.0",
          "state": {
            "_model_module": "@jupyter-widgets/controls",
            "_model_module_version": "1.5.0",
            "_model_name": "DescriptionStyleModel",
            "_view_count": null,
            "_view_module": "@jupyter-widgets/base",
            "_view_module_version": "1.2.0",
            "_view_name": "StyleView",
            "description_width": ""
          }
        },
        "34d1e4be31f640ac8c4faa11cdbbc430": {
          "model_module": "@jupyter-widgets/base",
          "model_name": "LayoutModel",
          "model_module_version": "1.2.0",
          "state": {
            "_model_module": "@jupyter-widgets/base",
            "_model_module_version": "1.2.0",
            "_model_name": "LayoutModel",
            "_view_count": null,
            "_view_module": "@jupyter-widgets/base",
            "_view_module_version": "1.2.0",
            "_view_name": "LayoutView",
            "align_content": null,
            "align_items": null,
            "align_self": null,
            "border": null,
            "bottom": null,
            "display": null,
            "flex": null,
            "flex_flow": null,
            "grid_area": null,
            "grid_auto_columns": null,
            "grid_auto_flow": null,
            "grid_auto_rows": null,
            "grid_column": null,
            "grid_gap": null,
            "grid_row": null,
            "grid_template_areas": null,
            "grid_template_columns": null,
            "grid_template_rows": null,
            "height": null,
            "justify_content": null,
            "justify_items": null,
            "left": null,
            "margin": null,
            "max_height": null,
            "max_width": null,
            "min_height": null,
            "min_width": null,
            "object_fit": null,
            "object_position": null,
            "order": null,
            "overflow": null,
            "overflow_x": null,
            "overflow_y": null,
            "padding": null,
            "right": null,
            "top": null,
            "visibility": null,
            "width": null
          }
        },
        "b05e46cd97cb4ab0be7368961b22363e": {
          "model_module": "@jupyter-widgets/controls",
          "model_name": "ProgressStyleModel",
          "model_module_version": "1.5.0",
          "state": {
            "_model_module": "@jupyter-widgets/controls",
            "_model_module_version": "1.5.0",
            "_model_name": "ProgressStyleModel",
            "_view_count": null,
            "_view_module": "@jupyter-widgets/base",
            "_view_module_version": "1.2.0",
            "_view_name": "StyleView",
            "bar_color": null,
            "description_width": ""
          }
        },
        "515bf96074814c4dbdae8ddd724043d4": {
          "model_module": "@jupyter-widgets/controls",
          "model_name": "VBoxModel",
          "model_module_version": "1.5.0",
          "state": {
            "_dom_classes": [],
            "_model_module": "@jupyter-widgets/controls",
            "_model_module_version": "1.5.0",
            "_model_name": "VBoxModel",
            "_view_count": null,
            "_view_module": "@jupyter-widgets/controls",
            "_view_module_version": "1.5.0",
            "_view_name": "VBoxView",
            "box_style": "",
            "children": [
              "IPY_MODEL_7d34e416f2514306931932883397da56",
              "IPY_MODEL_d48979984ec24655841e415ef1286046"
            ],
            "layout": "IPY_MODEL_2f9c93eda8344d6a909f5d476a246508"
          }
        },
        "7d34e416f2514306931932883397da56": {
          "model_module": "@jupyter-widgets/controls",
          "model_name": "LabelModel",
          "model_module_version": "1.5.0",
          "state": {
            "_dom_classes": [],
            "_model_module": "@jupyter-widgets/controls",
            "_model_module_version": "1.5.0",
            "_model_name": "LabelModel",
            "_view_count": null,
            "_view_module": "@jupyter-widgets/controls",
            "_view_module_version": "1.5.0",
            "_view_name": "LabelView",
            "description": "",
            "description_tooltip": null,
            "layout": "IPY_MODEL_4ad8093f00254137b77c9128a31b31e6",
            "placeholder": "​",
            "style": "IPY_MODEL_823d3a5d6fa34712ae43bcf2032b73a3",
            "value": "0.001 MB of 0.010 MB uploaded (0.000 MB deduped)\r"
          }
        },
        "d48979984ec24655841e415ef1286046": {
          "model_module": "@jupyter-widgets/controls",
          "model_name": "FloatProgressModel",
          "model_module_version": "1.5.0",
          "state": {
            "_dom_classes": [],
            "_model_module": "@jupyter-widgets/controls",
            "_model_module_version": "1.5.0",
            "_model_name": "FloatProgressModel",
            "_view_count": null,
            "_view_module": "@jupyter-widgets/controls",
            "_view_module_version": "1.5.0",
            "_view_name": "ProgressView",
            "bar_style": "",
            "description": "",
            "description_tooltip": null,
            "layout": "IPY_MODEL_d5e0d002530b4a7eba37ef91ff03e5c7",
            "max": 1,
            "min": 0,
            "orientation": "horizontal",
            "style": "IPY_MODEL_f0011fba75a7475780d66f42b87d737c",
            "value": 0.1125
          }
        },
        "2f9c93eda8344d6a909f5d476a246508": {
          "model_module": "@jupyter-widgets/base",
          "model_name": "LayoutModel",
          "model_module_version": "1.2.0",
          "state": {
            "_model_module": "@jupyter-widgets/base",
            "_model_module_version": "1.2.0",
            "_model_name": "LayoutModel",
            "_view_count": null,
            "_view_module": "@jupyter-widgets/base",
            "_view_module_version": "1.2.0",
            "_view_name": "LayoutView",
            "align_content": null,
            "align_items": null,
            "align_self": null,
            "border": null,
            "bottom": null,
            "display": null,
            "flex": null,
            "flex_flow": null,
            "grid_area": null,
            "grid_auto_columns": null,
            "grid_auto_flow": null,
            "grid_auto_rows": null,
            "grid_column": null,
            "grid_gap": null,
            "grid_row": null,
            "grid_template_areas": null,
            "grid_template_columns": null,
            "grid_template_rows": null,
            "height": null,
            "justify_content": null,
            "justify_items": null,
            "left": null,
            "margin": null,
            "max_height": null,
            "max_width": null,
            "min_height": null,
            "min_width": null,
            "object_fit": null,
            "object_position": null,
            "order": null,
            "overflow": null,
            "overflow_x": null,
            "overflow_y": null,
            "padding": null,
            "right": null,
            "top": null,
            "visibility": null,
            "width": null
          }
        },
        "4ad8093f00254137b77c9128a31b31e6": {
          "model_module": "@jupyter-widgets/base",
          "model_name": "LayoutModel",
          "model_module_version": "1.2.0",
          "state": {
            "_model_module": "@jupyter-widgets/base",
            "_model_module_version": "1.2.0",
            "_model_name": "LayoutModel",
            "_view_count": null,
            "_view_module": "@jupyter-widgets/base",
            "_view_module_version": "1.2.0",
            "_view_name": "LayoutView",
            "align_content": null,
            "align_items": null,
            "align_self": null,
            "border": null,
            "bottom": null,
            "display": null,
            "flex": null,
            "flex_flow": null,
            "grid_area": null,
            "grid_auto_columns": null,
            "grid_auto_flow": null,
            "grid_auto_rows": null,
            "grid_column": null,
            "grid_gap": null,
            "grid_row": null,
            "grid_template_areas": null,
            "grid_template_columns": null,
            "grid_template_rows": null,
            "height": null,
            "justify_content": null,
            "justify_items": null,
            "left": null,
            "margin": null,
            "max_height": null,
            "max_width": null,
            "min_height": null,
            "min_width": null,
            "object_fit": null,
            "object_position": null,
            "order": null,
            "overflow": null,
            "overflow_x": null,
            "overflow_y": null,
            "padding": null,
            "right": null,
            "top": null,
            "visibility": null,
            "width": null
          }
        },
        "823d3a5d6fa34712ae43bcf2032b73a3": {
          "model_module": "@jupyter-widgets/controls",
          "model_name": "DescriptionStyleModel",
          "model_module_version": "1.5.0",
          "state": {
            "_model_module": "@jupyter-widgets/controls",
            "_model_module_version": "1.5.0",
            "_model_name": "DescriptionStyleModel",
            "_view_count": null,
            "_view_module": "@jupyter-widgets/base",
            "_view_module_version": "1.2.0",
            "_view_name": "StyleView",
            "description_width": ""
          }
        },
        "d5e0d002530b4a7eba37ef91ff03e5c7": {
          "model_module": "@jupyter-widgets/base",
          "model_name": "LayoutModel",
          "model_module_version": "1.2.0",
          "state": {
            "_model_module": "@jupyter-widgets/base",
            "_model_module_version": "1.2.0",
            "_model_name": "LayoutModel",
            "_view_count": null,
            "_view_module": "@jupyter-widgets/base",
            "_view_module_version": "1.2.0",
            "_view_name": "LayoutView",
            "align_content": null,
            "align_items": null,
            "align_self": null,
            "border": null,
            "bottom": null,
            "display": null,
            "flex": null,
            "flex_flow": null,
            "grid_area": null,
            "grid_auto_columns": null,
            "grid_auto_flow": null,
            "grid_auto_rows": null,
            "grid_column": null,
            "grid_gap": null,
            "grid_row": null,
            "grid_template_areas": null,
            "grid_template_columns": null,
            "grid_template_rows": null,
            "height": null,
            "justify_content": null,
            "justify_items": null,
            "left": null,
            "margin": null,
            "max_height": null,
            "max_width": null,
            "min_height": null,
            "min_width": null,
            "object_fit": null,
            "object_position": null,
            "order": null,
            "overflow": null,
            "overflow_x": null,
            "overflow_y": null,
            "padding": null,
            "right": null,
            "top": null,
            "visibility": null,
            "width": null
          }
        },
        "f0011fba75a7475780d66f42b87d737c": {
          "model_module": "@jupyter-widgets/controls",
          "model_name": "ProgressStyleModel",
          "model_module_version": "1.5.0",
          "state": {
            "_model_module": "@jupyter-widgets/controls",
            "_model_module_version": "1.5.0",
            "_model_name": "ProgressStyleModel",
            "_view_count": null,
            "_view_module": "@jupyter-widgets/base",
            "_view_module_version": "1.2.0",
            "_view_name": "StyleView",
            "bar_color": null,
            "description_width": ""
          }
        },
        "3a4a0fe18dd04b16b8f4d8205f48c7d6": {
          "model_module": "@jupyter-widgets/controls",
          "model_name": "VBoxModel",
          "model_module_version": "1.5.0",
          "state": {
            "_dom_classes": [],
            "_model_module": "@jupyter-widgets/controls",
            "_model_module_version": "1.5.0",
            "_model_name": "VBoxModel",
            "_view_count": null,
            "_view_module": "@jupyter-widgets/controls",
            "_view_module_version": "1.5.0",
            "_view_name": "VBoxView",
            "box_style": "",
            "children": [
              "IPY_MODEL_16a6e329bb2747658a07304116b25985",
              "IPY_MODEL_566fc9fe1c2a40cdb51e5220436ead65"
            ],
            "layout": "IPY_MODEL_2042f041cf894767880ecb9f9613ee1e"
          }
        },
        "16a6e329bb2747658a07304116b25985": {
          "model_module": "@jupyter-widgets/controls",
          "model_name": "LabelModel",
          "model_module_version": "1.5.0",
          "state": {
            "_dom_classes": [],
            "_model_module": "@jupyter-widgets/controls",
            "_model_module_version": "1.5.0",
            "_model_name": "LabelModel",
            "_view_count": null,
            "_view_module": "@jupyter-widgets/controls",
            "_view_module_version": "1.5.0",
            "_view_name": "LabelView",
            "description": "",
            "description_tooltip": null,
            "layout": "IPY_MODEL_7fe851a2f5f043abaa3f62aad551554b",
            "placeholder": "​",
            "style": "IPY_MODEL_c3f6ead7452a41bbb5c87d0ee8022c7c",
            "value": "0.010 MB of 0.010 MB uploaded (0.000 MB deduped)\r"
          }
        },
        "566fc9fe1c2a40cdb51e5220436ead65": {
          "model_module": "@jupyter-widgets/controls",
          "model_name": "FloatProgressModel",
          "model_module_version": "1.5.0",
          "state": {
            "_dom_classes": [],
            "_model_module": "@jupyter-widgets/controls",
            "_model_module_version": "1.5.0",
            "_model_name": "FloatProgressModel",
            "_view_count": null,
            "_view_module": "@jupyter-widgets/controls",
            "_view_module_version": "1.5.0",
            "_view_name": "ProgressView",
            "bar_style": "",
            "description": "",
            "description_tooltip": null,
            "layout": "IPY_MODEL_11294c22ca0b42f692a157fa47c493da",
            "max": 1,
            "min": 0,
            "orientation": "horizontal",
            "style": "IPY_MODEL_1a797dc84263472487b91cd1a2bdc80b",
            "value": 0.9529759633727585
          }
        },
        "2042f041cf894767880ecb9f9613ee1e": {
          "model_module": "@jupyter-widgets/base",
          "model_name": "LayoutModel",
          "model_module_version": "1.2.0",
          "state": {
            "_model_module": "@jupyter-widgets/base",
            "_model_module_version": "1.2.0",
            "_model_name": "LayoutModel",
            "_view_count": null,
            "_view_module": "@jupyter-widgets/base",
            "_view_module_version": "1.2.0",
            "_view_name": "LayoutView",
            "align_content": null,
            "align_items": null,
            "align_self": null,
            "border": null,
            "bottom": null,
            "display": null,
            "flex": null,
            "flex_flow": null,
            "grid_area": null,
            "grid_auto_columns": null,
            "grid_auto_flow": null,
            "grid_auto_rows": null,
            "grid_column": null,
            "grid_gap": null,
            "grid_row": null,
            "grid_template_areas": null,
            "grid_template_columns": null,
            "grid_template_rows": null,
            "height": null,
            "justify_content": null,
            "justify_items": null,
            "left": null,
            "margin": null,
            "max_height": null,
            "max_width": null,
            "min_height": null,
            "min_width": null,
            "object_fit": null,
            "object_position": null,
            "order": null,
            "overflow": null,
            "overflow_x": null,
            "overflow_y": null,
            "padding": null,
            "right": null,
            "top": null,
            "visibility": null,
            "width": null
          }
        },
        "7fe851a2f5f043abaa3f62aad551554b": {
          "model_module": "@jupyter-widgets/base",
          "model_name": "LayoutModel",
          "model_module_version": "1.2.0",
          "state": {
            "_model_module": "@jupyter-widgets/base",
            "_model_module_version": "1.2.0",
            "_model_name": "LayoutModel",
            "_view_count": null,
            "_view_module": "@jupyter-widgets/base",
            "_view_module_version": "1.2.0",
            "_view_name": "LayoutView",
            "align_content": null,
            "align_items": null,
            "align_self": null,
            "border": null,
            "bottom": null,
            "display": null,
            "flex": null,
            "flex_flow": null,
            "grid_area": null,
            "grid_auto_columns": null,
            "grid_auto_flow": null,
            "grid_auto_rows": null,
            "grid_column": null,
            "grid_gap": null,
            "grid_row": null,
            "grid_template_areas": null,
            "grid_template_columns": null,
            "grid_template_rows": null,
            "height": null,
            "justify_content": null,
            "justify_items": null,
            "left": null,
            "margin": null,
            "max_height": null,
            "max_width": null,
            "min_height": null,
            "min_width": null,
            "object_fit": null,
            "object_position": null,
            "order": null,
            "overflow": null,
            "overflow_x": null,
            "overflow_y": null,
            "padding": null,
            "right": null,
            "top": null,
            "visibility": null,
            "width": null
          }
        },
        "c3f6ead7452a41bbb5c87d0ee8022c7c": {
          "model_module": "@jupyter-widgets/controls",
          "model_name": "DescriptionStyleModel",
          "model_module_version": "1.5.0",
          "state": {
            "_model_module": "@jupyter-widgets/controls",
            "_model_module_version": "1.5.0",
            "_model_name": "DescriptionStyleModel",
            "_view_count": null,
            "_view_module": "@jupyter-widgets/base",
            "_view_module_version": "1.2.0",
            "_view_name": "StyleView",
            "description_width": ""
          }
        },
        "11294c22ca0b42f692a157fa47c493da": {
          "model_module": "@jupyter-widgets/base",
          "model_name": "LayoutModel",
          "model_module_version": "1.2.0",
          "state": {
            "_model_module": "@jupyter-widgets/base",
            "_model_module_version": "1.2.0",
            "_model_name": "LayoutModel",
            "_view_count": null,
            "_view_module": "@jupyter-widgets/base",
            "_view_module_version": "1.2.0",
            "_view_name": "LayoutView",
            "align_content": null,
            "align_items": null,
            "align_self": null,
            "border": null,
            "bottom": null,
            "display": null,
            "flex": null,
            "flex_flow": null,
            "grid_area": null,
            "grid_auto_columns": null,
            "grid_auto_flow": null,
            "grid_auto_rows": null,
            "grid_column": null,
            "grid_gap": null,
            "grid_row": null,
            "grid_template_areas": null,
            "grid_template_columns": null,
            "grid_template_rows": null,
            "height": null,
            "justify_content": null,
            "justify_items": null,
            "left": null,
            "margin": null,
            "max_height": null,
            "max_width": null,
            "min_height": null,
            "min_width": null,
            "object_fit": null,
            "object_position": null,
            "order": null,
            "overflow": null,
            "overflow_x": null,
            "overflow_y": null,
            "padding": null,
            "right": null,
            "top": null,
            "visibility": null,
            "width": null
          }
        },
        "1a797dc84263472487b91cd1a2bdc80b": {
          "model_module": "@jupyter-widgets/controls",
          "model_name": "ProgressStyleModel",
          "model_module_version": "1.5.0",
          "state": {
            "_model_module": "@jupyter-widgets/controls",
            "_model_module_version": "1.5.0",
            "_model_name": "ProgressStyleModel",
            "_view_count": null,
            "_view_module": "@jupyter-widgets/base",
            "_view_module_version": "1.2.0",
            "_view_name": "StyleView",
            "bar_color": null,
            "description_width": ""
          }
        }
      }
    }
  },
  "nbformat": 4,
  "nbformat_minor": 0
}